{
 "cells": [
  {
   "cell_type": "markdown",
   "metadata": {},
   "source": [
    "# Parameter Sweeps - Second Attempt"
   ]
  },
  {
   "cell_type": "code",
   "execution_count": 66,
   "metadata": {},
   "outputs": [],
   "source": [
    "import ipyparallel as ipp\n",
    "import ipywidgets as ipw\n",
    "import pandas as pd\n",
    "import qgrid\n",
    "import numpy as np\n",
    "import matplotlib.pyplot as plt\n",
    "import seaborn as sns\n",
    "from IPython.display import display\n",
    "from arctic import Arctic\n",
    "import itertools as it\n",
    "import warnings"
   ]
  },
  {
   "cell_type": "code",
   "execution_count": 8,
   "metadata": {},
   "outputs": [],
   "source": [
    "import dill"
   ]
  },
  {
   "cell_type": "code",
   "execution_count": 9,
   "metadata": {},
   "outputs": [],
   "source": [
    "import IPython"
   ]
  },
  {
   "cell_type": "code",
   "execution_count": 10,
   "metadata": {},
   "outputs": [],
   "source": [
    "import time"
   ]
  },
  {
   "cell_type": "code",
   "execution_count": 11,
   "metadata": {},
   "outputs": [
    {
     "name": "stderr",
     "output_type": "stream",
     "text": [
      "/home/oliver/local/miniconda3/envs/widgets/lib/python3.6/site-packages/ipyparallel/client/client.py:458: RuntimeWarning: \n",
      "            Controller appears to be listening on localhost, but not on this machine.\n",
      "            If this is true, you should specify Client(...,sshserver='you@oliver-arch')\n",
      "            or instruct your controller to listen on an external IP.\n",
      "  RuntimeWarning)\n"
     ]
    },
    {
     "data": {
      "text/plain": [
       "[0, 1]"
      ]
     },
     "execution_count": 11,
     "metadata": {},
     "output_type": "execute_result"
    }
   ],
   "source": [
    "rc = ipp.Client()\n",
    "rc.ids"
   ]
  },
  {
   "cell_type": "code",
   "execution_count": 12,
   "metadata": {},
   "outputs": [
    {
     "name": "stdout",
     "output_type": "stream",
     "text": [
      "[stdout:0] 0\n",
      "[stdout:1] 1\n"
     ]
    }
   ],
   "source": [
    "# Tell engines their ids\n",
    "for i, engine in enumerate(rc):\n",
    "    engine.push({'engine_id': i})\n",
    "\n",
    "# Ask them to report back\n",
    "%px print(engine_id)"
   ]
  },
  {
   "cell_type": "code",
   "execution_count": 13,
   "metadata": {},
   "outputs": [],
   "source": [
    "def printme(*args, **kwargs):\n",
    "    return engine_id, args, kwargs"
   ]
  },
  {
   "cell_type": "code",
   "execution_count": 14,
   "metadata": {},
   "outputs": [],
   "source": [
    "lview = rc.load_balanced_view()"
   ]
  },
  {
   "cell_type": "code",
   "execution_count": 15,
   "metadata": {},
   "outputs": [
    {
     "data": {
      "text/plain": [
       "(0, (1, 3), {'x': 4, 'y': 79.1})"
      ]
     },
     "execution_count": 15,
     "metadata": {},
     "output_type": "execute_result"
    }
   ],
   "source": [
    "lview.apply(printme, 1, 3, x=4, y=79.1).result()"
   ]
  },
  {
   "cell_type": "code",
   "execution_count": 16,
   "metadata": {},
   "outputs": [],
   "source": [
    "db = pymongo.MongoClient('nautilus.optiputer.net', 31017)['kale-param-sweeps']\n",
    "coll = db['sweep1']"
   ]
  },
  {
   "cell_type": "code",
   "execution_count": 17,
   "metadata": {},
   "outputs": [
    {
     "data": {
      "text/plain": [
       "<pymongo.results.InsertOneResult at 0x7f1540d26f88>"
      ]
     },
     "execution_count": 17,
     "metadata": {},
     "output_type": "execute_result"
    }
   ],
   "source": [
    "coll.insert_one({\n",
    "    'params': dict(n=3, x=5),\n",
    "    'results': dict(mean=3, std=6)\n",
    "})"
   ]
  },
  {
   "cell_type": "code",
   "execution_count": 18,
   "metadata": {},
   "outputs": [
    {
     "data": {
      "text/plain": [
       "{'_id': ObjectId('5ad86832298bc7739c0ea7fb'),\n",
       " 'params': {'n': 3, 'x': 5},\n",
       " 'results': {'mean': 3, 'std': 6}}"
      ]
     },
     "execution_count": 18,
     "metadata": {},
     "output_type": "execute_result"
    }
   ],
   "source": [
    "coll.find_one({'params': {'n': 3, 'x': 5}})"
   ]
  },
  {
   "cell_type": "code",
   "execution_count": 19,
   "metadata": {},
   "outputs": [
    {
     "data": {
      "text/plain": [
       "{'_id': ObjectId('5ad8469d298bc765b913c59b'), 'test': 'a'}"
      ]
     },
     "execution_count": 19,
     "metadata": {},
     "output_type": "execute_result"
    }
   ],
   "source": [
    "coll.find_one()"
   ]
  },
  {
   "cell_type": "code",
   "execution_count": 20,
   "metadata": {},
   "outputs": [
    {
     "name": "stdout",
     "output_type": "stream",
     "text": [
      "CPU times: user 20.5 ms, sys: 2.59 ms, total: 23.1 ms\n",
      "Wall time: 4.03 s\n"
     ]
    }
   ],
   "source": [
    "%%time\n",
    "# Test execution scheduling\n",
    "def printsleep(dur, msg):\n",
    "    import time\n",
    "    time.sleep(dur)\n",
    "    return '{}: {}'.format(engine_id, msg)\n",
    "\n",
    "futures = [lview.apply(printsleep, 2, 'hello') for i in range(3)]\n",
    "res = [f.result() for f in futures]"
   ]
  },
  {
   "cell_type": "markdown",
   "metadata": {},
   "source": [
    "# Kale functions"
   ]
  },
  {
   "cell_type": "markdown",
   "metadata": {},
   "source": [
    "## View"
   ]
  },
  {
   "cell_type": "code",
   "execution_count": 21,
   "metadata": {},
   "outputs": [],
   "source": [
    "def param_grid(**kwargs):\n",
    "    \"\"\"Generate Cartesian product of keyword arguments\"\"\"\n",
    "    prod = it.product(kwargs.items())\n",
    "    name_list, values_list = zip(*kwargs.items())\n",
    "    value_combinations = list(it.product(*values_list))\n",
    "    return name_list, value_combinations\n",
    "\n",
    "def param_df(**kwargs):\n",
    "    \"\"\"Generate pandas DataFrame from Cartesian product of keyword arguments\"\"\"\n",
    "    names, values = param_grid(**kwargs)\n",
    "    return pd.DataFrame(values, columns=names)\n",
    "\n",
    "def param_qgrid(qgrid_layout=None, **kwargs):\n",
    "    \"\"\"Generate Qgrid table from Cartesian product of keyword arguments\"\"\"\n",
    "    if not qgrid_layout:\n",
    "        qgrid_layout=ipw.Layout()\n",
    "    return qgrid.QgridWidget(df=param_df(**kwargs), layout=qgrid_layout)"
   ]
  },
  {
   "cell_type": "code",
   "execution_count": 22,
   "metadata": {},
   "outputs": [
    {
     "data": {
      "application/vnd.jupyter.widget-view+json": {
       "model_id": "17a4a0cc670449759bfc1aadd703c34b",
       "version_major": 2,
       "version_minor": 0
      },
      "text/plain": [
       "QgridWidget(grid_options={'fullWidthRows': True, 'syncColumnCellResize': True, 'forceFitColumns': True, 'defau…"
      ]
     },
     "metadata": {},
     "output_type": "display_data"
    }
   ],
   "source": [
    "g = param_qgrid(qgrid_layout=ipw.Layout(width='300px'), x=[1,2], y=[6,3], z=[True, False])\n",
    "g"
   ]
  },
  {
   "cell_type": "markdown",
   "metadata": {},
   "source": [
    "## Submit"
   ]
  },
  {
   "cell_type": "code",
   "execution_count": 117,
   "metadata": {},
   "outputs": [],
   "source": [
    "def dict_list_from_df(df):\n",
    "    \"\"\"Turn each row into a dictionary indexed by column names\"\"\"\n",
    "    return [{col: val for col, val in zip(df.columns, df.loc[ind,:])} for ind in df.index]"
   ]
  },
  {
   "cell_type": "code",
   "execution_count": 137,
   "metadata": {},
   "outputs": [],
   "source": [
    "#class ParamSpan(tr.HasTraits):\n",
    "#    pass\n",
    "log_output = ipw.Output()\n",
    "\n",
    "class ParamSpanWidget(ipw.VBox):\n",
    "    def __init__(self, param_span_name, compute_func, vis_func, output_layout=None, qgrid_layout=None):\n",
    "        self.name = param_span_name\n",
    "        self.compute_func = compute_func\n",
    "        self.vis_func = vis_func\n",
    "        self.output_layout = output_layout\n",
    "        self.qgrid_layout = qgrid_layout\n",
    "\n",
    "        super().__init__()\n",
    "\n",
    "        self.init_db()\n",
    "        self.init_engines()\n",
    "        self.init_widgets()\n",
    "        self.init_layout()\n",
    "\n",
    "    def init_db(self):\n",
    "        # Collect database info\n",
    "        db_host = 'nautilus.optiputer.net'\n",
    "        db_port = 31017\n",
    "        lib_name = self.name\n",
    "        self.store = Arctic('mongodb://{}:{}'.format(db_host, db_port))\n",
    "        self.store.initialize_library(lib_name)\n",
    "        self.library = self.store[lib_name]\n",
    "\n",
    "        # Package database info to send to engines\n",
    "        self.db_info = [\n",
    "            db_host,\n",
    "            db_port,\n",
    "            lib_name\n",
    "        ]\n",
    "\n",
    "    def init_engines(self):\n",
    "        # Connect to controller\n",
    "        with warnings.catch_warnings():\n",
    "            warnings.simplefilter(\"ignore\")\n",
    "            self.ipp_client = ipp.Client()\n",
    "\n",
    "        # Establish views\n",
    "        self.dview = self.ipp_client.direct_view()\n",
    "        self.lview = self.ipp_client.load_balanced_view()\n",
    "\n",
    "        # Tell engines their ids\n",
    "        for i, engine in enumerate(self.ipp_client):\n",
    "            engine.push({'engine_id': i})\n",
    "            \n",
    "        # Distribute database information\n",
    "        self.dview.push({'db_info': self.db_info})\n",
    "        \n",
    "        def load_library():\n",
    "            global store, library\n",
    "            from arctic import Arctic\n",
    "            db_host, db_port, lib_name = db_info\n",
    "            store = Arctic('mongodb://{}:{}'.format(db_host, db_port))\n",
    "            library = store[lib_name]\n",
    "        self.dview.apply(load_library)\n",
    "            \n",
    "    def init_widgets(self):\n",
    "        if not self.output_layout:\n",
    "            self.output_layout = ipw.Layout(height='300px', border='1px solid', overflow_x='scroll', overflow_y='scroll')\n",
    "        if not self.qgrid_layout:\n",
    "            qgrid_layout = ipw.Layout()\n",
    "\n",
    "        self.output = ipw.Output(layout=self.output_layout)\n",
    "        # param_table is empty until set_params is called\n",
    "        self.param_table = param_qgrid(self.qgrid_layout, **{'':[]})\n",
    "\n",
    "    def init_logic(self):\n",
    "        self.param_table.observe(self.visualize_wrapper, names='_selected_rows')\n",
    "\n",
    "    def init_layout(self):\n",
    "        self.children = [\n",
    "            self.output,\n",
    "            self.param_table\n",
    "        ]\n",
    "\n",
    "    def set_params(self, **all_params):\n",
    "        \"\"\"Provide parameter set to search over\n",
    "        all_params = {\n",
    "            'param1': [val1, val2, ...],\n",
    "            'param2': [val3, val4, ...],\n",
    "            ...\n",
    "        }\n",
    "        \"\"\"\n",
    "        self.param_table = param_qgrid(self.qgrid_layout, **all_params)\n",
    "        self.init_logic()\n",
    "        self.init_layout()\n",
    "\n",
    "    def submit_computations(self, *change):\n",
    "        def compute_wrapper(compute_func, paramset_id, params):\n",
    "            \"\"\"Perform computation and send results to MongoDB for one set of params\"\"\"\n",
    "            print(\"Compute.\")\n",
    "            print(\"params = {}\".format(params))\n",
    "            results = compute_func(**params)\n",
    "            \n",
    "            # Index collection by parameters\n",
    "            library.write(\n",
    "                str(paramset_id),\n",
    "                results\n",
    "            )\n",
    "            print(\"Compute done.\")\n",
    "\n",
    "        # Loop over all sets of parameters\n",
    "        # paramset_id is the row index,\n",
    "        # paramset is the dictionary of params\n",
    "        self.compute_futures = []\n",
    "        for paramset_id, paramset in self.param_table.df.T.to_dict().items():\n",
    "            # Submit task to IPyParallel\n",
    "            print(\"Sumbitting {}: {}\".format(paramset_id, paramset))\n",
    "            fut =  self.lview.apply(compute_wrapper, self.compute_func, paramset_id, paramset)\n",
    "            self.compute_futures.append(fut)\n",
    "            print(fut.stdout)\n",
    "            print(fut.stderr)\n",
    "\n",
    "    def visualize_wrapper(self, *change):\n",
    "        \"\"\"Call visualization function and capture output\"\"\"\n",
    "        # Do nothing if selection is empty:\n",
    "        # Empty list evaluates to False\n",
    "        if not self.param_table.get_selected_rows():\n",
    "            return\n",
    "\n",
    "        # Get params from selected row (take first row if >1 selected)\n",
    "        paramset_id = self.param_table.get_selected_rows()[0]\n",
    "        paramset = self.param_table.df.loc[paramset_id, :]\n",
    "\n",
    "        print(\"Vis\")\n",
    "        print(\"paramset_id: {}\".format(paramset_id))\n",
    "        print(\"paramset: {}\".format(paramset))\n",
    "        # Search collection by parameters\n",
    "        compute_results = self.library.read(str(paramset_id)).data\n",
    "        print(\"results: {}\".format(compute_results))\n",
    "\n",
    "        # Avoid using output context to ensure that\n",
    "        # only this function's output is included.\n",
    "        @self.output.capture(clear_output=True, wait=True)\n",
    "        def wrapper():\n",
    "            self.vis_func(**compute_results)\n",
    "        wrapper()\n"
   ]
  },
  {
   "cell_type": "markdown",
   "metadata": {},
   "source": [
    "# User functions"
   ]
  },
  {
   "cell_type": "code",
   "execution_count": 138,
   "metadata": {},
   "outputs": [],
   "source": [
    "def compute2(N, mean, std, color):\n",
    "    import numpy as np\n",
    "    x = np.random.normal(loc=mean, scale=std, size=N)\n",
    "    realmean = np.mean(x)\n",
    "    realstd = np.std(x)\n",
    "    return {\n",
    "        'engine_id': engine_id,\n",
    "        'x': x,\n",
    "        'N': N,\n",
    "        'realmean': realmean,\n",
    "        'realstd': realstd,\n",
    "        'color': color\n",
    "    }\n",
    "    \n",
    "def visualize2(engine_id, x, N, realmean, realstd, color):\n",
    "    print(\"Computed on engine {}\".format(engine_id))\n",
    "    plt.figure(figsize=[8,3])\n",
    "    with warnings.catch_warnings():\n",
    "        warnings.simplefilter(\"ignore\")\n",
    "        sns.distplot(x, color=color)\n",
    "    plt.title(r'$N={}$, $\\mu={:.2f}$, $\\sigma={:.2f}$'.format(N, realmean, realstd))\n",
    "    plt.show()\n",
    "    print(\"Data: {}\".format(x))"
   ]
  },
  {
   "cell_type": "code",
   "execution_count": 139,
   "metadata": {
    "scrolled": false
   },
   "outputs": [
    {
     "name": "stderr",
     "output_type": "stream",
     "text": [
      "Library created, but couldn't enable sharding: no such command: 'enablesharding', bad cmd: '{ enablesharding: \"arctic\", lsid: { id: UUID(\"d0b44a03-0285-4736-90cf-6161b12aa649\") }, $readPreference: { mode: \"secondaryPreferred\" }, $db: \"admin\" }'. This is OK if you're not 'admin'\n"
     ]
    },
    {
     "name": "stdout",
     "output_type": "stream",
     "text": [
      "Sumbitting 0: {'N': 100, 'mean': 0, 'std': 5, 'color': 'red'}\n",
      "\n",
      "\n",
      "Sumbitting 1: {'N': 100, 'mean': 0, 'std': 5, 'color': 'blue'}\n",
      "\n",
      "\n",
      "Sumbitting 2: {'N': 1000000, 'mean': 0, 'std': 5, 'color': 'red'}\n",
      "\n",
      "\n",
      "Sumbitting 3: {'N': 1000000, 'mean': 0, 'std': 5, 'color': 'blue'}\n",
      "\n",
      "\n"
     ]
    },
    {
     "data": {
      "application/vnd.jupyter.widget-view+json": {
       "model_id": "129f031bb13a4948a0cbf95358ad666c",
       "version_major": 2,
       "version_minor": 0
      },
      "text/plain": [
       "VBox(children=(ParamSpanWidget(children=(Output(layout=Layout(border='1px solid', height='300px', overflow_x='…"
      ]
     },
     "metadata": {},
     "output_type": "display_data"
    }
   ],
   "source": [
    "psw = ParamSpanWidget('test_span', compute2, visualize2)\n",
    "psw.set_params(\n",
    "    N=np.logspace(2,6,2).astype(int), \n",
    "    mean=[0], \n",
    "    std=[5], \n",
    "    color=['red', 'blue']\n",
    ")\n",
    "psw.submit_computations()\n",
    "display(ipw.VBox([psw,log_output]))"
   ]
  }
 ],
 "metadata": {
  "kernelspec": {
   "display_name": "Python 3 (widgets)",
   "language": "python",
   "name": "widgets"
  },
  "language_info": {
   "codemirror_mode": {
    "name": "ipython",
    "version": 3
   },
   "file_extension": ".py",
   "mimetype": "text/x-python",
   "name": "python",
   "nbconvert_exporter": "python",
   "pygments_lexer": "ipython3",
   "version": "3.6.5"
  }
 },
 "nbformat": 4,
 "nbformat_minor": 2
}
