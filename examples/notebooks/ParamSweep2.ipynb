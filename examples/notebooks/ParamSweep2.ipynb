{
 "cells": [
  {
   "cell_type": "markdown",
   "metadata": {},
   "source": [
    "# Parameter Sweeps - Second Attempt"
   ]
  },
  {
   "cell_type": "code",
   "execution_count": 156,
   "metadata": {},
   "outputs": [],
   "source": [
    "import ipyparallel as ipp\n",
    "import ipywidgets as ipw\n",
    "import pandas as pd\n",
    "import qgrid\n",
    "import numpy as np\n",
    "import matplotlib.pyplot as plt\n",
    "import seaborn as sns\n",
    "from IPython.display import display\n",
    "import pymongo\n",
    "import itertools as it\n",
    "import warnings"
   ]
  },
  {
   "cell_type": "code",
   "execution_count": 2,
   "metadata": {},
   "outputs": [],
   "source": [
    "import time"
   ]
  },
  {
   "cell_type": "code",
   "execution_count": 50,
   "metadata": {},
   "outputs": [
    {
     "name": "stderr",
     "output_type": "stream",
     "text": [
      "/home/oliver/local/miniconda3/envs/widgets/lib/python3.6/site-packages/ipyparallel/client/client.py:458: RuntimeWarning: \n",
      "            Controller appears to be listening on localhost, but not on this machine.\n",
      "            If this is true, you should specify Client(...,sshserver='you@oliver-arch')\n",
      "            or instruct your controller to listen on an external IP.\n",
      "  RuntimeWarning)\n"
     ]
    },
    {
     "data": {
      "text/plain": [
       "[0, 1]"
      ]
     },
     "execution_count": 50,
     "metadata": {},
     "output_type": "execute_result"
    }
   ],
   "source": [
    "rc = ipp.Client()\n",
    "rc.ids"
   ]
  },
  {
   "cell_type": "code",
   "execution_count": 4,
   "metadata": {},
   "outputs": [
    {
     "name": "stdout",
     "output_type": "stream",
     "text": [
      "[stdout:0] 0\n",
      "[stdout:1] 1\n"
     ]
    }
   ],
   "source": [
    "# Tell engines their ids\n",
    "for i, engine in enumerate(rc):\n",
    "    engine.push({'engine_id': i})\n",
    "\n",
    "# Ask them to report back\n",
    "%px print(engine_id)"
   ]
  },
  {
   "cell_type": "code",
   "execution_count": 5,
   "metadata": {},
   "outputs": [],
   "source": [
    "def printme(*args, **kwargs):\n",
    "    return engine_id, args, kwargs"
   ]
  },
  {
   "cell_type": "code",
   "execution_count": 6,
   "metadata": {},
   "outputs": [],
   "source": [
    "lview = rc.load_balanced_view()"
   ]
  },
  {
   "cell_type": "code",
   "execution_count": 7,
   "metadata": {},
   "outputs": [
    {
     "data": {
      "text/plain": [
       "(1, (1, 3), {'x': 4, 'y': 79.1})"
      ]
     },
     "execution_count": 7,
     "metadata": {},
     "output_type": "execute_result"
    }
   ],
   "source": [
    "lview.apply(printme, 1, 3, x=4, y=79.1).result()"
   ]
  },
  {
   "cell_type": "code",
   "execution_count": 8,
   "metadata": {},
   "outputs": [],
   "source": [
    "db = pymongo.MongoClient('nautilus.optiputer.net', 31017)['kale-param-sweeps']\n",
    "coll = db['sweep1']"
   ]
  },
  {
   "cell_type": "code",
   "execution_count": 9,
   "metadata": {},
   "outputs": [
    {
     "name": "stdout",
     "output_type": "stream",
     "text": [
      "CPU times: user 25.9 ms, sys: 2.83 ms, total: 28.7 ms\n",
      "Wall time: 4.04 s\n"
     ]
    }
   ],
   "source": [
    "%%time\n",
    "# Test execution scheduling\n",
    "def printsleep(dur, msg):\n",
    "    import time\n",
    "    time.sleep(dur)\n",
    "    return '{}: {}'.format(engine_id, msg)\n",
    "\n",
    "futures = [lview.apply(printsleep, 2, 'hello') for i in range(3)]\n",
    "res = [f.result() for f in futures]"
   ]
  },
  {
   "cell_type": "markdown",
   "metadata": {},
   "source": [
    "# Kale functions"
   ]
  },
  {
   "cell_type": "markdown",
   "metadata": {},
   "source": [
    "## View"
   ]
  },
  {
   "cell_type": "code",
   "execution_count": 10,
   "metadata": {},
   "outputs": [],
   "source": [
    "def visualize_wrapper(fun, output, *args, **kwargs):\n",
    "    \"\"\"Call visualization function and capture output\"\"\"\n",
    "    # Avoid using output context to ensure that\n",
    "    # only this function's output is included.\n",
    "    @output.capture(clear_output=True, wait=True)\n",
    "    def wrapper():\n",
    "        fun(*args, **kwargs)\n",
    "    wrapper()"
   ]
  },
  {
   "cell_type": "code",
   "execution_count": 11,
   "metadata": {},
   "outputs": [],
   "source": [
    "def param_grid(**kwargs):\n",
    "    \"\"\"Generate Cartesian product of keyword arguments\"\"\"\n",
    "    prod = it.product(kwargs.items())\n",
    "    name_list, values_list = zip(*kwargs.items())\n",
    "    value_combinations = list(it.product(*values_list))\n",
    "    return name_list, value_combinations\n",
    "\n",
    "def param_df(**kwargs):\n",
    "    \"\"\"Generate pandas DataFrame from Cartesian product of keyword arguments\"\"\"\n",
    "    names, values = param_grid(**kwargs)\n",
    "    return pd.DataFrame(values, columns=names)\n",
    "\n",
    "def param_qgrid(qgrid_layout=None, **kwargs):\n",
    "    \"\"\"Generate Qgrid table from Cartesian product of keyword arguments\"\"\"\n",
    "    if not qgrid_layout:\n",
    "        qgrid_layout=ipw.Layout()\n",
    "    return qgrid.QgridWidget(df=param_df(**kwargs), layout=qgrid_layout)"
   ]
  },
  {
   "cell_type": "code",
   "execution_count": 12,
   "metadata": {},
   "outputs": [
    {
     "data": {
      "application/vnd.jupyter.widget-view+json": {
       "model_id": "9fc9cd23988041f8a8ab81b4b05e23c4",
       "version_major": 2,
       "version_minor": 0
      },
      "text/plain": [
       "QgridWidget(grid_options={'fullWidthRows': True, 'syncColumnCellResize': True, 'forceFitColumns': True, 'defau…"
      ]
     },
     "metadata": {},
     "output_type": "display_data"
    }
   ],
   "source": [
    "g = param_qgrid(qgrid_layout=ipw.Layout(width='300px'), x=[1,2], y=[6,3], z=[True, False])\n",
    "g"
   ]
  },
  {
   "cell_type": "markdown",
   "metadata": {},
   "source": [
    "## Submit"
   ]
  },
  {
   "cell_type": "code",
   "execution_count": 13,
   "metadata": {},
   "outputs": [],
   "source": [
    "def dict_list_from_df(df):\n",
    "    \"\"\"Turn each row into a dictionary indexed by column names\"\"\"\n",
    "    return [{col: val for col, val in zip(df.columns, df.loc[ind,:])} for ind in df.index]"
   ]
  },
  {
   "cell_type": "code",
   "execution_count": 167,
   "metadata": {},
   "outputs": [],
   "source": [
    "#class ParamSpan(tr.HasTraits):\n",
    "#    pass\n",
    "\n",
    "class ParamSpanWidget(ipw.VBox):\n",
    "    def __init__(self, param_span_name, compute_func, vis_func, **all_params):\n",
    "        self.name = param_span_name\n",
    "        self.all_params = all_params\n",
    "        self.compute_func = compute_func\n",
    "        self.vis_func = vis_func\n",
    "        \n",
    "        self.init_engines()\n",
    "        self.init_widgets()\n",
    "        self.init_logic()\n",
    "        self.init_layout()\n",
    "    \n",
    "    def init_engines(self):\n",
    "        with warnings.catch_warnings():\n",
    "            warnings.simplefilter(\"ignore\")\n",
    "            self.lview = ipp.Client().load_balanced_view()\n",
    "        \n",
    "    def init_widgets(self):\n",
    "        output_layout = ipw.Layout(height='300px', border='1px solid', overflow_x='scroll', overflow_y='scroll')\n",
    "        qgrid_layout = ipw.Layout()\n",
    "        self.output = ipw.Output(layout=output_layout)\n",
    "        self.param_table = param_qgrid(qgrid_layout, **self.all_params)\n",
    "        \n",
    "    def compute_and_visualize(self, *change):\n",
    "        \"\"\"TODO: Separate these, add MongoDB in the middle\"\"\"\n",
    "        # Get parameters\n",
    "        # Only take first\n",
    "        params = dict_list_from_df(self.param_table.get_selected_df())[0]\n",
    "        compute_result = self.lview.apply(self.compute_func, **params).result()\n",
    "        visualize_wrapper(self.vis_func, self.output, **compute_result)\n",
    "    \n",
    "    def init_logic(self):\n",
    "        self.param_table.observe(self.compute_and_visualize, names='_selected_rows')\n",
    "    \n",
    "    def init_layout(self):\n",
    "        super().__init__([\n",
    "            self.output,\n",
    "            self.param_table\n",
    "        ])"
   ]
  },
  {
   "cell_type": "markdown",
   "metadata": {},
   "source": [
    "# User functions"
   ]
  },
  {
   "cell_type": "code",
   "execution_count": 158,
   "metadata": {},
   "outputs": [],
   "source": [
    "def compute1(word, number):\n",
    "    return dict(\n",
    "        engine_id = engine_id,\n",
    "        concat = '{} <3 {}'.format(word, number),\n",
    "        doubled = 2*word,\n",
    "        squared = number**2\n",
    "    )"
   ]
  },
  {
   "cell_type": "code",
   "execution_count": 159,
   "metadata": {},
   "outputs": [],
   "source": [
    "def visualize1(engine_id, concat, doubled, squared):\n",
    "    print(\"These are the results.\")\n",
    "    print(\"Engine: {}\".format(engine_id))\n",
    "    print(\"Catted '{}'\".format(concat))\n",
    "    print(\"doubled '{}' and squared '{}'\".format(doubled, squared))"
   ]
  },
  {
   "cell_type": "code",
   "execution_count": 160,
   "metadata": {},
   "outputs": [
    {
     "data": {
      "application/vnd.jupyter.widget-view+json": {
       "model_id": "99ce563c446b434f8c53022fd59f2136",
       "version_major": 2,
       "version_minor": 0
      },
      "text/plain": [
       "ParamSpanWidget(children=(Output(layout=Layout(border='1px solid', height='300px', overflow_x='scroll', overfl…"
      ]
     },
     "metadata": {},
     "output_type": "display_data"
    }
   ],
   "source": [
    "psw1 = ParamSpanWidget('test_span', compute1, visualize1, word=['hi', 'bye'], number=[1,2,3])\n",
    "psw1"
   ]
  },
  {
   "cell_type": "markdown",
   "metadata": {},
   "source": [
    "# Normal Distribution Plots"
   ]
  },
  {
   "cell_type": "code",
   "execution_count": 165,
   "metadata": {},
   "outputs": [],
   "source": [
    "def compute2(N, mean, std, color):\n",
    "    import numpy as np\n",
    "    x = np.random.normal(loc=mean, scale=std, size=N)\n",
    "    realmean = np.mean(x)\n",
    "    realstd = np.std(x)\n",
    "    return {\n",
    "        'engine_id': engine_id,\n",
    "        'x': x,\n",
    "        'N': N,\n",
    "        'realmean': realmean,\n",
    "        'realstd': realstd,\n",
    "        'color': color\n",
    "    }\n",
    "    \n",
    "def visualize2(engine_id, x, N, realmean, realstd, color):\n",
    "    print(\"Computed on engine {}\".format(engine_id))\n",
    "    print(\"Data: {}\".format(x))\n",
    "    plt.figure(figsize=[8,3])\n",
    "    with warnings.catch_warnings():\n",
    "        warnings.simplefilter(\"ignore\")\n",
    "        sns.distplot(x, color=color)\n",
    "    plt.title(r'$N={}$, $\\mu={:.2f}$, $\\sigma={:.2f}$'.format(N, realmean, realstd))\n",
    "    plt.show()"
   ]
  },
  {
   "cell_type": "code",
   "execution_count": 166,
   "metadata": {
    "scrolled": false
   },
   "outputs": [
    {
     "data": {
      "application/vnd.jupyter.widget-view+json": {
       "model_id": "f5fdf0b4e9a940ae907723afc0d68cdf",
       "version_major": 2,
       "version_minor": 0
      },
      "text/plain": [
       "ParamSpanWidget(children=(Output(layout=Layout(border='1px solid', height='300px', overflow_x='scroll', overfl…"
      ]
     },
     "metadata": {},
     "output_type": "display_data"
    }
   ],
   "source": [
    "psw2 = ParamSpanWidget('test_span', compute2, visualize2, N=[5,10,20], mean=[0,1,2], std=[5,10], color=['red', 'blue'])\n",
    "psw2"
   ]
  }
 ],
 "metadata": {
  "kernelspec": {
   "display_name": "Python 3 (widgets)",
   "language": "python",
   "name": "widgets"
  },
  "language_info": {
   "codemirror_mode": {
    "name": "ipython",
    "version": 3
   },
   "file_extension": ".py",
   "mimetype": "text/x-python",
   "name": "python",
   "nbconvert_exporter": "python",
   "pygments_lexer": "ipython3",
   "version": "3.6.5"
  }
 },
 "nbformat": 4,
 "nbformat_minor": 2
}
