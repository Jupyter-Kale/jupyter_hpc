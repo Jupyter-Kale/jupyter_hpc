{
 "cells": [
  {
   "cell_type": "markdown",
   "metadata": {
    "nbpresent": {
     "id": "23b963da-d90a-43dd-883c-db727b739947"
    }
   },
   "source": [
    "# Imports"
   ]
  },
  {
   "cell_type": "code",
   "execution_count": 1,
   "metadata": {
    "nbpresent": {
     "id": "6268ef92-e5ae-4ce4-b369-202c806db45b"
    },
    "scrolled": false
   },
   "outputs": [],
   "source": [
    "%load_ext autoreload\n",
    "%autoreload 2\n",
    "import os\n",
    "import sys\n",
    "sys.path.append(os.path.abspath('../'))"
   ]
  },
  {
   "cell_type": "code",
   "execution_count": 2,
   "metadata": {
    "nbpresent": {
     "id": "7f05c603-3a9d-451e-98ee-ff9d21d86e9b"
    },
    "scrolled": false
   },
   "outputs": [],
   "source": [
    "from kale_workflows.workflow_widgets import WorkflowWidget, WorkerPoolWidget, TailWidget\n",
    "from droplet_workflow import droplet_wf\n",
    "from example_workflow import example_wf\n",
    "from kale_workflows.aux_widgets import QueueWidget, NEWTAuthWidget, SSHAuthWidget, SSHTerminal, Space\n",
    "import kale_workflows.workflow_objects as kale\n",
    "\n",
    "import ipywidgets as ipw\n",
    "import time\n",
    "from concurrent.futures import ThreadPoolExecutor\n",
    "import traitlets\n",
    "import networkx as nx\n",
    "import IPython.display as disp"
   ]
  },
  {
   "cell_type": "code",
   "execution_count": 3,
   "metadata": {
    "nbpresent": {
     "id": "192a9350-4f88-4acd-b4ce-d89c151a2672"
    },
    "scrolled": false
   },
   "outputs": [
    {
     "name": "stdout",
     "output_type": "stream",
     "text": [
      "2017-10-20 00:03:28,864 INFO Performing db tune-up\n",
      "2017-10-20 00:03:28,886 INFO LaunchPad was RESET.\n"
     ]
    },
    {
     "data": {
      "application/vnd.jupyter.widget-view+json": {
       "model_id": "365dffddadfa49bc9706f5889355ad0a",
       "version_major": 2,
       "version_minor": 0
      },
      "text/plain": [
       "A Jupyter Widget"
      ]
     },
     "metadata": {},
     "output_type": "display_data"
    }
   ],
   "source": [
    "wpw = WorkerPoolWidget()\n",
    "wpw"
   ]
  },
  {
   "cell_type": "markdown",
   "metadata": {
    "nbpresent": {
     "id": "5775e307-7e1e-43d5-9387-07d40fe7e0e5"
    }
   },
   "source": [
    "# Define simple workflow"
   ]
  },
  {
   "cell_type": "code",
   "execution_count": 4,
   "metadata": {
    "nbpresent": {
     "id": "8f1b8e07-b7ba-457d-ab44-722b568cad19"
    },
    "scrolled": false
   },
   "outputs": [
    {
     "data": {
      "application/vnd.jupyter.widget-view+json": {
       "model_id": "739d3d46696c4e8e814c541beaba4dfb",
       "version_major": 2,
       "version_minor": 0
      },
      "text/plain": [
       "A Jupyter Widget"
      ]
     },
     "metadata": {},
     "output_type": "display_data"
    },
    {
     "name": "stdout",
     "output_type": "stream",
     "text": [
      "2017-10-20 00:04:18,499 INFO RUNNING fw_id: 5 in directory: /Users/mhenderson/PycharmProjects/jupyter_kale/jupyter_hpc/examples/notebooks\n",
      "2017-10-20 00:04:18,501 INFO Task started: PyTask.\n",
      "Run batch job\n",
      "#!/bin/bash\n",
      "#PBS -l nodes=1:ppn=1\n",
      "#PBS -l nice=10\n",
      "#PBS -j oe\n",
      "#PBS -q default\n",
      "#PBS -N pwd_task\n",
      "#PBS -r n\n",
      "cd $PBS_O_WORKDIR\n",
      "echo \"Hello from '`pwd`'.\" > out.txt\n",
      "echo '4549b925dbf49e961f74f3d6fa45d246' > /Users/mhenderson/PycharmProjects/jupyter_kale/jupyter_hpc/examples/notebooks/.watch_job__krxygjp\n",
      "QSUB COMMAND: qsub /var/folders/ch/5_swhmz14_5g9lptk_stmj1w0000gn/T/tmp.2nq8wUCT\n",
      "2017-10-20 00:04:18,756 INFO Rocket finished\n"
     ]
    },
    {
     "name": "stderr",
     "output_type": "stream",
     "text": [
      "Traceback (most recent call last):\n",
      "  File \"/Users/mhenderson/miniconda3/lib/python3.6/site-packages/fireworks/core/rocket.py\", line 246, in run\n",
      "    m_action = t.run_task(my_spec)\n",
      "  File \"/Users/mhenderson/miniconda3/lib/python3.6/site-packages/fireworks/user_objects/firetasks/script_task.py\", line 173, in run_task\n",
      "    output = func(*args, **kwargs)\n",
      "  File \"/Users/mhenderson/miniconda3/lib/python3.6/site-packages/kale_workflows/batch_jobs.py\", line 163, in run_cmd_job\n",
      "    run_batch_job(tmp_batch_script, poll_interval)\n",
      "  File \"/Users/mhenderson/miniconda3/lib/python3.6/site-packages/kale_workflows/batch_jobs.py\", line 114, in run_batch_job\n",
      "    job_id = submit_batch_script(new_batch_script)\n",
      "  File \"/Users/mhenderson/miniconda3/lib/python3.6/site-packages/kale_workflows/batch_jobs.py\", line 74, in submit_batch_script\n",
      "    return subprocess.check_output(command).decode().strip()\n",
      "  File \"/Users/mhenderson/miniconda3/lib/python3.6/subprocess.py\", line 336, in check_output\n",
      "    **kwargs).stdout\n",
      "  File \"/Users/mhenderson/miniconda3/lib/python3.6/subprocess.py\", line 403, in run\n",
      "    with Popen(*popenargs, **kwargs) as process:\n",
      "  File \"/Users/mhenderson/miniconda3/lib/python3.6/subprocess.py\", line 707, in __init__\n",
      "    restore_signals, start_new_session)\n",
      "  File \"/Users/mhenderson/miniconda3/lib/python3.6/subprocess.py\", line 1326, in _execute_child\n",
      "    raise child_exception_type(errno_num, err_msg)\n",
      "FileNotFoundError: [Errno 2] No such file or directory: 'qsub'\n"
     ]
    },
    {
     "name": "stdout",
     "output_type": "stream",
     "text": [
      "FW Completed\n"
     ]
    }
   ],
   "source": [
    "wfw = WorkflowWidget(example_wf, wpw)\n",
    "wfw"
   ]
  },
  {
   "cell_type": "markdown",
   "metadata": {
    "nbpresent": {
     "id": "36adf149-cdfe-4ba4-b129-35ff4ddddd58"
    }
   },
   "source": [
    "# Observe Output"
   ]
  },
  {
   "cell_type": "code",
   "execution_count": 5,
   "metadata": {
    "nbpresent": {
     "id": "60054662-6c57-44e6-b7b5-7606a1e9357a"
    },
    "scrolled": true
   },
   "outputs": [
    {
     "data": {
      "application/vnd.jupyter.widget-view+json": {
       "model_id": "f00bc034c5ed44a3b713fe0b814c4ab7",
       "version_major": 2,
       "version_minor": 0
      },
      "text/plain": [
       "A Jupyter Widget"
      ]
     },
     "metadata": {},
     "output_type": "display_data"
    }
   ],
   "source": [
    "t = TailWidget('out.txt')\n",
    "t"
   ]
  },
  {
   "cell_type": "code",
   "execution_count": 6,
   "metadata": {},
   "outputs": [
    {
     "data": {
      "application/vnd.jupyter.widget-view+json": {
       "model_id": "9c272998f1104eb589383b3b6582efe8",
       "version_major": 2,
       "version_minor": 0
      },
      "text/plain": [
       "A Jupyter Widget"
      ]
     },
     "metadata": {},
     "output_type": "display_data"
    }
   ],
   "source": [
    "b1 = ipw.Button(description=\"test\")\n",
    "b2 = ipw.Button(description=\"123\")\n",
    "ipw.VBox([b1,b2])"
   ]
  },
  {
   "cell_type": "code",
   "execution_count": 7,
   "metadata": {},
   "outputs": [
    {
     "ename": "SyntaxError",
     "evalue": "invalid syntax (<ipython-input-7-3f8e79ce2790>, line 1)",
     "output_type": "error",
     "traceback": [
      "\u001b[0;36m  File \u001b[0;32m\"<ipython-input-7-3f8e79ce2790>\"\u001b[0;36m, line \u001b[0;32m1\u001b[0m\n\u001b[0;31m    b2.\u001b[0m\n\u001b[0m       ^\u001b[0m\n\u001b[0;31mSyntaxError\u001b[0m\u001b[0;31m:\u001b[0m invalid syntax\n"
     ]
    }
   ],
   "source": [
    "b2."
   ]
  },
  {
   "cell_type": "markdown",
   "metadata": {},
   "source": [
    "# STOP HERE"
   ]
  },
  {
   "cell_type": "code",
   "execution_count": null,
   "metadata": {
    "collapsed": true,
    "nbpresent": {
     "id": "54d5496d-c0dd-44c0-bc73-9e4aa99bf0c3"
    },
    "scrolled": true
   },
   "outputs": [],
   "source": [
    "example_workflow = kale.Workflow(name='example')\n",
    "for i in range(50):\n",
    "    example_workflow.add_task(\n",
    "        kale.CommandLineTask(\n",
    "            name='stress_test_{num}',\n",
    "            command='stress --cpu 1 --timeout 30',\n",
    "            nodes_cores = 10,\n",
    "            node_property='node',\n",
    "            tags=['run'],\n",
    "            output_files=[\"{out_file}\"],\n",
    "            params=dict(\n",
    "                num=i,\n",
    "                out_file=\"output.txt\"\n",
    "            )\n",
    "        )\n",
    "    )"
   ]
  },
  {
   "cell_type": "code",
   "execution_count": null,
   "metadata": {
    "collapsed": true,
    "scrolled": false
   },
   "outputs": [],
   "source": [
    "ww1 = WorkflowWidget(example_workflow, wpw)\n",
    "ww1"
   ]
  },
  {
   "cell_type": "code",
   "execution_count": null,
   "metadata": {
    "collapsed": true
   },
   "outputs": [],
   "source": [
    "import os"
   ]
  },
  {
   "cell_type": "code",
   "execution_count": null,
   "metadata": {
    "collapsed": true
   },
   "outputs": [],
   "source": [
    "os.path.join('a','b','c')"
   ]
  },
  {
   "cell_type": "code",
   "execution_count": null,
   "metadata": {
    "collapsed": true
   },
   "outputs": [],
   "source": [
    "ww1._log_area"
   ]
  },
  {
   "cell_type": "code",
   "execution_count": null,
   "metadata": {
    "collapsed": true,
    "nbpresent": {
     "id": "b437faac-d3ba-4df4-97b7-a233981b9ab0"
    }
   },
   "outputs": [],
   "source": [
    "wfw.workflow.tag_dict"
   ]
  },
  {
   "cell_type": "code",
   "execution_count": null,
   "metadata": {
    "collapsed": true,
    "nbpresent": {
     "id": "34f5d70b-3473-40be-9571-8844af3a2068"
    }
   },
   "outputs": [],
   "source": [
    "wfw.workflow._new_tag('newtag')"
   ]
  },
  {
   "cell_type": "code",
   "execution_count": null,
   "metadata": {
    "collapsed": true,
    "nbpresent": {
     "id": "ab08480f-727e-4ae7-99ff-a8fbaa083882"
    }
   },
   "outputs": [],
   "source": [
    "wfw._update_tag_selector()"
   ]
  },
  {
   "cell_type": "markdown",
   "metadata": {
    "nbpresent": {
     "id": "8e27014c-2b51-4853-8cee-fa447fbfce9f"
    }
   },
   "source": [
    "# Connect to Cluster\n"
   ]
  },
  {
   "cell_type": "code",
   "execution_count": null,
   "metadata": {
    "collapsed": true,
    "nbpresent": {
     "id": "73cfce9a-5bf7-4ef1-8275-527bacf15f12"
    },
    "scrolled": false
   },
   "outputs": [],
   "source": [
    "ssh = SSHAuthWidget(host='cori.nersc.gov', username='oevans')\n",
    "ssh"
   ]
  },
  {
   "cell_type": "code",
   "execution_count": null,
   "metadata": {
    "collapsed": true,
    "nbpresent": {
     "id": "6eccb508-6dcd-41ab-a263-c303aca4b9a0"
    },
    "scrolled": true
   },
   "outputs": [],
   "source": [
    "t = SSHTerminal(ssh, width=800)\n",
    "t"
   ]
  },
  {
   "cell_type": "markdown",
   "metadata": {
    "nbpresent": {
     "id": "7d098be9-3bda-4873-9389-1eeb9684a244"
    }
   },
   "source": [
    "# Create Worker Pool\n"
   ]
  },
  {
   "cell_type": "markdown",
   "metadata": {},
   "source": [
    "# Droplet Workflow"
   ]
  },
  {
   "cell_type": "code",
   "execution_count": null,
   "metadata": {
    "collapsed": true,
    "nbpresent": {
     "id": "086179ea-3915-4b1a-9493-83cae5d3e317"
    },
    "scrolled": false
   },
   "outputs": [],
   "source": [
    "ww = WorkflowWidget(workflow=droplet_wf, worker_pool_widget=wpw)\n",
    "ww"
   ]
  },
  {
   "cell_type": "markdown",
   "metadata": {
    "nbpresent": {
     "id": "5110ad52-2442-4f7f-b036-4853f9e9141d"
    }
   },
   "source": [
    "# Visualize & Run Workflow"
   ]
  },
  {
   "cell_type": "code",
   "execution_count": null,
   "metadata": {
    "collapsed": true,
    "nbpresent": {
     "id": "a0e493f9-d183-48a1-b727-fa7b4f4cd7a1"
    }
   },
   "outputs": [],
   "source": [
    "exww.workflow.tag_dict"
   ]
  },
  {
   "cell_type": "code",
   "execution_count": null,
   "metadata": {
    "collapsed": true,
    "nbpresent": {
     "id": "4dd9f5bc-1e31-40ef-9061-254e366a1d0c"
    }
   },
   "outputs": [],
   "source": [
    "selected = exww.bqgraph.selected\n",
    "tasks = [exww.bqgraph.node_data[x]['name'] for x in selected]\n",
    "[exww.workflow.get_task_by_name(name) for name in tasks]"
   ]
  },
  {
   "cell_type": "code",
   "execution_count": null,
   "metadata": {
    "collapsed": true,
    "nbpresent": {
     "id": "e665aeba-ed01-4fb7-9eb7-cf15868f78cb"
    }
   },
   "outputs": [],
   "source": [
    "nx.dfs_preorder_nodes?"
   ]
  },
  {
   "cell_type": "code",
   "execution_count": null,
   "metadata": {
    "collapsed": true,
    "nbpresent": {
     "id": "8888239a-5372-41e0-b575-470482c1b98e"
    }
   },
   "outputs": [],
   "source": [
    "exww.workflow.dag.o(node)"
   ]
  },
  {
   "cell_type": "code",
   "execution_count": null,
   "metadata": {
    "collapsed": true,
    "nbpresent": {
     "id": "9810503f-ea97-4f54-a0a2-49953470094c"
    }
   },
   "outputs": [],
   "source": [
    "exww.bqgraph.selected = list(range(5))"
   ]
  },
  {
   "cell_type": "code",
   "execution_count": null,
   "metadata": {
    "collapsed": true,
    "nbpresent": {
     "id": "067cfa5a-18db-4ed0-91c2-2b1209215ace"
    }
   },
   "outputs": [],
   "source": [
    "example_wf.dag.nodes()[1].children"
   ]
  },
  {
   "cell_type": "markdown",
   "metadata": {
    "nbpresent": {
     "id": "0190f5e0-eeca-4428-8e9d-b909be29cc08"
    }
   },
   "source": [
    "# Connect to NEWT"
   ]
  },
  {
   "cell_type": "code",
   "execution_count": null,
   "metadata": {
    "collapsed": true,
    "nbpresent": {
     "id": "33786081-d706-479b-8efd-e16a6cca6337"
    }
   },
   "outputs": [],
   "source": [
    "a = NEWTAuthWidget()\n",
    "a"
   ]
  },
  {
   "cell_type": "code",
   "execution_count": null,
   "metadata": {
    "collapsed": true,
    "nbpresent": {
     "id": "6c5391e1-89f3-41f2-88dd-00437f05c91e"
    }
   },
   "outputs": [],
   "source": [
    "q = QueueWidget(a)\n",
    "q"
   ]
  },
  {
   "cell_type": "code",
   "execution_count": null,
   "metadata": {
    "collapsed": true,
    "nbpresent": {
     "id": "719f7d72-962d-4d50-bec3-f3abf1ab289a"
    }
   },
   "outputs": [],
   "source": []
  }
 ],
 "metadata": {
  "anaconda-cloud": {},
  "kernelspec": {
   "display_name": "Python 3",
   "language": "python",
   "name": "python3"
  },
  "language_info": {
   "codemirror_mode": {
    "name": "ipython",
    "version": 3
   },
   "file_extension": ".py",
   "mimetype": "text/x-python",
   "name": "python",
   "nbconvert_exporter": "python",
   "pygments_lexer": "ipython3",
   "version": "3.6.0"
  },
  "nbpresent": {
   "slides": {
    "155f84f5-466f-471e-a62e-3e29af2a0b07": {
     "id": "155f84f5-466f-471e-a62e-3e29af2a0b07",
     "layout": "treemap",
     "prev": null,
     "regions": {
      "07ca5e74-1463-4823-91e1-8e63237bba3b": {
       "attrs": {
        "height": 0.75,
        "treemap:weight": 1,
        "width": 0.33,
        "x": 0,
        "y": 0
       },
       "id": "07ca5e74-1463-4823-91e1-8e63237bba3b"
      },
      "5a7da22f-c1cb-42e8-92f3-4c9e251f6e5e": {
       "attrs": {
        "height": 0.75,
        "pad": 0.01,
        "treemap:weight": 1,
        "width": 0.34,
        "x": 0.66,
        "y": 0
       },
       "id": "5a7da22f-c1cb-42e8-92f3-4c9e251f6e5e"
      },
      "80858f3b-345d-4098-90a3-0b575ba71503": {
       "attrs": {
        "height": 0.25,
        "pad": 0.01,
        "treemap:weight": 1,
        "width": 1,
        "x": 0,
        "y": 0.75
       },
       "id": "80858f3b-345d-4098-90a3-0b575ba71503"
      },
      "a269929c-67ca-4b00-a834-251426b7bc25": {
       "attrs": {
        "height": 0.75,
        "treemap:weight": 1,
        "width": 0.33,
        "x": 0.33,
        "y": 0
       },
       "id": "a269929c-67ca-4b00-a834-251426b7bc25"
      }
     }
    }
   },
   "themes": {}
  }
 },
 "nbformat": 4,
 "nbformat_minor": 2
}
