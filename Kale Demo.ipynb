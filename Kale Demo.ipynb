{
 "cells": [
  {
   "cell_type": "markdown",
   "metadata": {
    "nbpresent": {
     "id": "23b963da-d90a-43dd-883c-db727b739947"
    }
   },
   "source": [
    "# Imports"
   ]
  },
  {
   "cell_type": "code",
   "execution_count": 1,
   "metadata": {
    "collapsed": true,
    "nbpresent": {
     "id": "6268ef92-e5ae-4ce4-b369-202c806db45b"
    },
    "scrolled": false
   },
   "outputs": [],
   "source": [
    "%load_ext autoreload\n",
    "%autoreload 2"
   ]
  },
  {
   "cell_type": "code",
   "execution_count": 2,
   "metadata": {
    "collapsed": true,
    "nbpresent": {
     "id": "7f05c603-3a9d-451e-98ee-ff9d21d86e9b"
    },
    "scrolled": false
   },
   "outputs": [],
   "source": [
    "from workflow_widgets import WorkflowWidget, WorkerPoolWidget, TailWidget\n",
    "from droplet_workflow import droplet_wf\n",
    "from example_workflow import example_wf\n",
    "from aux_widgets import QueueWidget, NEWTAuthWidget, SSHAuthWidget, SSHTerminal, Space\n",
    "import workflow_objects as kale\n",
    "\n",
    "import ipywidgets as ipw\n",
    "import time\n",
    "from concurrent.futures import ThreadPoolExecutor\n",
    "import traitlets\n",
    "import networkx as nx\n",
    "import IPython.display as disp"
   ]
  },
  {
   "cell_type": "code",
   "execution_count": 8,
   "metadata": {
    "nbpresent": {
     "id": "192a9350-4f88-4acd-b4ce-d89c151a2672"
    },
    "scrolled": false
   },
   "outputs": [
    {
     "name": "stdout",
     "output_type": "stream",
     "text": [
      "2017-10-17 17:33:48,248 INFO Performing db tune-up\n",
      "2017-10-17 17:33:48,259 INFO LaunchPad was RESET.\n"
     ]
    },
    {
     "data": {
      "application/vnd.jupyter.widget-view+json": {
       "model_id": "08c64c092b9943d3b28ac1556909685d",
       "version_major": 2,
       "version_minor": 0
      },
      "text/html": [
       "<p>Failed to display Jupyter Widget of type <code>WorkerPoolWidget</code>.</p>\n",
       "<p>\n",
       "  If you're reading this message in Jupyter Notebook or JupyterLab, it may mean\n",
       "  that the widgets JavaScript is still loading. If this message persists, it\n",
       "  likely means that the widgets JavaScript library is either not installed or\n",
       "  not enabled. See the <a href=\"https://ipywidgets.readthedocs.io/en/stable/user_install.html\">Jupyter\n",
       "  Widgets Documentation</a> for setup instructions.\n",
       "</p>\n",
       "<p>\n",
       "  If you're reading this message in another notebook frontend (for example, a static\n",
       "  rendering on GitHub or <a href=\"https://nbviewer.jupyter.org/\">NBViewer</a>),\n",
       "  it may mean that your frontend doesn't currently support widgets.\n",
       "</p>\n"
      ],
      "text/plain": [
       "WorkerPoolWidget(children=(HTML(value='<h3>Worker Pools</h3>'), TableWidget(children=(RowWidget(children=(HBox(children=(HTML(value='<b>Name</b>'),), layout=Layout(justify_content='flex-start', width='150px')), HBox(children=(HTML(value='<b>Location</b>'),), layout=Layout(justify_content='flex-start', width='200px')), HBox(children=(HTML(value='<b>Workers</b>'),), layout=Layout(justify_content='flex-start', width='60px')), HBox(children=(HTML(value='<b>Action</b>'),), layout=Layout(justify_content='flex-start', width='100px'))), layout=Layout(justify_content='space-between', width='510px')), RowWidget(children=(HBox(children=(HTML(value='default'),), layout=Layout(justify_content='flex-start', width='150px')), HBox(children=(HTML(value='localhost'),), layout=Layout(justify_content='flex-start', width='200px')), HBox(children=(HTML(value='4'),), layout=Layout(justify_content='flex-start', width='60px')), HBox(children=(Button(button_style='danger', description='Remove', style=ButtonStyle()),), layout=Layout(justify_content='flex-start', width='100px'))), layout=Layout(justify_content='space-between', width='510px')), RowWidget(children=(HBox(children=(Text(value='', layout=Layout(width='148px')),), layout=Layout(justify_content='flex-start', width='150px')), HBox(children=(Dropdown(layout=Layout(width='198px'), options=('localhost',), value='localhost'),), layout=Layout(justify_content='flex-start', width='200px')), HBox(children=(IntText(value=1, layout=Layout(width='58px')),), layout=Layout(justify_content='flex-start', width='60px')), HBox(children=(Button(button_style='success', icon='plus', style=ButtonStyle()),), layout=Layout(justify_content='flex-start', width='100px'))), layout=Layout(justify_content='space-between', width='510px'))), layout=Layout(width='510px')), HTML(value='\\n        <div class=\"alert alert-success\" style=\"width: 510px\">\\n        WorkerPool \\'default\\' created.\\n        </div>\\n        ')))"
      ]
     },
     "metadata": {},
     "output_type": "display_data"
    }
   ],
   "source": [
    "wpw = WorkerPoolWidget()\n",
    "wpw"
   ]
  },
  {
   "cell_type": "markdown",
   "metadata": {
    "nbpresent": {
     "id": "5775e307-7e1e-43d5-9387-07d40fe7e0e5"
    }
   },
   "source": [
    "# Define simple workflow"
   ]
  },
  {
   "cell_type": "code",
   "execution_count": 9,
   "metadata": {
    "nbpresent": {
     "id": "8f1b8e07-b7ba-457d-ab44-722b568cad19"
    },
    "scrolled": false
   },
   "outputs": [
    {
     "data": {
      "application/vnd.jupyter.widget-view+json": {
       "model_id": "8106ceaa445d47aea47331fb5a80f359",
       "version_major": 2,
       "version_minor": 0
      },
      "text/html": [
       "<p>Failed to display Jupyter Widget of type <code>WorkflowWidget</code>.</p>\n",
       "<p>\n",
       "  If you're reading this message in Jupyter Notebook or JupyterLab, it may mean\n",
       "  that the widgets JavaScript is still loading. If this message persists, it\n",
       "  likely means that the widgets JavaScript library is either not installed or\n",
       "  not enabled. See the <a href=\"https://ipywidgets.readthedocs.io/en/stable/user_install.html\">Jupyter\n",
       "  Widgets Documentation</a> for setup instructions.\n",
       "</p>\n",
       "<p>\n",
       "  If you're reading this message in another notebook frontend (for example, a static\n",
       "  rendering on GitHub or <a href=\"https://nbviewer.jupyter.org/\">NBViewer</a>),\n",
       "  it may mean that your frontend doesn't currently support widgets.\n",
       "</p>\n"
      ],
      "text/plain": [
       "WorkflowWidget(children=(VBox(children=(Figure(fig_margin={'left': 10, 'right': 10, 'bottom': 10, 'top': 10}, layout=Layout(height='600px', width='400px'), marks=[Graph(colors=['#1f77b4', '#ff7f0e', '#2ca02c', '#d62728', '#9467bd', '#8c564b', '#e377c2', '#7f7f7f', '#bcbd22', '#17becf'], highlight_links=False, interactions={'hover': 'tooltip', 'click': 'select'}, link_data=[{'source': 0, 'target': 1}, {'source': 0, 'target': 2}, {'source': 0, 'target': 3}, {'source': 1, 'target': 4}, {'source': 2, 'target': 4}, {'source': 3, 'target': 4}], link_type='line', node_data=[{'label': '0', 'shape': 'rect', 'name': 'pwd_task', 'task_type': 'CommandLineTask', 'tags': ['pwd'], 'input_files': [], 'output_files': ['out.txt'], 'num_cores': 1, 'command': 'echo \"Hello from \\'`pwd`\\'.\" > out.txt'}, {'label': '1', 'shape': 'rect', 'name': 'echo_task_0', 'task_type': 'CommandLineTask', 'tags': ['echo'], 'input_files': [], 'output_files': ['out.txt'], 'num_cores': 1, 'command': 'for j in {1..10}; do echo \"Hello #0: $j\" >> out.txt; sleep 1; done'}, {'label': '2', 'shape': 'rect', 'name': 'echo_task_1', 'task_type': 'CommandLineTask', 'tags': ['echo'], 'input_files': [], 'output_files': ['out.txt'], 'num_cores': 1, 'command': 'for j in {1..10}; do echo \"Hello #1: $j\" >> out.txt; sleep 1; done'}, {'label': '3', 'shape': 'rect', 'name': 'echo_task_2', 'task_type': 'CommandLineTask', 'tags': ['echo'], 'input_files': [], 'output_files': ['out.txt'], 'num_cores': 1, 'command': 'for j in {1..10}; do echo \"Hello #2: $j\" >> out.txt; sleep 1; done'}, {'label': '4', 'shape': 'rect', 'name': 'done_task', 'task_type': 'CommandLineTask', 'tags': ['done'], 'input_files': [], 'output_files': ['out.txt'], 'num_cores': 1, 'command': \"echo 'Done!' >> out.txt\"}], scales={'x': LinearScale(), 'y': LinearScale()}, scales_metadata={'x': {'orientation': 'horizontal', 'dimension': 'x'}, 'y': {'orientation': 'vertical', 'dimension': 'y'}, 'color': {'dimension': 'color'}, 'link_color': {'dimension': 'link_color'}}, selected=[0], selected_style={'stroke': 'red'}, tooltip_style={'opacity': 0.9}, x=array([  823.,   269.,   823.,  1377.,   823.]), y=array([ 162.,   90.,   90.,   90.,   18.]))], min_aspect_ratio=0.0, scale_x=LinearScale(allow_padding=False, max=1.0, min=0.0), scale_y=LinearScale(allow_padding=False, max=1.0, min=0.0)), Toolbar(figure=Figure(fig_margin={'left': 10, 'right': 10, 'bottom': 10, 'top': 10}, layout=Layout(height='600px', width='400px'), marks=[Graph(colors=['#1f77b4', '#ff7f0e', '#2ca02c', '#d62728', '#9467bd', '#8c564b', '#e377c2', '#7f7f7f', '#bcbd22', '#17becf'], highlight_links=False, interactions={'hover': 'tooltip', 'click': 'select'}, link_data=[{'source': 0, 'target': 1}, {'source': 0, 'target': 2}, {'source': 0, 'target': 3}, {'source': 1, 'target': 4}, {'source': 2, 'target': 4}, {'source': 3, 'target': 4}], link_type='line', node_data=[{'label': '0', 'shape': 'rect', 'name': 'pwd_task', 'task_type': 'CommandLineTask', 'tags': ['pwd'], 'input_files': [], 'output_files': ['out.txt'], 'num_cores': 1, 'command': 'echo \"Hello from \\'`pwd`\\'.\" > out.txt'}, {'label': '1', 'shape': 'rect', 'name': 'echo_task_0', 'task_type': 'CommandLineTask', 'tags': ['echo'], 'input_files': [], 'output_files': ['out.txt'], 'num_cores': 1, 'command': 'for j in {1..10}; do echo \"Hello #0: $j\" >> out.txt; sleep 1; done'}, {'label': '2', 'shape': 'rect', 'name': 'echo_task_1', 'task_type': 'CommandLineTask', 'tags': ['echo'], 'input_files': [], 'output_files': ['out.txt'], 'num_cores': 1, 'command': 'for j in {1..10}; do echo \"Hello #1: $j\" >> out.txt; sleep 1; done'}, {'label': '3', 'shape': 'rect', 'name': 'echo_task_2', 'task_type': 'CommandLineTask', 'tags': ['echo'], 'input_files': [], 'output_files': ['out.txt'], 'num_cores': 1, 'command': 'for j in {1..10}; do echo \"Hello #2: $j\" >> out.txt; sleep 1; done'}, {'label': '4', 'shape': 'rect', 'name': 'done_task', 'task_type': 'CommandLineTask', 'tags': ['done'], 'input_files': [], 'output_files': ['out.txt'], 'num_cores': 1, 'command': \"echo 'Done!' >> out.txt\"}], scales={'x': LinearScale(), 'y': LinearScale()}, scales_metadata={'x': {'orientation': 'horizontal', 'dimension': 'x'}, 'y': {'orientation': 'vertical', 'dimension': 'y'}, 'color': {'dimension': 'color'}, 'link_color': {'dimension': 'link_color'}}, selected=[0], selected_style={'stroke': 'red'}, tooltip_style={'opacity': 0.9}, x=array([  823.,   269.,   823.,  1377.,   823.]), y=array([ 162.,   90.,   90.,   90.,   18.]))], min_aspect_ratio=0.0, scale_x=LinearScale(allow_padding=False, max=1.0, min=0.0), scale_y=LinearScale(allow_padding=False, max=1.0, min=0.0))))), Tab(children=(VBox(children=(HTML(value='<b>Workflow Description</b>'), EditHTML(children=(HTMLMath(value=\"\\n<h1>Example Workflow</h1>\\n<br>\\nVery simple map-reduce-like workflow, which involves:\\n<br>\\n<ol>\\n    <li>Short intro task</li>\\n    <li>Long parallel tasks</li>\\n    <li>Short outro tasks</li>\\n</ol>\\n\\n<br>\\nThe final results are printed to 'out.txt'.\\n\", layout=Layout(border='1px lightgray solid', padding='10px')), Button(description='Edit Description', style=ButtonStyle()))), Box(layout=Layout(height='20px', width='0px')), HTML(value='<b>Worker Pools</b>'), VBox(children=(Dropdown(options=(('default', <workflow_objects.WorkerPool object at 0x2aaaabd5ca20>),), value=<workflow_objects.WorkerPool object at 0x2aaaabd5ca20>), Button(button_style='success', description='Run Workflow', style=ButtonStyle()))))), VBox(children=(HTML(value='<b>Task Description</b>'), EditHTML(children=(HTMLMath(value='None selected.', layout=Layout(border='1px lightgray solid', padding='10px')), Button(description='Edit Description', disabled=True, style=ButtonStyle()))), Box(layout=Layout(height='20px', width='0px')), HTML(value='<b>Task Metadata</b>'), HTML(value=''))), VBox(children=(HTML(value='<b>Tags</b>'), Select(options=('pwd', 'echo', 'done'), value='pwd'), HTML(value='<b>Actions</b>'), Text(value='', description='Tag name'), HBox(children=(VBox(children=(Button(description='Select All', style=ButtonStyle()), Button(description='Select None', style=ButtonStyle()), Button(description='Select Children', style=ButtonStyle()), Button(description='Select Parents', style=ButtonStyle()), Button(description='Tag to Selection', style=ButtonStyle()), Button(description='Selection to Tag', style=ButtonStyle()))), VBox(children=(Button(description='New Tag', style=ButtonStyle()), Button(description='Del Tag', style=ButtonStyle()))))))), VBox(children=(HTML(value='<b>Messages from WorkflowWidget:</b>'), Box(children=(Output(),), layout=Layout(border='1px lightgray solid', padding='10px')), Box(layout=Layout(height='10px', width='0px')), Button(description='Clear', style=ButtonStyle())))), layout=Layout(height='600px', width='400px'), _titles={'0': 'Workflow', '1': 'Task', '2': 'Tags', '3': 'Widget Log'})))"
      ]
     },
     "metadata": {},
     "output_type": "display_data"
    }
   ],
   "source": [
    "wfw = WorkflowWidget(example_wf, wpw)\n",
    "wfw"
   ]
  },
  {
   "cell_type": "markdown",
   "metadata": {
    "nbpresent": {
     "id": "36adf149-cdfe-4ba4-b129-35ff4ddddd58"
    }
   },
   "source": [
    "# Observe Output"
   ]
  },
  {
   "cell_type": "code",
   "execution_count": null,
   "metadata": {
    "collapsed": true,
    "nbpresent": {
     "id": "60054662-6c57-44e6-b7b5-7606a1e9357a"
    },
    "scrolled": true
   },
   "outputs": [],
   "source": [
    "t = TailWidget('out.txt')\n",
    "t"
   ]
  },
  {
   "cell_type": "code",
   "execution_count": 11,
   "metadata": {},
   "outputs": [
    {
     "data": {
      "application/vnd.jupyter.widget-view+json": {
       "model_id": "bf94eec39f674c23b344b3779729ff5c",
       "version_major": 2,
       "version_minor": 0
      },
      "text/html": [
       "<p>Failed to display Jupyter Widget of type <code>VBox</code>.</p>\n",
       "<p>\n",
       "  If you're reading this message in Jupyter Notebook or JupyterLab, it may mean\n",
       "  that the widgets JavaScript is still loading. If this message persists, it\n",
       "  likely means that the widgets JavaScript library is either not installed or\n",
       "  not enabled. See the <a href=\"https://ipywidgets.readthedocs.io/en/stable/user_install.html\">Jupyter\n",
       "  Widgets Documentation</a> for setup instructions.\n",
       "</p>\n",
       "<p>\n",
       "  If you're reading this message in another notebook frontend (for example, a static\n",
       "  rendering on GitHub or <a href=\"https://nbviewer.jupyter.org/\">NBViewer</a>),\n",
       "  it may mean that your frontend doesn't currently support widgets.\n",
       "</p>\n"
      ],
      "text/plain": [
       "VBox(children=(Button(description='test', style=ButtonStyle()), Button(description='123', style=ButtonStyle())))"
      ]
     },
     "metadata": {},
     "output_type": "display_data"
    }
   ],
   "source": [
    "b1 = ipw.Button(description=\"test\")\n",
    "b2 = ipw.Button(description=\"123\")\n",
    "ipw.VBox([b1,b2])"
   ]
  },
  {
   "cell_type": "code",
   "execution_count": 12,
   "metadata": {
    "collapsed": true
   },
   "outputs": [],
   "source": [
    "b2."
   ]
  },
  {
   "cell_type": "markdown",
   "metadata": {},
   "source": [
    "# STOP HERE"
   ]
  },
  {
   "cell_type": "code",
   "execution_count": null,
   "metadata": {
    "collapsed": true,
    "nbpresent": {
     "id": "54d5496d-c0dd-44c0-bc73-9e4aa99bf0c3"
    },
    "scrolled": true
   },
   "outputs": [],
   "source": [
    "example_workflow = kale.Workflow(name='example')\n",
    "for i in range(50):\n",
    "    example_workflow.add_task(\n",
    "        kale.CommandLineTask(\n",
    "            name='stress_test_{num}',\n",
    "            command='stress --cpu 1 --timeout 30',\n",
    "            nodes_cores = 10,\n",
    "            node_property='node',\n",
    "            tags=['run'],\n",
    "            output_files=[\"{out_file}\"],\n",
    "            params=dict(\n",
    "                num=i,\n",
    "                out_file=\"output.txt\"\n",
    "            )\n",
    "        )\n",
    "    )"
   ]
  },
  {
   "cell_type": "code",
   "execution_count": null,
   "metadata": {
    "collapsed": true,
    "scrolled": false
   },
   "outputs": [],
   "source": [
    "ww1 = WorkflowWidget(example_workflow, wpw)\n",
    "ww1"
   ]
  },
  {
   "cell_type": "code",
   "execution_count": null,
   "metadata": {
    "collapsed": true
   },
   "outputs": [],
   "source": [
    "import os"
   ]
  },
  {
   "cell_type": "code",
   "execution_count": null,
   "metadata": {
    "collapsed": true
   },
   "outputs": [],
   "source": [
    "os.path.join('a','b','c')"
   ]
  },
  {
   "cell_type": "code",
   "execution_count": null,
   "metadata": {
    "collapsed": true
   },
   "outputs": [],
   "source": [
    "ww1._log_area"
   ]
  },
  {
   "cell_type": "code",
   "execution_count": null,
   "metadata": {
    "collapsed": true,
    "nbpresent": {
     "id": "b437faac-d3ba-4df4-97b7-a233981b9ab0"
    }
   },
   "outputs": [],
   "source": [
    "wfw.workflow.tag_dict"
   ]
  },
  {
   "cell_type": "code",
   "execution_count": null,
   "metadata": {
    "collapsed": true,
    "nbpresent": {
     "id": "34f5d70b-3473-40be-9571-8844af3a2068"
    }
   },
   "outputs": [],
   "source": [
    "wfw.workflow._new_tag('newtag')"
   ]
  },
  {
   "cell_type": "code",
   "execution_count": null,
   "metadata": {
    "collapsed": true,
    "nbpresent": {
     "id": "ab08480f-727e-4ae7-99ff-a8fbaa083882"
    }
   },
   "outputs": [],
   "source": [
    "wfw._update_tag_selector()"
   ]
  },
  {
   "cell_type": "markdown",
   "metadata": {
    "nbpresent": {
     "id": "8e27014c-2b51-4853-8cee-fa447fbfce9f"
    }
   },
   "source": [
    "# Connect to Cluster\n"
   ]
  },
  {
   "cell_type": "code",
   "execution_count": null,
   "metadata": {
    "collapsed": true,
    "nbpresent": {
     "id": "73cfce9a-5bf7-4ef1-8275-527bacf15f12"
    },
    "scrolled": false
   },
   "outputs": [],
   "source": [
    "ssh = SSHAuthWidget(host='cori.nersc.gov', username='oevans')\n",
    "ssh"
   ]
  },
  {
   "cell_type": "code",
   "execution_count": null,
   "metadata": {
    "collapsed": true,
    "nbpresent": {
     "id": "6eccb508-6dcd-41ab-a263-c303aca4b9a0"
    },
    "scrolled": true
   },
   "outputs": [],
   "source": [
    "t = SSHTerminal(ssh, width=800)\n",
    "t"
   ]
  },
  {
   "cell_type": "markdown",
   "metadata": {
    "nbpresent": {
     "id": "7d098be9-3bda-4873-9389-1eeb9684a244"
    }
   },
   "source": [
    "# Create Worker Pool\n"
   ]
  },
  {
   "cell_type": "markdown",
   "metadata": {},
   "source": [
    "# Droplet Workflow"
   ]
  },
  {
   "cell_type": "code",
   "execution_count": null,
   "metadata": {
    "collapsed": true,
    "nbpresent": {
     "id": "086179ea-3915-4b1a-9493-83cae5d3e317"
    },
    "scrolled": false
   },
   "outputs": [],
   "source": [
    "ww = WorkflowWidget(workflow=droplet_wf, worker_pool_widget=wpw)\n",
    "ww"
   ]
  },
  {
   "cell_type": "markdown",
   "metadata": {
    "nbpresent": {
     "id": "5110ad52-2442-4f7f-b036-4853f9e9141d"
    }
   },
   "source": [
    "# Visualize & Run Workflow"
   ]
  },
  {
   "cell_type": "code",
   "execution_count": null,
   "metadata": {
    "collapsed": true,
    "nbpresent": {
     "id": "a0e493f9-d183-48a1-b727-fa7b4f4cd7a1"
    }
   },
   "outputs": [],
   "source": [
    "exww.workflow.tag_dict"
   ]
  },
  {
   "cell_type": "code",
   "execution_count": null,
   "metadata": {
    "collapsed": true,
    "nbpresent": {
     "id": "4dd9f5bc-1e31-40ef-9061-254e366a1d0c"
    }
   },
   "outputs": [],
   "source": [
    "selected = exww.bqgraph.selected\n",
    "tasks = [exww.bqgraph.node_data[x]['name'] for x in selected]\n",
    "[exww.workflow.get_task_by_name(name) for name in tasks]"
   ]
  },
  {
   "cell_type": "code",
   "execution_count": null,
   "metadata": {
    "collapsed": true,
    "nbpresent": {
     "id": "e665aeba-ed01-4fb7-9eb7-cf15868f78cb"
    }
   },
   "outputs": [],
   "source": [
    "nx.dfs_preorder_nodes?"
   ]
  },
  {
   "cell_type": "code",
   "execution_count": null,
   "metadata": {
    "collapsed": true,
    "nbpresent": {
     "id": "8888239a-5372-41e0-b575-470482c1b98e"
    }
   },
   "outputs": [],
   "source": [
    "exww.workflow.dag.o(node)"
   ]
  },
  {
   "cell_type": "code",
   "execution_count": null,
   "metadata": {
    "collapsed": true,
    "nbpresent": {
     "id": "9810503f-ea97-4f54-a0a2-49953470094c"
    }
   },
   "outputs": [],
   "source": [
    "exww.bqgraph.selected = list(range(5))"
   ]
  },
  {
   "cell_type": "code",
   "execution_count": null,
   "metadata": {
    "collapsed": true,
    "nbpresent": {
     "id": "067cfa5a-18db-4ed0-91c2-2b1209215ace"
    }
   },
   "outputs": [],
   "source": [
    "example_wf.dag.nodes()[1].children"
   ]
  },
  {
   "cell_type": "markdown",
   "metadata": {
    "nbpresent": {
     "id": "0190f5e0-eeca-4428-8e9d-b909be29cc08"
    }
   },
   "source": [
    "# Connect to NEWT"
   ]
  },
  {
   "cell_type": "code",
   "execution_count": null,
   "metadata": {
    "collapsed": true,
    "nbpresent": {
     "id": "33786081-d706-479b-8efd-e16a6cca6337"
    }
   },
   "outputs": [],
   "source": [
    "a = NEWTAuthWidget()\n",
    "a"
   ]
  },
  {
   "cell_type": "code",
   "execution_count": null,
   "metadata": {
    "collapsed": true,
    "nbpresent": {
     "id": "6c5391e1-89f3-41f2-88dd-00437f05c91e"
    }
   },
   "outputs": [],
   "source": [
    "q = QueueWidget(a)\n",
    "q"
   ]
  },
  {
   "cell_type": "code",
   "execution_count": null,
   "metadata": {
    "collapsed": true,
    "nbpresent": {
     "id": "719f7d72-962d-4d50-bec3-f3abf1ab289a"
    }
   },
   "outputs": [],
   "source": []
  }
 ],
 "metadata": {
  "anaconda-cloud": {},
  "kernelspec": {
   "display_name": "Python 3",
   "language": "python",
   "name": "python3"
  },
  "language_info": {
   "codemirror_mode": {
    "name": "ipython",
    "version": 3
   },
   "file_extension": ".py",
   "mimetype": "text/x-python",
   "name": "python",
   "nbconvert_exporter": "python",
   "pygments_lexer": "ipython3",
   "version": "3.6.1"
  },
  "nbpresent": {
   "slides": {
    "155f84f5-466f-471e-a62e-3e29af2a0b07": {
     "id": "155f84f5-466f-471e-a62e-3e29af2a0b07",
     "layout": "treemap",
     "prev": null,
     "regions": {
      "07ca5e74-1463-4823-91e1-8e63237bba3b": {
       "attrs": {
        "height": 0.75,
        "treemap:weight": 1,
        "width": 0.33,
        "x": 0,
        "y": 0
       },
       "id": "07ca5e74-1463-4823-91e1-8e63237bba3b"
      },
      "5a7da22f-c1cb-42e8-92f3-4c9e251f6e5e": {
       "attrs": {
        "height": 0.75,
        "pad": 0.01,
        "treemap:weight": 1,
        "width": 0.34,
        "x": 0.66,
        "y": 0
       },
       "id": "5a7da22f-c1cb-42e8-92f3-4c9e251f6e5e"
      },
      "80858f3b-345d-4098-90a3-0b575ba71503": {
       "attrs": {
        "height": 0.25,
        "pad": 0.01,
        "treemap:weight": 1,
        "width": 1,
        "x": 0,
        "y": 0.75
       },
       "id": "80858f3b-345d-4098-90a3-0b575ba71503"
      },
      "a269929c-67ca-4b00-a834-251426b7bc25": {
       "attrs": {
        "height": 0.75,
        "treemap:weight": 1,
        "width": 0.33,
        "x": 0.33,
        "y": 0
       },
       "id": "a269929c-67ca-4b00-a834-251426b7bc25"
      }
     }
    }
   },
   "themes": {}
  }
 },
 "nbformat": 4,
 "nbformat_minor": 2
}
