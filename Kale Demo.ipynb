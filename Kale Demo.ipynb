{
 "cells": [
  {
   "cell_type": "markdown",
   "metadata": {
    "nbpresent": {
     "id": "23b963da-d90a-43dd-883c-db727b739947"
    }
   },
   "source": [
    "# Imports"
   ]
  },
  {
   "cell_type": "code",
   "execution_count": 1,
   "metadata": {
    "collapsed": true,
    "nbpresent": {
     "id": "6268ef92-e5ae-4ce4-b369-202c806db45b"
    },
    "scrolled": false
   },
   "outputs": [],
   "source": [
    "%load_ext autoreload\n",
    "%autoreload 2\n",
    "%matplotlib inline"
   ]
  },
  {
   "cell_type": "code",
   "execution_count": 2,
   "metadata": {
    "collapsed": true,
    "nbpresent": {
     "id": "7f05c603-3a9d-451e-98ee-ff9d21d86e9b"
    },
    "scrolled": false
   },
   "outputs": [],
   "source": [
    "from workflow_widgets import WorkflowWidget, WorkerPoolWidget, TailWidget\n",
    "from droplet_workflow import droplet_wf\n",
    "from example_workflow import example_wf\n",
    "from aux_widgets import QueueWidget, NEWTAuthWidget, SSHAuthWidget, SSHTerminal, Space\n",
    "import workflow_objects as kale\n",
    "\n",
    "import ipywidgets as ipw\n",
    "import time\n",
    "from concurrent.futures import ThreadPoolExecutor\n",
    "import traitlets\n",
    "import networkx as nx\n",
    "import IPython.display as disp"
   ]
  },
  {
   "cell_type": "code",
   "execution_count": 3,
   "metadata": {
    "nbpresent": {
     "id": "192a9350-4f88-4acd-b4ce-d89c151a2672"
    },
    "scrolled": false
   },
   "outputs": [
    {
     "name": "stdout",
     "output_type": "stream",
     "text": [
      "2017-10-18 22:18:16,253 INFO Performing db tune-up\n",
      "2017-10-18 22:18:16,264 INFO LaunchPad was RESET.\n"
     ]
    },
    {
     "data": {
      "application/vnd.jupyter.widget-view+json": {
       "model_id": "cf2e0f68239a47d4b2802d8f6c6b30a0",
       "version_major": 2,
       "version_minor": 0
      },
      "text/html": [
       "<p>Failed to display Jupyter Widget of type <code>WorkerPoolWidget</code>.</p>\n",
       "<p>\n",
       "  If you're reading this message in Jupyter Notebook or JupyterLab, it may mean\n",
       "  that the widgets JavaScript is still loading. If this message persists, it\n",
       "  likely means that the widgets JavaScript library is either not installed or\n",
       "  not enabled. See the <a href=\"https://ipywidgets.readthedocs.io/en/stable/user_install.html\">Jupyter\n",
       "  Widgets Documentation</a> for setup instructions.\n",
       "</p>\n",
       "<p>\n",
       "  If you're reading this message in another notebook frontend (for example, a static\n",
       "  rendering on GitHub or <a href=\"https://nbviewer.jupyter.org/\">NBViewer</a>),\n",
       "  it may mean that your frontend doesn't currently support widgets.\n",
       "</p>\n"
      ],
      "text/plain": [
       "WorkerPoolWidget(children=(HTML(value='<h3>Worker Pools</h3>'), TableWidget(children=(RowWidget(children=(HBox(children=(HTML(value='<b>Name</b>'),), layout=Layout(justify_content='flex-start', width='150px')), HBox(children=(HTML(value='<b>Location</b>'),), layout=Layout(justify_content='flex-start', width='200px')), HBox(children=(HTML(value='<b>Workers</b>'),), layout=Layout(justify_content='flex-start', width='60px')), HBox(children=(HTML(value='<b>Action</b>'),), layout=Layout(justify_content='flex-start', width='100px'))), layout=Layout(justify_content='space-between', width='510px')), RowWidget(children=(HBox(children=(HTML(value='default'),), layout=Layout(justify_content='flex-start', width='150px')), HBox(children=(HTML(value='localhost'),), layout=Layout(justify_content='flex-start', width='200px')), HBox(children=(HTML(value='16'),), layout=Layout(justify_content='flex-start', width='60px')), HBox(children=(Button(button_style='danger', description='Remove', style=ButtonStyle()),), layout=Layout(justify_content='flex-start', width='100px'))), layout=Layout(justify_content='space-between', width='510px')), RowWidget(children=(HBox(children=(Text(value='', layout=Layout(width='148px')),), layout=Layout(justify_content='flex-start', width='150px')), HBox(children=(Dropdown(layout=Layout(width='198px'), options=('localhost',), value='localhost'),), layout=Layout(justify_content='flex-start', width='200px')), HBox(children=(IntText(value=1, layout=Layout(width='58px')),), layout=Layout(justify_content='flex-start', width='60px')), HBox(children=(Button(button_style='success', icon='plus', style=ButtonStyle()),), layout=Layout(justify_content='flex-start', width='100px'))), layout=Layout(justify_content='space-between', width='510px'))), layout=Layout(width='510px')), HTML(value='\\n        <div class=\"alert alert-success\" style=\"width: 510px\">\\n        WorkerPool \\'default\\' created.\\n        </div>\\n        ')))"
      ]
     },
     "metadata": {},
     "output_type": "display_data"
    }
   ],
   "source": [
    "wpw = WorkerPoolWidget()\n",
    "wpw"
   ]
  },
  {
   "cell_type": "markdown",
   "metadata": {
    "nbpresent": {
     "id": "5775e307-7e1e-43d5-9387-07d40fe7e0e5"
    }
   },
   "source": [
    "# Define simple workflow"
   ]
  },
  {
   "cell_type": "code",
   "execution_count": 4,
   "metadata": {
    "collapsed": true
   },
   "outputs": [],
   "source": [
    "d1 = nx.DiGraph(\n",
    "    [[0,4],\n",
    "     [1,4],\n",
    "     [2,5],\n",
    "     [2,6],\n",
    "     [3,6],\n",
    "     [3,7],\n",
    "     [4,8],\n",
    "     [4,9],\n",
    "     [5,10],\n",
    "     [6,11],\n",
    "     [7,11]\n",
    "    ]\n",
    ")"
   ]
  },
  {
   "cell_type": "code",
   "execution_count": 5,
   "metadata": {},
   "outputs": [
    {
     "data": {
      "image/png": "[encoded data removed]",
      "text/plain": [
       "<matplotlib.figure.Figure at 0x2aaac619da90>"
      ]
     },
     "metadata": {},
     "output_type": "display_data"
    }
   ],
   "source": [
    "pos = nx.nx_pydot.graphviz_layout(d1, prog='dot')\n",
    "nx.draw_networkx(d1, pos)"
   ]
  },
  {
   "cell_type": "code",
   "execution_count": 10,
   "metadata": {
    "scrolled": false
   },
   "outputs": [
    {
     "data": {
      "application/vnd.jupyter.widget-view+json": {
       "model_id": "9975b6844bfd480c86ffe60197dfde4e",
       "version_major": 2,
       "version_minor": 0
      },
      "text/html": [
       "<p>Failed to display Jupyter Widget of type <code>WorkflowWidget</code>.</p>\n",
       "<p>\n",
       "  If you're reading this message in Jupyter Notebook or JupyterLab, it may mean\n",
       "  that the widgets JavaScript is still loading. If this message persists, it\n",
       "  likely means that the widgets JavaScript library is either not installed or\n",
       "  not enabled. See the <a href=\"https://ipywidgets.readthedocs.io/en/stable/user_install.html\">Jupyter\n",
       "  Widgets Documentation</a> for setup instructions.\n",
       "</p>\n",
       "<p>\n",
       "  If you're reading this message in another notebook frontend (for example, a static\n",
       "  rendering on GitHub or <a href=\"https://nbviewer.jupyter.org/\">NBViewer</a>),\n",
       "  it may mean that your frontend doesn't currently support widgets.\n",
       "</p>\n"
      ],
      "text/plain": [
       "WorkflowWidget(children=(VBox(children=(Figure(fig_margin={'left': 10, 'right': 10, 'bottom': 10, 'top': 10}, layout=Layout(height='600px', width='400px'), marks=[Graph(colors=['#1f77b4', '#ff7f0e', '#2ca02c', '#d62728', '#9467bd', '#8c564b', '#e377c2', '#7f7f7f', '#bcbd22', '#17becf'], highlight_links=False, interactions={'hover': 'tooltip', 'click': 'select'}, link_data=[{'source': 0, 'target': 4}, {'source': 1, 'target': 4}, {'source': 2, 'target': 5}, {'source': 2, 'target': 6}, {'source': 3, 'target': 6}, {'source': 3, 'target': 7}, {'source': 4, 'target': 8}, {'source': 4, 'target': 9}, {'source': 5, 'target': 10}, {'source': 6, 'target': 11}, {'source': 7, 'target': 11}], link_type='line', node_data=[{'label': '0', 'shape': 'rect', 'name': '0', 'task_type': 'CommandLineTask', 'tags': [], 'input_files': [], 'output_files': [], 'num_cores': 1, 'command': 'echo 0'}, {'label': '1', 'shape': 'rect', 'name': '1', 'task_type': 'CommandLineTask', 'tags': [], 'input_files': [], 'output_files': [], 'num_cores': 1, 'command': 'echo 1'}, {'label': '2', 'shape': 'rect', 'name': '2', 'task_type': 'CommandLineTask', 'tags': [], 'input_files': [], 'output_files': [], 'num_cores': 1, 'command': 'echo 2'}, {'label': '3', 'shape': 'rect', 'name': '3', 'task_type': 'CommandLineTask', 'tags': [], 'input_files': [], 'output_files': [], 'num_cores': 1, 'command': 'echo 3'}, {'label': '4', 'shape': 'rect', 'name': '4', 'task_type': 'CommandLineTask', 'tags': [], 'input_files': [], 'output_files': [], 'num_cores': 1, 'command': 'echo 4'}, {'label': '5', 'shape': 'rect', 'name': '5', 'task_type': 'CommandLineTask', 'tags': [], 'input_files': [], 'output_files': [], 'num_cores': 1, 'command': 'echo 5'}, {'label': '6', 'shape': 'rect', 'name': '6', 'task_type': 'CommandLineTask', 'tags': [], 'input_files': [], 'output_files': [], 'num_cores': 1, 'command': 'echo 6'}, {'label': '7', 'shape': 'rect', 'name': '7', 'task_type': 'CommandLineTask', 'tags': [], 'input_files': [], 'output_files': [], 'num_cores': 1, 'command': 'echo 7'}, {'label': '8', 'shape': 'rect', 'name': '8', 'task_type': 'CommandLineTask', 'tags': [], 'input_files': [], 'output_files': [], 'num_cores': 1, 'command': 'echo 8'}, {'label': '9', 'shape': 'rect', 'name': '9', 'task_type': 'CommandLineTask', 'tags': [], 'input_files': [], 'output_files': [], 'num_cores': 1, 'command': 'echo 9'}, {'label': '10', 'shape': 'rect', 'name': '10', 'task_type': 'CommandLineTask', 'tags': [], 'input_files': [], 'output_files': [], 'num_cores': 1, 'command': 'echo 10'}, {'label': '11', 'shape': 'rect', 'name': '11', 'task_type': 'CommandLineTask', 'tags': [], 'input_files': [], 'output_files': [], 'num_cores': 1, 'command': 'echo 11'}], scales={'x': LinearScale(), 'y': LinearScale()}, scales_metadata={'x': {'orientation': 'horizontal', 'dimension': 'x'}, 'y': {'orientation': 'vertical', 'dimension': 'y'}, 'color': {'dimension': 'color'}, 'link_color': {'dimension': 'link_color'}}, selected=[0], selected_style={'stroke': 'red'}, tooltip_style={'opacity': 0.9}, x=array([  336.,   890.,  1721.,  2414.,   336.,  1548.,  2102.,  2657.,\n",
       "         267.,   820.,  1548.,  2381.]), y=array([ 162.,  162.,  162.,  162.,   90.,   90.,   90.,   90.,   18.,\n",
       "         18.,   18.,   18.]))], min_aspect_ratio=0.0, scale_x=LinearScale(allow_padding=False, max=1.0, min=0.0), scale_y=LinearScale(allow_padding=False, max=1.0, min=0.0)), Toolbar(figure=Figure(fig_margin={'left': 10, 'right': 10, 'bottom': 10, 'top': 10}, layout=Layout(height='600px', width='400px'), marks=[Graph(colors=['#1f77b4', '#ff7f0e', '#2ca02c', '#d62728', '#9467bd', '#8c564b', '#e377c2', '#7f7f7f', '#bcbd22', '#17becf'], highlight_links=False, interactions={'hover': 'tooltip', 'click': 'select'}, link_data=[{'source': 0, 'target': 4}, {'source': 1, 'target': 4}, {'source': 2, 'target': 5}, {'source': 2, 'target': 6}, {'source': 3, 'target': 6}, {'source': 3, 'target': 7}, {'source': 4, 'target': 8}, {'source': 4, 'target': 9}, {'source': 5, 'target': 10}, {'source': 6, 'target': 11}, {'source': 7, 'target': 11}], link_type='line', node_data=[{'label': '0', 'shape': 'rect', 'name': '0', 'task_type': 'CommandLineTask', 'tags': [], 'input_files': [], 'output_files': [], 'num_cores': 1, 'command': 'echo 0'}, {'label': '1', 'shape': 'rect', 'name': '1', 'task_type': 'CommandLineTask', 'tags': [], 'input_files': [], 'output_files': [], 'num_cores': 1, 'command': 'echo 1'}, {'label': '2', 'shape': 'rect', 'name': '2', 'task_type': 'CommandLineTask', 'tags': [], 'input_files': [], 'output_files': [], 'num_cores': 1, 'command': 'echo 2'}, {'label': '3', 'shape': 'rect', 'name': '3', 'task_type': 'CommandLineTask', 'tags': [], 'input_files': [], 'output_files': [], 'num_cores': 1, 'command': 'echo 3'}, {'label': '4', 'shape': 'rect', 'name': '4', 'task_type': 'CommandLineTask', 'tags': [], 'input_files': [], 'output_files': [], 'num_cores': 1, 'command': 'echo 4'}, {'label': '5', 'shape': 'rect', 'name': '5', 'task_type': 'CommandLineTask', 'tags': [], 'input_files': [], 'output_files': [], 'num_cores': 1, 'command': 'echo 5'}, {'label': '6', 'shape': 'rect', 'name': '6', 'task_type': 'CommandLineTask', 'tags': [], 'input_files': [], 'output_files': [], 'num_cores': 1, 'command': 'echo 6'}, {'label': '7', 'shape': 'rect', 'name': '7', 'task_type': 'CommandLineTask', 'tags': [], 'input_files': [], 'output_files': [], 'num_cores': 1, 'command': 'echo 7'}, {'label': '8', 'shape': 'rect', 'name': '8', 'task_type': 'CommandLineTask', 'tags': [], 'input_files': [], 'output_files': [], 'num_cores': 1, 'command': 'echo 8'}, {'label': '9', 'shape': 'rect', 'name': '9', 'task_type': 'CommandLineTask', 'tags': [], 'input_files': [], 'output_files': [], 'num_cores': 1, 'command': 'echo 9'}, {'label': '10', 'shape': 'rect', 'name': '10', 'task_type': 'CommandLineTask', 'tags': [], 'input_files': [], 'output_files': [], 'num_cores': 1, 'command': 'echo 10'}, {'label': '11', 'shape': 'rect', 'name': '11', 'task_type': 'CommandLineTask', 'tags': [], 'input_files': [], 'output_files': [], 'num_cores': 1, 'command': 'echo 11'}], scales={'x': LinearScale(), 'y': LinearScale()}, scales_metadata={'x': {'orientation': 'horizontal', 'dimension': 'x'}, 'y': {'orientation': 'vertical', 'dimension': 'y'}, 'color': {'dimension': 'color'}, 'link_color': {'dimension': 'link_color'}}, selected=[0], selected_style={'stroke': 'red'}, tooltip_style={'opacity': 0.9}, x=array([  336.,   890.,  1721.,  2414.,   336.,  1548.,  2102.,  2657.,\n",
       "         267.,   820.,  1548.,  2381.]), y=array([ 162.,  162.,  162.,  162.,   90.,   90.,   90.,   90.,   18.,\n",
       "         18.,   18.,   18.]))], min_aspect_ratio=0.0, scale_x=LinearScale(allow_padding=False, max=1.0, min=0.0), scale_y=LinearScale(allow_padding=False, max=1.0, min=0.0))))), Tab(children=(VBox(children=(HTML(value='<b>Workflow Description</b>'), EditHTML(children=(HTMLMath(value='', layout=Layout(border='1px lightgray solid', padding='10px')), Button(description='Edit Description', style=ButtonStyle()))), Box(layout=Layout(height='20px', width='0px')), HTML(value='<b>Worker Pools</b>'), VBox(children=(Dropdown(options=(('default', <workflow_objects.WorkerPool object at 0x2aaac5bf8e10>),), value=<workflow_objects.WorkerPool object at 0x2aaac5bf8e10>), Button(button_style='success', description='Run Workflow', style=ButtonStyle()))))), VBox(children=(HTML(value='<b>Task Description</b>'), EditHTML(children=(HTMLMath(value='None selected.', layout=Layout(border='1px lightgray solid', padding='10px')), Button(description='Edit Description', disabled=True, style=ButtonStyle()))), Box(layout=Layout(height='20px', width='0px')), HTML(value='<b>Task Metadata</b>'), HTML(value=''))), VBox(children=(HTML(value='<b>Tags</b>'), Select(options=(), value=None), HTML(value='<b>Actions</b>'), Text(value='', description='Tag name'), HBox(children=(VBox(children=(Button(description='Select All', style=ButtonStyle()), Button(description='Select None', style=ButtonStyle()), Button(description='Select Children', style=ButtonStyle()), Button(description='Select Parents', style=ButtonStyle()), Button(description='Tag to Selection', style=ButtonStyle()), Button(description='Selection to Tag', style=ButtonStyle()))), VBox(children=(Button(description='New Tag', style=ButtonStyle()), Button(description='Del Tag', style=ButtonStyle()))))))), VBox(children=(HTML(value='<b>Messages from WorkflowWidget:</b>'), Box(children=(Output(),), layout=Layout(border='1px lightgray solid', padding='10px')), Box(layout=Layout(height='10px', width='0px')), Button(description='Clear', style=ButtonStyle())))), layout=Layout(height='600px', width='400px'), _titles={'0': 'Workflow', '1': 'Task', '2': 'Tags', '3': 'Widget Log'})))"
      ]
     },
     "metadata": {},
     "output_type": "display_data"
    }
   ],
   "source": [
    "test_wf = kale.Workflow('test')\n",
    "test_wf.example_from_dag(d1)\n",
    "test_wfw = WorkflowWidget(test_wf, wpw)\n",
    "test_wfw"
   ]
  },
  {
   "cell_type": "markdown",
   "metadata": {
    "nbpresent": {
     "id": "36adf149-cdfe-4ba4-b129-35ff4ddddd58"
    }
   },
   "source": [
    "# Observe Output"
   ]
  },
  {
   "cell_type": "code",
   "execution_count": 7,
   "metadata": {
    "nbpresent": {
     "id": "60054662-6c57-44e6-b7b5-7606a1e9357a"
    },
    "scrolled": true
   },
   "outputs": [
    {
     "data": {
      "application/vnd.jupyter.widget-view+json": {
       "model_id": "ea975cc78fd94c1cb62b025096bafce8",
       "version_major": 2,
       "version_minor": 0
      },
      "text/html": [
       "<p>Failed to display Jupyter Widget of type <code>TailWidget</code>.</p>\n",
       "<p>\n",
       "  If you're reading this message in Jupyter Notebook or JupyterLab, it may mean\n",
       "  that the widgets JavaScript is still loading. If this message persists, it\n",
       "  likely means that the widgets JavaScript library is either not installed or\n",
       "  not enabled. See the <a href=\"https://ipywidgets.readthedocs.io/en/stable/user_install.html\">Jupyter\n",
       "  Widgets Documentation</a> for setup instructions.\n",
       "</p>\n",
       "<p>\n",
       "  If you're reading this message in another notebook frontend (for example, a static\n",
       "  rendering on GitHub or <a href=\"https://nbviewer.jupyter.org/\">NBViewer</a>),\n",
       "  it may mean that your frontend doesn't currently support widgets.\n",
       "</p>\n"
      ],
      "text/plain": [
       "TailWidget(children=(HTML(value='<b>File Tailer</b>'), VBox(children=(HBox(children=(Text(value='out.txt', description='File path'), Button(button_style='success', description='Start', style=ButtonStyle())), layout=Layout(width='478px')), HBox(children=(FloatText(value=1.0, description='dt', layout=Layout(width='150px')), IntText(value=20, description='# of lines', layout=Layout(width='150px'))), layout=Layout(width='478px')))), Box(layout=Layout(height='10px', width='0px')), Box(children=(HTML(value=''),), layout=Layout(border='1px lightgray solid', padding='10px', width='478px'))), layout=Layout(border='1px lightgray solid', padding='10px', width='500px'))"
      ]
     },
     "metadata": {},
     "output_type": "display_data"
    }
   ],
   "source": [
    "t = TailWidget('out.txt')\n",
    "t"
   ]
  },
  {
   "cell_type": "code",
   "execution_count": 8,
   "metadata": {},
   "outputs": [
    {
     "data": {
      "application/vnd.jupyter.widget-view+json": {
       "model_id": "e2235f32001b4e0586f0d46c33a367c6",
       "version_major": 2,
       "version_minor": 0
      },
      "text/html": [
       "<p>Failed to display Jupyter Widget of type <code>VBox</code>.</p>\n",
       "<p>\n",
       "  If you're reading this message in Jupyter Notebook or JupyterLab, it may mean\n",
       "  that the widgets JavaScript is still loading. If this message persists, it\n",
       "  likely means that the widgets JavaScript library is either not installed or\n",
       "  not enabled. See the <a href=\"https://ipywidgets.readthedocs.io/en/stable/user_install.html\">Jupyter\n",
       "  Widgets Documentation</a> for setup instructions.\n",
       "</p>\n",
       "<p>\n",
       "  If you're reading this message in another notebook frontend (for example, a static\n",
       "  rendering on GitHub or <a href=\"https://nbviewer.jupyter.org/\">NBViewer</a>),\n",
       "  it may mean that your frontend doesn't currently support widgets.\n",
       "</p>\n"
      ],
      "text/plain": [
       "VBox(children=(Button(description='test', style=ButtonStyle()), Button(description='123', style=ButtonStyle())))"
      ]
     },
     "metadata": {},
     "output_type": "display_data"
    }
   ],
   "source": [
    "b1 = ipw.Button(description=\"test\")\n",
    "b2 = ipw.Button(description=\"123\")\n",
    "ipw.VBox([b1,b2])"
   ]
  },
  {
   "cell_type": "code",
   "execution_count": 9,
   "metadata": {},
   "outputs": [
    {
     "ename": "SyntaxError",
     "evalue": "invalid syntax (<ipython-input-9-3f8e79ce2790>, line 1)",
     "output_type": "error",
     "traceback": [
      "\u001b[0;36m  File \u001b[0;32m\"<ipython-input-9-3f8e79ce2790>\"\u001b[0;36m, line \u001b[0;32m1\u001b[0m\n\u001b[0;31m    b2.\u001b[0m\n\u001b[0m       ^\u001b[0m\n\u001b[0;31mSyntaxError\u001b[0m\u001b[0;31m:\u001b[0m invalid syntax\n"
     ]
    }
   ],
   "source": [
    "b2."
   ]
  },
  {
   "cell_type": "markdown",
   "metadata": {},
   "source": [
    "# STOP HERE"
   ]
  },
  {
   "cell_type": "code",
   "execution_count": null,
   "metadata": {
    "collapsed": true,
    "nbpresent": {
     "id": "54d5496d-c0dd-44c0-bc73-9e4aa99bf0c3"
    },
    "scrolled": true
   },
   "outputs": [],
   "source": [
    "example_workflow = kale.Workflow(name='example')\n",
    "for i in range(50):\n",
    "    example_workflow.add_task(\n",
    "        kale.CommandLineTask(\n",
    "            name='stress_test_{num}',\n",
    "            command='stress --cpu 1 --timeout 30',\n",
    "            nodes_cores = 10,\n",
    "            node_property='node',\n",
    "            tags=['run'],\n",
    "            output_files=[\"{out_file}\"],\n",
    "            params=dict(\n",
    "                num=i,\n",
    "                out_file=\"output.txt\"\n",
    "            )\n",
    "        )\n",
    "    )"
   ]
  },
  {
   "cell_type": "code",
   "execution_count": null,
   "metadata": {
    "collapsed": true,
    "scrolled": false
   },
   "outputs": [],
   "source": [
    "ww1 = WorkflowWidget(example_workflow, wpw)\n",
    "ww1"
   ]
  },
  {
   "cell_type": "code",
   "execution_count": null,
   "metadata": {
    "collapsed": true
   },
   "outputs": [],
   "source": [
    "import os"
   ]
  },
  {
   "cell_type": "code",
   "execution_count": null,
   "metadata": {
    "collapsed": true
   },
   "outputs": [],
   "source": [
    "os.path.join('a','b','c')"
   ]
  },
  {
   "cell_type": "code",
   "execution_count": null,
   "metadata": {
    "collapsed": true
   },
   "outputs": [],
   "source": [
    "ww1._log_area"
   ]
  },
  {
   "cell_type": "code",
   "execution_count": null,
   "metadata": {
    "collapsed": true,
    "nbpresent": {
     "id": "b437faac-d3ba-4df4-97b7-a233981b9ab0"
    }
   },
   "outputs": [],
   "source": [
    "wfw.workflow.tag_dict"
   ]
  },
  {
   "cell_type": "code",
   "execution_count": null,
   "metadata": {
    "collapsed": true,
    "nbpresent": {
     "id": "34f5d70b-3473-40be-9571-8844af3a2068"
    }
   },
   "outputs": [],
   "source": [
    "wfw.workflow._new_tag('newtag')"
   ]
  },
  {
   "cell_type": "code",
   "execution_count": null,
   "metadata": {
    "collapsed": true,
    "nbpresent": {
     "id": "ab08480f-727e-4ae7-99ff-a8fbaa083882"
    }
   },
   "outputs": [],
   "source": [
    "wfw._update_tag_selector()"
   ]
  },
  {
   "cell_type": "markdown",
   "metadata": {
    "nbpresent": {
     "id": "8e27014c-2b51-4853-8cee-fa447fbfce9f"
    }
   },
   "source": [
    "# Connect to Cluster\n"
   ]
  },
  {
   "cell_type": "markdown",
   "metadata": {},
   "source": [
    "$\\sqrt{x}$"
   ]
  },
  {
   "cell_type": "code",
   "execution_count": null,
   "metadata": {
    "collapsed": true,
    "nbpresent": {
     "id": "73cfce9a-5bf7-4ef1-8275-527bacf15f12"
    },
    "scrolled": false
   },
   "outputs": [],
   "source": [
    "ssh = SSHAuthWidget(host='cori.nersc.gov', username='oevans')\n",
    "ssh"
   ]
  },
  {
   "cell_type": "code",
   "execution_count": null,
   "metadata": {
    "collapsed": true,
    "nbpresent": {
     "id": "6eccb508-6dcd-41ab-a263-c303aca4b9a0"
    },
    "scrolled": true
   },
   "outputs": [],
   "source": [
    "t = SSHTerminal(ssh, width=800)\n",
    "t"
   ]
  },
  {
   "cell_type": "markdown",
   "metadata": {
    "nbpresent": {
     "id": "7d098be9-3bda-4873-9389-1eeb9684a244"
    }
   },
   "source": [
    "# Create Worker Pool\n"
   ]
  },
  {
   "cell_type": "markdown",
   "metadata": {},
   "source": [
    "# Droplet Workflow"
   ]
  },
  {
   "cell_type": "code",
   "execution_count": 11,
   "metadata": {
    "nbpresent": {
     "id": "086179ea-3915-4b1a-9493-83cae5d3e317"
    },
    "scrolled": false
   },
   "outputs": [
    {
     "name": "stdout",
     "output_type": "stream",
     "text": [
      "2017-10-18 22:22:12,350 INFO Checking for FWs to run...\n",
      "2017-10-18 22:22:13,432 INFO Checking for FWs to run...\n",
      "2017-10-18 22:22:14,577 INFO Checking for FWs to run...\n",
      "FW Completed\n"
     ]
    },
    {
     "data": {
      "application/vnd.jupyter.widget-view+json": {
       "model_id": "4180fb18c3794379ad536597340b53d1",
       "version_major": 2,
       "version_minor": 0
      },
      "text/html": [
       "<p>Failed to display Jupyter Widget of type <code>WorkflowWidget</code>.</p>\n",
       "<p>\n",
       "  If you're reading this message in Jupyter Notebook or JupyterLab, it may mean\n",
       "  that the widgets JavaScript is still loading. If this message persists, it\n",
       "  likely means that the widgets JavaScript library is either not installed or\n",
       "  not enabled. See the <a href=\"https://ipywidgets.readthedocs.io/en/stable/user_install.html\">Jupyter\n",
       "  Widgets Documentation</a> for setup instructions.\n",
       "</p>\n",
       "<p>\n",
       "  If you're reading this message in another notebook frontend (for example, a static\n",
       "  rendering on GitHub or <a href=\"https://nbviewer.jupyter.org/\">NBViewer</a>),\n",
       "  it may mean that your frontend doesn't currently support widgets.\n",
       "</p>\n"
      ],
      "text/plain": [
       "WorkflowWidget(children=(VBox(children=(Figure(fig_margin={'left': 10, 'right': 10, 'bottom': 10, 'top': 10}, layout=Layout(height='600px', width='400px'), marks=[Graph(colors=['#1f77b4', '#ff7f0e', '#2ca02c', '#d62728', '#9467bd', '#8c564b', '#e377c2', '#7f7f7f', '#bcbd22', '#17becf'], highlight_links=False, interactions={'hover': 'tooltip', 'click': 'select'}, link_data=[{'source': 0, 'target': 2}, {'source': 0, 'target': 12}, {'source': 0, 'target': 22}, {'source': 0, 'target': 32}, {'source': 0, 'target': 42}, {'source': 0, 'target': 52}, {'source': 1, 'target': 2}, {'source': 2, 'target': 3}, {'source': 3, 'target': 4}, {'source': 3, 'target': 6}, {'source': 3, 'target': 8}, {'source': 4, 'target': 5}, {'source': 5, 'target': 10}, {'source': 6, 'target': 7}, {'source': 7, 'target': 10}, {'source': 8, 'target': 9}, {'source': 9, 'target': 10}, {'source': 10, 'target': 61}, {'source': 11, 'target': 12}, {'source': 12, 'target': 13}, {'source': 13, 'target': 14}, {'source': 13, 'target': 16}, {'source': 13, 'target': 18}, {'source': 14, 'target': 15}, {'source': 15, 'target': 20}, {'source': 16, 'target': 17}, {'source': 17, 'target': 20}, {'source': 18, 'target': 19}, {'source': 19, 'target': 20}, {'source': 20, 'target': 61}, {'source': 21, 'target': 22}, {'source': 22, 'target': 23}, {'source': 23, 'target': 24}, {'source': 23, 'target': 26}, {'source': 23, 'target': 28}, {'source': 24, 'target': 25}, {'source': 25, 'target': 30}, {'source': 26, 'target': 27}, {'source': 27, 'target': 30}, {'source': 28, 'target': 29}, {'source': 29, 'target': 30}, {'source': 30, 'target': 61}, {'source': 31, 'target': 32}, {'source': 32, 'target': 33}, {'source': 33, 'target': 34}, {'source': 33, 'target': 36}, {'source': 33, 'target': 38}, {'source': 34, 'target': 35}, {'source': 35, 'target': 40}, {'source': 36, 'target': 37}, {'source': 37, 'target': 40}, {'source': 38, 'target': 39}, {'source': 39, 'target': 40}, {'source': 40, 'target': 61}, {'source': 41, 'target': 42}, {'source': 42, 'target': 43}, {'source': 43, 'target': 44}, {'source': 43, 'target': 46}, {'source': 43, 'target': 48}, {'source': 44, 'target': 45}, {'source': 45, 'target': 50}, {'source': 46, 'target': 47}, {'source': 47, 'target': 50}, {'source': 48, 'target': 49}, {'source': 49, 'target': 50}, {'source': 50, 'target': 61}, {'source': 51, 'target': 52}, {'source': 52, 'target': 53}, {'source': 53, 'target': 54}, {'source': 53, 'target': 56}, {'source': 53, 'target': 58}, {'source': 54, 'target': 55}, {'source': 55, 'target': 60}, {'source': 56, 'target': 57}, {'source': 57, 'target': 60}, {'source': 58, 'target': 59}, {'source': 59, 'target': 60}, {'source': 60, 'target': 61}, {'source': 61, 'target': 62}], link_type='line', node_data=[{'label': '0', 'shape': 'rect', 'name': 'gen_mica_10x10', 'task_type': 'CommandLineTask', 'tags': ['gen_mica'], 'input_files': [], 'output_files': ['$SCRATCH/droplet/gen_droplet/lammps_data/mica_10x10.data'], 'num_cores': 1, 'command': '$SCRATCH/droplet/gen_droplet/scripts/gen_mica.sh 10 10 $SCRATCH/droplet/gen_droplet/lammps_data/mica_10x10.data'}, {'label': '1', 'shape': 'rect', 'name': 'gen_droplet-20A', 'task_type': 'CommandLineTask', 'tags': ['20A', 'gen_droplet'], 'input_files': [], 'output_files': ['$SCRATCH/droplet/gen_droplet/dump/droplet_20A.lammpstrj'], 'num_cores': 1, 'command': '$SCRATCH/droplet/gen_droplet/bin/waterdroplet_tip4p_new.out 20 sphere'}, {'label': '2', 'shape': 'rect', 'name': 'combine-20A', 'task_type': 'CommandLineTask', 'tags': ['20A', 'combine'], 'input_files': ['$SCRATCH/droplet/gen_droplet/lammps_data/mica_10x10.data', '$SCRATCH/droplet/gen_droplet/dump/droplet_20A.lammpstrj'], 'output_files': ['$SCRATCH/droplet/gen_droplet/lammps_data/droplet_on_mica-20A.data'], 'num_cores': 1, 'command': '$SCRATCH/droplet/gen_droplet/scripts/combine_sub_strip.pl $SCRATCH/droplet/gen_droplet/lammps_data/mica_10x10.data $SCRATCH/droplet/gen_droplet/dump/droplet_20A.lammpstrj 20'}, {'label': '3', 'shape': 'rect', 'name': 'simulate-20A', 'task_type': 'BatchTask', 'tags': ['20A', 'simulate'], 'input_files': ['$SCRATCH/droplet/gen_droplet/lammps_data/droplet_on_mica-20A.data', '$SCRATCH/droplet/lammps_scripts/simulate_20A.batch'], 'output_files': ['$SCRATCH/droplet/data/20A/atom1', '$SCRATCH/droplet/data/20A/atom2', '$SCRATCH/droplet/data/20A/atom3'], 'num_cores': 3, 'batch_script': '$SCRATCH/droplet/sub_scripts/simulate_20A.batch'}, {'label': '4', 'shape': 'rect', 'name': 'parse-20A_atom1', 'task_type': 'CommandLineTask', 'tags': ['20A', 'parse'], 'input_files': ['$SCRATCH/droplet/data/20A/atom1'], 'output_files': ['$SCRATCH/droplet/results/20A/waters.txt'], 'num_cores': 1, 'command': '$SCRATCH/droplet/exec/parse.sh $SCRATCH/droplet/data/20A/atom1 $SCRATCH/droplet/results/20A/waters.txt'}, {'label': '5', 'shape': 'rect', 'name': 'analyze-20A_atom1', 'task_type': 'CommandLineTask', 'tags': ['20A', 'analyze'], 'input_files': ['$SCRATCH/droplet/results/20A/waters.txt'], 'output_files': ['$SCRATCH/droplet/results/20A/calculated.txt'], 'num_cores': 1, 'command': '$SCRATCH/droplet/exec/analyze.sh $SCRATCH/droplet/results/20A/waters.txt $SCRATCH/droplet/results/20A/calculated.txt'}, {'label': '6', 'shape': 'rect', 'name': 'parse-20A_atom2', 'task_type': 'CommandLineTask', 'tags': ['20A', 'parse'], 'input_files': ['$SCRATCH/droplet/data/20A/atom2'], 'output_files': ['$SCRATCH/droplet/results/20A/waters.txt'], 'num_cores': 1, 'command': '$SCRATCH/droplet/exec/parse.sh $SCRATCH/droplet/data/20A/atom2 $SCRATCH/droplet/results/20A/waters.txt'}, {'label': '7', 'shape': 'rect', 'name': 'analyze-20A_atom2', 'task_type': 'CommandLineTask', 'tags': ['20A', 'analyze'], 'input_files': ['$SCRATCH/droplet/results/20A/waters.txt'], 'output_files': ['$SCRATCH/droplet/results/20A/calculated.txt'], 'num_cores': 1, 'command': '$SCRATCH/droplet/exec/analyze.sh $SCRATCH/droplet/results/20A/waters.txt $SCRATCH/droplet/results/20A/calculated.txt'}, {'label': '8', 'shape': 'rect', 'name': 'parse-20A_atom3', 'task_type': 'CommandLineTask', 'tags': ['20A', 'parse'], 'input_files': ['$SCRATCH/droplet/data/20A/atom3'], 'output_files': ['$SCRATCH/droplet/results/20A/waters.txt'], 'num_cores': 1, 'command': '$SCRATCH/droplet/exec/parse.sh $SCRATCH/droplet/data/20A/atom3 $SCRATCH/droplet/results/20A/waters.txt'}, {'label': '9', 'shape': 'rect', 'name': 'analyze-20A_atom3', 'task_type': 'CommandLineTask', 'tags': ['20A', 'analyze'], 'input_files': ['$SCRATCH/droplet/results/20A/waters.txt'], 'output_files': ['$SCRATCH/droplet/results/20A/calculated.txt'], 'num_cores': 1, 'command': '$SCRATCH/droplet/exec/analyze.sh $SCRATCH/droplet/results/20A/waters.txt $SCRATCH/droplet/results/20A/calculated.txt'}, {'label': '10', 'shape': 'rect', 'name': 'combine_parts-20A', 'task_type': 'CommandLineTask', 'tags': ['20A', 'combine_parts'], 'input_files': ['$SCRATCH/droplet/results/20A/atom1/calculated.txt', '$SCRATCH/droplet/results/20A/atom2/calculated.txt', '$SCRATCH/droplet/results/20A/atom3/calculated.txt'], 'output_files': ['$SCRATCH/droplet/results/20A/combined.txt'], 'num_cores': 1, 'command': '$SCRATCH/droplet/results/combineParts.sh 20A</h3>'}, {'label': '11', 'shape': 'rect', 'name': 'gen_droplet-30A', 'task_type': 'CommandLineTask', 'tags': ['30A', 'gen_droplet'], 'input_files': [], 'output_files': ['$SCRATCH/droplet/gen_droplet/dump/droplet_30A.lammpstrj'], 'num_cores': 1, 'command': '$SCRATCH/droplet/gen_droplet/bin/waterdroplet_tip4p_new.out 30 sphere'}, {'label': '12', 'shape': 'rect', 'name': 'combine-30A', 'task_type': 'CommandLineTask', 'tags': ['30A', 'combine'], 'input_files': ['$SCRATCH/droplet/gen_droplet/lammps_data/mica_10x10.data', '$SCRATCH/droplet/gen_droplet/dump/droplet_30A.lammpstrj'], 'output_files': ['$SCRATCH/droplet/gen_droplet/lammps_data/droplet_on_mica-30A.data'], 'num_cores': 1, 'command': '$SCRATCH/droplet/gen_droplet/scripts/combine_sub_strip.pl $SCRATCH/droplet/gen_droplet/lammps_data/mica_10x10.data $SCRATCH/droplet/gen_droplet/dump/droplet_30A.lammpstrj 30'}, {'label': '13', 'shape': 'rect', 'name': 'simulate-30A', 'task_type': 'BatchTask', 'tags': ['30A', 'simulate'], 'input_files': ['$SCRATCH/droplet/gen_droplet/lammps_data/droplet_on_mica-30A.data', '$SCRATCH/droplet/lammps_scripts/simulate_30A.batch'], 'output_files': ['$SCRATCH/droplet/data/30A/atom1', '$SCRATCH/droplet/data/30A/atom2', '$SCRATCH/droplet/data/30A/atom3'], 'num_cores': 3, 'batch_script': '$SCRATCH/droplet/sub_scripts/simulate_30A.batch'}, {'label': '14', 'shape': 'rect', 'name': 'parse-30A_atom1', 'task_type': 'CommandLineTask', 'tags': ['30A', 'parse'], 'input_files': ['$SCRATCH/droplet/data/30A/atom1'], 'output_files': ['$SCRATCH/droplet/results/30A/waters.txt'], 'num_cores': 1, 'command': '$SCRATCH/droplet/exec/parse.sh $SCRATCH/droplet/data/30A/atom1 $SCRATCH/droplet/results/30A/waters.txt'}, {'label': '15', 'shape': 'rect', 'name': 'analyze-30A_atom1', 'task_type': 'CommandLineTask', 'tags': ['analyze', '30A'], 'input_files': ['$SCRATCH/droplet/results/30A/waters.txt'], 'output_files': ['$SCRATCH/droplet/results/30A/calculated.txt'], 'num_cores': 1, 'command': '$SCRATCH/droplet/exec/analyze.sh $SCRATCH/droplet/results/30A/waters.txt $SCRATCH/droplet/results/30A/calculated.txt'}, {'label': '16', 'shape': 'rect', 'name': 'parse-30A_atom2', 'task_type': 'CommandLineTask', 'tags': ['30A', 'parse'], 'input_files': ['$SCRATCH/droplet/data/30A/atom2'], 'output_files': ['$SCRATCH/droplet/results/30A/waters.txt'], 'num_cores': 1, 'command': '$SCRATCH/droplet/exec/parse.sh $SCRATCH/droplet/data/30A/atom2 $SCRATCH/droplet/results/30A/waters.txt'}, {'label': '17', 'shape': 'rect', 'name': 'analyze-30A_atom2', 'task_type': 'CommandLineTask', 'tags': ['analyze', '30A'], 'input_files': ['$SCRATCH/droplet/results/30A/waters.txt'], 'output_files': ['$SCRATCH/droplet/results/30A/calculated.txt'], 'num_cores': 1, 'command': '$SCRATCH/droplet/exec/analyze.sh $SCRATCH/droplet/results/30A/waters.txt $SCRATCH/droplet/results/30A/calculated.txt'}, {'label': '18', 'shape': 'rect', 'name': 'parse-30A_atom3', 'task_type': 'CommandLineTask', 'tags': ['30A', 'parse'], 'input_files': ['$SCRATCH/droplet/data/30A/atom3'], 'output_files': ['$SCRATCH/droplet/results/30A/waters.txt'], 'num_cores': 1, 'command': '$SCRATCH/droplet/exec/parse.sh $SCRATCH/droplet/data/30A/atom3 $SCRATCH/droplet/results/30A/waters.txt'}, {'label': '19', 'shape': 'rect', 'name': 'analyze-30A_atom3', 'task_type': 'CommandLineTask', 'tags': ['analyze', '30A'], 'input_files': ['$SCRATCH/droplet/results/30A/waters.txt'], 'output_files': ['$SCRATCH/droplet/results/30A/calculated.txt'], 'num_cores': 1, 'command': '$SCRATCH/droplet/exec/analyze.sh $SCRATCH/droplet/results/30A/waters.txt $SCRATCH/droplet/results/30A/calculated.txt'}, {'label': '20', 'shape': 'rect', 'name': 'combine_parts-30A', 'task_type': 'CommandLineTask', 'tags': ['30A', 'combine_parts'], 'input_files': ['$SCRATCH/droplet/results/30A/atom1/calculated.txt', '$SCRATCH/droplet/results/30A/atom2/calculated.txt', '$SCRATCH/droplet/results/30A/atom3/calculated.txt'], 'output_files': ['$SCRATCH/droplet/results/30A/combined.txt'], 'num_cores': 1, 'command': '$SCRATCH/droplet/results/combineParts.sh 30A</h3>'}, {'label': '21', 'shape': 'rect', 'name': 'gen_droplet-40A', 'task_type': 'CommandLineTask', 'tags': ['gen_droplet', '40A'], 'input_files': [], 'output_files': ['$SCRATCH/droplet/gen_droplet/dump/droplet_40A.lammpstrj'], 'num_cores': 1, 'command': '$SCRATCH/droplet/gen_droplet/bin/waterdroplet_tip4p_new.out 40 sphere'}, {'label': '22', 'shape': 'rect', 'name': 'combine-40A', 'task_type': 'CommandLineTask', 'tags': ['combine', '40A'], 'input_files': ['$SCRATCH/droplet/gen_droplet/lammps_data/mica_10x10.data', '$SCRATCH/droplet/gen_droplet/dump/droplet_40A.lammpstrj'], 'output_files': ['$SCRATCH/droplet/gen_droplet/lammps_data/droplet_on_mica-40A.data'], 'num_cores': 1, 'command': '$SCRATCH/droplet/gen_droplet/scripts/combine_sub_strip.pl $SCRATCH/droplet/gen_droplet/lammps_data/mica_10x10.data $SCRATCH/droplet/gen_droplet/dump/droplet_40A.lammpstrj 40'}, {'label': '23', 'shape': 'rect', 'name': 'simulate-40A', 'task_type': 'BatchTask', 'tags': ['simulate', '40A'], 'input_files': ['$SCRATCH/droplet/gen_droplet/lammps_data/droplet_on_mica-40A.data', '$SCRATCH/droplet/lammps_scripts/simulate_40A.batch'], 'output_files': ['$SCRATCH/droplet/data/40A/atom1', '$SCRATCH/droplet/data/40A/atom2', '$SCRATCH/droplet/data/40A/atom3'], 'num_cores': 3, 'batch_script': '$SCRATCH/droplet/sub_scripts/simulate_40A.batch'}, {'label': '24', 'shape': 'rect', 'name': 'parse-40A_atom1', 'task_type': 'CommandLineTask', 'tags': ['parse', '40A'], 'input_files': ['$SCRATCH/droplet/data/40A/atom1'], 'output_files': ['$SCRATCH/droplet/results/40A/waters.txt'], 'num_cores': 1, 'command': '$SCRATCH/droplet/exec/parse.sh $SCRATCH/droplet/data/40A/atom1 $SCRATCH/droplet/results/40A/waters.txt'}, {'label': '25', 'shape': 'rect', 'name': 'analyze-40A_atom1', 'task_type': 'CommandLineTask', 'tags': ['analyze', '40A'], 'input_files': ['$SCRATCH/droplet/results/40A/waters.txt'], 'output_files': ['$SCRATCH/droplet/results/40A/calculated.txt'], 'num_cores': 1, 'command': '$SCRATCH/droplet/exec/analyze.sh $SCRATCH/droplet/results/40A/waters.txt $SCRATCH/droplet/results/40A/calculated.txt'}, {'label': '26', 'shape': 'rect', 'name': 'parse-40A_atom2', 'task_type': 'CommandLineTask', 'tags': ['parse', '40A'], 'input_files': ['$SCRATCH/droplet/data/40A/atom2'], 'output_files': ['$SCRATCH/droplet/results/40A/waters.txt'], 'num_cores': 1, 'command': '$SCRATCH/droplet/exec/parse.sh $SCRATCH/droplet/data/40A/atom2 $SCRATCH/droplet/results/40A/waters.txt'}, {'label': '27', 'shape': 'rect', 'name': 'analyze-40A_atom2', 'task_type': 'CommandLineTask', 'tags': ['analyze', '40A'], 'input_files': ['$SCRATCH/droplet/results/40A/waters.txt'], 'output_files': ['$SCRATCH/droplet/results/40A/calculated.txt'], 'num_cores': 1, 'command': '$SCRATCH/droplet/exec/analyze.sh $SCRATCH/droplet/results/40A/waters.txt $SCRATCH/droplet/results/40A/calculated.txt'}, {'label': '28', 'shape': 'rect', 'name': 'parse-40A_atom3', 'task_type': 'CommandLineTask', 'tags': ['parse', '40A'], 'input_files': ['$SCRATCH/droplet/data/40A/atom3'], 'output_files': ['$SCRATCH/droplet/results/40A/waters.txt'], 'num_cores': 1, 'command': '$SCRATCH/droplet/exec/parse.sh $SCRATCH/droplet/data/40A/atom3 $SCRATCH/droplet/results/40A/waters.txt'}, {'label': '29', 'shape': 'rect', 'name': 'analyze-40A_atom3', 'task_type': 'CommandLineTask', 'tags': ['analyze', '40A'], 'input_files': ['$SCRATCH/droplet/results/40A/waters.txt'], 'output_files': ['$SCRATCH/droplet/results/40A/calculated.txt'], 'num_cores': 1, 'command': '$SCRATCH/droplet/exec/analyze.sh $SCRATCH/droplet/results/40A/waters.txt $SCRATCH/droplet/results/40A/calculated.txt'}, {'label': '30', 'shape': 'rect', 'name': 'combine_parts-40A', 'task_type': 'CommandLineTask', 'tags': ['combine_parts', '40A'], 'input_files': ['$SCRATCH/droplet/results/40A/atom1/calculated.txt', '$SCRATCH/droplet/results/40A/atom2/calculated.txt', '$SCRATCH/droplet/results/40A/atom3/calculated.txt'], 'output_files': ['$SCRATCH/droplet/results/40A/combined.txt'], 'num_cores': 1, 'command': '$SCRATCH/droplet/results/combineParts.sh 40A</h3>'}, {'label': '31', 'shape': 'rect', 'name': 'gen_droplet-50A', 'task_type': 'CommandLineTask', 'tags': ['gen_droplet', '50A'], 'input_files': [], 'output_files': ['$SCRATCH/droplet/gen_droplet/dump/droplet_50A.lammpstrj'], 'num_cores': 1, 'command': '$SCRATCH/droplet/gen_droplet/bin/waterdroplet_tip4p_new.out 50 sphere'}, {'label': '32', 'shape': 'rect', 'name': 'combine-50A', 'task_type': 'CommandLineTask', 'tags': ['combine', '50A'], 'input_files': ['$SCRATCH/droplet/gen_droplet/lammps_data/mica_10x10.data', '$SCRATCH/droplet/gen_droplet/dump/droplet_50A.lammpstrj'], 'output_files': ['$SCRATCH/droplet/gen_droplet/lammps_data/droplet_on_mica-50A.data'], 'num_cores': 1, 'command': '$SCRATCH/droplet/gen_droplet/scripts/combine_sub_strip.pl $SCRATCH/droplet/gen_droplet/lammps_data/mica_10x10.data $SCRATCH/droplet/gen_droplet/dump/droplet_50A.lammpstrj 50'}, {'label': '33', 'shape': 'rect', 'name': 'simulate-50A', 'task_type': 'BatchTask', 'tags': ['simulate', '50A'], 'input_files': ['$SCRATCH/droplet/gen_droplet/lammps_data/droplet_on_mica-50A.data', '$SCRATCH/droplet/lammps_scripts/simulate_50A.batch'], 'output_files': ['$SCRATCH/droplet/data/50A/atom1', '$SCRATCH/droplet/data/50A/atom2', '$SCRATCH/droplet/data/50A/atom3'], 'num_cores': 3, 'batch_script': '$SCRATCH/droplet/sub_scripts/simulate_50A.batch'}, {'label': '34', 'shape': 'rect', 'name': 'parse-50A_atom1', 'task_type': 'CommandLineTask', 'tags': ['parse', '50A'], 'input_files': ['$SCRATCH/droplet/data/50A/atom1'], 'output_files': ['$SCRATCH/droplet/results/50A/waters.txt'], 'num_cores': 1, 'command': '$SCRATCH/droplet/exec/parse.sh $SCRATCH/droplet/data/50A/atom1 $SCRATCH/droplet/results/50A/waters.txt'}, {'label': '35', 'shape': 'rect', 'name': 'analyze-50A_atom1', 'task_type': 'CommandLineTask', 'tags': ['analyze', '50A'], 'input_files': ['$SCRATCH/droplet/results/50A/waters.txt'], 'output_files': ['$SCRATCH/droplet/results/50A/calculated.txt'], 'num_cores': 1, 'command': '$SCRATCH/droplet/exec/analyze.sh $SCRATCH/droplet/results/50A/waters.txt $SCRATCH/droplet/results/50A/calculated.txt'}, {'label': '36', 'shape': 'rect', 'name': 'parse-50A_atom2', 'task_type': 'CommandLineTask', 'tags': ['parse', '50A'], 'input_files': ['$SCRATCH/droplet/data/50A/atom2'], 'output_files': ['$SCRATCH/droplet/results/50A/waters.txt'], 'num_cores': 1, 'command': '$SCRATCH/droplet/exec/parse.sh $SCRATCH/droplet/data/50A/atom2 $SCRATCH/droplet/results/50A/waters.txt'}, {'label': '37', 'shape': 'rect', 'name': 'analyze-50A_atom2', 'task_type': 'CommandLineTask', 'tags': ['analyze', '50A'], 'input_files': ['$SCRATCH/droplet/results/50A/waters.txt'], 'output_files': ['$SCRATCH/droplet/results/50A/calculated.txt'], 'num_cores': 1, 'command': '$SCRATCH/droplet/exec/analyze.sh $SCRATCH/droplet/results/50A/waters.txt $SCRATCH/droplet/results/50A/calculated.txt'}, {'label': '38', 'shape': 'rect', 'name': 'parse-50A_atom3', 'task_type': 'CommandLineTask', 'tags': ['parse', '50A'], 'input_files': ['$SCRATCH/droplet/data/50A/atom3'], 'output_files': ['$SCRATCH/droplet/results/50A/waters.txt'], 'num_cores': 1, 'command': '$SCRATCH/droplet/exec/parse.sh $SCRATCH/droplet/data/50A/atom3 $SCRATCH/droplet/results/50A/waters.txt'}, {'label': '39', 'shape': 'rect', 'name': 'analyze-50A_atom3', 'task_type': 'CommandLineTask', 'tags': ['analyze', '50A'], 'input_files': ['$SCRATCH/droplet/results/50A/waters.txt'], 'output_files': ['$SCRATCH/droplet/results/50A/calculated.txt'], 'num_cores': 1, 'command': '$SCRATCH/droplet/exec/analyze.sh $SCRATCH/droplet/results/50A/waters.txt $SCRATCH/droplet/results/50A/calculated.txt'}, {'label': '40', 'shape': 'rect', 'name': 'combine_parts-50A', 'task_type': 'CommandLineTask', 'tags': ['combine_parts', '50A'], 'input_files': ['$SCRATCH/droplet/results/50A/atom1/calculated.txt', '$SCRATCH/droplet/results/50A/atom2/calculated.txt', '$SCRATCH/droplet/results/50A/atom3/calculated.txt'], 'output_files': ['$SCRATCH/droplet/results/50A/combined.txt'], 'num_cores': 1, 'command': '$SCRATCH/droplet/results/combineParts.sh 50A</h3>'}, {'label': '41', 'shape': 'rect', 'name': 'gen_droplet-60A', 'task_type': 'CommandLineTask', 'tags': ['60A', 'gen_droplet'], 'input_files': [], 'output_files': ['$SCRATCH/droplet/gen_droplet/dump/droplet_60A.lammpstrj'], 'num_cores': 1, 'command': '$SCRATCH/droplet/gen_droplet/bin/waterdroplet_tip4p_new.out 60 sphere'}, {'label': '42', 'shape': 'rect', 'name': 'combine-60A', 'task_type': 'CommandLineTask', 'tags': ['60A', 'combine'], 'input_files': ['$SCRATCH/droplet/gen_droplet/lammps_data/mica_10x10.data', '$SCRATCH/droplet/gen_droplet/dump/droplet_60A.lammpstrj'], 'output_files': ['$SCRATCH/droplet/gen_droplet/lammps_data/droplet_on_mica-60A.data'], 'num_cores': 1, 'command': '$SCRATCH/droplet/gen_droplet/scripts/combine_sub_strip.pl $SCRATCH/droplet/gen_droplet/lammps_data/mica_10x10.data $SCRATCH/droplet/gen_droplet/dump/droplet_60A.lammpstrj 60'}, {'label': '43', 'shape': 'rect', 'name': 'simulate-60A', 'task_type': 'BatchTask', 'tags': ['60A', 'simulate'], 'input_files': ['$SCRATCH/droplet/gen_droplet/lammps_data/droplet_on_mica-60A.data', '$SCRATCH/droplet/lammps_scripts/simulate_60A.batch'], 'output_files': ['$SCRATCH/droplet/data/60A/atom1', '$SCRATCH/droplet/data/60A/atom2', '$SCRATCH/droplet/data/60A/atom3'], 'num_cores': 3, 'batch_script': '$SCRATCH/droplet/sub_scripts/simulate_60A.batch'}, {'label': '44', 'shape': 'rect', 'name': 'parse-60A_atom1', 'task_type': 'CommandLineTask', 'tags': ['60A', 'parse'], 'input_files': ['$SCRATCH/droplet/data/60A/atom1'], 'output_files': ['$SCRATCH/droplet/results/60A/waters.txt'], 'num_cores': 1, 'command': '$SCRATCH/droplet/exec/parse.sh $SCRATCH/droplet/data/60A/atom1 $SCRATCH/droplet/results/60A/waters.txt'}, {'label': '45', 'shape': 'rect', 'name': 'analyze-60A_atom1', 'task_type': 'CommandLineTask', 'tags': ['60A', 'analyze'], 'input_files': ['$SCRATCH/droplet/results/60A/waters.txt'], 'output_files': ['$SCRATCH/droplet/results/60A/calculated.txt'], 'num_cores': 1, 'command': '$SCRATCH/droplet/exec/analyze.sh $SCRATCH/droplet/results/60A/waters.txt $SCRATCH/droplet/results/60A/calculated.txt'}, {'label': '46', 'shape': 'rect', 'name': 'parse-60A_atom2', 'task_type': 'CommandLineTask', 'tags': ['60A', 'parse'], 'input_files': ['$SCRATCH/droplet/data/60A/atom2'], 'output_files': ['$SCRATCH/droplet/results/60A/waters.txt'], 'num_cores': 1, 'command': '$SCRATCH/droplet/exec/parse.sh $SCRATCH/droplet/data/60A/atom2 $SCRATCH/droplet/results/60A/waters.txt'}, {'label': '47', 'shape': 'rect', 'name': 'analyze-60A_atom2', 'task_type': 'CommandLineTask', 'tags': ['60A', 'analyze'], 'input_files': ['$SCRATCH/droplet/results/60A/waters.txt'], 'output_files': ['$SCRATCH/droplet/results/60A/calculated.txt'], 'num_cores': 1, 'command': '$SCRATCH/droplet/exec/analyze.sh $SCRATCH/droplet/results/60A/waters.txt $SCRATCH/droplet/results/60A/calculated.txt'}, {'label': '48', 'shape': 'rect', 'name': 'parse-60A_atom3', 'task_type': 'CommandLineTask', 'tags': ['60A', 'parse'], 'input_files': ['$SCRATCH/droplet/data/60A/atom3'], 'output_files': ['$SCRATCH/droplet/results/60A/waters.txt'], 'num_cores': 1, 'command': '$SCRATCH/droplet/exec/parse.sh $SCRATCH/droplet/data/60A/atom3 $SCRATCH/droplet/results/60A/waters.txt'}, {'label': '49', 'shape': 'rect', 'name': 'analyze-60A_atom3', 'task_type': 'CommandLineTask', 'tags': ['60A', 'analyze'], 'input_files': ['$SCRATCH/droplet/results/60A/waters.txt'], 'output_files': ['$SCRATCH/droplet/results/60A/calculated.txt'], 'num_cores': 1, 'command': '$SCRATCH/droplet/exec/analyze.sh $SCRATCH/droplet/results/60A/waters.txt $SCRATCH/droplet/results/60A/calculated.txt'}, {'label': '50', 'shape': 'rect', 'name': 'combine_parts-60A', 'task_type': 'CommandLineTask', 'tags': ['60A', 'combine_parts'], 'input_files': ['$SCRATCH/droplet/results/60A/atom1/calculated.txt', '$SCRATCH/droplet/results/60A/atom2/calculated.txt', '$SCRATCH/droplet/results/60A/atom3/calculated.txt'], 'output_files': ['$SCRATCH/droplet/results/60A/combined.txt'], 'num_cores': 1, 'command': '$SCRATCH/droplet/results/combineParts.sh 60A</h3>'}, {'label': '51', 'shape': 'rect', 'name': 'gen_droplet-100A', 'task_type': 'CommandLineTask', 'tags': ['gen_droplet', '100A'], 'input_files': [], 'output_files': ['$SCRATCH/droplet/gen_droplet/dump/droplet_100A.lammpstrj'], 'num_cores': 1, 'command': '$SCRATCH/droplet/gen_droplet/bin/waterdroplet_tip4p_new.out 100 sphere'}, {'label': '52', 'shape': 'rect', 'name': 'combine-100A', 'task_type': 'CommandLineTask', 'tags': ['combine', '100A'], 'input_files': ['$SCRATCH/droplet/gen_droplet/lammps_data/mica_10x10.data', '$SCRATCH/droplet/gen_droplet/dump/droplet_100A.lammpstrj'], 'output_files': ['$SCRATCH/droplet/gen_droplet/lammps_data/droplet_on_mica-100A.data'], 'num_cores': 1, 'command': '$SCRATCH/droplet/gen_droplet/scripts/combine_sub_strip.pl $SCRATCH/droplet/gen_droplet/lammps_data/mica_10x10.data $SCRATCH/droplet/gen_droplet/dump/droplet_100A.lammpstrj 100'}, {'label': '53', 'shape': 'rect', 'name': 'simulate-100A', 'task_type': 'BatchTask', 'tags': ['simulate', '100A'], 'input_files': ['$SCRATCH/droplet/gen_droplet/lammps_data/droplet_on_mica-100A.data', '$SCRATCH/droplet/lammps_scripts/simulate_100A.batch'], 'output_files': ['$SCRATCH/droplet/data/100A/atom1', '$SCRATCH/droplet/data/100A/atom2', '$SCRATCH/droplet/data/100A/atom3'], 'num_cores': 3, 'batch_script': '$SCRATCH/droplet/sub_scripts/simulate_100A.batch'}, {'label': '54', 'shape': 'rect', 'name': 'parse-100A_atom1', 'task_type': 'CommandLineTask', 'tags': ['parse', '100A'], 'input_files': ['$SCRATCH/droplet/data/100A/atom1'], 'output_files': ['$SCRATCH/droplet/results/100A/waters.txt'], 'num_cores': 1, 'command': '$SCRATCH/droplet/exec/parse.sh $SCRATCH/droplet/data/100A/atom1 $SCRATCH/droplet/results/100A/waters.txt'}, {'label': '55', 'shape': 'rect', 'name': 'analyze-100A_atom1', 'task_type': 'CommandLineTask', 'tags': ['analyze', '100A'], 'input_files': ['$SCRATCH/droplet/results/100A/waters.txt'], 'output_files': ['$SCRATCH/droplet/results/100A/calculated.txt'], 'num_cores': 1, 'command': '$SCRATCH/droplet/exec/analyze.sh $SCRATCH/droplet/results/100A/waters.txt $SCRATCH/droplet/results/100A/calculated.txt'}, {'label': '56', 'shape': 'rect', 'name': 'parse-100A_atom2', 'task_type': 'CommandLineTask', 'tags': ['parse', '100A'], 'input_files': ['$SCRATCH/droplet/data/100A/atom2'], 'output_files': ['$SCRATCH/droplet/results/100A/waters.txt'], 'num_cores': 1, 'command': '$SCRATCH/droplet/exec/parse.sh $SCRATCH/droplet/data/100A/atom2 $SCRATCH/droplet/results/100A/waters.txt'}, {'label': '57', 'shape': 'rect', 'name': 'analyze-100A_atom2', 'task_type': 'CommandLineTask', 'tags': ['analyze', '100A'], 'input_files': ['$SCRATCH/droplet/results/100A/waters.txt'], 'output_files': ['$SCRATCH/droplet/results/100A/calculated.txt'], 'num_cores': 1, 'command': '$SCRATCH/droplet/exec/analyze.sh $SCRATCH/droplet/results/100A/waters.txt $SCRATCH/droplet/results/100A/calculated.txt'}, {'label': '58', 'shape': 'rect', 'name': 'parse-100A_atom3', 'task_type': 'CommandLineTask', 'tags': ['parse', '100A'], 'input_files': ['$SCRATCH/droplet/data/100A/atom3'], 'output_files': ['$SCRATCH/droplet/results/100A/waters.txt'], 'num_cores': 1, 'command': '$SCRATCH/droplet/exec/parse.sh $SCRATCH/droplet/data/100A/atom3 $SCRATCH/droplet/results/100A/waters.txt'}, {'label': '59', 'shape': 'rect', 'name': 'analyze-100A_atom3', 'task_type': 'CommandLineTask', 'tags': ['analyze', '100A'], 'input_files': ['$SCRATCH/droplet/results/100A/waters.txt'], 'output_files': ['$SCRATCH/droplet/results/100A/calculated.txt'], 'num_cores': 1, 'command': '$SCRATCH/droplet/exec/analyze.sh $SCRATCH/droplet/results/100A/waters.txt $SCRATCH/droplet/results/100A/calculated.txt'}, {'label': '60', 'shape': 'rect', 'name': 'combine_parts-100A', 'task_type': 'CommandLineTask', 'tags': ['combine_parts', '100A'], 'input_files': ['$SCRATCH/droplet/results/100A/atom1/calculated.txt', '$SCRATCH/droplet/results/100A/atom2/calculated.txt', '$SCRATCH/droplet/results/100A/atom3/calculated.txt'], 'output_files': ['$SCRATCH/droplet/results/100A/combined.txt'], 'num_cores': 1, 'command': '$SCRATCH/droplet/results/combineParts.sh 100A</h3>'}, {'label': '61', 'shape': 'rect', 'name': 'combine_sims', 'task_type': 'CommandLineTask', 'tags': ['combine_sims'], 'input_files': ['$SCRATCH/droplet/results/20A/combined.txt', '$SCRATCH/droplet/results/30A/combined.txt', '$SCRATCH/droplet/results/40A/combined.txt', '$SCRATCH/droplet/results/50A/combined.txt', '$SCRATCH/droplet/results/60A/combined.txt', '$SCRATCH/droplet/results/100A/combined.txt'], 'output_files': ['$SCRATCH/droplet/results/allResults.txt'], 'num_cores': 1, 'command': '$SCRATCH/droplet/results/combineSims.sh'}, {'label': '62', 'shape': 'rect', 'name': 'analysis_notebook', 'task_type': '', 'tags': ['analysis_notebook'], 'input_files': [], 'output_files': [], 'num_cores': 1, 'interactive': True}], scales={'x': LinearScale(), 'y': LinearScale()}, scales_metadata={'x': {'orientation': 'horizontal', 'dimension': 'x'}, 'y': {'orientation': 'vertical', 'dimension': 'y'}, 'color': {'dimension': 'color'}, 'link_color': {'dimension': 'link_color'}}, selected=[0], selected_style={'stroke': 'red'}, tooltip_style={'opacity': 0.9}, x=array([ 4780.,  1653.,  1653.,  1098.,   269.,   268.,   822.,   822.,\n",
       "        1375.,  1376.,  1099.,  3322.,  3322.,  2765.,  1931.,  1931.,\n",
       "        2487.,  2487.,  3043.,  3043.,  2765.,  4208.,  4208.,  4191.,\n",
       "        3600.,  3599.,  4156.,  4155.,  4711.,  4711.,  4433.,  5473.,\n",
       "        5473.,  5542.,  5265.,  5265.,  5819.,  5819.,  6374.,  6375.,\n",
       "        5542.,  6757.,  6757.,  7209.,  6931.,  6931.,  7487.,  7487.,\n",
       "        8043.,  8043.,  7209.,  7956.,  7956.,  8876.,  8599.,  8599.,\n",
       "        9153.,  9154.,  9709.,  9709.,  8876.,  4987.,  4987.]), y=array([ 522.,  522.,  450.,  378.,  306.,  234.,  306.,  234.,  306.,\n",
       "        234.,  162.,  522.,  450.,  378.,  306.,  234.,  306.,  234.,\n",
       "        306.,  234.,  162.,  522.,  450.,  378.,  306.,  234.,  306.,\n",
       "        234.,  306.,  234.,  162.,  522.,  450.,  378.,  306.,  234.,\n",
       "        306.,  234.,  306.,  234.,  162.,  522.,  450.,  378.,  306.,\n",
       "        234.,  306.,  234.,  306.,  234.,  162.,  522.,  450.,  378.,\n",
       "        306.,  234.,  306.,  234.,  306.,  234.,  162.,   90.,   18.]))], min_aspect_ratio=0.0, scale_x=LinearScale(allow_padding=False, max=1.0, min=0.0), scale_y=LinearScale(allow_padding=False, max=1.0, min=0.0)), Toolbar(figure=Figure(fig_margin={'left': 10, 'right': 10, 'bottom': 10, 'top': 10}, layout=Layout(height='600px', width='400px'), marks=[Graph(colors=['#1f77b4', '#ff7f0e', '#2ca02c', '#d62728', '#9467bd', '#8c564b', '#e377c2', '#7f7f7f', '#bcbd22', '#17becf'], highlight_links=False, interactions={'hover': 'tooltip', 'click': 'select'}, link_data=[{'source': 0, 'target': 2}, {'source': 0, 'target': 12}, {'source': 0, 'target': 22}, {'source': 0, 'target': 32}, {'source': 0, 'target': 42}, {'source': 0, 'target': 52}, {'source': 1, 'target': 2}, {'source': 2, 'target': 3}, {'source': 3, 'target': 4}, {'source': 3, 'target': 6}, {'source': 3, 'target': 8}, {'source': 4, 'target': 5}, {'source': 5, 'target': 10}, {'source': 6, 'target': 7}, {'source': 7, 'target': 10}, {'source': 8, 'target': 9}, {'source': 9, 'target': 10}, {'source': 10, 'target': 61}, {'source': 11, 'target': 12}, {'source': 12, 'target': 13}, {'source': 13, 'target': 14}, {'source': 13, 'target': 16}, {'source': 13, 'target': 18}, {'source': 14, 'target': 15}, {'source': 15, 'target': 20}, {'source': 16, 'target': 17}, {'source': 17, 'target': 20}, {'source': 18, 'target': 19}, {'source': 19, 'target': 20}, {'source': 20, 'target': 61}, {'source': 21, 'target': 22}, {'source': 22, 'target': 23}, {'source': 23, 'target': 24}, {'source': 23, 'target': 26}, {'source': 23, 'target': 28}, {'source': 24, 'target': 25}, {'source': 25, 'target': 30}, {'source': 26, 'target': 27}, {'source': 27, 'target': 30}, {'source': 28, 'target': 29}, {'source': 29, 'target': 30}, {'source': 30, 'target': 61}, {'source': 31, 'target': 32}, {'source': 32, 'target': 33}, {'source': 33, 'target': 34}, {'source': 33, 'target': 36}, {'source': 33, 'target': 38}, {'source': 34, 'target': 35}, {'source': 35, 'target': 40}, {'source': 36, 'target': 37}, {'source': 37, 'target': 40}, {'source': 38, 'target': 39}, {'source': 39, 'target': 40}, {'source': 40, 'target': 61}, {'source': 41, 'target': 42}, {'source': 42, 'target': 43}, {'source': 43, 'target': 44}, {'source': 43, 'target': 46}, {'source': 43, 'target': 48}, {'source': 44, 'target': 45}, {'source': 45, 'target': 50}, {'source': 46, 'target': 47}, {'source': 47, 'target': 50}, {'source': 48, 'target': 49}, {'source': 49, 'target': 50}, {'source': 50, 'target': 61}, {'source': 51, 'target': 52}, {'source': 52, 'target': 53}, {'source': 53, 'target': 54}, {'source': 53, 'target': 56}, {'source': 53, 'target': 58}, {'source': 54, 'target': 55}, {'source': 55, 'target': 60}, {'source': 56, 'target': 57}, {'source': 57, 'target': 60}, {'source': 58, 'target': 59}, {'source': 59, 'target': 60}, {'source': 60, 'target': 61}, {'source': 61, 'target': 62}], link_type='line', node_data=[{'label': '0', 'shape': 'rect', 'name': 'gen_mica_10x10', 'task_type': 'CommandLineTask', 'tags': ['gen_mica'], 'input_files': [], 'output_files': ['$SCRATCH/droplet/gen_droplet/lammps_data/mica_10x10.data'], 'num_cores': 1, 'command': '$SCRATCH/droplet/gen_droplet/scripts/gen_mica.sh 10 10 $SCRATCH/droplet/gen_droplet/lammps_data/mica_10x10.data'}, {'label': '1', 'shape': 'rect', 'name': 'gen_droplet-20A', 'task_type': 'CommandLineTask', 'tags': ['20A', 'gen_droplet'], 'input_files': [], 'output_files': ['$SCRATCH/droplet/gen_droplet/dump/droplet_20A.lammpstrj'], 'num_cores': 1, 'command': '$SCRATCH/droplet/gen_droplet/bin/waterdroplet_tip4p_new.out 20 sphere'}, {'label': '2', 'shape': 'rect', 'name': 'combine-20A', 'task_type': 'CommandLineTask', 'tags': ['20A', 'combine'], 'input_files': ['$SCRATCH/droplet/gen_droplet/lammps_data/mica_10x10.data', '$SCRATCH/droplet/gen_droplet/dump/droplet_20A.lammpstrj'], 'output_files': ['$SCRATCH/droplet/gen_droplet/lammps_data/droplet_on_mica-20A.data'], 'num_cores': 1, 'command': '$SCRATCH/droplet/gen_droplet/scripts/combine_sub_strip.pl $SCRATCH/droplet/gen_droplet/lammps_data/mica_10x10.data $SCRATCH/droplet/gen_droplet/dump/droplet_20A.lammpstrj 20'}, {'label': '3', 'shape': 'rect', 'name': 'simulate-20A', 'task_type': 'BatchTask', 'tags': ['20A', 'simulate'], 'input_files': ['$SCRATCH/droplet/gen_droplet/lammps_data/droplet_on_mica-20A.data', '$SCRATCH/droplet/lammps_scripts/simulate_20A.batch'], 'output_files': ['$SCRATCH/droplet/data/20A/atom1', '$SCRATCH/droplet/data/20A/atom2', '$SCRATCH/droplet/data/20A/atom3'], 'num_cores': 3, 'batch_script': '$SCRATCH/droplet/sub_scripts/simulate_20A.batch'}, {'label': '4', 'shape': 'rect', 'name': 'parse-20A_atom1', 'task_type': 'CommandLineTask', 'tags': ['20A', 'parse'], 'input_files': ['$SCRATCH/droplet/data/20A/atom1'], 'output_files': ['$SCRATCH/droplet/results/20A/waters.txt'], 'num_cores': 1, 'command': '$SCRATCH/droplet/exec/parse.sh $SCRATCH/droplet/data/20A/atom1 $SCRATCH/droplet/results/20A/waters.txt'}, {'label': '5', 'shape': 'rect', 'name': 'analyze-20A_atom1', 'task_type': 'CommandLineTask', 'tags': ['20A', 'analyze'], 'input_files': ['$SCRATCH/droplet/results/20A/waters.txt'], 'output_files': ['$SCRATCH/droplet/results/20A/calculated.txt'], 'num_cores': 1, 'command': '$SCRATCH/droplet/exec/analyze.sh $SCRATCH/droplet/results/20A/waters.txt $SCRATCH/droplet/results/20A/calculated.txt'}, {'label': '6', 'shape': 'rect', 'name': 'parse-20A_atom2', 'task_type': 'CommandLineTask', 'tags': ['20A', 'parse'], 'input_files': ['$SCRATCH/droplet/data/20A/atom2'], 'output_files': ['$SCRATCH/droplet/results/20A/waters.txt'], 'num_cores': 1, 'command': '$SCRATCH/droplet/exec/parse.sh $SCRATCH/droplet/data/20A/atom2 $SCRATCH/droplet/results/20A/waters.txt'}, {'label': '7', 'shape': 'rect', 'name': 'analyze-20A_atom2', 'task_type': 'CommandLineTask', 'tags': ['20A', 'analyze'], 'input_files': ['$SCRATCH/droplet/results/20A/waters.txt'], 'output_files': ['$SCRATCH/droplet/results/20A/calculated.txt'], 'num_cores': 1, 'command': '$SCRATCH/droplet/exec/analyze.sh $SCRATCH/droplet/results/20A/waters.txt $SCRATCH/droplet/results/20A/calculated.txt'}, {'label': '8', 'shape': 'rect', 'name': 'parse-20A_atom3', 'task_type': 'CommandLineTask', 'tags': ['20A', 'parse'], 'input_files': ['$SCRATCH/droplet/data/20A/atom3'], 'output_files': ['$SCRATCH/droplet/results/20A/waters.txt'], 'num_cores': 1, 'command': '$SCRATCH/droplet/exec/parse.sh $SCRATCH/droplet/data/20A/atom3 $SCRATCH/droplet/results/20A/waters.txt'}, {'label': '9', 'shape': 'rect', 'name': 'analyze-20A_atom3', 'task_type': 'CommandLineTask', 'tags': ['20A', 'analyze'], 'input_files': ['$SCRATCH/droplet/results/20A/waters.txt'], 'output_files': ['$SCRATCH/droplet/results/20A/calculated.txt'], 'num_cores': 1, 'command': '$SCRATCH/droplet/exec/analyze.sh $SCRATCH/droplet/results/20A/waters.txt $SCRATCH/droplet/results/20A/calculated.txt'}, {'label': '10', 'shape': 'rect', 'name': 'combine_parts-20A', 'task_type': 'CommandLineTask', 'tags': ['20A', 'combine_parts'], 'input_files': ['$SCRATCH/droplet/results/20A/atom1/calculated.txt', '$SCRATCH/droplet/results/20A/atom2/calculated.txt', '$SCRATCH/droplet/results/20A/atom3/calculated.txt'], 'output_files': ['$SCRATCH/droplet/results/20A/combined.txt'], 'num_cores': 1, 'command': '$SCRATCH/droplet/results/combineParts.sh 20A</h3>'}, {'label': '11', 'shape': 'rect', 'name': 'gen_droplet-30A', 'task_type': 'CommandLineTask', 'tags': ['30A', 'gen_droplet'], 'input_files': [], 'output_files': ['$SCRATCH/droplet/gen_droplet/dump/droplet_30A.lammpstrj'], 'num_cores': 1, 'command': '$SCRATCH/droplet/gen_droplet/bin/waterdroplet_tip4p_new.out 30 sphere'}, {'label': '12', 'shape': 'rect', 'name': 'combine-30A', 'task_type': 'CommandLineTask', 'tags': ['30A', 'combine'], 'input_files': ['$SCRATCH/droplet/gen_droplet/lammps_data/mica_10x10.data', '$SCRATCH/droplet/gen_droplet/dump/droplet_30A.lammpstrj'], 'output_files': ['$SCRATCH/droplet/gen_droplet/lammps_data/droplet_on_mica-30A.data'], 'num_cores': 1, 'command': '$SCRATCH/droplet/gen_droplet/scripts/combine_sub_strip.pl $SCRATCH/droplet/gen_droplet/lammps_data/mica_10x10.data $SCRATCH/droplet/gen_droplet/dump/droplet_30A.lammpstrj 30'}, {'label': '13', 'shape': 'rect', 'name': 'simulate-30A', 'task_type': 'BatchTask', 'tags': ['30A', 'simulate'], 'input_files': ['$SCRATCH/droplet/gen_droplet/lammps_data/droplet_on_mica-30A.data', '$SCRATCH/droplet/lammps_scripts/simulate_30A.batch'], 'output_files': ['$SCRATCH/droplet/data/30A/atom1', '$SCRATCH/droplet/data/30A/atom2', '$SCRATCH/droplet/data/30A/atom3'], 'num_cores': 3, 'batch_script': '$SCRATCH/droplet/sub_scripts/simulate_30A.batch'}, {'label': '14', 'shape': 'rect', 'name': 'parse-30A_atom1', 'task_type': 'CommandLineTask', 'tags': ['30A', 'parse'], 'input_files': ['$SCRATCH/droplet/data/30A/atom1'], 'output_files': ['$SCRATCH/droplet/results/30A/waters.txt'], 'num_cores': 1, 'command': '$SCRATCH/droplet/exec/parse.sh $SCRATCH/droplet/data/30A/atom1 $SCRATCH/droplet/results/30A/waters.txt'}, {'label': '15', 'shape': 'rect', 'name': 'analyze-30A_atom1', 'task_type': 'CommandLineTask', 'tags': ['analyze', '30A'], 'input_files': ['$SCRATCH/droplet/results/30A/waters.txt'], 'output_files': ['$SCRATCH/droplet/results/30A/calculated.txt'], 'num_cores': 1, 'command': '$SCRATCH/droplet/exec/analyze.sh $SCRATCH/droplet/results/30A/waters.txt $SCRATCH/droplet/results/30A/calculated.txt'}, {'label': '16', 'shape': 'rect', 'name': 'parse-30A_atom2', 'task_type': 'CommandLineTask', 'tags': ['30A', 'parse'], 'input_files': ['$SCRATCH/droplet/data/30A/atom2'], 'output_files': ['$SCRATCH/droplet/results/30A/waters.txt'], 'num_cores': 1, 'command': '$SCRATCH/droplet/exec/parse.sh $SCRATCH/droplet/data/30A/atom2 $SCRATCH/droplet/results/30A/waters.txt'}, {'label': '17', 'shape': 'rect', 'name': 'analyze-30A_atom2', 'task_type': 'CommandLineTask', 'tags': ['analyze', '30A'], 'input_files': ['$SCRATCH/droplet/results/30A/waters.txt'], 'output_files': ['$SCRATCH/droplet/results/30A/calculated.txt'], 'num_cores': 1, 'command': '$SCRATCH/droplet/exec/analyze.sh $SCRATCH/droplet/results/30A/waters.txt $SCRATCH/droplet/results/30A/calculated.txt'}, {'label': '18', 'shape': 'rect', 'name': 'parse-30A_atom3', 'task_type': 'CommandLineTask', 'tags': ['30A', 'parse'], 'input_files': ['$SCRATCH/droplet/data/30A/atom3'], 'output_files': ['$SCRATCH/droplet/results/30A/waters.txt'], 'num_cores': 1, 'command': '$SCRATCH/droplet/exec/parse.sh $SCRATCH/droplet/data/30A/atom3 $SCRATCH/droplet/results/30A/waters.txt'}, {'label': '19', 'shape': 'rect', 'name': 'analyze-30A_atom3', 'task_type': 'CommandLineTask', 'tags': ['analyze', '30A'], 'input_files': ['$SCRATCH/droplet/results/30A/waters.txt'], 'output_files': ['$SCRATCH/droplet/results/30A/calculated.txt'], 'num_cores': 1, 'command': '$SCRATCH/droplet/exec/analyze.sh $SCRATCH/droplet/results/30A/waters.txt $SCRATCH/droplet/results/30A/calculated.txt'}, {'label': '20', 'shape': 'rect', 'name': 'combine_parts-30A', 'task_type': 'CommandLineTask', 'tags': ['30A', 'combine_parts'], 'input_files': ['$SCRATCH/droplet/results/30A/atom1/calculated.txt', '$SCRATCH/droplet/results/30A/atom2/calculated.txt', '$SCRATCH/droplet/results/30A/atom3/calculated.txt'], 'output_files': ['$SCRATCH/droplet/results/30A/combined.txt'], 'num_cores': 1, 'command': '$SCRATCH/droplet/results/combineParts.sh 30A</h3>'}, {'label': '21', 'shape': 'rect', 'name': 'gen_droplet-40A', 'task_type': 'CommandLineTask', 'tags': ['gen_droplet', '40A'], 'input_files': [], 'output_files': ['$SCRATCH/droplet/gen_droplet/dump/droplet_40A.lammpstrj'], 'num_cores': 1, 'command': '$SCRATCH/droplet/gen_droplet/bin/waterdroplet_tip4p_new.out 40 sphere'}, {'label': '22', 'shape': 'rect', 'name': 'combine-40A', 'task_type': 'CommandLineTask', 'tags': ['combine', '40A'], 'input_files': ['$SCRATCH/droplet/gen_droplet/lammps_data/mica_10x10.data', '$SCRATCH/droplet/gen_droplet/dump/droplet_40A.lammpstrj'], 'output_files': ['$SCRATCH/droplet/gen_droplet/lammps_data/droplet_on_mica-40A.data'], 'num_cores': 1, 'command': '$SCRATCH/droplet/gen_droplet/scripts/combine_sub_strip.pl $SCRATCH/droplet/gen_droplet/lammps_data/mica_10x10.data $SCRATCH/droplet/gen_droplet/dump/droplet_40A.lammpstrj 40'}, {'label': '23', 'shape': 'rect', 'name': 'simulate-40A', 'task_type': 'BatchTask', 'tags': ['simulate', '40A'], 'input_files': ['$SCRATCH/droplet/gen_droplet/lammps_data/droplet_on_mica-40A.data', '$SCRATCH/droplet/lammps_scripts/simulate_40A.batch'], 'output_files': ['$SCRATCH/droplet/data/40A/atom1', '$SCRATCH/droplet/data/40A/atom2', '$SCRATCH/droplet/data/40A/atom3'], 'num_cores': 3, 'batch_script': '$SCRATCH/droplet/sub_scripts/simulate_40A.batch'}, {'label': '24', 'shape': 'rect', 'name': 'parse-40A_atom1', 'task_type': 'CommandLineTask', 'tags': ['parse', '40A'], 'input_files': ['$SCRATCH/droplet/data/40A/atom1'], 'output_files': ['$SCRATCH/droplet/results/40A/waters.txt'], 'num_cores': 1, 'command': '$SCRATCH/droplet/exec/parse.sh $SCRATCH/droplet/data/40A/atom1 $SCRATCH/droplet/results/40A/waters.txt'}, {'label': '25', 'shape': 'rect', 'name': 'analyze-40A_atom1', 'task_type': 'CommandLineTask', 'tags': ['analyze', '40A'], 'input_files': ['$SCRATCH/droplet/results/40A/waters.txt'], 'output_files': ['$SCRATCH/droplet/results/40A/calculated.txt'], 'num_cores': 1, 'command': '$SCRATCH/droplet/exec/analyze.sh $SCRATCH/droplet/results/40A/waters.txt $SCRATCH/droplet/results/40A/calculated.txt'}, {'label': '26', 'shape': 'rect', 'name': 'parse-40A_atom2', 'task_type': 'CommandLineTask', 'tags': ['parse', '40A'], 'input_files': ['$SCRATCH/droplet/data/40A/atom2'], 'output_files': ['$SCRATCH/droplet/results/40A/waters.txt'], 'num_cores': 1, 'command': '$SCRATCH/droplet/exec/parse.sh $SCRATCH/droplet/data/40A/atom2 $SCRATCH/droplet/results/40A/waters.txt'}, {'label': '27', 'shape': 'rect', 'name': 'analyze-40A_atom2', 'task_type': 'CommandLineTask', 'tags': ['analyze', '40A'], 'input_files': ['$SCRATCH/droplet/results/40A/waters.txt'], 'output_files': ['$SCRATCH/droplet/results/40A/calculated.txt'], 'num_cores': 1, 'command': '$SCRATCH/droplet/exec/analyze.sh $SCRATCH/droplet/results/40A/waters.txt $SCRATCH/droplet/results/40A/calculated.txt'}, {'label': '28', 'shape': 'rect', 'name': 'parse-40A_atom3', 'task_type': 'CommandLineTask', 'tags': ['parse', '40A'], 'input_files': ['$SCRATCH/droplet/data/40A/atom3'], 'output_files': ['$SCRATCH/droplet/results/40A/waters.txt'], 'num_cores': 1, 'command': '$SCRATCH/droplet/exec/parse.sh $SCRATCH/droplet/data/40A/atom3 $SCRATCH/droplet/results/40A/waters.txt'}, {'label': '29', 'shape': 'rect', 'name': 'analyze-40A_atom3', 'task_type': 'CommandLineTask', 'tags': ['analyze', '40A'], 'input_files': ['$SCRATCH/droplet/results/40A/waters.txt'], 'output_files': ['$SCRATCH/droplet/results/40A/calculated.txt'], 'num_cores': 1, 'command': '$SCRATCH/droplet/exec/analyze.sh $SCRATCH/droplet/results/40A/waters.txt $SCRATCH/droplet/results/40A/calculated.txt'}, {'label': '30', 'shape': 'rect', 'name': 'combine_parts-40A', 'task_type': 'CommandLineTask', 'tags': ['combine_parts', '40A'], 'input_files': ['$SCRATCH/droplet/results/40A/atom1/calculated.txt', '$SCRATCH/droplet/results/40A/atom2/calculated.txt', '$SCRATCH/droplet/results/40A/atom3/calculated.txt'], 'output_files': ['$SCRATCH/droplet/results/40A/combined.txt'], 'num_cores': 1, 'command': '$SCRATCH/droplet/results/combineParts.sh 40A</h3>'}, {'label': '31', 'shape': 'rect', 'name': 'gen_droplet-50A', 'task_type': 'CommandLineTask', 'tags': ['gen_droplet', '50A'], 'input_files': [], 'output_files': ['$SCRATCH/droplet/gen_droplet/dump/droplet_50A.lammpstrj'], 'num_cores': 1, 'command': '$SCRATCH/droplet/gen_droplet/bin/waterdroplet_tip4p_new.out 50 sphere'}, {'label': '32', 'shape': 'rect', 'name': 'combine-50A', 'task_type': 'CommandLineTask', 'tags': ['combine', '50A'], 'input_files': ['$SCRATCH/droplet/gen_droplet/lammps_data/mica_10x10.data', '$SCRATCH/droplet/gen_droplet/dump/droplet_50A.lammpstrj'], 'output_files': ['$SCRATCH/droplet/gen_droplet/lammps_data/droplet_on_mica-50A.data'], 'num_cores': 1, 'command': '$SCRATCH/droplet/gen_droplet/scripts/combine_sub_strip.pl $SCRATCH/droplet/gen_droplet/lammps_data/mica_10x10.data $SCRATCH/droplet/gen_droplet/dump/droplet_50A.lammpstrj 50'}, {'label': '33', 'shape': 'rect', 'name': 'simulate-50A', 'task_type': 'BatchTask', 'tags': ['simulate', '50A'], 'input_files': ['$SCRATCH/droplet/gen_droplet/lammps_data/droplet_on_mica-50A.data', '$SCRATCH/droplet/lammps_scripts/simulate_50A.batch'], 'output_files': ['$SCRATCH/droplet/data/50A/atom1', '$SCRATCH/droplet/data/50A/atom2', '$SCRATCH/droplet/data/50A/atom3'], 'num_cores': 3, 'batch_script': '$SCRATCH/droplet/sub_scripts/simulate_50A.batch'}, {'label': '34', 'shape': 'rect', 'name': 'parse-50A_atom1', 'task_type': 'CommandLineTask', 'tags': ['parse', '50A'], 'input_files': ['$SCRATCH/droplet/data/50A/atom1'], 'output_files': ['$SCRATCH/droplet/results/50A/waters.txt'], 'num_cores': 1, 'command': '$SCRATCH/droplet/exec/parse.sh $SCRATCH/droplet/data/50A/atom1 $SCRATCH/droplet/results/50A/waters.txt'}, {'label': '35', 'shape': 'rect', 'name': 'analyze-50A_atom1', 'task_type': 'CommandLineTask', 'tags': ['analyze', '50A'], 'input_files': ['$SCRATCH/droplet/results/50A/waters.txt'], 'output_files': ['$SCRATCH/droplet/results/50A/calculated.txt'], 'num_cores': 1, 'command': '$SCRATCH/droplet/exec/analyze.sh $SCRATCH/droplet/results/50A/waters.txt $SCRATCH/droplet/results/50A/calculated.txt'}, {'label': '36', 'shape': 'rect', 'name': 'parse-50A_atom2', 'task_type': 'CommandLineTask', 'tags': ['parse', '50A'], 'input_files': ['$SCRATCH/droplet/data/50A/atom2'], 'output_files': ['$SCRATCH/droplet/results/50A/waters.txt'], 'num_cores': 1, 'command': '$SCRATCH/droplet/exec/parse.sh $SCRATCH/droplet/data/50A/atom2 $SCRATCH/droplet/results/50A/waters.txt'}, {'label': '37', 'shape': 'rect', 'name': 'analyze-50A_atom2', 'task_type': 'CommandLineTask', 'tags': ['analyze', '50A'], 'input_files': ['$SCRATCH/droplet/results/50A/waters.txt'], 'output_files': ['$SCRATCH/droplet/results/50A/calculated.txt'], 'num_cores': 1, 'command': '$SCRATCH/droplet/exec/analyze.sh $SCRATCH/droplet/results/50A/waters.txt $SCRATCH/droplet/results/50A/calculated.txt'}, {'label': '38', 'shape': 'rect', 'name': 'parse-50A_atom3', 'task_type': 'CommandLineTask', 'tags': ['parse', '50A'], 'input_files': ['$SCRATCH/droplet/data/50A/atom3'], 'output_files': ['$SCRATCH/droplet/results/50A/waters.txt'], 'num_cores': 1, 'command': '$SCRATCH/droplet/exec/parse.sh $SCRATCH/droplet/data/50A/atom3 $SCRATCH/droplet/results/50A/waters.txt'}, {'label': '39', 'shape': 'rect', 'name': 'analyze-50A_atom3', 'task_type': 'CommandLineTask', 'tags': ['analyze', '50A'], 'input_files': ['$SCRATCH/droplet/results/50A/waters.txt'], 'output_files': ['$SCRATCH/droplet/results/50A/calculated.txt'], 'num_cores': 1, 'command': '$SCRATCH/droplet/exec/analyze.sh $SCRATCH/droplet/results/50A/waters.txt $SCRATCH/droplet/results/50A/calculated.txt'}, {'label': '40', 'shape': 'rect', 'name': 'combine_parts-50A', 'task_type': 'CommandLineTask', 'tags': ['combine_parts', '50A'], 'input_files': ['$SCRATCH/droplet/results/50A/atom1/calculated.txt', '$SCRATCH/droplet/results/50A/atom2/calculated.txt', '$SCRATCH/droplet/results/50A/atom3/calculated.txt'], 'output_files': ['$SCRATCH/droplet/results/50A/combined.txt'], 'num_cores': 1, 'command': '$SCRATCH/droplet/results/combineParts.sh 50A</h3>'}, {'label': '41', 'shape': 'rect', 'name': 'gen_droplet-60A', 'task_type': 'CommandLineTask', 'tags': ['60A', 'gen_droplet'], 'input_files': [], 'output_files': ['$SCRATCH/droplet/gen_droplet/dump/droplet_60A.lammpstrj'], 'num_cores': 1, 'command': '$SCRATCH/droplet/gen_droplet/bin/waterdroplet_tip4p_new.out 60 sphere'}, {'label': '42', 'shape': 'rect', 'name': 'combine-60A', 'task_type': 'CommandLineTask', 'tags': ['60A', 'combine'], 'input_files': ['$SCRATCH/droplet/gen_droplet/lammps_data/mica_10x10.data', '$SCRATCH/droplet/gen_droplet/dump/droplet_60A.lammpstrj'], 'output_files': ['$SCRATCH/droplet/gen_droplet/lammps_data/droplet_on_mica-60A.data'], 'num_cores': 1, 'command': '$SCRATCH/droplet/gen_droplet/scripts/combine_sub_strip.pl $SCRATCH/droplet/gen_droplet/lammps_data/mica_10x10.data $SCRATCH/droplet/gen_droplet/dump/droplet_60A.lammpstrj 60'}, {'label': '43', 'shape': 'rect', 'name': 'simulate-60A', 'task_type': 'BatchTask', 'tags': ['60A', 'simulate'], 'input_files': ['$SCRATCH/droplet/gen_droplet/lammps_data/droplet_on_mica-60A.data', '$SCRATCH/droplet/lammps_scripts/simulate_60A.batch'], 'output_files': ['$SCRATCH/droplet/data/60A/atom1', '$SCRATCH/droplet/data/60A/atom2', '$SCRATCH/droplet/data/60A/atom3'], 'num_cores': 3, 'batch_script': '$SCRATCH/droplet/sub_scripts/simulate_60A.batch'}, {'label': '44', 'shape': 'rect', 'name': 'parse-60A_atom1', 'task_type': 'CommandLineTask', 'tags': ['60A', 'parse'], 'input_files': ['$SCRATCH/droplet/data/60A/atom1'], 'output_files': ['$SCRATCH/droplet/results/60A/waters.txt'], 'num_cores': 1, 'command': '$SCRATCH/droplet/exec/parse.sh $SCRATCH/droplet/data/60A/atom1 $SCRATCH/droplet/results/60A/waters.txt'}, {'label': '45', 'shape': 'rect', 'name': 'analyze-60A_atom1', 'task_type': 'CommandLineTask', 'tags': ['60A', 'analyze'], 'input_files': ['$SCRATCH/droplet/results/60A/waters.txt'], 'output_files': ['$SCRATCH/droplet/results/60A/calculated.txt'], 'num_cores': 1, 'command': '$SCRATCH/droplet/exec/analyze.sh $SCRATCH/droplet/results/60A/waters.txt $SCRATCH/droplet/results/60A/calculated.txt'}, {'label': '46', 'shape': 'rect', 'name': 'parse-60A_atom2', 'task_type': 'CommandLineTask', 'tags': ['60A', 'parse'], 'input_files': ['$SCRATCH/droplet/data/60A/atom2'], 'output_files': ['$SCRATCH/droplet/results/60A/waters.txt'], 'num_cores': 1, 'command': '$SCRATCH/droplet/exec/parse.sh $SCRATCH/droplet/data/60A/atom2 $SCRATCH/droplet/results/60A/waters.txt'}, {'label': '47', 'shape': 'rect', 'name': 'analyze-60A_atom2', 'task_type': 'CommandLineTask', 'tags': ['60A', 'analyze'], 'input_files': ['$SCRATCH/droplet/results/60A/waters.txt'], 'output_files': ['$SCRATCH/droplet/results/60A/calculated.txt'], 'num_cores': 1, 'command': '$SCRATCH/droplet/exec/analyze.sh $SCRATCH/droplet/results/60A/waters.txt $SCRATCH/droplet/results/60A/calculated.txt'}, {'label': '48', 'shape': 'rect', 'name': 'parse-60A_atom3', 'task_type': 'CommandLineTask', 'tags': ['60A', 'parse'], 'input_files': ['$SCRATCH/droplet/data/60A/atom3'], 'output_files': ['$SCRATCH/droplet/results/60A/waters.txt'], 'num_cores': 1, 'command': '$SCRATCH/droplet/exec/parse.sh $SCRATCH/droplet/data/60A/atom3 $SCRATCH/droplet/results/60A/waters.txt'}, {'label': '49', 'shape': 'rect', 'name': 'analyze-60A_atom3', 'task_type': 'CommandLineTask', 'tags': ['60A', 'analyze'], 'input_files': ['$SCRATCH/droplet/results/60A/waters.txt'], 'output_files': ['$SCRATCH/droplet/results/60A/calculated.txt'], 'num_cores': 1, 'command': '$SCRATCH/droplet/exec/analyze.sh $SCRATCH/droplet/results/60A/waters.txt $SCRATCH/droplet/results/60A/calculated.txt'}, {'label': '50', 'shape': 'rect', 'name': 'combine_parts-60A', 'task_type': 'CommandLineTask', 'tags': ['60A', 'combine_parts'], 'input_files': ['$SCRATCH/droplet/results/60A/atom1/calculated.txt', '$SCRATCH/droplet/results/60A/atom2/calculated.txt', '$SCRATCH/droplet/results/60A/atom3/calculated.txt'], 'output_files': ['$SCRATCH/droplet/results/60A/combined.txt'], 'num_cores': 1, 'command': '$SCRATCH/droplet/results/combineParts.sh 60A</h3>'}, {'label': '51', 'shape': 'rect', 'name': 'gen_droplet-100A', 'task_type': 'CommandLineTask', 'tags': ['gen_droplet', '100A'], 'input_files': [], 'output_files': ['$SCRATCH/droplet/gen_droplet/dump/droplet_100A.lammpstrj'], 'num_cores': 1, 'command': '$SCRATCH/droplet/gen_droplet/bin/waterdroplet_tip4p_new.out 100 sphere'}, {'label': '52', 'shape': 'rect', 'name': 'combine-100A', 'task_type': 'CommandLineTask', 'tags': ['combine', '100A'], 'input_files': ['$SCRATCH/droplet/gen_droplet/lammps_data/mica_10x10.data', '$SCRATCH/droplet/gen_droplet/dump/droplet_100A.lammpstrj'], 'output_files': ['$SCRATCH/droplet/gen_droplet/lammps_data/droplet_on_mica-100A.data'], 'num_cores': 1, 'command': '$SCRATCH/droplet/gen_droplet/scripts/combine_sub_strip.pl $SCRATCH/droplet/gen_droplet/lammps_data/mica_10x10.data $SCRATCH/droplet/gen_droplet/dump/droplet_100A.lammpstrj 100'}, {'label': '53', 'shape': 'rect', 'name': 'simulate-100A', 'task_type': 'BatchTask', 'tags': ['simulate', '100A'], 'input_files': ['$SCRATCH/droplet/gen_droplet/lammps_data/droplet_on_mica-100A.data', '$SCRATCH/droplet/lammps_scripts/simulate_100A.batch'], 'output_files': ['$SCRATCH/droplet/data/100A/atom1', '$SCRATCH/droplet/data/100A/atom2', '$SCRATCH/droplet/data/100A/atom3'], 'num_cores': 3, 'batch_script': '$SCRATCH/droplet/sub_scripts/simulate_100A.batch'}, {'label': '54', 'shape': 'rect', 'name': 'parse-100A_atom1', 'task_type': 'CommandLineTask', 'tags': ['parse', '100A'], 'input_files': ['$SCRATCH/droplet/data/100A/atom1'], 'output_files': ['$SCRATCH/droplet/results/100A/waters.txt'], 'num_cores': 1, 'command': '$SCRATCH/droplet/exec/parse.sh $SCRATCH/droplet/data/100A/atom1 $SCRATCH/droplet/results/100A/waters.txt'}, {'label': '55', 'shape': 'rect', 'name': 'analyze-100A_atom1', 'task_type': 'CommandLineTask', 'tags': ['analyze', '100A'], 'input_files': ['$SCRATCH/droplet/results/100A/waters.txt'], 'output_files': ['$SCRATCH/droplet/results/100A/calculated.txt'], 'num_cores': 1, 'command': '$SCRATCH/droplet/exec/analyze.sh $SCRATCH/droplet/results/100A/waters.txt $SCRATCH/droplet/results/100A/calculated.txt'}, {'label': '56', 'shape': 'rect', 'name': 'parse-100A_atom2', 'task_type': 'CommandLineTask', 'tags': ['parse', '100A'], 'input_files': ['$SCRATCH/droplet/data/100A/atom2'], 'output_files': ['$SCRATCH/droplet/results/100A/waters.txt'], 'num_cores': 1, 'command': '$SCRATCH/droplet/exec/parse.sh $SCRATCH/droplet/data/100A/atom2 $SCRATCH/droplet/results/100A/waters.txt'}, {'label': '57', 'shape': 'rect', 'name': 'analyze-100A_atom2', 'task_type': 'CommandLineTask', 'tags': ['analyze', '100A'], 'input_files': ['$SCRATCH/droplet/results/100A/waters.txt'], 'output_files': ['$SCRATCH/droplet/results/100A/calculated.txt'], 'num_cores': 1, 'command': '$SCRATCH/droplet/exec/analyze.sh $SCRATCH/droplet/results/100A/waters.txt $SCRATCH/droplet/results/100A/calculated.txt'}, {'label': '58', 'shape': 'rect', 'name': 'parse-100A_atom3', 'task_type': 'CommandLineTask', 'tags': ['parse', '100A'], 'input_files': ['$SCRATCH/droplet/data/100A/atom3'], 'output_files': ['$SCRATCH/droplet/results/100A/waters.txt'], 'num_cores': 1, 'command': '$SCRATCH/droplet/exec/parse.sh $SCRATCH/droplet/data/100A/atom3 $SCRATCH/droplet/results/100A/waters.txt'}, {'label': '59', 'shape': 'rect', 'name': 'analyze-100A_atom3', 'task_type': 'CommandLineTask', 'tags': ['analyze', '100A'], 'input_files': ['$SCRATCH/droplet/results/100A/waters.txt'], 'output_files': ['$SCRATCH/droplet/results/100A/calculated.txt'], 'num_cores': 1, 'command': '$SCRATCH/droplet/exec/analyze.sh $SCRATCH/droplet/results/100A/waters.txt $SCRATCH/droplet/results/100A/calculated.txt'}, {'label': '60', 'shape': 'rect', 'name': 'combine_parts-100A', 'task_type': 'CommandLineTask', 'tags': ['combine_parts', '100A'], 'input_files': ['$SCRATCH/droplet/results/100A/atom1/calculated.txt', '$SCRATCH/droplet/results/100A/atom2/calculated.txt', '$SCRATCH/droplet/results/100A/atom3/calculated.txt'], 'output_files': ['$SCRATCH/droplet/results/100A/combined.txt'], 'num_cores': 1, 'command': '$SCRATCH/droplet/results/combineParts.sh 100A</h3>'}, {'label': '61', 'shape': 'rect', 'name': 'combine_sims', 'task_type': 'CommandLineTask', 'tags': ['combine_sims'], 'input_files': ['$SCRATCH/droplet/results/20A/combined.txt', '$SCRATCH/droplet/results/30A/combined.txt', '$SCRATCH/droplet/results/40A/combined.txt', '$SCRATCH/droplet/results/50A/combined.txt', '$SCRATCH/droplet/results/60A/combined.txt', '$SCRATCH/droplet/results/100A/combined.txt'], 'output_files': ['$SCRATCH/droplet/results/allResults.txt'], 'num_cores': 1, 'command': '$SCRATCH/droplet/results/combineSims.sh'}, {'label': '62', 'shape': 'rect', 'name': 'analysis_notebook', 'task_type': '', 'tags': ['analysis_notebook'], 'input_files': [], 'output_files': [], 'num_cores': 1, 'interactive': True}], scales={'x': LinearScale(), 'y': LinearScale()}, scales_metadata={'x': {'orientation': 'horizontal', 'dimension': 'x'}, 'y': {'orientation': 'vertical', 'dimension': 'y'}, 'color': {'dimension': 'color'}, 'link_color': {'dimension': 'link_color'}}, selected=[0], selected_style={'stroke': 'red'}, tooltip_style={'opacity': 0.9}, x=array([ 4780.,  1653.,  1653.,  1098.,   269.,   268.,   822.,   822.,\n",
       "        1375.,  1376.,  1099.,  3322.,  3322.,  2765.,  1931.,  1931.,\n",
       "        2487.,  2487.,  3043.,  3043.,  2765.,  4208.,  4208.,  4191.,\n",
       "        3600.,  3599.,  4156.,  4155.,  4711.,  4711.,  4433.,  5473.,\n",
       "        5473.,  5542.,  5265.,  5265.,  5819.,  5819.,  6374.,  6375.,\n",
       "        5542.,  6757.,  6757.,  7209.,  6931.,  6931.,  7487.,  7487.,\n",
       "        8043.,  8043.,  7209.,  7956.,  7956.,  8876.,  8599.,  8599.,\n",
       "        9153.,  9154.,  9709.,  9709.,  8876.,  4987.,  4987.]), y=array([ 522.,  522.,  450.,  378.,  306.,  234.,  306.,  234.,  306.,\n",
       "        234.,  162.,  522.,  450.,  378.,  306.,  234.,  306.,  234.,\n",
       "        306.,  234.,  162.,  522.,  450.,  378.,  306.,  234.,  306.,\n",
       "        234.,  306.,  234.,  162.,  522.,  450.,  378.,  306.,  234.,\n",
       "        306.,  234.,  306.,  234.,  162.,  522.,  450.,  378.,  306.,\n",
       "        234.,  306.,  234.,  306.,  234.,  162.,  522.,  450.,  378.,\n",
       "        306.,  234.,  306.,  234.,  306.,  234.,  162.,   90.,   18.]))], min_aspect_ratio=0.0, scale_x=LinearScale(allow_padding=False, max=1.0, min=0.0), scale_y=LinearScale(allow_padding=False, max=1.0, min=0.0))))), Tab(children=(VBox(children=(HTML(value='<b>Workflow Description</b>'), EditHTML(children=(HTMLMath(value='\\n<h3>Nanoscale Wetting Dynamics</h3>\\n\\n<br>\\n\\nWe investigate the interfacial interactions between nanoscopic water droplets\\non the order of 20 - 100 $\\\\overset{\\\\lower.5em\\\\circ}{\\\\mathrm{A}}$ and atomically flat substrates.\\nIn particular, we observe the formation of a monolayer, calculate its rate\\nof growth, and devise a predictive geometric model for the phenomenon.\\n<br>\\n<br>\\n\\n<video width=\"200px\" src=\"movie/mesfin.mp4\" type=\"video/mp4\" controls>\\n    Video not supported.\\n</video>\\n\\n<br><br>\\n\\nWe find that $r_m = \\\\alpha t^\\\\beta$ is an accurate model for monolayer radius\\nfor values of $\\\\alpha$ and $\\\\beta$ which can be determined from the base radius.\\n\\n<br><br>\\n\\n\\n\\n<br><br>\\n\\n\\nThis workflow does the following:\\n<ol>\\n    <li>Create substrate and droplets (C++, ROOT, Python)\\n    <li>Combine substrate and droplets (Perl)\\n    <li>Run simulation (LAMMPS on cluster)\\n    <li>Parse LAMMPS output(awk, C++)\\n    <li>Calculate molecular properties (C++, ROOT)\\n        <ul>\\n            <li>Velocity\\n            <li>Orientation\\n            <li>etc.\\n        </ul>\\n    <li>Calculate droplet properties (C++, ROOT_)\\n        <ul>\\n            <li>Bulk radius\\n            <li>Monolayer Radius\\n            <li>etc.\\n        </ul>\\n    <li>Combine results for each droplet size (Bash)\\n    <li>Combine results from all simulations (Bash)\\n    <li>Define model and calibrate to simulation data (Jupyter Notebook, Python)\\n</ol>\\n', layout=Layout(border='1px lightgray solid', padding='10px')), Button(description='Edit Description', style=ButtonStyle()))), Box(layout=Layout(height='20px', width='0px')), HTML(value='<b>Worker Pools</b>'), VBox(children=(Dropdown(options=(('default', <workflow_objects.WorkerPool object at 0x2aaac5bf8e10>),), value=<workflow_objects.WorkerPool object at 0x2aaac5bf8e10>), Button(button_style='success', description='Run Workflow', style=ButtonStyle()))))), VBox(children=(HTML(value='<b>Task Description</b>'), EditHTML(children=(HTMLMath(value='None selected.', layout=Layout(border='1px lightgray solid', padding='10px')), Button(description='Edit Description', disabled=True, style=ButtonStyle()))), Box(layout=Layout(height='20px', width='0px')), HTML(value='<b>Task Metadata</b>'), HTML(value=''))), VBox(children=(HTML(value='<b>Tags</b>'), Select(options=('gen_mica', '20A', 'gen_droplet', 'combine', 'simulate', 'parse', 'analyze', 'combine_parts', '30A', '40A', '50A', '60A', '100A', 'combine_sims', 'analysis_notebook'), value='gen_mica'), HTML(value='<b>Actions</b>'), Text(value='', description='Tag name'), HBox(children=(VBox(children=(Button(description='Select All', style=ButtonStyle()), Button(description='Select None', style=ButtonStyle()), Button(description='Select Children', style=ButtonStyle()), Button(description='Select Parents', style=ButtonStyle()), Button(description='Tag to Selection', style=ButtonStyle()), Button(description='Selection to Tag', style=ButtonStyle()))), VBox(children=(Button(description='New Tag', style=ButtonStyle()), Button(description='Del Tag', style=ButtonStyle()))))))), VBox(children=(HTML(value='<b>Messages from WorkflowWidget:</b>'), Box(children=(Output(),), layout=Layout(border='1px lightgray solid', padding='10px')), Box(layout=Layout(height='10px', width='0px')), Button(description='Clear', style=ButtonStyle())))), layout=Layout(height='600px', width='400px'), _titles={'0': 'Workflow', '1': 'Task', '2': 'Tags', '3': 'Widget Log'})))"
      ]
     },
     "metadata": {},
     "output_type": "display_data"
    },
    {
     "name": "stdout",
     "output_type": "stream",
     "text": [
      "2017-10-18 22:22:37,343 INFO Checking for FWs to run...\n",
      "2017-10-18 22:22:37,764 INFO Checking for FWs to run...\n",
      "2017-10-18 22:22:38,350 INFO Checking for FWs to run...\n",
      "2017-10-18 22:22:39,358 INFO Checking for FWs to run...\n",
      "2017-10-18 22:22:40,364 INFO Checking for FWs to run...\n",
      "2017-10-18 22:22:41,373 INFO Checking for FWs to run...\n",
      "2017-10-18 22:22:42,381 INFO Checking for FWs to run...\n",
      "2017-10-18 22:22:42,856 INFO Checking for FWs to run...\n",
      "2017-10-18 22:22:43,387 INFO Checking for FWs to run...\n",
      "2017-10-18 22:22:44,396 INFO Checking for FWs to run...\n",
      "2017-10-18 22:22:45,402 INFO Checking for FWs to run...\n",
      "FW Completed\n"
     ]
    }
   ],
   "source": [
    "ww = WorkflowWidget(workflow=droplet_wf, worker_pool_widget=wpw)\n",
    "ww"
   ]
  },
  {
   "cell_type": "markdown",
   "metadata": {
    "nbpresent": {
     "id": "5110ad52-2442-4f7f-b036-4853f9e9141d"
    }
   },
   "source": [
    "# Visualize & Run Workflow"
   ]
  },
  {
   "cell_type": "code",
   "execution_count": null,
   "metadata": {
    "collapsed": true,
    "nbpresent": {
     "id": "a0e493f9-d183-48a1-b727-fa7b4f4cd7a1"
    }
   },
   "outputs": [],
   "source": [
    "exww.workflow.tag_dict"
   ]
  },
  {
   "cell_type": "code",
   "execution_count": null,
   "metadata": {
    "collapsed": true,
    "nbpresent": {
     "id": "4dd9f5bc-1e31-40ef-9061-254e366a1d0c"
    }
   },
   "outputs": [],
   "source": [
    "selected = exww.bqgraph.selected\n",
    "tasks = [exww.bqgraph.node_data[x]['name'] for x in selected]\n",
    "[exww.workflow.get_task_by_name(name) for name in tasks]"
   ]
  },
  {
   "cell_type": "code",
   "execution_count": null,
   "metadata": {
    "collapsed": true,
    "nbpresent": {
     "id": "e665aeba-ed01-4fb7-9eb7-cf15868f78cb"
    }
   },
   "outputs": [],
   "source": [
    "nx.dfs_preorder_nodes?"
   ]
  },
  {
   "cell_type": "code",
   "execution_count": null,
   "metadata": {
    "collapsed": true,
    "nbpresent": {
     "id": "8888239a-5372-41e0-b575-470482c1b98e"
    }
   },
   "outputs": [],
   "source": [
    "exww.workflow.dag.o(node)"
   ]
  },
  {
   "cell_type": "code",
   "execution_count": null,
   "metadata": {
    "collapsed": true,
    "nbpresent": {
     "id": "9810503f-ea97-4f54-a0a2-49953470094c"
    }
   },
   "outputs": [],
   "source": [
    "exww.bqgraph.selected = list(range(5))"
   ]
  },
  {
   "cell_type": "code",
   "execution_count": null,
   "metadata": {
    "collapsed": true,
    "nbpresent": {
     "id": "067cfa5a-18db-4ed0-91c2-2b1209215ace"
    }
   },
   "outputs": [],
   "source": [
    "example_wf.dag.nodes()[1].children"
   ]
  },
  {
   "cell_type": "markdown",
   "metadata": {
    "nbpresent": {
     "id": "0190f5e0-eeca-4428-8e9d-b909be29cc08"
    }
   },
   "source": [
    "# Connect to NEWT"
   ]
  },
  {
   "cell_type": "code",
   "execution_count": null,
   "metadata": {
    "collapsed": true,
    "nbpresent": {
     "id": "33786081-d706-479b-8efd-e16a6cca6337"
    }
   },
   "outputs": [],
   "source": [
    "a = NEWTAuthWidget()\n",
    "a"
   ]
  },
  {
   "cell_type": "code",
   "execution_count": null,
   "metadata": {
    "collapsed": true,
    "nbpresent": {
     "id": "6c5391e1-89f3-41f2-88dd-00437f05c91e"
    }
   },
   "outputs": [],
   "source": [
    "q = QueueWidget(a)\n",
    "q"
   ]
  },
  {
   "cell_type": "code",
   "execution_count": null,
   "metadata": {
    "collapsed": true,
    "nbpresent": {
     "id": "719f7d72-962d-4d50-bec3-f3abf1ab289a"
    }
   },
   "outputs": [],
   "source": []
  }
 ],
 "metadata": {
  "anaconda-cloud": {},
  "kernelspec": {
   "display_name": "Python 3",
   "language": "python",
   "name": "python3"
  },
  "language_info": {
   "codemirror_mode": {
    "name": "ipython",
    "version": 3
   },
   "file_extension": ".py",
   "mimetype": "text/x-python",
   "name": "python",
   "nbconvert_exporter": "python",
   "pygments_lexer": "ipython3",
   "version": "3.6.1"
  },
  "nbpresent": {
   "slides": {
    "155f84f5-466f-471e-a62e-3e29af2a0b07": {
     "id": "155f84f5-466f-471e-a62e-3e29af2a0b07",
     "layout": "treemap",
     "prev": null,
     "regions": {
      "07ca5e74-1463-4823-91e1-8e63237bba3b": {
       "attrs": {
        "height": 0.75,
        "treemap:weight": 1,
        "width": 0.33,
        "x": 0,
        "y": 0
       },
       "id": "07ca5e74-1463-4823-91e1-8e63237bba3b"
      },
      "5a7da22f-c1cb-42e8-92f3-4c9e251f6e5e": {
       "attrs": {
        "height": 0.75,
        "pad": 0.01,
        "treemap:weight": 1,
        "width": 0.34,
        "x": 0.66,
        "y": 0
       },
       "id": "5a7da22f-c1cb-42e8-92f3-4c9e251f6e5e"
      },
      "80858f3b-345d-4098-90a3-0b575ba71503": {
       "attrs": {
        "height": 0.25,
        "pad": 0.01,
        "treemap:weight": 1,
        "width": 1,
        "x": 0,
        "y": 0.75
       },
       "id": "80858f3b-345d-4098-90a3-0b575ba71503"
      },
      "a269929c-67ca-4b00-a834-251426b7bc25": {
       "attrs": {
        "height": 0.75,
        "treemap:weight": 1,
        "width": 0.33,
        "x": 0.33,
        "y": 0
       },
       "id": "a269929c-67ca-4b00-a834-251426b7bc25"
      }
     }
    }
   },
   "themes": {}
  }
 },
 "nbformat": 4,
 "nbformat_minor": 2
}
