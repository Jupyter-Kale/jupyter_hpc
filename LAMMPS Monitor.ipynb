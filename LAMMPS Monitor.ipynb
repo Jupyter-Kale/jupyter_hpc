{
 "cells": [
  {
   "cell_type": "code",
   "execution_count": 407,
   "metadata": {},
   "outputs": [],
   "source": [
    "import numpy as np\n",
    "import time\n",
    "from io import StringIO\n",
    "import bqplot as bq\n",
    "import ipywidgets as ipw"
   ]
  },
  {
   "cell_type": "code",
   "execution_count": 341,
   "metadata": {},
   "outputs": [],
   "source": [
    "def split_by_key(new, key, start_ind=0):\n",
    "    \"Split into before and after at first newline before `key`\"\n",
    "    # str.find returns -1 if not found\n",
    "    ind = new[start_ind:].find(key)\n",
    "    if ind != -1:\n",
    "        # Find last \\n before `key`\n",
    "        reverse_str = new[ind-1::-1]\n",
    "        reverse_ind = reverse_str.find('\\n')\n",
    "        # If \\n isn't found, then all of `new` belongs\n",
    "        # in the next group\n",
    "        if reverse_ind == -1:\n",
    "            newline_ind = 0\n",
    "        else:\n",
    "            newline_ind = ind - reverse_ind\n",
    "            \n",
    "        # Append text before `key` to `lines`\n",
    "        before = new[:newline_ind]\n",
    "        after = new[newline_ind:]\n",
    "    else:\n",
    "        before = new\n",
    "        after = ''\n",
    "        \n",
    "    return before, after, ind\n"
   ]
  },
  {
   "cell_type": "code",
   "execution_count": 443,
   "metadata": {},
   "outputs": [],
   "source": [
    "def parse_timestep(ts_string):\n",
    "    lines = ts_string.split('\\n')\n",
    "    header = lines[:9]\n",
    "    bounds_io = StringIO('\\n'.join(lines[5:8]))\n",
    "    data_io = StringIO('\\n'.join(lines[9:]))\n",
    "    bounds_arr = np.loadtxt(bounds_io) \n",
    "    data_arr = np.loadtxt(data_io)\n",
    "    \n",
    "    data_min, data_max = bounds_arr.T\n",
    "    data_range = data_max - data_min\n",
    "    \n",
    "    atom_id, atom_type, xs, ys, zs, ix, iy, iz = data_arr.T\n",
    "    sc = data_arr[:,[2,3,4]]\n",
    "    im = data_arr[:,[5,6,7]]\n",
    "    #pos = data_range * sc + data_min*im\n",
    "    pos = sc\n",
    "    \n",
    "    return pos"
   ]
  },
  {
   "cell_type": "code",
   "execution_count": 444,
   "metadata": {},
   "outputs": [],
   "source": [
    "def poll_file(path, func, key, poll_interval=1, ignore_first=True, *args, **kwargs):\n",
    "    \"\"\"\n",
    "    Poll `path` every `poll_interval` seconds.\n",
    "    Every time `key` is contained, call `func`,\n",
    "    passing the full text read since the last time `key` was read\n",
    "    as the argument. Then throw away what we've read before last `key`.\n",
    "    \n",
    "    args, kwargs will be passed to func.\n",
    "    \"\"\"\n",
    "    \n",
    "    lines = ''\n",
    "    \n",
    "    ignore = ignore_first\n",
    "    \n",
    "    while len(lines) == 0:\n",
    "        try:\n",
    "            with open(path) as fh:\n",
    "                while True:\n",
    "                    new = fh.read(256)\n",
    "                    if len(new) > 0:\n",
    "                        before, after, ind = split_by_key(new, key)\n",
    "                        \n",
    "                        # If `key` in `new`\n",
    "                        if ind != -1:\n",
    "                            if ignore:\n",
    "                                lines += new\n",
    "                                ignore = False\n",
    "                            else:\n",
    "                                lines += before\n",
    "                                func(lines, *args, **kwargs)\n",
    "                                lines = after\n",
    "                        else:\n",
    "                            lines += new\n",
    "                    else:\n",
    "                        time.sleep(poll_interval)\n",
    "                        \n",
    "        except FileNotFoundError:\n",
    "            print(\"No file yet.\")\n",
    "            time.sleep(1)\n"
   ]
  },
  {
   "cell_type": "code",
   "execution_count": 461,
   "metadata": {},
   "outputs": [],
   "source": [
    "def g_of_r(atom_pos, dr, r_max):\n",
    "    \"\"\"\n",
    "    atom_pos :: N x 3 array of atom positions\n",
    "    dr :: bin thickness\n",
    "    \"\"\"\n",
    "    \n",
    "    n = atom_pos.shape[0]\n",
    "    num_bins = int(np.floor(r_max / dr))\n",
    "    r_vals = np.arange(0, r_max, dr)\n",
    "    diff = np.zeros(n*(n-1))\n",
    "\n",
    "    i, j = np.meshgrid(range(n), range(n))\n",
    "    i = i.reshape(n**2)\n",
    "    j = j.reshape(n**2)\n",
    "    \n",
    "    diff = np.linalg.norm(atom_pos[i,:] - atom_pos[j,:], axis=1)\n",
    "    diff = diff[np.nonzero(diff)]\n",
    "    \n",
    "    g_vals, _ = np.histogram(diff, bins=num_bins, range=(0, r_max), density=True)\n",
    "    \n",
    "    return r_vals, g_vals"
   ]
  },
  {
   "cell_type": "code",
   "execution_count": 462,
   "metadata": {
    "scrolled": false
   },
   "outputs": [],
   "source": [
    "def create_bq_figure(x, y):\n",
    "    xsc = bq.LinearScale()\n",
    "    ysc = bq.LinearScale()\n",
    "    xax = bq.Axis(scale=xsc, label='r')\n",
    "    yax = bq.Axis(scale=ysc, orientation='vertical', label='g(r)')\n",
    "    \n",
    "    line = bq.Lines(\n",
    "        x=x,\n",
    "        y=y,\n",
    "        scales={\n",
    "            'x': xsc,\n",
    "            'y': ysc\n",
    "        }\n",
    "    )\n",
    "    \n",
    "    fig = bq.Figure(\n",
    "        axes = [xax, yax],\n",
    "        marks = [line],\n",
    "        #animation_duration=500\n",
    "    )\n",
    "    \n",
    "    return line, fig"
   ]
  },
  {
   "cell_type": "code",
   "execution_count": 463,
   "metadata": {},
   "outputs": [],
   "source": [
    "def create_ipv_scatter(xlim, ylim, zlim):\n",
    "    fig = ipv.figure()\n",
    "    scatter = ipv.scatter(*np.zeros([3,1]))\n",
    "    \n",
    "    fig.xlim = xlim\n",
    "    fig.ylim = ylim\n",
    "    fig.zlim = zlim\n",
    "    \n",
    "    fig.animation = 0\n",
    "    \n",
    "    return scatter, fig"
   ]
  },
  {
   "cell_type": "code",
   "execution_count": 464,
   "metadata": {},
   "outputs": [],
   "source": [
    "def update_line(line, y):\n",
    "    line.y = y"
   ]
  },
  {
   "cell_type": "code",
   "execution_count": 465,
   "metadata": {},
   "outputs": [],
   "source": [
    "def update_ipv_scatter(scatter, atoms):\n",
    "    scatter.x = atoms[:,0]\n",
    "    scatter.y = atoms[:,1]\n",
    "    scatter.z = atoms[:,2]"
   ]
  },
  {
   "cell_type": "code",
   "execution_count": 480,
   "metadata": {},
   "outputs": [],
   "source": [
    "def update_atom_plots(atoms_str, line, scatter):\n",
    "    atoms = parse_timestep(atoms_str)\n",
    "    r, g = g_of_r(atoms, dr=.01, r_max=2)\n",
    "    update_line(line, g)\n",
    "    update_ipv_scatter(scatter, atoms)"
   ]
  },
  {
   "cell_type": "code",
   "execution_count": 481,
   "metadata": {},
   "outputs": [],
   "source": [
    "r_max = 2\n",
    "dr = .01\n",
    "r = np.arange(0, r_max, dr)\n",
    "g = np.zeros_like(r_vals)"
   ]
  },
  {
   "cell_type": "code",
   "execution_count": 482,
   "metadata": {
    "scrolled": false
   },
   "outputs": [
    {
     "data": {
      "application/vnd.jupyter.widget-view+json": {
       "model_id": "efed60378c2a45659d36af9bcfedb441",
       "version_major": 2,
       "version_minor": 0
      },
      "text/plain": [
       "A Jupyter Widget"
      ]
     },
     "metadata": {},
     "output_type": "display_data"
    }
   ],
   "source": [
    "line, bq_fig = create_figure(r, g)\n",
    "scatter, ipv_fig = create_ipv_scatter(\n",
    "    (0,1),\n",
    "    (0,1),\n",
    "    (0,1)\n",
    ")\n",
    "\n",
    "ipw.HBox([bq_fig, ipv_fig])"
   ]
  },
  {
   "cell_type": "code",
   "execution_count": 483,
   "metadata": {},
   "outputs": [
    {
     "name": "stdout",
     "output_type": "stream",
     "text": [
      "No file yet.\n",
      "No file yet.\n",
      "No file yet.\n"
     ]
    },
    {
     "ename": "ValueError",
     "evalue": "Wrong number of columns at line 4001",
     "output_type": "error",
     "traceback": [
      "\u001b[0;31m---------------------------------------------------------------------------\u001b[0m",
      "\u001b[0;31mValueError\u001b[0m                                Traceback (most recent call last)",
      "\u001b[0;32m<ipython-input-483-108377c7081a>\u001b[0m in \u001b[0;36m<module>\u001b[0;34m()\u001b[0m\n\u001b[0;32m----> 1\u001b[0;31m \u001b[0mpoll_file\u001b[0m\u001b[0;34m(\u001b[0m\u001b[0;34m'lammps_melt/melt.lammpstrj'\u001b[0m\u001b[0;34m,\u001b[0m \u001b[0mupdate_atom_plots\u001b[0m\u001b[0;34m,\u001b[0m \u001b[0;34m'TIMESTEP'\u001b[0m\u001b[0;34m,\u001b[0m \u001b[0mline\u001b[0m\u001b[0;34m=\u001b[0m\u001b[0mline\u001b[0m\u001b[0;34m,\u001b[0m \u001b[0mscatter\u001b[0m\u001b[0;34m=\u001b[0m\u001b[0mscatter\u001b[0m\u001b[0;34m)\u001b[0m\u001b[0;34m\u001b[0m\u001b[0m\n\u001b[0m",
      "\u001b[0;32m<ipython-input-444-44cf8cf968e3>\u001b[0m in \u001b[0;36mpoll_file\u001b[0;34m(path, func, key, poll_interval, ignore_first, *args, **kwargs)\u001b[0m\n\u001b[1;32m     28\u001b[0m                             \u001b[0;32melse\u001b[0m\u001b[0;34m:\u001b[0m\u001b[0;34m\u001b[0m\u001b[0m\n\u001b[1;32m     29\u001b[0m                                 \u001b[0mlines\u001b[0m \u001b[0;34m+=\u001b[0m \u001b[0mbefore\u001b[0m\u001b[0;34m\u001b[0m\u001b[0m\n\u001b[0;32m---> 30\u001b[0;31m                                 \u001b[0mfunc\u001b[0m\u001b[0;34m(\u001b[0m\u001b[0mlines\u001b[0m\u001b[0;34m,\u001b[0m \u001b[0;34m*\u001b[0m\u001b[0margs\u001b[0m\u001b[0;34m,\u001b[0m \u001b[0;34m**\u001b[0m\u001b[0mkwargs\u001b[0m\u001b[0;34m)\u001b[0m\u001b[0;34m\u001b[0m\u001b[0m\n\u001b[0m\u001b[1;32m     31\u001b[0m                                 \u001b[0mlines\u001b[0m \u001b[0;34m=\u001b[0m \u001b[0mafter\u001b[0m\u001b[0;34m\u001b[0m\u001b[0m\n\u001b[1;32m     32\u001b[0m                         \u001b[0;32melse\u001b[0m\u001b[0;34m:\u001b[0m\u001b[0;34m\u001b[0m\u001b[0m\n",
      "\u001b[0;32m<ipython-input-480-8a928563437e>\u001b[0m in \u001b[0;36mupdate_atom_plots\u001b[0;34m(atoms_str, line, scatter)\u001b[0m\n\u001b[1;32m      1\u001b[0m \u001b[0;32mdef\u001b[0m \u001b[0mupdate_atom_plots\u001b[0m\u001b[0;34m(\u001b[0m\u001b[0matoms_str\u001b[0m\u001b[0;34m,\u001b[0m \u001b[0mline\u001b[0m\u001b[0;34m,\u001b[0m \u001b[0mscatter\u001b[0m\u001b[0;34m)\u001b[0m\u001b[0;34m:\u001b[0m\u001b[0;34m\u001b[0m\u001b[0m\n\u001b[0;32m----> 2\u001b[0;31m     \u001b[0matoms\u001b[0m \u001b[0;34m=\u001b[0m \u001b[0mparse_timestep\u001b[0m\u001b[0;34m(\u001b[0m\u001b[0matoms_str\u001b[0m\u001b[0;34m)\u001b[0m\u001b[0;34m\u001b[0m\u001b[0m\n\u001b[0m\u001b[1;32m      3\u001b[0m     \u001b[0mr\u001b[0m\u001b[0;34m,\u001b[0m \u001b[0mg\u001b[0m \u001b[0;34m=\u001b[0m \u001b[0mg_of_r\u001b[0m\u001b[0;34m(\u001b[0m\u001b[0matoms\u001b[0m\u001b[0;34m,\u001b[0m \u001b[0mdr\u001b[0m\u001b[0;34m=\u001b[0m\u001b[0;36m.01\u001b[0m\u001b[0;34m,\u001b[0m \u001b[0mr_max\u001b[0m\u001b[0;34m=\u001b[0m\u001b[0;36m2\u001b[0m\u001b[0;34m)\u001b[0m\u001b[0;34m\u001b[0m\u001b[0m\n\u001b[1;32m      4\u001b[0m     \u001b[0mupdate_line\u001b[0m\u001b[0;34m(\u001b[0m\u001b[0mline\u001b[0m\u001b[0;34m,\u001b[0m \u001b[0mg\u001b[0m\u001b[0;34m)\u001b[0m\u001b[0;34m\u001b[0m\u001b[0m\n\u001b[1;32m      5\u001b[0m     \u001b[0mupdate_ipv_scatter\u001b[0m\u001b[0;34m(\u001b[0m\u001b[0mscatter\u001b[0m\u001b[0;34m,\u001b[0m \u001b[0matoms\u001b[0m\u001b[0;34m)\u001b[0m\u001b[0;34m\u001b[0m\u001b[0m\n",
      "\u001b[0;32m<ipython-input-443-de566a2fcc5e>\u001b[0m in \u001b[0;36mparse_timestep\u001b[0;34m(ts_string)\u001b[0m\n\u001b[1;32m      5\u001b[0m     \u001b[0mdata_io\u001b[0m \u001b[0;34m=\u001b[0m \u001b[0mStringIO\u001b[0m\u001b[0;34m(\u001b[0m\u001b[0;34m'\\n'\u001b[0m\u001b[0;34m.\u001b[0m\u001b[0mjoin\u001b[0m\u001b[0;34m(\u001b[0m\u001b[0mlines\u001b[0m\u001b[0;34m[\u001b[0m\u001b[0;36m9\u001b[0m\u001b[0;34m:\u001b[0m\u001b[0;34m]\u001b[0m\u001b[0;34m)\u001b[0m\u001b[0;34m)\u001b[0m\u001b[0;34m\u001b[0m\u001b[0m\n\u001b[1;32m      6\u001b[0m     \u001b[0mbounds_arr\u001b[0m \u001b[0;34m=\u001b[0m \u001b[0mnp\u001b[0m\u001b[0;34m.\u001b[0m\u001b[0mloadtxt\u001b[0m\u001b[0;34m(\u001b[0m\u001b[0mbounds_io\u001b[0m\u001b[0;34m)\u001b[0m\u001b[0;34m\u001b[0m\u001b[0m\n\u001b[0;32m----> 7\u001b[0;31m     \u001b[0mdata_arr\u001b[0m \u001b[0;34m=\u001b[0m \u001b[0mnp\u001b[0m\u001b[0;34m.\u001b[0m\u001b[0mloadtxt\u001b[0m\u001b[0;34m(\u001b[0m\u001b[0mdata_io\u001b[0m\u001b[0;34m)\u001b[0m\u001b[0;34m\u001b[0m\u001b[0m\n\u001b[0m\u001b[1;32m      8\u001b[0m \u001b[0;34m\u001b[0m\u001b[0m\n\u001b[1;32m      9\u001b[0m     \u001b[0mdata_min\u001b[0m\u001b[0;34m,\u001b[0m \u001b[0mdata_max\u001b[0m \u001b[0;34m=\u001b[0m \u001b[0mbounds_arr\u001b[0m\u001b[0;34m.\u001b[0m\u001b[0mT\u001b[0m\u001b[0;34m\u001b[0m\u001b[0m\n",
      "\u001b[0;32m~/local/miniconda3/lib/python3.5/site-packages/numpy/lib/npyio.py\u001b[0m in \u001b[0;36mloadtxt\u001b[0;34m(fname, dtype, comments, delimiter, converters, skiprows, usecols, unpack, ndmin)\u001b[0m\n\u001b[1;32m   1019\u001b[0m                 \u001b[0mline_num\u001b[0m \u001b[0;34m=\u001b[0m \u001b[0mi\u001b[0m \u001b[0;34m+\u001b[0m \u001b[0mskiprows\u001b[0m \u001b[0;34m+\u001b[0m \u001b[0;36m1\u001b[0m\u001b[0;34m\u001b[0m\u001b[0m\n\u001b[1;32m   1020\u001b[0m                 raise ValueError(\"Wrong number of columns at line %d\"\n\u001b[0;32m-> 1021\u001b[0;31m                                  % line_num)\n\u001b[0m\u001b[1;32m   1022\u001b[0m \u001b[0;34m\u001b[0m\u001b[0m\n\u001b[1;32m   1023\u001b[0m             \u001b[0;31m# Convert each value according to its column and store\u001b[0m\u001b[0;34m\u001b[0m\u001b[0;34m\u001b[0m\u001b[0m\n",
      "\u001b[0;31mValueError\u001b[0m: Wrong number of columns at line 4001"
     ]
    }
   ],
   "source": [
    "poll_file('lammps_melt/melt.lammpstrj', update_atom_plots, 'TIMESTEP', line=line, scatter=scatter)"
   ]
  },
  {
   "cell_type": "code",
   "execution_count": 484,
   "metadata": {},
   "outputs": [],
   "source": [
    "# def poll_thermo(path, func, key):\n",
    "#     lines = ''\n",
    "#     \n",
    "#     ignore = ignore_first\n",
    "#     \n",
    "#     while len(lines) == 0:\n",
    "#         try:\n",
    "#             with open(path) as fh:\n",
    "#                 while True:\n",
    "#                     new = fh.read(256)\n",
    "#                     if len(new) > 0:\n",
    "#                         before, after, ind = split_by_key(new, key)\n",
    "#                         \n",
    "#                         # If `key` in `new`\n",
    "#                         if ind != -1:\n",
    "#                             if ignore:\n",
    "#                                 lines += new\n",
    "#                                 ignore = False\n",
    "#                             else:\n",
    "#                                 lines += before\n",
    "#                                 func(lines, *args, **kwargs)\n",
    "#                                 lines = after\n",
    "#                         else:\n",
    "#                             lines += new\n",
    "#                     else:\n",
    "#                         time.sleep(poll_interval)\n",
    "#                         \n",
    "#         except FileNotFoundError:\n",
    "#             print(\"No file yet.\")\n",
    "#             time.sleep(1)"
   ]
  },
  {
   "cell_type": "code",
   "execution_count": null,
   "metadata": {},
   "outputs": [],
   "source": []
  }
 ],
 "metadata": {
  "kernelspec": {
   "display_name": "Python 3",
   "language": "python",
   "name": "python3"
  },
  "language_info": {
   "codemirror_mode": {
    "name": "ipython",
    "version": 3
   },
   "file_extension": ".py",
   "mimetype": "text/x-python",
   "name": "python",
   "nbconvert_exporter": "python",
   "pygments_lexer": "ipython3",
   "version": "3.5.3"
  }
 },
 "nbformat": 4,
 "nbformat_minor": 2
}
