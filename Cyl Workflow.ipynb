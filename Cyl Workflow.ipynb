{
 "cells": [
  {
   "cell_type": "markdown",
   "metadata": {
    "nbpresent": {
     "id": "23b963da-d90a-43dd-883c-db727b739947"
    }
   },
   "source": [
    "# Imports"
   ]
  },
  {
   "cell_type": "code",
   "execution_count": 1,
   "metadata": {
    "nbpresent": {
     "id": "6268ef92-e5ae-4ce4-b369-202c806db45b"
    },
    "scrolled": true
   },
   "outputs": [],
   "source": [
    "%load_ext autoreload\n",
    "%autoreload 2"
   ]
  },
  {
   "cell_type": "code",
   "execution_count": 2,
   "metadata": {
    "collapsed": true,
    "nbpresent": {
     "id": "7f05c603-3a9d-451e-98ee-ff9d21d86e9b"
    },
    "scrolled": false
   },
   "outputs": [],
   "source": [
    "from workflow_widgets import WorkflowWidget, WorkerPoolWidget, TailWidget\n",
    "from cyl_workflow import cyl_wf\n",
    "from aux_widgets import QueueWidget, NEWTAuthWidget, SSHAuthWidget, SSHTerminal, Space\n",
    "import workflow_objects as kale\n",
    "import whichstage as ws\n",
    "\n",
    "import ipywidgets as ipw\n",
    "import time\n",
    "from concurrent.futures import ThreadPoolExecutor\n",
    "import traitlets\n",
    "import networkx as nx\n",
    "import IPython.display as disp"
   ]
  },
  {
   "cell_type": "code",
   "execution_count": 3,
   "metadata": {
    "nbpresent": {
     "id": "192a9350-4f88-4acd-b4ce-d89c151a2672"
    },
    "scrolled": false
   },
   "outputs": [
    {
     "name": "stdout",
     "output_type": "stream",
     "text": [
      "2017-10-18 11:46:59,731 INFO Performing db tune-up\n",
      "2017-10-18 11:46:59,740 INFO LaunchPad was RESET.\n"
     ]
    },
    {
     "data": {
      "application/vnd.jupyter.widget-view+json": {
       "model_id": "f53fca3a01c94ae79579f7a7316cb4f8",
       "version_major": 2,
       "version_minor": 0
      },
      "text/html": [
       "<p>Failed to display Jupyter Widget of type <code>WorkerPoolWidget</code>.</p>\n",
       "<p>\n",
       "  If you're reading this message in Jupyter Notebook or JupyterLab, it may mean\n",
       "  that the widgets JavaScript is still loading. If this message persists, it\n",
       "  likely means that the widgets JavaScript library is either not installed or\n",
       "  not enabled. See the <a href=\"https://ipywidgets.readthedocs.io/en/stable/user_install.html\">Jupyter\n",
       "  Widgets Documentation</a> for setup instructions.\n",
       "</p>\n",
       "<p>\n",
       "  If you're reading this message in another notebook frontend (for example, a static\n",
       "  rendering on GitHub or <a href=\"https://nbviewer.jupyter.org/\">NBViewer</a>),\n",
       "  it may mean that your frontend doesn't currently support widgets.\n",
       "</p>\n"
      ],
      "text/plain": [
       "WorkerPoolWidget(children=(HTML(value='<h3>Worker Pools</h3>'), TableWidget(children=(RowWidget(children=(HBox(children=(HTML(value='<b>Name</b>'),), layout=Layout(justify_content='flex-start', width='150px')), HBox(children=(HTML(value='<b>Location</b>'),), layout=Layout(justify_content='flex-start', width='200px')), HBox(children=(HTML(value='<b>Workers</b>'),), layout=Layout(justify_content='flex-start', width='60px')), HBox(children=(HTML(value='<b>Action</b>'),), layout=Layout(justify_content='flex-start', width='100px'))), layout=Layout(justify_content='space-between', width='510px')), RowWidget(children=(HBox(children=(HTML(value='default'),), layout=Layout(justify_content='flex-start', width='150px')), HBox(children=(HTML(value='localhost'),), layout=Layout(justify_content='flex-start', width='200px')), HBox(children=(HTML(value='4'),), layout=Layout(justify_content='flex-start', width='60px')), HBox(children=(Button(button_style='danger', description='Remove', style=ButtonStyle()),), layout=Layout(justify_content='flex-start', width='100px'))), layout=Layout(justify_content='space-between', width='510px')), RowWidget(children=(HBox(children=(Text(value='', layout=Layout(width='148px')),), layout=Layout(justify_content='flex-start', width='150px')), HBox(children=(Dropdown(layout=Layout(width='198px'), options=('localhost',), value='localhost'),), layout=Layout(justify_content='flex-start', width='200px')), HBox(children=(IntText(value=1, layout=Layout(width='58px')),), layout=Layout(justify_content='flex-start', width='60px')), HBox(children=(Button(button_style='success', icon='plus', style=ButtonStyle()),), layout=Layout(justify_content='flex-start', width='100px'))), layout=Layout(justify_content='space-between', width='510px'))), layout=Layout(width='510px')), HTML(value='\\n        <div class=\"alert alert-success\" style=\"width: 510px\">\\n        WorkerPool \\'default\\' created.\\n        </div>\\n        ')))"
      ]
     },
     "metadata": {},
     "output_type": "display_data"
    }
   ],
   "source": [
    "wpw = WorkerPoolWidget()\n",
    "wpw"
   ]
  },
  {
   "cell_type": "code",
   "execution_count": 4,
   "metadata": {
    "nbpresent": {
     "id": "086179ea-3915-4b1a-9493-83cae5d3e317"
    },
    "scrolled": false
   },
   "outputs": [
    {
     "data": {
      "application/vnd.jupyter.widget-view+json": {
       "model_id": "1654384704e14186b299ccc9518cba6e",
       "version_major": 2,
       "version_minor": 0
      },
      "text/html": [
       "<p>Failed to display Jupyter Widget of type <code>WorkflowWidget</code>.</p>\n",
       "<p>\n",
       "  If you're reading this message in Jupyter Notebook or JupyterLab, it may mean\n",
       "  that the widgets JavaScript is still loading. If this message persists, it\n",
       "  likely means that the widgets JavaScript library is either not installed or\n",
       "  not enabled. See the <a href=\"https://ipywidgets.readthedocs.io/en/stable/user_install.html\">Jupyter\n",
       "  Widgets Documentation</a> for setup instructions.\n",
       "</p>\n",
       "<p>\n",
       "  If you're reading this message in another notebook frontend (for example, a static\n",
       "  rendering on GitHub or <a href=\"https://nbviewer.jupyter.org/\">NBViewer</a>),\n",
       "  it may mean that your frontend doesn't currently support widgets.\n",
       "</p>\n"
      ],
      "text/plain": [
       "WorkflowWidget(children=(VBox(children=(Figure(fig_margin={'left': 10, 'right': 10, 'bottom': 10, 'top': 10}, layout=Layout(height='600px', width='400px'), marks=[Graph(colors=['#1f77b4', '#ff7f0e', '#2ca02c', '#d62728', '#9467bd', '#8c564b', '#e377c2', '#7f7f7f', '#bcbd22', '#17becf'], highlight_links=False, interactions={'hover': 'tooltip', 'click': 'select'}, link_data=[{'source': 0, 'target': 1}, {'source': 1, 'target': 2}, {'source': 3, 'target': 4}, {'source': 4, 'target': 5}], link_type='line', node_data=[{'label': '0', 'shape': 'rect', 'name': 'unzip_Cyl_Sapphire_Cyl20A_100_atom1', 'task_type': 'CommandLineTask', 'tags': ['unzip'], 'input_files': ['/home/mtsige/Bob/Sub951By100/Cyl20A/atom1.bz2'], 'output_files': ['/home/oge1/lammps/sapphire/analysis/data/Cyl_Sapphire/Cyl20A_100/atom1'], 'num_cores': 1, 'command': 'pbzip2 -p4 -cdk /home/mtsige/Bob/Sub951By100/Cyl20A/atom1.bz2 > /home/oge1/lammps/sapphire/analysis/data/Cyl_Sapphire/Cyl20A_100/atom1'}, {'label': '1', 'shape': 'rect', 'name': 'parse_Cyl_Sapphire_Cyl20A_100_atom1', 'task_type': 'CommandLineTask', 'tags': [], 'input_files': [], 'output_files': [], 'num_cores': 1, 'command': '/home/oge1/lammps/sapphire/analysis/exec/parse.sh /home/oge1/lammps/sapphire/analysis/data/Cyl_Sapphire/Cyl20A_100/atom1 Cyl_Sapphire/Cyl20A_100/atom1'}, {'label': '2', 'shape': 'rect', 'name': 'analyze_Cyl_Sapphire_Cyl20A_100_atom1', 'task_type': 'CommandLineTask', 'tags': [], 'input_files': [], 'output_files': [], 'num_cores': 1, 'command': '/home/oge1/lammps/sapphire/analysis/exec/analyze.sh /home/oge1/lammps/sapphire/analysis/data/Cyl_Sapphire/Cyl20A_100/atom1 Cyl_Sapphire/Cyl20A_100/atom1 polarScatter'}, {'label': '3', 'shape': 'rect', 'name': 'unzip_Cyl_Sapphire_Cyl20A_100_atom2', 'task_type': 'CommandLineTask', 'tags': ['unzip'], 'input_files': ['/home/mtsige/Bob/Sub951By100/Cyl20A/atom2.bz2'], 'output_files': ['/home/oge1/lammps/sapphire/analysis/data/Cyl_Sapphire/Cyl20A_100/atom2'], 'num_cores': 1, 'command': 'pbzip2 -p4 -cdk /home/mtsige/Bob/Sub951By100/Cyl20A/atom2.bz2 > /home/oge1/lammps/sapphire/analysis/data/Cyl_Sapphire/Cyl20A_100/atom2'}, {'label': '4', 'shape': 'rect', 'name': 'parse_Cyl_Sapphire_Cyl20A_100_atom2', 'task_type': 'CommandLineTask', 'tags': [], 'input_files': [], 'output_files': [], 'num_cores': 1, 'command': '/home/oge1/lammps/sapphire/analysis/exec/parse.sh /home/oge1/lammps/sapphire/analysis/data/Cyl_Sapphire/Cyl20A_100/atom2 Cyl_Sapphire/Cyl20A_100/atom2'}, {'label': '5', 'shape': 'rect', 'name': 'analyze_Cyl_Sapphire_Cyl20A_100_atom2', 'task_type': 'CommandLineTask', 'tags': [], 'input_files': [], 'output_files': [], 'num_cores': 1, 'command': '/home/oge1/lammps/sapphire/analysis/exec/analyze.sh /home/oge1/lammps/sapphire/analysis/data/Cyl_Sapphire/Cyl20A_100/atom2 Cyl_Sapphire/Cyl20A_100/atom2 polarScatter'}], scales={'x': LinearScale(), 'y': LinearScale()}, scales_metadata={'x': {'orientation': 'horizontal', 'dimension': 'x'}, 'y': {'orientation': 'vertical', 'dimension': 'y'}, 'color': {'dimension': 'color'}, 'link_color': {'dimension': 'link_color'}}, selected=[0], selected_style={'stroke': 'red'}, tooltip_style={'opacity': 0.9}, x=array([ 268.,  268.,  268.,  821.,  821.,  821.]), y=array([ 162.,   90.,   18.,  162.,   90.,   18.]))], min_aspect_ratio=0.0, scale_x=LinearScale(allow_padding=False, max=1.0, min=0.0), scale_y=LinearScale(allow_padding=False, max=1.0, min=0.0)), Toolbar(figure=Figure(fig_margin={'left': 10, 'right': 10, 'bottom': 10, 'top': 10}, layout=Layout(height='600px', width='400px'), marks=[Graph(colors=['#1f77b4', '#ff7f0e', '#2ca02c', '#d62728', '#9467bd', '#8c564b', '#e377c2', '#7f7f7f', '#bcbd22', '#17becf'], highlight_links=False, interactions={'hover': 'tooltip', 'click': 'select'}, link_data=[{'source': 0, 'target': 1}, {'source': 1, 'target': 2}, {'source': 3, 'target': 4}, {'source': 4, 'target': 5}], link_type='line', node_data=[{'label': '0', 'shape': 'rect', 'name': 'unzip_Cyl_Sapphire_Cyl20A_100_atom1', 'task_type': 'CommandLineTask', 'tags': ['unzip'], 'input_files': ['/home/mtsige/Bob/Sub951By100/Cyl20A/atom1.bz2'], 'output_files': ['/home/oge1/lammps/sapphire/analysis/data/Cyl_Sapphire/Cyl20A_100/atom1'], 'num_cores': 1, 'command': 'pbzip2 -p4 -cdk /home/mtsige/Bob/Sub951By100/Cyl20A/atom1.bz2 > /home/oge1/lammps/sapphire/analysis/data/Cyl_Sapphire/Cyl20A_100/atom1'}, {'label': '1', 'shape': 'rect', 'name': 'parse_Cyl_Sapphire_Cyl20A_100_atom1', 'task_type': 'CommandLineTask', 'tags': [], 'input_files': [], 'output_files': [], 'num_cores': 1, 'command': '/home/oge1/lammps/sapphire/analysis/exec/parse.sh /home/oge1/lammps/sapphire/analysis/data/Cyl_Sapphire/Cyl20A_100/atom1 Cyl_Sapphire/Cyl20A_100/atom1'}, {'label': '2', 'shape': 'rect', 'name': 'analyze_Cyl_Sapphire_Cyl20A_100_atom1', 'task_type': 'CommandLineTask', 'tags': [], 'input_files': [], 'output_files': [], 'num_cores': 1, 'command': '/home/oge1/lammps/sapphire/analysis/exec/analyze.sh /home/oge1/lammps/sapphire/analysis/data/Cyl_Sapphire/Cyl20A_100/atom1 Cyl_Sapphire/Cyl20A_100/atom1 polarScatter'}, {'label': '3', 'shape': 'rect', 'name': 'unzip_Cyl_Sapphire_Cyl20A_100_atom2', 'task_type': 'CommandLineTask', 'tags': ['unzip'], 'input_files': ['/home/mtsige/Bob/Sub951By100/Cyl20A/atom2.bz2'], 'output_files': ['/home/oge1/lammps/sapphire/analysis/data/Cyl_Sapphire/Cyl20A_100/atom2'], 'num_cores': 1, 'command': 'pbzip2 -p4 -cdk /home/mtsige/Bob/Sub951By100/Cyl20A/atom2.bz2 > /home/oge1/lammps/sapphire/analysis/data/Cyl_Sapphire/Cyl20A_100/atom2'}, {'label': '4', 'shape': 'rect', 'name': 'parse_Cyl_Sapphire_Cyl20A_100_atom2', 'task_type': 'CommandLineTask', 'tags': [], 'input_files': [], 'output_files': [], 'num_cores': 1, 'command': '/home/oge1/lammps/sapphire/analysis/exec/parse.sh /home/oge1/lammps/sapphire/analysis/data/Cyl_Sapphire/Cyl20A_100/atom2 Cyl_Sapphire/Cyl20A_100/atom2'}, {'label': '5', 'shape': 'rect', 'name': 'analyze_Cyl_Sapphire_Cyl20A_100_atom2', 'task_type': 'CommandLineTask', 'tags': [], 'input_files': [], 'output_files': [], 'num_cores': 1, 'command': '/home/oge1/lammps/sapphire/analysis/exec/analyze.sh /home/oge1/lammps/sapphire/analysis/data/Cyl_Sapphire/Cyl20A_100/atom2 Cyl_Sapphire/Cyl20A_100/atom2 polarScatter'}], scales={'x': LinearScale(), 'y': LinearScale()}, scales_metadata={'x': {'orientation': 'horizontal', 'dimension': 'x'}, 'y': {'orientation': 'vertical', 'dimension': 'y'}, 'color': {'dimension': 'color'}, 'link_color': {'dimension': 'link_color'}}, selected=[0], selected_style={'stroke': 'red'}, tooltip_style={'opacity': 0.9}, x=array([ 268.,  268.,  268.,  821.,  821.,  821.]), y=array([ 162.,   90.,   18.,  162.,   90.,   18.]))], min_aspect_ratio=0.0, scale_x=LinearScale(allow_padding=False, max=1.0, min=0.0), scale_y=LinearScale(allow_padding=False, max=1.0, min=0.0))))), Tab(children=(VBox(children=(HTML(value='<b>Workflow Description</b>'), EditHTML(children=(HTMLMath(value='', layout=Layout(border='1px lightgray solid', padding='10px')), Button(description='Edit Description', style=ButtonStyle()))), Box(layout=Layout(height='20px', width='0px')), HTML(value='<b>Worker Pools</b>'), VBox(children=(Dropdown(options=(('default', <workflow_objects.WorkerPool object at 0x2aaac43519b0>),), value=<workflow_objects.WorkerPool object at 0x2aaac43519b0>), Button(button_style='success', description='Run Workflow', style=ButtonStyle()))))), VBox(children=(HTML(value='<b>Task Description</b>'), EditHTML(children=(HTMLMath(value='None selected.', layout=Layout(border='1px lightgray solid', padding='10px')), Button(description='Edit Description', disabled=True, style=ButtonStyle()))), Box(layout=Layout(height='20px', width='0px')), HTML(value='<b>Task Metadata</b>'), HTML(value=''))), VBox(children=(HTML(value='<b>Tags</b>'), Select(options=('unzip',), value='unzip'), HTML(value='<b>Actions</b>'), Text(value='', description='Tag name'), HBox(children=(VBox(children=(Button(description='Select All', style=ButtonStyle()), Button(description='Select None', style=ButtonStyle()), Button(description='Select Children', style=ButtonStyle()), Button(description='Select Parents', style=ButtonStyle()), Button(description='Tag to Selection', style=ButtonStyle()), Button(description='Selection to Tag', style=ButtonStyle()))), VBox(children=(Button(description='New Tag', style=ButtonStyle()), Button(description='Del Tag', style=ButtonStyle()))))))), VBox(children=(HTML(value='<b>Messages from WorkflowWidget:</b>'), Box(children=(Output(),), layout=Layout(border='1px lightgray solid', padding='10px')), Box(layout=Layout(height='10px', width='0px')), Button(description='Clear', style=ButtonStyle())))), layout=Layout(height='600px', width='400px'), _titles={'0': 'Workflow', '1': 'Task', '2': 'Tags', '3': 'Widget Log'})))"
      ]
     },
     "metadata": {},
     "output_type": "display_data"
    }
   ],
   "source": [
    "ww = WorkflowWidget(workflow=cyl_wf, worker_pool_widget=wpw)\n",
    "ww"
   ]
  },
  {
   "cell_type": "code",
   "execution_count": 5,
   "metadata": {
    "scrolled": false
   },
   "outputs": [
    {
     "name": "stdout",
     "output_type": "stream",
     "text": [
      "Needs Linked:\n",
      "['Sub951By50/FullCyl50A/atom1', 'Sub951By50/FullCyl50A/atom2']\n",
      "\n",
      "Needs Unzipped:\n",
      "['Sphere_Sapphire/30A/20AonMonolayer/atom2', 'Sub951By50/FullCyl20A/atom1', 'Sub951By50/FullCyl20A/atom2', 'Sub951By50/FullCyl20A/atom3', 'Sub951By50/FullCyl30A/atom1', 'Sub951By50/FullCyl30A/atom2', 'Sub951By50/FullCyl30A/atom3', 'Sub951By50/FullCyl100A/atom1', 'Sub951By50/atom1']\n",
      "\n",
      "Needs Parsed:\n",
      "[]\n",
      "\n",
      "Needs Analyzed:\n",
      "['Sphere_Quartz/120By120/25A/atom1', 'Sphere_Quartz/120By120/atom1', 'Sphere_Quartz/403By51/atom4', 'Sphere_Sapphire/50A/Repeat/atom1', 'Sphere_Sapphire/60A/atom26']\n",
      "\n",
      "Creating workflow.\n",
      "Workflow created!\n"
     ]
    }
   ],
   "source": [
    "wf = ws.whichstage()"
   ]
  },
  {
   "cell_type": "code",
   "execution_count": 6,
   "metadata": {},
   "outputs": [
    {
     "data": {
      "application/vnd.jupyter.widget-view+json": {
       "model_id": "212908f9a75b493d991a2269d02062d3",
       "version_major": 2,
       "version_minor": 0
      },
      "text/html": [
       "<p>Failed to display Jupyter Widget of type <code>WorkflowWidget</code>.</p>\n",
       "<p>\n",
       "  If you're reading this message in Jupyter Notebook or JupyterLab, it may mean\n",
       "  that the widgets JavaScript is still loading. If this message persists, it\n",
       "  likely means that the widgets JavaScript library is either not installed or\n",
       "  not enabled. See the <a href=\"https://ipywidgets.readthedocs.io/en/stable/user_install.html\">Jupyter\n",
       "  Widgets Documentation</a> for setup instructions.\n",
       "</p>\n",
       "<p>\n",
       "  If you're reading this message in another notebook frontend (for example, a static\n",
       "  rendering on GitHub or <a href=\"https://nbviewer.jupyter.org/\">NBViewer</a>),\n",
       "  it may mean that your frontend doesn't currently support widgets.\n",
       "</p>\n"
      ],
      "text/plain": [
       "WorkflowWidget(children=(VBox(children=(Figure(fig_margin={'left': 10, 'right': 10, 'bottom': 10, 'top': 10}, layout=Layout(height='600px', width='400px'), marks=[Graph(colors=['#1f77b4', '#ff7f0e', '#2ca02c', '#d62728', '#9467bd', '#8c564b', '#e377c2', '#7f7f7f', '#bcbd22', '#17becf'], highlight_links=False, interactions={'hover': 'tooltip', 'click': 'select'}, link_data=[{'source': 0, 'target': 1}, {'source': 1, 'target': 2}, {'source': 3, 'target': 4}, {'source': 4, 'target': 5}, {'source': 6, 'target': 7}, {'source': 7, 'target': 8}, {'source': 9, 'target': 10}, {'source': 10, 'target': 11}, {'source': 12, 'target': 13}, {'source': 13, 'target': 14}, {'source': 15, 'target': 16}, {'source': 16, 'target': 17}, {'source': 18, 'target': 19}, {'source': 19, 'target': 20}, {'source': 21, 'target': 22}, {'source': 22, 'target': 23}, {'source': 24, 'target': 25}, {'source': 25, 'target': 26}, {'source': 27, 'target': 28}, {'source': 28, 'target': 29}, {'source': 30, 'target': 31}, {'source': 31, 'target': 32}], link_type='line', node_data=[{'label': '0', 'shape': 'rect', 'name': 'link_Sub951By50/FullCyl50A/atom1', 'task_type': 'CommandLineTask', 'tags': ['link'], 'input_files': [], 'output_files': [], 'num_cores': 1, 'command': 'ln -s /home/mtsige/Bob/Sub951By50/FullCyl50A/atom1 /home/oge1/lammps/sapphire/analysis/data/Sub951By50/FullCyl50A/atom1'}, {'label': '1', 'shape': 'rect', 'name': 'parse_Sub951By50/FullCyl50A/atom1', 'task_type': 'CommandLineTask', 'tags': ['parse'], 'input_files': [], 'output_files': [], 'num_cores': 1, 'command': '/home/oge1/lammps/sapphire/analysis/exec/parse.sh /home/oge1/lammps/sapphire/analysis/data/Sub951By50/FullCyl50A/atom1 Sub951By50/FullCyl50A/atom1'}, {'label': '2', 'shape': 'rect', 'name': 'analyze_Sub951By50/FullCyl50A/atom1', 'task_type': 'CommandLineTask', 'tags': ['analyze'], 'input_files': [], 'output_files': [], 'num_cores': 1, 'command': '/home/oge1/lammps/sapphire/analysis/exec/analyze.sh /home/oge1/lammps/sapphire/analysis/results/Sub951By50/FullCyl50A/atom1/calculated.txt Sub951By50/FullCyl50A/atom1 polarScatter'}, {'label': '3', 'shape': 'rect', 'name': 'link_Sub951By50/FullCyl50A/atom2', 'task_type': 'CommandLineTask', 'tags': ['link'], 'input_files': [], 'output_files': [], 'num_cores': 1, 'command': 'ln -s /home/mtsige/Bob/Sub951By50/FullCyl50A/atom2 /home/oge1/lammps/sapphire/analysis/data/Sub951By50/FullCyl50A/atom2'}, {'label': '4', 'shape': 'rect', 'name': 'parse_Sub951By50/FullCyl50A/atom2', 'task_type': 'CommandLineTask', 'tags': ['parse'], 'input_files': [], 'output_files': [], 'num_cores': 1, 'command': '/home/oge1/lammps/sapphire/analysis/exec/parse.sh /home/oge1/lammps/sapphire/analysis/data/Sub951By50/FullCyl50A/atom2 Sub951By50/FullCyl50A/atom2'}, {'label': '5', 'shape': 'rect', 'name': 'analyze_Sub951By50/FullCyl50A/atom2', 'task_type': 'CommandLineTask', 'tags': ['analyze'], 'input_files': [], 'output_files': [], 'num_cores': 1, 'command': '/home/oge1/lammps/sapphire/analysis/exec/analyze.sh /home/oge1/lammps/sapphire/analysis/results/Sub951By50/FullCyl50A/atom2/calculated.txt Sub951By50/FullCyl50A/atom2 polarScatter'}, {'label': '6', 'shape': 'rect', 'name': 'unzip_Sphere_Sapphire/30A/20AonMonolayer/atom2', 'task_type': 'CommandLineTask', 'tags': ['unzip'], 'input_files': [], 'output_files': [], 'num_cores': 1, 'command': 'pbzip2 -n 1 -cdk /home/mtsige/Bob/Sub3/30A/20AonMonolayer/atom2 > /home/oge1/lammps/sapphire/analysis/data/Sphere_Sapphire/30A/20AonMonolayer/atom2'}, {'label': '7', 'shape': 'rect', 'name': 'parse_Sphere_Sapphire/30A/20AonMonolayer/atom2', 'task_type': 'CommandLineTask', 'tags': ['parse'], 'input_files': [], 'output_files': [], 'num_cores': 1, 'command': '/home/oge1/lammps/sapphire/analysis/exec/parse.sh /home/oge1/lammps/sapphire/analysis/data/Sphere_Sapphire/30A/20AonMonolayer/atom2 Sphere_Sapphire/30A/20AonMonolayer/atom2'}, {'label': '8', 'shape': 'rect', 'name': 'analyze_Sphere_Sapphire/30A/20AonMonolayer/atom2', 'task_type': 'CommandLineTask', 'tags': ['analyze'], 'input_files': [], 'output_files': [], 'num_cores': 1, 'command': '/home/oge1/lammps/sapphire/analysis/exec/analyze.sh /home/oge1/lammps/sapphire/analysis/results/Sphere_Sapphire/30A/20AonMonolayer/atom2/calculated.txt Sphere_Sapphire/30A/20AonMonolayer/atom2 polarScatter'}, {'label': '9', 'shape': 'rect', 'name': 'unzip_Sub951By50/FullCyl20A/atom1', 'task_type': 'CommandLineTask', 'tags': ['unzip'], 'input_files': [], 'output_files': [], 'num_cores': 1, 'command': 'pbzip2 -n 1 -cdk /home/mtsige/Bob/Sub951By50/FullCyl20A/atom1 > /home/oge1/lammps/sapphire/analysis/data/Sub951By50/FullCyl20A/atom1'}, {'label': '10', 'shape': 'rect', 'name': 'parse_Sub951By50/FullCyl20A/atom1', 'task_type': 'CommandLineTask', 'tags': ['parse'], 'input_files': [], 'output_files': [], 'num_cores': 1, 'command': '/home/oge1/lammps/sapphire/analysis/exec/parse.sh /home/oge1/lammps/sapphire/analysis/data/Sub951By50/FullCyl20A/atom1 Sub951By50/FullCyl20A/atom1'}, {'label': '11', 'shape': 'rect', 'name': 'analyze_Sub951By50/FullCyl20A/atom1', 'task_type': 'CommandLineTask', 'tags': ['analyze'], 'input_files': [], 'output_files': [], 'num_cores': 1, 'command': '/home/oge1/lammps/sapphire/analysis/exec/analyze.sh /home/oge1/lammps/sapphire/analysis/results/Sub951By50/FullCyl20A/atom1/calculated.txt Sub951By50/FullCyl20A/atom1 polarScatter'}, {'label': '12', 'shape': 'rect', 'name': 'unzip_Sub951By50/FullCyl20A/atom2', 'task_type': 'CommandLineTask', 'tags': ['unzip'], 'input_files': [], 'output_files': [], 'num_cores': 1, 'command': 'pbzip2 -n 1 -cdk /home/mtsige/Bob/Sub951By50/FullCyl20A/atom2 > /home/oge1/lammps/sapphire/analysis/data/Sub951By50/FullCyl20A/atom2'}, {'label': '13', 'shape': 'rect', 'name': 'parse_Sub951By50/FullCyl20A/atom2', 'task_type': 'CommandLineTask', 'tags': ['parse'], 'input_files': [], 'output_files': [], 'num_cores': 1, 'command': '/home/oge1/lammps/sapphire/analysis/exec/parse.sh /home/oge1/lammps/sapphire/analysis/data/Sub951By50/FullCyl20A/atom2 Sub951By50/FullCyl20A/atom2'}, {'label': '14', 'shape': 'rect', 'name': 'analyze_Sub951By50/FullCyl20A/atom2', 'task_type': 'CommandLineTask', 'tags': ['analyze'], 'input_files': [], 'output_files': [], 'num_cores': 1, 'command': '/home/oge1/lammps/sapphire/analysis/exec/analyze.sh /home/oge1/lammps/sapphire/analysis/results/Sub951By50/FullCyl20A/atom2/calculated.txt Sub951By50/FullCyl20A/atom2 polarScatter'}, {'label': '15', 'shape': 'rect', 'name': 'unzip_Sub951By50/FullCyl20A/atom3', 'task_type': 'CommandLineTask', 'tags': ['unzip'], 'input_files': [], 'output_files': [], 'num_cores': 1, 'command': 'pbzip2 -n 1 -cdk /home/mtsige/Bob/Sub951By50/FullCyl20A/atom3 > /home/oge1/lammps/sapphire/analysis/data/Sub951By50/FullCyl20A/atom3'}, {'label': '16', 'shape': 'rect', 'name': 'parse_Sub951By50/FullCyl20A/atom3', 'task_type': 'CommandLineTask', 'tags': ['parse'], 'input_files': [], 'output_files': [], 'num_cores': 1, 'command': '/home/oge1/lammps/sapphire/analysis/exec/parse.sh /home/oge1/lammps/sapphire/analysis/data/Sub951By50/FullCyl20A/atom3 Sub951By50/FullCyl20A/atom3'}, {'label': '17', 'shape': 'rect', 'name': 'analyze_Sub951By50/FullCyl20A/atom3', 'task_type': 'CommandLineTask', 'tags': ['analyze'], 'input_files': [], 'output_files': [], 'num_cores': 1, 'command': '/home/oge1/lammps/sapphire/analysis/exec/analyze.sh /home/oge1/lammps/sapphire/analysis/results/Sub951By50/FullCyl20A/atom3/calculated.txt Sub951By50/FullCyl20A/atom3 polarScatter'}, {'label': '18', 'shape': 'rect', 'name': 'unzip_Sub951By50/FullCyl30A/atom1', 'task_type': 'CommandLineTask', 'tags': ['unzip'], 'input_files': [], 'output_files': [], 'num_cores': 1, 'command': 'pbzip2 -n 1 -cdk /home/mtsige/Bob/Sub951By50/FullCyl30A/atom1 > /home/oge1/lammps/sapphire/analysis/data/Sub951By50/FullCyl30A/atom1'}, {'label': '19', 'shape': 'rect', 'name': 'parse_Sub951By50/FullCyl30A/atom1', 'task_type': 'CommandLineTask', 'tags': ['parse'], 'input_files': [], 'output_files': [], 'num_cores': 1, 'command': '/home/oge1/lammps/sapphire/analysis/exec/parse.sh /home/oge1/lammps/sapphire/analysis/data/Sub951By50/FullCyl30A/atom1 Sub951By50/FullCyl30A/atom1'}, {'label': '20', 'shape': 'rect', 'name': 'analyze_Sub951By50/FullCyl30A/atom1', 'task_type': 'CommandLineTask', 'tags': ['analyze'], 'input_files': [], 'output_files': [], 'num_cores': 1, 'command': '/home/oge1/lammps/sapphire/analysis/exec/analyze.sh /home/oge1/lammps/sapphire/analysis/results/Sub951By50/FullCyl30A/atom1/calculated.txt Sub951By50/FullCyl30A/atom1 polarScatter'}, {'label': '21', 'shape': 'rect', 'name': 'unzip_Sub951By50/FullCyl30A/atom2', 'task_type': 'CommandLineTask', 'tags': ['unzip'], 'input_files': [], 'output_files': [], 'num_cores': 1, 'command': 'pbzip2 -n 1 -cdk /home/mtsige/Bob/Sub951By50/FullCyl30A/atom2 > /home/oge1/lammps/sapphire/analysis/data/Sub951By50/FullCyl30A/atom2'}, {'label': '22', 'shape': 'rect', 'name': 'parse_Sub951By50/FullCyl30A/atom2', 'task_type': 'CommandLineTask', 'tags': ['parse'], 'input_files': [], 'output_files': [], 'num_cores': 1, 'command': '/home/oge1/lammps/sapphire/analysis/exec/parse.sh /home/oge1/lammps/sapphire/analysis/data/Sub951By50/FullCyl30A/atom2 Sub951By50/FullCyl30A/atom2'}, {'label': '23', 'shape': 'rect', 'name': 'analyze_Sub951By50/FullCyl30A/atom2', 'task_type': 'CommandLineTask', 'tags': ['analyze'], 'input_files': [], 'output_files': [], 'num_cores': 1, 'command': '/home/oge1/lammps/sapphire/analysis/exec/analyze.sh /home/oge1/lammps/sapphire/analysis/results/Sub951By50/FullCyl30A/atom2/calculated.txt Sub951By50/FullCyl30A/atom2 polarScatter'}, {'label': '24', 'shape': 'rect', 'name': 'unzip_Sub951By50/FullCyl30A/atom3', 'task_type': 'CommandLineTask', 'tags': ['unzip'], 'input_files': [], 'output_files': [], 'num_cores': 1, 'command': 'pbzip2 -n 1 -cdk /home/mtsige/Bob/Sub951By50/FullCyl30A/atom3 > /home/oge1/lammps/sapphire/analysis/data/Sub951By50/FullCyl30A/atom3'}, {'label': '25', 'shape': 'rect', 'name': 'parse_Sub951By50/FullCyl30A/atom3', 'task_type': 'CommandLineTask', 'tags': ['parse'], 'input_files': [], 'output_files': [], 'num_cores': 1, 'command': '/home/oge1/lammps/sapphire/analysis/exec/parse.sh /home/oge1/lammps/sapphire/analysis/data/Sub951By50/FullCyl30A/atom3 Sub951By50/FullCyl30A/atom3'}, {'label': '26', 'shape': 'rect', 'name': 'analyze_Sub951By50/FullCyl30A/atom3', 'task_type': 'CommandLineTask', 'tags': ['analyze'], 'input_files': [], 'output_files': [], 'num_cores': 1, 'command': '/home/oge1/lammps/sapphire/analysis/exec/analyze.sh /home/oge1/lammps/sapphire/analysis/results/Sub951By50/FullCyl30A/atom3/calculated.txt Sub951By50/FullCyl30A/atom3 polarScatter'}, {'label': '27', 'shape': 'rect', 'name': 'unzip_Sub951By50/FullCyl100A/atom1', 'task_type': 'CommandLineTask', 'tags': ['unzip'], 'input_files': [], 'output_files': [], 'num_cores': 1, 'command': 'pbzip2 -n 1 -cdk /home/mtsige/Bob/Sub951By50/FullCyl100A/atom1 > /home/oge1/lammps/sapphire/analysis/data/Sub951By50/FullCyl100A/atom1'}, {'label': '28', 'shape': 'rect', 'name': 'parse_Sub951By50/FullCyl100A/atom1', 'task_type': 'CommandLineTask', 'tags': ['parse'], 'input_files': [], 'output_files': [], 'num_cores': 1, 'command': '/home/oge1/lammps/sapphire/analysis/exec/parse.sh /home/oge1/lammps/sapphire/analysis/data/Sub951By50/FullCyl100A/atom1 Sub951By50/FullCyl100A/atom1'}, {'label': '29', 'shape': 'rect', 'name': 'analyze_Sub951By50/FullCyl100A/atom1', 'task_type': 'CommandLineTask', 'tags': ['analyze'], 'input_files': [], 'output_files': [], 'num_cores': 1, 'command': '/home/oge1/lammps/sapphire/analysis/exec/analyze.sh /home/oge1/lammps/sapphire/analysis/results/Sub951By50/FullCyl100A/atom1/calculated.txt Sub951By50/FullCyl100A/atom1 polarScatter'}, {'label': '30', 'shape': 'rect', 'name': 'unzip_Sub951By50/atom1', 'task_type': 'CommandLineTask', 'tags': ['unzip'], 'input_files': [], 'output_files': [], 'num_cores': 1, 'command': 'pbzip2 -n 1 -cdk /home/mtsige/Bob/Sub951By50/atom1 > /home/oge1/lammps/sapphire/analysis/data/Sub951By50/atom1'}, {'label': '31', 'shape': 'rect', 'name': 'parse_Sub951By50/atom1', 'task_type': 'CommandLineTask', 'tags': ['parse'], 'input_files': [], 'output_files': [], 'num_cores': 1, 'command': '/home/oge1/lammps/sapphire/analysis/exec/parse.sh /home/oge1/lammps/sapphire/analysis/data/Sub951By50/atom1 Sub951By50/atom1'}, {'label': '32', 'shape': 'rect', 'name': 'analyze_Sub951By50/atom1', 'task_type': 'CommandLineTask', 'tags': ['analyze'], 'input_files': [], 'output_files': [], 'num_cores': 1, 'command': '/home/oge1/lammps/sapphire/analysis/exec/analyze.sh /home/oge1/lammps/sapphire/analysis/results/Sub951By50/atom1/calculated.txt Sub951By50/atom1 polarScatter'}, {'label': '33', 'shape': 'rect', 'name': 'analyze_Sphere_Quartz/120By120/25A/atom1', 'task_type': 'CommandLineTask', 'tags': ['analyze'], 'input_files': [], 'output_files': [], 'num_cores': 1, 'command': '/home/oge1/lammps/sapphire/analysis/exec/analyze.sh /home/oge1/lammps/sapphire/analysis/results/Sphere_Quartz/120By120/25A/atom1/calculated.txt Sphere_Quartz/120By120/25A/atom1 polarScatter'}, {'label': '34', 'shape': 'rect', 'name': 'analyze_Sphere_Quartz/120By120/atom1', 'task_type': 'CommandLineTask', 'tags': ['analyze'], 'input_files': [], 'output_files': [], 'num_cores': 1, 'command': '/home/oge1/lammps/sapphire/analysis/exec/analyze.sh /home/oge1/lammps/sapphire/analysis/results/Sphere_Quartz/120By120/atom1/calculated.txt Sphere_Quartz/120By120/atom1 polarScatter'}, {'label': '35', 'shape': 'rect', 'name': 'analyze_Sphere_Quartz/403By51/atom4', 'task_type': 'CommandLineTask', 'tags': ['analyze'], 'input_files': [], 'output_files': [], 'num_cores': 1, 'command': '/home/oge1/lammps/sapphire/analysis/exec/analyze.sh /home/oge1/lammps/sapphire/analysis/results/Sphere_Quartz/403By51/atom4/calculated.txt Sphere_Quartz/403By51/atom4 polarScatter'}, {'label': '36', 'shape': 'rect', 'name': 'analyze_Sphere_Sapphire/50A/Repeat/atom1', 'task_type': 'CommandLineTask', 'tags': ['analyze'], 'input_files': [], 'output_files': [], 'num_cores': 1, 'command': '/home/oge1/lammps/sapphire/analysis/exec/analyze.sh /home/oge1/lammps/sapphire/analysis/results/Sphere_Sapphire/50A/Repeat/atom1/calculated.txt Sphere_Sapphire/50A/Repeat/atom1 polarScatter'}, {'label': '37', 'shape': 'rect', 'name': 'analyze_Sphere_Sapphire/60A/atom26', 'task_type': 'CommandLineTask', 'tags': ['analyze'], 'input_files': [], 'output_files': [], 'num_cores': 1, 'command': '/home/oge1/lammps/sapphire/analysis/exec/analyze.sh /home/oge1/lammps/sapphire/analysis/results/Sphere_Sapphire/60A/atom26/calculated.txt Sphere_Sapphire/60A/atom26 polarScatter'}], scales={'x': LinearScale(), 'y': LinearScale()}, scales_metadata={'x': {'orientation': 'horizontal', 'dimension': 'x'}, 'y': {'orientation': 'vertical', 'dimension': 'y'}, 'color': {'dimension': 'color'}, 'link_color': {'dimension': 'link_color'}}, selected=[0], selected_style={'stroke': 'red'}, tooltip_style={'opacity': 0.9}, x=array([  267.,   267.,   267.,   819.,   819.,   819.,  1371.,  1371.,\n",
       "        1371.,  1924.,  1924.,  1924.,  2478.,  2478.,  2478.,  3032.,\n",
       "        3032.,  3032.,  3586.,  3586.,  3586.,  4140.,  4140.,  4140.,\n",
       "        4695.,  4695.,  4695.,  5251.,  5251.,  5251.,  5807.,  5807.,\n",
       "        5807.,  6361.,  6913.,  7466.,  8019.,  8572.]), y=array([ 162.,   90.,   18.,  162.,   90.,   18.,  162.,   90.,   18.,\n",
       "        162.,   90.,   18.,  162.,   90.,   18.,  162.,   90.,   18.,\n",
       "        162.,   90.,   18.,  162.,   90.,   18.,  162.,   90.,   18.,\n",
       "        162.,   90.,   18.,  162.,   90.,   18.,  162.,  162.,  162.,\n",
       "        162.,  162.]))], min_aspect_ratio=0.0, scale_x=LinearScale(allow_padding=False, max=1.0, min=0.0), scale_y=LinearScale(allow_padding=False, max=1.0, min=0.0)), Toolbar(figure=Figure(fig_margin={'left': 10, 'right': 10, 'bottom': 10, 'top': 10}, layout=Layout(height='600px', width='400px'), marks=[Graph(colors=['#1f77b4', '#ff7f0e', '#2ca02c', '#d62728', '#9467bd', '#8c564b', '#e377c2', '#7f7f7f', '#bcbd22', '#17becf'], highlight_links=False, interactions={'hover': 'tooltip', 'click': 'select'}, link_data=[{'source': 0, 'target': 1}, {'source': 1, 'target': 2}, {'source': 3, 'target': 4}, {'source': 4, 'target': 5}, {'source': 6, 'target': 7}, {'source': 7, 'target': 8}, {'source': 9, 'target': 10}, {'source': 10, 'target': 11}, {'source': 12, 'target': 13}, {'source': 13, 'target': 14}, {'source': 15, 'target': 16}, {'source': 16, 'target': 17}, {'source': 18, 'target': 19}, {'source': 19, 'target': 20}, {'source': 21, 'target': 22}, {'source': 22, 'target': 23}, {'source': 24, 'target': 25}, {'source': 25, 'target': 26}, {'source': 27, 'target': 28}, {'source': 28, 'target': 29}, {'source': 30, 'target': 31}, {'source': 31, 'target': 32}], link_type='line', node_data=[{'label': '0', 'shape': 'rect', 'name': 'link_Sub951By50/FullCyl50A/atom1', 'task_type': 'CommandLineTask', 'tags': ['link'], 'input_files': [], 'output_files': [], 'num_cores': 1, 'command': 'ln -s /home/mtsige/Bob/Sub951By50/FullCyl50A/atom1 /home/oge1/lammps/sapphire/analysis/data/Sub951By50/FullCyl50A/atom1'}, {'label': '1', 'shape': 'rect', 'name': 'parse_Sub951By50/FullCyl50A/atom1', 'task_type': 'CommandLineTask', 'tags': ['parse'], 'input_files': [], 'output_files': [], 'num_cores': 1, 'command': '/home/oge1/lammps/sapphire/analysis/exec/parse.sh /home/oge1/lammps/sapphire/analysis/data/Sub951By50/FullCyl50A/atom1 Sub951By50/FullCyl50A/atom1'}, {'label': '2', 'shape': 'rect', 'name': 'analyze_Sub951By50/FullCyl50A/atom1', 'task_type': 'CommandLineTask', 'tags': ['analyze'], 'input_files': [], 'output_files': [], 'num_cores': 1, 'command': '/home/oge1/lammps/sapphire/analysis/exec/analyze.sh /home/oge1/lammps/sapphire/analysis/results/Sub951By50/FullCyl50A/atom1/calculated.txt Sub951By50/FullCyl50A/atom1 polarScatter'}, {'label': '3', 'shape': 'rect', 'name': 'link_Sub951By50/FullCyl50A/atom2', 'task_type': 'CommandLineTask', 'tags': ['link'], 'input_files': [], 'output_files': [], 'num_cores': 1, 'command': 'ln -s /home/mtsige/Bob/Sub951By50/FullCyl50A/atom2 /home/oge1/lammps/sapphire/analysis/data/Sub951By50/FullCyl50A/atom2'}, {'label': '4', 'shape': 'rect', 'name': 'parse_Sub951By50/FullCyl50A/atom2', 'task_type': 'CommandLineTask', 'tags': ['parse'], 'input_files': [], 'output_files': [], 'num_cores': 1, 'command': '/home/oge1/lammps/sapphire/analysis/exec/parse.sh /home/oge1/lammps/sapphire/analysis/data/Sub951By50/FullCyl50A/atom2 Sub951By50/FullCyl50A/atom2'}, {'label': '5', 'shape': 'rect', 'name': 'analyze_Sub951By50/FullCyl50A/atom2', 'task_type': 'CommandLineTask', 'tags': ['analyze'], 'input_files': [], 'output_files': [], 'num_cores': 1, 'command': '/home/oge1/lammps/sapphire/analysis/exec/analyze.sh /home/oge1/lammps/sapphire/analysis/results/Sub951By50/FullCyl50A/atom2/calculated.txt Sub951By50/FullCyl50A/atom2 polarScatter'}, {'label': '6', 'shape': 'rect', 'name': 'unzip_Sphere_Sapphire/30A/20AonMonolayer/atom2', 'task_type': 'CommandLineTask', 'tags': ['unzip'], 'input_files': [], 'output_files': [], 'num_cores': 1, 'command': 'pbzip2 -n 1 -cdk /home/mtsige/Bob/Sub3/30A/20AonMonolayer/atom2 > /home/oge1/lammps/sapphire/analysis/data/Sphere_Sapphire/30A/20AonMonolayer/atom2'}, {'label': '7', 'shape': 'rect', 'name': 'parse_Sphere_Sapphire/30A/20AonMonolayer/atom2', 'task_type': 'CommandLineTask', 'tags': ['parse'], 'input_files': [], 'output_files': [], 'num_cores': 1, 'command': '/home/oge1/lammps/sapphire/analysis/exec/parse.sh /home/oge1/lammps/sapphire/analysis/data/Sphere_Sapphire/30A/20AonMonolayer/atom2 Sphere_Sapphire/30A/20AonMonolayer/atom2'}, {'label': '8', 'shape': 'rect', 'name': 'analyze_Sphere_Sapphire/30A/20AonMonolayer/atom2', 'task_type': 'CommandLineTask', 'tags': ['analyze'], 'input_files': [], 'output_files': [], 'num_cores': 1, 'command': '/home/oge1/lammps/sapphire/analysis/exec/analyze.sh /home/oge1/lammps/sapphire/analysis/results/Sphere_Sapphire/30A/20AonMonolayer/atom2/calculated.txt Sphere_Sapphire/30A/20AonMonolayer/atom2 polarScatter'}, {'label': '9', 'shape': 'rect', 'name': 'unzip_Sub951By50/FullCyl20A/atom1', 'task_type': 'CommandLineTask', 'tags': ['unzip'], 'input_files': [], 'output_files': [], 'num_cores': 1, 'command': 'pbzip2 -n 1 -cdk /home/mtsige/Bob/Sub951By50/FullCyl20A/atom1 > /home/oge1/lammps/sapphire/analysis/data/Sub951By50/FullCyl20A/atom1'}, {'label': '10', 'shape': 'rect', 'name': 'parse_Sub951By50/FullCyl20A/atom1', 'task_type': 'CommandLineTask', 'tags': ['parse'], 'input_files': [], 'output_files': [], 'num_cores': 1, 'command': '/home/oge1/lammps/sapphire/analysis/exec/parse.sh /home/oge1/lammps/sapphire/analysis/data/Sub951By50/FullCyl20A/atom1 Sub951By50/FullCyl20A/atom1'}, {'label': '11', 'shape': 'rect', 'name': 'analyze_Sub951By50/FullCyl20A/atom1', 'task_type': 'CommandLineTask', 'tags': ['analyze'], 'input_files': [], 'output_files': [], 'num_cores': 1, 'command': '/home/oge1/lammps/sapphire/analysis/exec/analyze.sh /home/oge1/lammps/sapphire/analysis/results/Sub951By50/FullCyl20A/atom1/calculated.txt Sub951By50/FullCyl20A/atom1 polarScatter'}, {'label': '12', 'shape': 'rect', 'name': 'unzip_Sub951By50/FullCyl20A/atom2', 'task_type': 'CommandLineTask', 'tags': ['unzip'], 'input_files': [], 'output_files': [], 'num_cores': 1, 'command': 'pbzip2 -n 1 -cdk /home/mtsige/Bob/Sub951By50/FullCyl20A/atom2 > /home/oge1/lammps/sapphire/analysis/data/Sub951By50/FullCyl20A/atom2'}, {'label': '13', 'shape': 'rect', 'name': 'parse_Sub951By50/FullCyl20A/atom2', 'task_type': 'CommandLineTask', 'tags': ['parse'], 'input_files': [], 'output_files': [], 'num_cores': 1, 'command': '/home/oge1/lammps/sapphire/analysis/exec/parse.sh /home/oge1/lammps/sapphire/analysis/data/Sub951By50/FullCyl20A/atom2 Sub951By50/FullCyl20A/atom2'}, {'label': '14', 'shape': 'rect', 'name': 'analyze_Sub951By50/FullCyl20A/atom2', 'task_type': 'CommandLineTask', 'tags': ['analyze'], 'input_files': [], 'output_files': [], 'num_cores': 1, 'command': '/home/oge1/lammps/sapphire/analysis/exec/analyze.sh /home/oge1/lammps/sapphire/analysis/results/Sub951By50/FullCyl20A/atom2/calculated.txt Sub951By50/FullCyl20A/atom2 polarScatter'}, {'label': '15', 'shape': 'rect', 'name': 'unzip_Sub951By50/FullCyl20A/atom3', 'task_type': 'CommandLineTask', 'tags': ['unzip'], 'input_files': [], 'output_files': [], 'num_cores': 1, 'command': 'pbzip2 -n 1 -cdk /home/mtsige/Bob/Sub951By50/FullCyl20A/atom3 > /home/oge1/lammps/sapphire/analysis/data/Sub951By50/FullCyl20A/atom3'}, {'label': '16', 'shape': 'rect', 'name': 'parse_Sub951By50/FullCyl20A/atom3', 'task_type': 'CommandLineTask', 'tags': ['parse'], 'input_files': [], 'output_files': [], 'num_cores': 1, 'command': '/home/oge1/lammps/sapphire/analysis/exec/parse.sh /home/oge1/lammps/sapphire/analysis/data/Sub951By50/FullCyl20A/atom3 Sub951By50/FullCyl20A/atom3'}, {'label': '17', 'shape': 'rect', 'name': 'analyze_Sub951By50/FullCyl20A/atom3', 'task_type': 'CommandLineTask', 'tags': ['analyze'], 'input_files': [], 'output_files': [], 'num_cores': 1, 'command': '/home/oge1/lammps/sapphire/analysis/exec/analyze.sh /home/oge1/lammps/sapphire/analysis/results/Sub951By50/FullCyl20A/atom3/calculated.txt Sub951By50/FullCyl20A/atom3 polarScatter'}, {'label': '18', 'shape': 'rect', 'name': 'unzip_Sub951By50/FullCyl30A/atom1', 'task_type': 'CommandLineTask', 'tags': ['unzip'], 'input_files': [], 'output_files': [], 'num_cores': 1, 'command': 'pbzip2 -n 1 -cdk /home/mtsige/Bob/Sub951By50/FullCyl30A/atom1 > /home/oge1/lammps/sapphire/analysis/data/Sub951By50/FullCyl30A/atom1'}, {'label': '19', 'shape': 'rect', 'name': 'parse_Sub951By50/FullCyl30A/atom1', 'task_type': 'CommandLineTask', 'tags': ['parse'], 'input_files': [], 'output_files': [], 'num_cores': 1, 'command': '/home/oge1/lammps/sapphire/analysis/exec/parse.sh /home/oge1/lammps/sapphire/analysis/data/Sub951By50/FullCyl30A/atom1 Sub951By50/FullCyl30A/atom1'}, {'label': '20', 'shape': 'rect', 'name': 'analyze_Sub951By50/FullCyl30A/atom1', 'task_type': 'CommandLineTask', 'tags': ['analyze'], 'input_files': [], 'output_files': [], 'num_cores': 1, 'command': '/home/oge1/lammps/sapphire/analysis/exec/analyze.sh /home/oge1/lammps/sapphire/analysis/results/Sub951By50/FullCyl30A/atom1/calculated.txt Sub951By50/FullCyl30A/atom1 polarScatter'}, {'label': '21', 'shape': 'rect', 'name': 'unzip_Sub951By50/FullCyl30A/atom2', 'task_type': 'CommandLineTask', 'tags': ['unzip'], 'input_files': [], 'output_files': [], 'num_cores': 1, 'command': 'pbzip2 -n 1 -cdk /home/mtsige/Bob/Sub951By50/FullCyl30A/atom2 > /home/oge1/lammps/sapphire/analysis/data/Sub951By50/FullCyl30A/atom2'}, {'label': '22', 'shape': 'rect', 'name': 'parse_Sub951By50/FullCyl30A/atom2', 'task_type': 'CommandLineTask', 'tags': ['parse'], 'input_files': [], 'output_files': [], 'num_cores': 1, 'command': '/home/oge1/lammps/sapphire/analysis/exec/parse.sh /home/oge1/lammps/sapphire/analysis/data/Sub951By50/FullCyl30A/atom2 Sub951By50/FullCyl30A/atom2'}, {'label': '23', 'shape': 'rect', 'name': 'analyze_Sub951By50/FullCyl30A/atom2', 'task_type': 'CommandLineTask', 'tags': ['analyze'], 'input_files': [], 'output_files': [], 'num_cores': 1, 'command': '/home/oge1/lammps/sapphire/analysis/exec/analyze.sh /home/oge1/lammps/sapphire/analysis/results/Sub951By50/FullCyl30A/atom2/calculated.txt Sub951By50/FullCyl30A/atom2 polarScatter'}, {'label': '24', 'shape': 'rect', 'name': 'unzip_Sub951By50/FullCyl30A/atom3', 'task_type': 'CommandLineTask', 'tags': ['unzip'], 'input_files': [], 'output_files': [], 'num_cores': 1, 'command': 'pbzip2 -n 1 -cdk /home/mtsige/Bob/Sub951By50/FullCyl30A/atom3 > /home/oge1/lammps/sapphire/analysis/data/Sub951By50/FullCyl30A/atom3'}, {'label': '25', 'shape': 'rect', 'name': 'parse_Sub951By50/FullCyl30A/atom3', 'task_type': 'CommandLineTask', 'tags': ['parse'], 'input_files': [], 'output_files': [], 'num_cores': 1, 'command': '/home/oge1/lammps/sapphire/analysis/exec/parse.sh /home/oge1/lammps/sapphire/analysis/data/Sub951By50/FullCyl30A/atom3 Sub951By50/FullCyl30A/atom3'}, {'label': '26', 'shape': 'rect', 'name': 'analyze_Sub951By50/FullCyl30A/atom3', 'task_type': 'CommandLineTask', 'tags': ['analyze'], 'input_files': [], 'output_files': [], 'num_cores': 1, 'command': '/home/oge1/lammps/sapphire/analysis/exec/analyze.sh /home/oge1/lammps/sapphire/analysis/results/Sub951By50/FullCyl30A/atom3/calculated.txt Sub951By50/FullCyl30A/atom3 polarScatter'}, {'label': '27', 'shape': 'rect', 'name': 'unzip_Sub951By50/FullCyl100A/atom1', 'task_type': 'CommandLineTask', 'tags': ['unzip'], 'input_files': [], 'output_files': [], 'num_cores': 1, 'command': 'pbzip2 -n 1 -cdk /home/mtsige/Bob/Sub951By50/FullCyl100A/atom1 > /home/oge1/lammps/sapphire/analysis/data/Sub951By50/FullCyl100A/atom1'}, {'label': '28', 'shape': 'rect', 'name': 'parse_Sub951By50/FullCyl100A/atom1', 'task_type': 'CommandLineTask', 'tags': ['parse'], 'input_files': [], 'output_files': [], 'num_cores': 1, 'command': '/home/oge1/lammps/sapphire/analysis/exec/parse.sh /home/oge1/lammps/sapphire/analysis/data/Sub951By50/FullCyl100A/atom1 Sub951By50/FullCyl100A/atom1'}, {'label': '29', 'shape': 'rect', 'name': 'analyze_Sub951By50/FullCyl100A/atom1', 'task_type': 'CommandLineTask', 'tags': ['analyze'], 'input_files': [], 'output_files': [], 'num_cores': 1, 'command': '/home/oge1/lammps/sapphire/analysis/exec/analyze.sh /home/oge1/lammps/sapphire/analysis/results/Sub951By50/FullCyl100A/atom1/calculated.txt Sub951By50/FullCyl100A/atom1 polarScatter'}, {'label': '30', 'shape': 'rect', 'name': 'unzip_Sub951By50/atom1', 'task_type': 'CommandLineTask', 'tags': ['unzip'], 'input_files': [], 'output_files': [], 'num_cores': 1, 'command': 'pbzip2 -n 1 -cdk /home/mtsige/Bob/Sub951By50/atom1 > /home/oge1/lammps/sapphire/analysis/data/Sub951By50/atom1'}, {'label': '31', 'shape': 'rect', 'name': 'parse_Sub951By50/atom1', 'task_type': 'CommandLineTask', 'tags': ['parse'], 'input_files': [], 'output_files': [], 'num_cores': 1, 'command': '/home/oge1/lammps/sapphire/analysis/exec/parse.sh /home/oge1/lammps/sapphire/analysis/data/Sub951By50/atom1 Sub951By50/atom1'}, {'label': '32', 'shape': 'rect', 'name': 'analyze_Sub951By50/atom1', 'task_type': 'CommandLineTask', 'tags': ['analyze'], 'input_files': [], 'output_files': [], 'num_cores': 1, 'command': '/home/oge1/lammps/sapphire/analysis/exec/analyze.sh /home/oge1/lammps/sapphire/analysis/results/Sub951By50/atom1/calculated.txt Sub951By50/atom1 polarScatter'}, {'label': '33', 'shape': 'rect', 'name': 'analyze_Sphere_Quartz/120By120/25A/atom1', 'task_type': 'CommandLineTask', 'tags': ['analyze'], 'input_files': [], 'output_files': [], 'num_cores': 1, 'command': '/home/oge1/lammps/sapphire/analysis/exec/analyze.sh /home/oge1/lammps/sapphire/analysis/results/Sphere_Quartz/120By120/25A/atom1/calculated.txt Sphere_Quartz/120By120/25A/atom1 polarScatter'}, {'label': '34', 'shape': 'rect', 'name': 'analyze_Sphere_Quartz/120By120/atom1', 'task_type': 'CommandLineTask', 'tags': ['analyze'], 'input_files': [], 'output_files': [], 'num_cores': 1, 'command': '/home/oge1/lammps/sapphire/analysis/exec/analyze.sh /home/oge1/lammps/sapphire/analysis/results/Sphere_Quartz/120By120/atom1/calculated.txt Sphere_Quartz/120By120/atom1 polarScatter'}, {'label': '35', 'shape': 'rect', 'name': 'analyze_Sphere_Quartz/403By51/atom4', 'task_type': 'CommandLineTask', 'tags': ['analyze'], 'input_files': [], 'output_files': [], 'num_cores': 1, 'command': '/home/oge1/lammps/sapphire/analysis/exec/analyze.sh /home/oge1/lammps/sapphire/analysis/results/Sphere_Quartz/403By51/atom4/calculated.txt Sphere_Quartz/403By51/atom4 polarScatter'}, {'label': '36', 'shape': 'rect', 'name': 'analyze_Sphere_Sapphire/50A/Repeat/atom1', 'task_type': 'CommandLineTask', 'tags': ['analyze'], 'input_files': [], 'output_files': [], 'num_cores': 1, 'command': '/home/oge1/lammps/sapphire/analysis/exec/analyze.sh /home/oge1/lammps/sapphire/analysis/results/Sphere_Sapphire/50A/Repeat/atom1/calculated.txt Sphere_Sapphire/50A/Repeat/atom1 polarScatter'}, {'label': '37', 'shape': 'rect', 'name': 'analyze_Sphere_Sapphire/60A/atom26', 'task_type': 'CommandLineTask', 'tags': ['analyze'], 'input_files': [], 'output_files': [], 'num_cores': 1, 'command': '/home/oge1/lammps/sapphire/analysis/exec/analyze.sh /home/oge1/lammps/sapphire/analysis/results/Sphere_Sapphire/60A/atom26/calculated.txt Sphere_Sapphire/60A/atom26 polarScatter'}], scales={'x': LinearScale(), 'y': LinearScale()}, scales_metadata={'x': {'orientation': 'horizontal', 'dimension': 'x'}, 'y': {'orientation': 'vertical', 'dimension': 'y'}, 'color': {'dimension': 'color'}, 'link_color': {'dimension': 'link_color'}}, selected=[0], selected_style={'stroke': 'red'}, tooltip_style={'opacity': 0.9}, x=array([  267.,   267.,   267.,   819.,   819.,   819.,  1371.,  1371.,\n",
       "        1371.,  1924.,  1924.,  1924.,  2478.,  2478.,  2478.,  3032.,\n",
       "        3032.,  3032.,  3586.,  3586.,  3586.,  4140.,  4140.,  4140.,\n",
       "        4695.,  4695.,  4695.,  5251.,  5251.,  5251.,  5807.,  5807.,\n",
       "        5807.,  6361.,  6913.,  7466.,  8019.,  8572.]), y=array([ 162.,   90.,   18.,  162.,   90.,   18.,  162.,   90.,   18.,\n",
       "        162.,   90.,   18.,  162.,   90.,   18.,  162.,   90.,   18.,\n",
       "        162.,   90.,   18.,  162.,   90.,   18.,  162.,   90.,   18.,\n",
       "        162.,   90.,   18.,  162.,   90.,   18.,  162.,  162.,  162.,\n",
       "        162.,  162.]))], min_aspect_ratio=0.0, scale_x=LinearScale(allow_padding=False, max=1.0, min=0.0), scale_y=LinearScale(allow_padding=False, max=1.0, min=0.0))))), Tab(children=(VBox(children=(HTML(value='<b>Workflow Description</b>'), EditHTML(children=(HTMLMath(value='', layout=Layout(border='1px lightgray solid', padding='10px')), Button(description='Edit Description', style=ButtonStyle()))), Box(layout=Layout(height='20px', width='0px')), HTML(value='<b>Worker Pools</b>'), VBox(children=(Dropdown(options=(('default', <workflow_objects.WorkerPool object at 0x2aaac43519b0>),), value=<workflow_objects.WorkerPool object at 0x2aaac43519b0>), Button(button_style='success', description='Run Workflow', style=ButtonStyle()))))), VBox(children=(HTML(value='<b>Task Description</b>'), EditHTML(children=(HTMLMath(value='None selected.', layout=Layout(border='1px lightgray solid', padding='10px')), Button(description='Edit Description', disabled=True, style=ButtonStyle()))), Box(layout=Layout(height='20px', width='0px')), HTML(value='<b>Task Metadata</b>'), HTML(value=''))), VBox(children=(HTML(value='<b>Tags</b>'), Select(options=('link', 'parse', 'analyze', 'unzip'), value='link'), HTML(value='<b>Actions</b>'), Text(value='', description='Tag name'), HBox(children=(VBox(children=(Button(description='Select All', style=ButtonStyle()), Button(description='Select None', style=ButtonStyle()), Button(description='Select Children', style=ButtonStyle()), Button(description='Select Parents', style=ButtonStyle()), Button(description='Tag to Selection', style=ButtonStyle()), Button(description='Selection to Tag', style=ButtonStyle()))), VBox(children=(Button(description='New Tag', style=ButtonStyle()), Button(description='Del Tag', style=ButtonStyle()))))))), VBox(children=(HTML(value='<b>Messages from WorkflowWidget:</b>'), Box(children=(Output(),), layout=Layout(border='1px lightgray solid', padding='10px')), Box(layout=Layout(height='10px', width='0px')), Button(description='Clear', style=ButtonStyle())))), layout=Layout(height='600px', width='400px'), _titles={'0': 'Workflow', '1': 'Task', '2': 'Tags', '3': 'Widget Log'})))"
      ]
     },
     "metadata": {},
     "output_type": "display_data"
    }
   ],
   "source": [
    "wsww = WorkflowWidget(wf, wpw)\n",
    "wsww"
   ]
  }
 ],
 "metadata": {
  "anaconda-cloud": {},
  "kernelspec": {
   "display_name": "Python 3",
   "language": "python",
   "name": "python3"
  },
  "language_info": {
   "codemirror_mode": {
    "name": "ipython",
    "version": 3
   },
   "file_extension": ".py",
   "mimetype": "text/x-python",
   "name": "python",
   "nbconvert_exporter": "python",
   "pygments_lexer": "ipython3",
   "version": "3.6.1"
  },
  "nbpresent": {
   "slides": {
    "155f84f5-466f-471e-a62e-3e29af2a0b07": {
     "id": "155f84f5-466f-471e-a62e-3e29af2a0b07",
     "layout": "treemap",
     "prev": null,
     "regions": {
      "07ca5e74-1463-4823-91e1-8e63237bba3b": {
       "attrs": {
        "height": 0.75,
        "treemap:weight": 1,
        "width": 0.33,
        "x": 0,
        "y": 0
       },
       "id": "07ca5e74-1463-4823-91e1-8e63237bba3b"
      },
      "5a7da22f-c1cb-42e8-92f3-4c9e251f6e5e": {
       "attrs": {
        "height": 0.75,
        "pad": 0.01,
        "treemap:weight": 1,
        "width": 0.34,
        "x": 0.66,
        "y": 0
       },
       "id": "5a7da22f-c1cb-42e8-92f3-4c9e251f6e5e"
      },
      "80858f3b-345d-4098-90a3-0b575ba71503": {
       "attrs": {
        "height": 0.25,
        "pad": 0.01,
        "treemap:weight": 1,
        "width": 1,
        "x": 0,
        "y": 0.75
       },
       "id": "80858f3b-345d-4098-90a3-0b575ba71503"
      },
      "a269929c-67ca-4b00-a834-251426b7bc25": {
       "attrs": {
        "height": 0.75,
        "treemap:weight": 1,
        "width": 0.33,
        "x": 0.33,
        "y": 0
       },
       "id": "a269929c-67ca-4b00-a834-251426b7bc25"
      }
     }
    }
   },
   "themes": {}
  }
 },
 "nbformat": 4,
 "nbformat_minor": 2
}
