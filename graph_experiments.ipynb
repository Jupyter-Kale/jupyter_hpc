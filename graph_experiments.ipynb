{
 "cells": [
  {
   "cell_type": "code",
   "execution_count": 1,
   "metadata": {
    "collapsed": true
   },
   "outputs": [],
   "source": [
    "import ipywidgets as ipw\n",
    "import bqplot as bq\n",
    "import numpy as np\n",
    "from bqplot.marks import Graph\n",
    "from collections import defaultdict\n",
    "import networkx as nx"
   ]
  },
  {
   "cell_type": "code",
   "execution_count": 2,
   "metadata": {
    "collapsed": true
   },
   "outputs": [],
   "source": [
    "def rand_dag(n):\n",
    "    \"Generate random DAG adjacency matrix.\"\n",
    "    return np.tril(np.random.randint(0, 2, [n, n]), k=-1)"
   ]
  },
  {
   "cell_type": "code",
   "execution_count": 3,
   "metadata": {
    "collapsed": true
   },
   "outputs": [],
   "source": [
    "def gen_bq_dag(adj_mat):\n",
    "    \"Generate bqplot Graph object of DAG given adjacency matrix.\"\n",
    "    \n",
    "    nxg = nx.from_numpy_matrix(adj_mat)\n",
    "\n",
    "    pos = nx.nx_pydot.graphviz_layout(nxg, prog='dot')\n",
    "    x, y = np.array([pos[i] for i in range(N)]).T\n",
    "\n",
    "    link_data = [{'source': source, 'target': target} for source, target in nxg.edges()]\n",
    "\n",
    "    graph = Graph(\n",
    "        node_data=node_data,\n",
    "        link_data=link_data,\n",
    "        scales=scales,\n",
    "        link_type='line',\n",
    "        highlight_links=False,\n",
    "        x=x, y=y\n",
    "    )\n",
    "    \n",
    "    return nxg, graph"
   ]
  },
  {
   "cell_type": "code",
   "execution_count": 4,
   "metadata": {},
   "outputs": [],
   "source": [
    "fig_layout = ipw.Layout(width='600px', height='800px')"
   ]
  },
  {
   "cell_type": "code",
   "execution_count": 5,
   "metadata": {},
   "outputs": [],
   "source": [
    "xs = bq.LinearScale()\n",
    "ys = bq.LinearScale()\n",
    "scales = {'x': xs, 'y': ys}"
   ]
  },
  {
   "cell_type": "code",
   "execution_count": 6,
   "metadata": {
    "collapsed": true
   },
   "outputs": [],
   "source": [
    "node_data = list('ABCDEF')\n",
    "N = len(node_data)"
   ]
  },
  {
   "cell_type": "code",
   "execution_count": 7,
   "metadata": {},
   "outputs": [
    {
     "data": {
      "application/vnd.jupyter.widget-view+json": {
       "model_id": "72cf8af53ce9409da30f7bf8552754bc",
       "version_major": "2",
       "version_minor": "0"
      },
      "text/plain": [
       "A Jupyter Widget"
      ]
     },
     "metadata": {},
     "output_type": "display_data"
    }
   ],
   "source": [
    "adj_mat = rand_dag(N)\n",
    "nxg, graph = gen_bq_dag(adj_mat)\n",
    "f = bq.Figure(marks=[graph], layout=fig_layout)\n",
    "f"
   ]
  },
  {
   "cell_type": "code",
   "execution_count": 8,
   "metadata": {},
   "outputs": [
    {
     "data": {
      "text/plain": [
       "[{'source': 0, 'target': 5},\n",
       " {'source': 1, 'target': 4},\n",
       " {'source': 1, 'target': 5},\n",
       " {'source': 2, 'target': 3},\n",
       " {'source': 2, 'target': 4},\n",
       " {'source': 2, 'target': 5},\n",
       " {'source': 3, 'target': 5},\n",
       " {'source': 4, 'target': 5}]"
      ]
     },
     "execution_count": 8,
     "metadata": {},
     "output_type": "execute_result"
    }
   ],
   "source": [
    "f.marks[0].link_data"
   ]
  },
  {
   "cell_type": "code",
   "execution_count": 9,
   "metadata": {},
   "outputs": [
    {
     "data": {
      "text/plain": [
       "<networkx.classes.graph.Graph at 0x2ac462c57828>"
      ]
     },
     "execution_count": 9,
     "metadata": {},
     "output_type": "execute_result"
    }
   ],
   "source": [
    "nxg"
   ]
  },
  {
   "cell_type": "code",
   "execution_count": 10,
   "metadata": {
    "collapsed": true
   },
   "outputs": [],
   "source": [
    "graph.metadata = []"
   ]
  },
  {
   "cell_type": "markdown",
   "metadata": {},
   "source": [
    "## Generate toy metadata"
   ]
  },
  {
   "cell_type": "code",
   "execution_count": 11,
   "metadata": {
    "collapsed": true
   },
   "outputs": [],
   "source": [
    "def gen_metadata(i):\n",
    "    words = \"cheese tacos alfredo avocado sasquatch alfred omega landlady\".split()\n",
    "    return dict(\n",
    "        name='Step {}'.format(graph.node_data[i]),\n",
    "        date='Tuesday the {}th'.format(30-i),\n",
    "        word=words[i]\n",
    "    )"
   ]
  },
  {
   "cell_type": "code",
   "execution_count": 12,
   "metadata": {
    "collapsed": true
   },
   "outputs": [],
   "source": [
    "for i in range(len(graph.node_data)):\n",
    "    graph.metadata.append(gen_metadata(i))"
   ]
  },
  {
   "cell_type": "code",
   "execution_count": 13,
   "metadata": {},
   "outputs": [
    {
     "data": {
      "text/plain": [
       "[{'date': 'Tuesday the 30th', 'name': 'Step A', 'word': 'cheese'},\n",
       " {'date': 'Tuesday the 29th', 'name': 'Step B', 'word': 'tacos'},\n",
       " {'date': 'Tuesday the 28th', 'name': 'Step C', 'word': 'alfredo'},\n",
       " {'date': 'Tuesday the 27th', 'name': 'Step D', 'word': 'avocado'},\n",
       " {'date': 'Tuesday the 26th', 'name': 'Step E', 'word': 'sasquatch'},\n",
       " {'date': 'Tuesday the 25th', 'name': 'Step F', 'word': 'alfred'}]"
      ]
     },
     "execution_count": 13,
     "metadata": {},
     "output_type": "execute_result"
    }
   ],
   "source": [
    "graph.metadata"
   ]
  },
  {
   "cell_type": "markdown",
   "metadata": {},
   "source": [
    "# Workflow Widget"
   ]
  },
  {
   "cell_type": "code",
   "execution_count": 14,
   "metadata": {
    "collapsed": true
   },
   "outputs": [],
   "source": [
    "class EditHTML(ipw.VBox):\n",
    "    def __init__(self, value='', text_height=400):\n",
    "        super().__init__()\n",
    "        self.HTML = ipw.HTMLMath(value=value)\n",
    "        self.Text = ipw.Textarea(value=value)\n",
    "        self.ToggleButton = ipw.Button(description='Toggle')\n",
    "        \n",
    "        self.elements = [self.HTML, self.Text]\n",
    "        self.descriptions = ['Edit', 'Render']\n",
    "        ipw.jslink((self.HTML, 'value'), (self.Text, 'value'))\n",
    "        \n",
    "        # Set height and width of Textarea\n",
    "        self.Text.layout.height = u'{}px'.format(text_height)\n",
    "        self.Text.layout.width = u'95%'\n",
    "        \n",
    "        # Set HTML view by default\n",
    "        self.set_view(0)\n",
    "        \n",
    "        self.ToggleButton.on_click(self.toggle)\n",
    "    \n",
    "    def set_view(self, state):\n",
    "        self.state = state\n",
    "        self.children = [self.elements[state], self.ToggleButton]\n",
    "        self.ToggleButton.description = self.descriptions[state]\n",
    "        \n",
    "    def toggle(self, caller):\n",
    "        self.set_view((self.state+1)%2)"
   ]
  },
  {
   "cell_type": "code",
   "execution_count": 29,
   "metadata": {
    "collapsed": true
   },
   "outputs": [],
   "source": [
    "class WorkflowWidget(ipw.HBox):\n",
    "    \"Widget to draw DAG via bqplot and provide node-level info/interaction.\"\n",
    "    def __init__(self, bqgraph):\n",
    "        super(WorkflowWidget, self).__init__()\n",
    "        \n",
    "        # Define variables\n",
    "        self.bqgraph = bqgraph\n",
    "        self._fig_layout = ipw.Layout(width='400px', height='600px')\n",
    "        self._xs = bq.LinearScale()\n",
    "        self._ys = bq.LinearScale()\n",
    "        self._scales = {'x': xs, 'y': ys}\n",
    "        mgin = 10\n",
    "        \n",
    "        # Define elements\n",
    "        self._metadata_template = \"\"\"\n",
    "        Node name: {name}\n",
    "        <br>\n",
    "        Last modified: {date}\n",
    "        <br>\n",
    "        Description: {word}\n",
    "        \"\"\"\n",
    "        self._metadata = ipw.HTML()\n",
    "        \n",
    "        readme_html = EditHTML(r\"\"\"\n",
    "            <h1>Radiative Transfer</h1>\n",
    "\n",
    "            The Radiative Transfer Equation is given by\n",
    "\n",
    "            <p>\n",
    "            $$\\nabla I \\cdot \\omega = -c\\, I(x, \\omega) + \\int_\\Omega \\beta(|\\omega-\\omega'|)\\, I(x, \\omega')$$\n",
    "            </p>\n",
    "\n",
    "            It is useful for\n",
    "            <ul>\n",
    "            <li>\n",
    "            Stellar astrophysics\n",
    "            </li>\n",
    "            <li>\n",
    "            Kelp\n",
    "            </li>\n",
    "            <li>\n",
    "            Nice conversations\n",
    "            </li>\n",
    "            </ul>\n",
    "\n",
    "            And is explained well by the following diagram.\n",
    "            <br />\n",
    "            <br />\n",
    "            <img width=300px src=\"http://soap.siteturbine.com/uploaded_files/www.oceanopticsbook.info/images/WebBook/0dd27b964e95146d0af2052b67c7b5df.png\" />\n",
    "        \"\"\")\n",
    "        self._notebook_button = ipw.Button(\n",
    "            description='Open Notebook',\n",
    "            button_style='success'\n",
    "        )\n",
    "        self._log_path_input = ipw.Text(\n",
    "            description='Log path',\n",
    "            value='/etc/login.defs'\n",
    "        )\n",
    "        self._log_html = ipw.HTML()\n",
    "        \n",
    "        self._readme_area = ipw.VBox([\n",
    "            readme_html\n",
    "        ])\n",
    "        self._info_area = ipw.VBox([\n",
    "            self._notebook_button,\n",
    "            self._metadata\n",
    "        ])\n",
    "        self._log_area = ipw.VBox([\n",
    "            self._log_path_input,\n",
    "            self._log_html\n",
    "        ])\n",
    "        \n",
    "        self._graph_plot = bq.Figure(\n",
    "            marks=[self.bqgraph],\n",
    "            layout=self._fig_layout\n",
    "        )\n",
    "        self._tab = ipw.Tab([\n",
    "            self._readme_area,\n",
    "            self._info_area,\n",
    "            self._log_area\n",
    "        ])\n",
    "        \n",
    "        # Define layout\n",
    "        self.children = [\n",
    "            self._graph_plot,\n",
    "            self._tab,\n",
    "        ]\n",
    "        \n",
    "        # Set attributes\n",
    "        self._tab.set_title(0, 'Readme')\n",
    "        self._tab.set_title(1, 'Info')\n",
    "        self._tab.set_title(2, 'Log')\n",
    "        self._tab.layout.height = self._fig_layout.height\n",
    "        self._tab.layout.width = self._fig_layout.width\n",
    "        \n",
    "        #self._graph_plot.layout.border = '3px red solid'\n",
    "        self._graph_plot.fig_margin = dict(\n",
    "            left=mgin,\n",
    "            right=mgin,\n",
    "            bottom=mgin,\n",
    "            top=mgin\n",
    "        )\n",
    "        self._graph_plot.min_aspect_ratio = 0\n",
    "        \n",
    "        # Graph style\n",
    "        self.bqgraph.selected_style = dict(\n",
    "            stroke='red'\n",
    "        )\n",
    "        \n",
    "        # Default selections\n",
    "        self._tab.selected_index = 0\n",
    "        self.bqgraph.selected = [0]\n",
    "        \n",
    "        # Logic\n",
    "        self.bqgraph.observe(self._call_update_metadata, names='selected')\n",
    "        self._log_path_input.on_submit(self._call_read_log)\n",
    "        \n",
    "        # Run updates\n",
    "        self._call_read_log()\n",
    "        self._update_metadata(self.bqgraph.metadata[0])\n",
    "    \n",
    "    def _update_metadata(self, metadata):\n",
    "        try:\n",
    "            self._metadata.value = self._metadata_template.format(**metadata)\n",
    "        except KeyError:\n",
    "            print(\"Weird KeyError.\")\n",
    "       \n",
    "    def _call_update_metadata(self, change):\n",
    "        try:\n",
    "            new_name = self.bqgraph.metadata[change['new'][0]]\n",
    "        except TypeError:\n",
    "            new_name = defaultdict(str)\n",
    "        self._update_metadata(new_name)\n",
    "    \n",
    "    def _read_log(self, log_path):\n",
    "        try:\n",
    "            with open(log_path) as log_file:\n",
    "                log_text = log_file.read()\n",
    "        except IOError:\n",
    "            log_text = 'Error opening {}'.format(log_path)\n",
    "        \n",
    "        self._log_html.value = log_text\n",
    "    \n",
    "    def _call_read_log(self, caller=None):\n",
    "        log_path = self._log_path_input.value\n",
    "        self._read_log(log_path)"
   ]
  },
  {
   "cell_type": "code",
   "execution_count": 30,
   "metadata": {
    "scrolled": false
   },
   "outputs": [
    {
     "data": {
      "application/vnd.jupyter.widget-view+json": {
       "model_id": "83696d0b1c55402390f53a47a2c12fbb",
       "version_major": "2",
       "version_minor": "0"
      },
      "text/plain": [
       "A Jupyter Widget"
      ]
     },
     "metadata": {},
     "output_type": "display_data"
    }
   ],
   "source": [
    "w = WorkflowWidget(graph)\n",
    "w"
   ]
  },
  {
   "cell_type": "code",
   "execution_count": 33,
   "metadata": {},
   "outputs": [
    {
     "data": {
      "text/plain": [
       "[{'date': 'Tuesday the 30th', 'name': 'Step A', 'word': 'cheese'},\n",
       " {'date': 'Tuesday the 29th', 'name': 'Step B', 'word': 'tacos'},\n",
       " {'date': 'Tuesday the 28th', 'name': 'Step C', 'word': 'alfredo'},\n",
       " {'date': 'Tuesday the 27th', 'name': 'Step D', 'word': 'avocado'},\n",
       " {'date': 'Tuesday the 26th', 'name': 'Step E', 'word': 'sasquatch'},\n",
       " {'date': 'Tuesday the 25th', 'name': 'Step F', 'word': 'alfred'}]"
      ]
     },
     "execution_count": 33,
     "metadata": {},
     "output_type": "execute_result"
    }
   ],
   "source": [
    "w.bqgraph.metadata"
   ]
  },
  {
   "cell_type": "code",
   "execution_count": 32,
   "metadata": {},
   "outputs": [
    {
     "data": {
      "application/vnd.jupyter.widget-view+json": {
       "model_id": "3e27cfec14cd4b959dbeacfaa9329fb1",
       "version_major": "2",
       "version_minor": "0"
      },
      "text/plain": [
       "A Jupyter Widget"
      ]
     },
     "metadata": {},
     "output_type": "display_data"
    }
   ],
   "source": [
    "w._metadata"
   ]
  }
 ],
 "metadata": {
  "kernelspec": {
   "display_name": "Python 3",
   "language": "python",
   "name": "python3"
  },
  "language_info": {
   "codemirror_mode": {
    "name": "ipython",
    "version": 3
   },
   "file_extension": ".py",
   "mimetype": "text/x-python",
   "name": "python",
   "nbconvert_exporter": "python",
   "pygments_lexer": "ipython3",
   "version": "3.6.0"
  }
 },
 "nbformat": 4,
 "nbformat_minor": 2
}
