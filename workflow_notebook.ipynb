{
 "cells": [
  {
   "cell_type": "code",
   "execution_count": 1,
   "metadata": {},
   "outputs": [],
   "source": [
    "%load_ext autoreload\n",
    "%autoreload 2"
   ]
  },
  {
   "cell_type": "code",
   "execution_count": 2,
   "metadata": {},
   "outputs": [],
   "source": [
    "from workflow_widgets import WorkflowWidget\n",
    "from droplet_workflow import droplet_wf\n",
    "import workflow_objects as kale"
   ]
  },
  {
   "cell_type": "code",
   "execution_count": 3,
   "metadata": {},
   "outputs": [],
   "source": [
    "from concurrent.futures import ThreadPoolExecutor"
   ]
  },
  {
   "cell_type": "code",
   "execution_count": 4,
   "metadata": {},
   "outputs": [],
   "source": [
    "import fireworks as fw\n",
    "from fireworks.core.rocket_launcher import rapidfire"
   ]
  },
  {
   "cell_type": "code",
   "execution_count": 5,
   "metadata": {},
   "outputs": [],
   "source": [
    "import ipywidgets as ipw"
   ]
  },
  {
   "cell_type": "code",
   "execution_count": 6,
   "metadata": {},
   "outputs": [
    {
     "data": {
      "application/vnd.jupyter.widget-view+json": {
       "model_id": "0e0807281e8844cbb871a4883bb355d5",
       "version_major": 2,
       "version_minor": 0
      },
      "text/plain": [
       "A Jupyter Widget"
      ]
     },
     "metadata": {},
     "output_type": "display_data"
    },
    {
     "data": {
      "text/plain": [
       "<function __main__.<lambda>>"
      ]
     },
     "execution_count": 6,
     "metadata": {},
     "output_type": "execute_result"
    }
   ],
   "source": [
    "ipw.interact(lambda x: x, x=True)"
   ]
  },
  {
   "cell_type": "markdown",
   "metadata": {},
   "source": [
    "# Example Workflow"
   ]
  },
  {
   "cell_type": "markdown",
   "metadata": {},
   "source": [
    "## Define Workflow"
   ]
  },
  {
   "cell_type": "code",
   "execution_count": 89,
   "metadata": {},
   "outputs": [],
   "source": [
    "t = kale.Task('test')\n",
    "\n",
    "example_wf = kale.Workflow('example_wf')\n",
    "\n",
    "n_echos = 10\n",
    "n_tasks = 10\n",
    "out_file = \"out.txt\"\n",
    "\n",
    "pwd_task = kale.CommandLineTask(\n",
    "    name='pwd_task',\n",
    "    command=\"\"\"echo \"Hello from '`pwd`'.\" > {out_file}\"\"\",\n",
    "    output_files=[\"{out_file}\"],\n",
    "    params=dict(out_file=out_file)\n",
    ")\n",
    "\n",
    "echo_tasks = [\n",
    "    kale.CommandLineTask(\n",
    "        name='echo_task_{i}',\n",
    "        command='for j in {{1..{n_echos}}}; do echo \"Hello #{i}: $j\" >> {out_file}; sleep 1; done',\n",
    "        output_files=[\"{out_file}\"],\n",
    "        params=dict(out_file=out_file, i=i, n_echos=n_echos)\n",
    "    )\n",
    "    for i in range(n_tasks)\n",
    "]\n",
    "\n",
    "done_task = kale.CommandLineTask(\n",
    "    name='done_task',\n",
    "    command=\"echo 'Done!' >> {out_file}\",\n",
    "    output_files=[\"{out_file}\"],\n",
    "    params=dict(out_file=out_file)\n",
    ")\n",
    "\n",
    "example_wf.add_task(pwd_task)\n",
    "for i in range(n_tasks):\n",
    "    example_wf.add_task(echo_tasks[i], dependencies=[pwd_task])\n",
    "example_wf.add_task(done_task, dependencies=echo_tasks)\n"
   ]
  },
  {
   "cell_type": "code",
   "execution_count": 90,
   "metadata": {
    "scrolled": false
   },
   "outputs": [
    {
     "name": "stdout",
     "output_type": "stream",
     "text": [
      "/home/oliver/lbl/jupyter_hpc\n",
      "2017-08-11 17:27:55,212 INFO Performing db tune-up\n",
      "2017-08-11 17:27:55,224 INFO LaunchPad was RESET.\n"
     ]
    },
    {
     "data": {
      "application/vnd.jupyter.widget-view+json": {
       "model_id": "0a7ad6ced7d849afa36b62455214fa0f",
       "version_major": 2,
       "version_minor": 0
      },
      "text/plain": [
       "A Jupyter Widget"
      ]
     },
     "metadata": {},
     "output_type": "display_data"
    }
   ],
   "source": [
    "%cd /home/oliver/lbl/jupyter_hpc\n",
    "\n",
    "pool = kale.WorkerPool(num_workers=4)\n",
    "\n",
    "pool.log_area.clear_output()\n",
    "pool.log_area"
   ]
  },
  {
   "cell_type": "code",
   "execution_count": 97,
   "metadata": {
    "scrolled": false
   },
   "outputs": [],
   "source": [
    "w = WorkflowWidget(example_wf)"
   ]
  },
  {
   "cell_type": "code",
   "execution_count": 98,
   "metadata": {},
   "outputs": [
    {
     "data": {
      "application/vnd.jupyter.widget-view+json": {
       "model_id": "c293c0b3304e46638f9834018628d4ae",
       "version_major": 2,
       "version_minor": 0
      },
      "text/plain": [
       "A Jupyter Widget"
      ]
     },
     "metadata": {},
     "output_type": "display_data"
    }
   ],
   "source": [
    "w"
   ]
  },
  {
   "cell_type": "code",
   "execution_count": 99,
   "metadata": {},
   "outputs": [
    {
     "data": {
      "text/plain": [
       "<workflow_objects.Workflow at 0x7fb9bde9ba20>"
      ]
     },
     "execution_count": 99,
     "metadata": {},
     "output_type": "execute_result"
    }
   ],
   "source": [
    "w.workflow."
   ]
  },
  {
   "cell_type": "markdown",
   "metadata": {},
   "source": [
    "# I need a widget to manage/create WorkerPools.\n",
    "\n",
    "WorkflowWidget should take WorkerPools as arguments. Or at least contain a dropdown menu to select them.\n",
    "\n",
    "OR: We could separate the running and viewing altogether. So there would be another widget with any instantiated workflows and UI to associate them with WorkerPools and run them. I like this the best, I think."
   ]
  },
  {
   "cell_type": "code",
   "execution_count": 96,
   "metadata": {
    "scrolled": false
   },
   "outputs": [
    {
     "name": "stdout",
     "output_type": "stream",
     "text": [
      "2017-08-11 17:31:36,642 INFO Added a workflow. id_map: {25: 37, 26: 38, 27: 39, 28: 40, 29: 41, 30: 42, 31: 43, 32: 44, 33: 45, 34: 46, 35: 47, 36: 48}\n"
     ]
    },
    {
     "name": "stderr",
     "output_type": "stream",
     "text": [
      "[autoreload of workflow_objects failed: Traceback (most recent call last):\n",
      "  File \"/home/oliver/local/miniconda3/envs/jupyter-hpc/lib/python3.6/site-packages/IPython/extensions/autoreload.py\", line 246, in check\n",
      "    superreload(m, reload, self.old_objects)\n",
      "  File \"/home/oliver/local/miniconda3/envs/jupyter-hpc/lib/python3.6/site-packages/IPython/extensions/autoreload.py\", line 369, in superreload\n",
      "    module = reload(module)\n",
      "  File \"/home/oliver/local/miniconda3/envs/jupyter-hpc/lib/python3.6/imp.py\", line 314, in reload\n",
      "    return importlib.reload(module)\n",
      "  File \"/home/oliver/local/miniconda3/envs/jupyter-hpc/lib/python3.6/importlib/__init__.py\", line 166, in reload\n",
      "    _bootstrap._exec(spec, module)\n",
      "  File \"<frozen importlib._bootstrap>\", line 608, in _exec\n",
      "  File \"<frozen importlib._bootstrap_external>\", line 678, in exec_module\n",
      "  File \"<frozen importlib._bootstrap>\", line 205, in _call_with_frames_removed\n",
      "  File \"/home/oliver/lbl/jupyter_hpc/workflow_objects.py\", line 38, in <module>\n",
      "    class WorkerPool(object):\n",
      "  File \"/home/oliver/lbl/jupyter_hpc/workflow_objects.py\", line 118, in WorkerPool\n",
      "    @_log_decorator\n",
      "TypeError: _log_decorator() missing 1 required positional argument: 'fun'\n",
      "]\n"
     ]
    },
    {
     "name": "stdout",
     "output_type": "stream",
     "text": [
      "2017-08-11 17:31:55,347 INFO Task completed: ScriptTask \n",
      "2017-08-11 17:31:55,387 INFO Rocket finished\n",
      "2017-08-11 17:31:55,438 INFO Task completed: ScriptTask \n",
      "2017-08-11 17:31:55,477 INFO Rocket finished\n",
      "2017-08-11 17:31:55,553 INFO Task completed: ScriptTask \n",
      "2017-08-11 17:31:55,596 INFO Rocket finished\n",
      "2017-08-11 17:31:55,884 INFO Task completed: ScriptTask \n",
      "2017-08-11 17:31:55,925 INFO Rocket finished\n",
      "2017-08-11 17:31:56,996 INFO Task completed: ScriptTask \n",
      "2017-08-11 17:31:57,033 INFO Rocket finished\n",
      "2017-08-11 17:31:57,884 INFO Task completed: ScriptTask \n",
      "2017-08-11 17:31:57,926 INFO Rocket finished\n",
      "2017-08-11 17:31:58,887 INFO Task completed: ScriptTask \n",
      "2017-08-11 17:31:58,930 INFO Rocket finished\n",
      "2017-08-11 17:31:58,935 INFO Created new dir /home/oliver/lbl/jupyter_hpc/launcher_2017-08-12-00-31-58-935364\n",
      "2017-08-11 17:31:58,937 INFO Launching Rocket\n",
      "2017-08-11 17:31:58,977 INFO RUNNING fw_id: 37 in directory: /home/oliver/lbl/jupyter_hpc\n",
      "2017-08-11 17:31:58,980 INFO Task started: ScriptTask.\n",
      "2017-08-11 17:31:58,997 INFO Task completed: ScriptTask \n",
      "2017-08-11 17:31:59,039 INFO Rocket finished\n"
     ]
    }
   ],
   "source": [
    "pool.fw_run(example_wf)"
   ]
  },
  {
   "cell_type": "markdown",
   "metadata": {},
   "source": [
    "---"
   ]
  },
  {
   "cell_type": "markdown",
   "metadata": {},
   "source": [
    "# Droplet Workflow"
   ]
  },
  {
   "cell_type": "code",
   "execution_count": null,
   "metadata": {},
   "outputs": [],
   "source": [
    "WorkflowWidget(droplet_wf)"
   ]
  },
  {
   "cell_type": "code",
   "execution_count": null,
   "metadata": {},
   "outputs": [],
   "source": [
    "import bqplot as bq"
   ]
  },
  {
   "cell_type": "code",
   "execution_count": null,
   "metadata": {},
   "outputs": [],
   "source": [
    "bq.Figure()"
   ]
  },
  {
   "cell_type": "code",
   "execution_count": null,
   "metadata": {},
   "outputs": [],
   "source": [
    "from bqplot.marks import Graph"
   ]
  },
  {
   "cell_type": "code",
   "execution_count": null,
   "metadata": {},
   "outputs": [],
   "source": [
    "ipw.Accordion?"
   ]
  },
  {
   "cell_type": "code",
   "execution_count": null,
   "metadata": {},
   "outputs": [],
   "source": [
    "ipw.Accordion(children=[ipw.IntSlider()])"
   ]
  },
  {
   "cell_type": "code",
   "execution_count": null,
   "metadata": {},
   "outputs": [],
   "source": []
  }
 ],
 "metadata": {
  "kernelspec": {
   "display_name": "jupyter-hpc",
   "language": "python",
   "name": "jupyter-hpc"
  },
  "language_info": {
   "codemirror_mode": {
    "name": "ipython",
    "version": 3
   },
   "file_extension": ".py",
   "mimetype": "text/x-python",
   "name": "python",
   "nbconvert_exporter": "python",
   "pygments_lexer": "ipython3",
   "version": "3.6.0"
  }
 },
 "nbformat": 4,
 "nbformat_minor": 2
}
