{
 "cells": [
  {
   "cell_type": "code",
   "execution_count": 1,
   "metadata": {},
   "outputs": [],
   "source": [
    "%load_ext autoreload\n",
    "%autoreload 2"
   ]
  },
  {
   "cell_type": "code",
   "execution_count": 2,
   "metadata": {},
   "outputs": [],
   "source": [
    "from workflow_widgets import WorkflowWidget, WorkerPoolWidget\n",
    "from droplet_workflow import droplet_wf\n",
    "from example_workflow import example_wf\n",
    "import workflow_objects as kale\n",
    "import ipywidgets as ipw"
   ]
  },
  {
   "cell_type": "markdown",
   "metadata": {},
   "source": [
    "# Example Workflow"
   ]
  },
  {
   "cell_type": "code",
   "execution_count": 53,
   "metadata": {},
   "outputs": [
    {
     "data": {
      "application/vnd.jupyter.widget-view+json": {
       "model_id": "70394223d1af441e9c7a11cfe5cd728a",
       "version_major": 2,
       "version_minor": 0
      },
      "text/plain": [
       "A Jupyter Widget"
      ]
     },
     "metadata": {},
     "output_type": "display_data"
    }
   ],
   "source": [
    "WorkflowWidget(example_wf)"
   ]
  },
  {
   "cell_type": "code",
   "execution_count": 3,
   "metadata": {
    "scrolled": true
   },
   "outputs": [
    {
     "data": {
      "application/vnd.jupyter.widget-view+json": {
       "model_id": "6e343cba3ae84794ac083c01ba3677ec",
       "version_major": 2,
       "version_minor": 0
      },
      "text/plain": [
       "A Jupyter Widget"
      ]
     },
     "metadata": {},
     "output_type": "display_data"
    }
   ],
   "source": [
    "wpw = WorkerPoolWidget()\n",
    "wpw"
   ]
  },
  {
   "cell_type": "code",
   "execution_count": 10,
   "metadata": {
    "collapsed": true
   },
   "outputs": [],
   "source": [
    "wpw.add_pool(\"Example Pool\", 4)"
   ]
  },
  {
   "cell_type": "code",
   "execution_count": 11,
   "metadata": {
    "scrolled": true
   },
   "outputs": [
    {
     "name": "stdout",
     "output_type": "stream",
     "text": [
      "2017-08-14 12:48:29,608 INFO Added a workflow. id_map: {-5: 1, -4: 2, -3: 3, -2: 4, -1: 5}\n",
      "2017-08-14 12:48:40,388 INFO Task completed: ScriptTask \n",
      "2017-08-14 12:48:40,419 INFO Rocket finished\n",
      "2017-08-14 12:48:40,701 INFO Task completed: ScriptTask \n",
      "2017-08-14 12:48:40,731 INFO Rocket finished\n",
      "2017-08-14 12:48:41,719 INFO Task completed: ScriptTask \n",
      "2017-08-14 12:48:41,752 INFO Rocket finished\n",
      "2017-08-14 12:48:41,758 INFO Created new dir /home/oliver/lbl/jupyter_hpc/launcher_2017-08-14-19-48-41-758522\n",
      "2017-08-14 12:48:41,760 INFO Launching Rocket\n",
      "2017-08-14 12:48:41,786 INFO RUNNING fw_id: 1 in directory: /home/oliver/lbl/jupyter_hpc\n",
      "2017-08-14 12:48:41,789 INFO Task started: ScriptTask.\n",
      "2017-08-14 12:48:41,804 INFO Task completed: ScriptTask \n",
      "2017-08-14 12:48:41,822 INFO Rocket finished\n"
     ]
    }
   ],
   "source": [
    "pool = wpw.get_pool(\"Example Pool\")\n",
    "pool.fw_run(example_wf)"
   ]
  },
  {
   "cell_type": "markdown",
   "metadata": {},
   "source": [
    "---"
   ]
  },
  {
   "cell_type": "markdown",
   "metadata": {},
   "source": [
    "# Droplet Workflow"
   ]
  },
  {
   "cell_type": "code",
   "execution_count": 12,
   "metadata": {},
   "outputs": [
    {
     "data": {
      "application/vnd.jupyter.widget-view+json": {
       "model_id": "239a6fa9012d43b08ead18c65f531ae0",
       "version_major": 2,
       "version_minor": 0
      },
      "text/plain": [
       "A Jupyter Widget"
      ]
     },
     "metadata": {},
     "output_type": "display_data"
    }
   ],
   "source": [
    "WorkflowWidget(droplet_wf)"
   ]
  }
 ],
 "metadata": {
  "kernelspec": {
   "display_name": "jupyter-hpc",
   "language": "python",
   "name": "jupyter-hpc"
  },
  "language_info": {
   "codemirror_mode": {
    "name": "ipython",
    "version": 3
   },
   "file_extension": ".py",
   "mimetype": "text/x-python",
   "name": "python",
   "nbconvert_exporter": "python",
   "pygments_lexer": "ipython3",
   "version": "3.6.0"
  }
 },
 "nbformat": 4,
 "nbformat_minor": 2
}
