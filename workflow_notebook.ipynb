{
 "cells": [
  {
   "cell_type": "code",
   "execution_count": 1,
   "metadata": {
    "collapsed": true
   },
   "outputs": [],
   "source": [
    "%load_ext autoreload\n",
    "%autoreload 2"
   ]
  },
  {
   "cell_type": "code",
   "execution_count": 2,
   "metadata": {},
   "outputs": [],
   "source": [
    "from workflow_widgets import WorkflowWidget\n",
    "from droplet_workflow import droplet_wf\n",
    "import workflow_objects as kale"
   ]
  },
  {
   "cell_type": "code",
   "execution_count": 3,
   "metadata": {
    "collapsed": true
   },
   "outputs": [],
   "source": [
    "from concurrent.futures import ThreadPoolExecutor"
   ]
  },
  {
   "cell_type": "code",
   "execution_count": 4,
   "metadata": {
    "collapsed": true
   },
   "outputs": [],
   "source": [
    "import fireworks as fw\n",
    "from fireworks.core.rocket_launcher import rapidfire"
   ]
  },
  {
   "cell_type": "markdown",
   "metadata": {},
   "source": [
    "# Example Workflow"
   ]
  },
  {
   "cell_type": "markdown",
   "metadata": {},
   "source": [
    "## Define Workflow"
   ]
  },
  {
   "cell_type": "code",
   "execution_count": 5,
   "metadata": {},
   "outputs": [],
   "source": [
    "t = kale.Task('test')\n",
    "\n",
    "example_wf = kale.Workflow('example_wf')\n",
    "\n",
    "n_echos = 10\n",
    "n_tasks = 4\n",
    "out_file = \"out.txt\"\n",
    "\n",
    "pwd_task = kale.CommandLineTask(\n",
    "    name='pwd_task',\n",
    "    command=\"\"\"echo \"Hello from '`pwd`'.\" > {out_file}\"\"\",\n",
    "    output_files=[\"{out_file}\"],\n",
    "    params=dict(out_file=out_file)\n",
    ")\n",
    "\n",
    "echo_tasks = [\n",
    "    kale.CommandLineTask(\n",
    "        name='echo_task_{i}',\n",
    "        command='for j in {{1..{n_echos}}}; do echo \"Hello #{i}: $j\" >> {out_file}; sleep 1; done',\n",
    "        output_files=[\"{out_file}\"],\n",
    "        params=dict(out_file=out_file, i=i, n_echos=n_echos)\n",
    "    )\n",
    "    for i in range(n_tasks)\n",
    "]\n",
    "\n",
    "done_task = kale.CommandLineTask(\n",
    "    name='done_task',\n",
    "    command=\"echo 'Done!' >> {out_file}\",\n",
    "    output_files=[\"{out_file}\"],\n",
    "    params=dict(out_file=out_file)\n",
    ")\n",
    "\n",
    "example_wf.add_task(pwd_task)\n",
    "for i in range(n_tasks):\n",
    "    example_wf.add_task(echo_tasks[i], dependencies=[pwd_task])\n",
    "example_wf.add_task(done_task, dependencies=echo_tasks)\n"
   ]
  },
  {
   "cell_type": "code",
   "execution_count": 6,
   "metadata": {},
   "outputs": [
    {
     "name": "stdout",
     "output_type": "stream",
     "text": [
      "/home/oliver/lbl/jupyter_hpc\n"
     ]
    }
   ],
   "source": [
    "cd /home/oliver/lbl/jupyter_hpc"
   ]
  },
  {
   "cell_type": "code",
   "execution_count": 7,
   "metadata": {},
   "outputs": [
    {
     "name": "stdout",
     "output_type": "stream",
     "text": [
      "2017-08-09 18:53:06,652 INFO Performing db tune-up\n",
      "2017-08-09 18:53:06,665 INFO LaunchPad was RESET.\n"
     ]
    }
   ],
   "source": [
    "pool = kale.WorkerPool(num_workers=4)"
   ]
  },
  {
   "cell_type": "code",
   "execution_count": 8,
   "metadata": {
    "scrolled": false
   },
   "outputs": [
    {
     "data": {
      "application/vnd.jupyter.widget-view+json": {
       "model_id": "c944f30dc00c494d9632db2c89cb3241",
       "version_major": 2,
       "version_minor": 0
      },
      "text/plain": [
       "A Jupyter Widget"
      ]
     },
     "metadata": {},
     "output_type": "display_data"
    }
   ],
   "source": [
    "pool.log_area.clear_output()\n",
    "pool.log_area"
   ]
  },
  {
   "cell_type": "code",
   "execution_count": 12,
   "metadata": {},
   "outputs": [
    {
     "name": "stdout",
     "output_type": "stream",
     "text": [
      "2017-08-09 18:53:57,614 INFO Added a workflow. id_map: {1: 7, 2: 8, 3: 9, 4: 10, 5: 11, 6: 12}\n",
      "2017-08-09 18:53:57,643 INFO Created new dir /home/oliver/lbl/jupyter_hpc/launcher_2017-08-10-01-53-57-643424\n",
      "2017-08-09 18:53:57,664 INFO Created new dir /home/oliver/lbl/jupyter_hpc/launcher_2017-08-10-01-53-57-664249\n",
      "2017-08-09 18:53:57,695 INFO Launching Rocket\n",
      "2017-08-09 18:54:08,049 INFO RUNNING fw_id: 9 in directory: /home/oliver/lbl/jupyter_hpc\n",
      "2017-08-09 18:54:08,053 INFO Task started: ScriptTask.\n",
      "2017-08-09 18:54:08,075 INFO Task completed: ScriptTask \n",
      "2017-08-09 18:54:08,116 INFO Rocket finished\n"
     ]
    }
   ],
   "source": [
    "pool.fw_run(example_wf)"
   ]
  },
  {
   "cell_type": "markdown",
   "metadata": {},
   "source": [
    "## Visualize"
   ]
  },
  {
   "cell_type": "code",
   "execution_count": 10,
   "metadata": {
    "scrolled": false
   },
   "outputs": [
    {
     "data": {
      "application/vnd.jupyter.widget-view+json": {
       "model_id": "6546b6a59e1e4fa19894f540320b583e",
       "version_major": 2,
       "version_minor": 0
      },
      "text/plain": [
       "A Jupyter Widget"
      ]
     },
     "metadata": {},
     "output_type": "display_data"
    }
   ],
   "source": [
    "WorkflowWidget(example_wf)"
   ]
  },
  {
   "cell_type": "markdown",
   "metadata": {},
   "source": [
    "---"
   ]
  },
  {
   "cell_type": "markdown",
   "metadata": {},
   "source": [
    "# Droplet Workflow"
   ]
  },
  {
   "cell_type": "code",
   "execution_count": 11,
   "metadata": {},
   "outputs": [
    {
     "data": {
      "application/vnd.jupyter.widget-view+json": {
       "model_id": "3bc4dc30718f4948b9dfd62a7aa01a85",
       "version_major": 2,
       "version_minor": 0
      },
      "text/plain": [
       "A Jupyter Widget"
      ]
     },
     "metadata": {},
     "output_type": "display_data"
    }
   ],
   "source": [
    "WorkflowWidget(droplet_wf)"
   ]
  }
 ],
 "metadata": {
  "kernelspec": {
   "display_name": "cori_clone",
   "language": "python",
   "name": "cori_clone"
  },
  "language_info": {
   "codemirror_mode": {
    "name": "ipython",
    "version": 3
   },
   "file_extension": ".py",
   "mimetype": "text/x-python",
   "name": "python",
   "nbconvert_exporter": "python",
   "pygments_lexer": "ipython3",
   "version": "3.6.0"
  }
 },
 "nbformat": 4,
 "nbformat_minor": 2
}
