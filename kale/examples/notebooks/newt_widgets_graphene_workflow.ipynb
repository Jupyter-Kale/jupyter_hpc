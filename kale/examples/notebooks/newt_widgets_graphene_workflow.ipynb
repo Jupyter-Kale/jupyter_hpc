{
 "cells": [
  {
   "cell_type": "markdown",
   "metadata": {},
   "source": [
    "# Imports"
   ]
  },
  {
   "cell_type": "code",
   "execution_count": null,
   "metadata": {},
   "outputs": [],
   "source": [
    "%load_ext autoreload\n",
    "%autoreload 2"
   ]
  },
  {
   "cell_type": "code",
   "execution_count": 2,
   "metadata": {
    "collapsed": true
   },
   "outputs": [],
   "source": [
    "import numpy as np\n",
    "import ipyvolume.pylab as p3\n",
    "import pandas as pd\n",
    "import io\n",
    "import os\n",
    "import subprocess as sp\n",
    "import IPython\n",
    "import ipyvolume as ipv\n",
    "import itertools as it\n",
    "import ipywidgets as ipw\n",
    "import time\n",
    "from datetime import datetime\n",
    "import IPython.core.display as disp\n",
    "import requests\n",
    "from concurrent.futures import ThreadPoolExecutor\n",
    "import json\n",
    "\n",
    "from kale.aux_widgets import *\n",
    "import kale.examples.graphene.lammps_gen as lg\n",
    "from kale.examples.graphene.graphene_functions import *\n",
    "from kale.examples.graphene.graphene_widget import *\n",
    "from kale.examples.graphene.graphene_monitor import *\n",
    "\n",
    "%matplotlib inline"
   ]
  },
  {
   "cell_type": "markdown",
   "metadata": {},
   "source": [
    "# LAMMPS Graphene Workflow"
   ]
  },
  {
   "cell_type": "code",
   "execution_count": 3,
   "metadata": {},
   "outputs": [
    {
     "data": {
      "application/vnd.jupyter.widget-view+json": {
       "model_id": "e679ad4f4ca44939bbf4d7a90cae3c0f",
       "version_major": 2,
       "version_minor": 0
      },
      "text/plain": [
       "NEWTAuthWidget(children=(HTML(value='        <h3>NEWT Authenticator</h3>\\n        '), HBox(children=(VBox(chil…"
      ]
     },
     "metadata": {},
     "output_type": "display_data"
    }
   ],
   "source": [
    "a = NEWTAuthWidget()\n",
    "a"
   ]
  },
  {
   "cell_type": "code",
   "execution_count": 4,
   "metadata": {},
   "outputs": [
    {
     "data": {
      "application/vnd.jupyter.widget-view+json": {
       "model_id": "58aee8774a814f2b98539d37a50d8470",
       "version_major": 2,
       "version_minor": 0
      },
      "text/plain": [
       "QueueWidget(children=(Text(value='oevans', description='User'), Output(), HBox(children=(Button(description='R…"
      ]
     },
     "metadata": {},
     "output_type": "display_data"
    }
   ],
   "source": [
    "q = QueueWidget(a)\n",
    "q"
   ]
  },
  {
   "cell_type": "code",
   "execution_count": 5,
   "metadata": {},
   "outputs": [
    {
     "data": {
      "application/vnd.jupyter.widget-view+json": {
       "model_id": "7a6fb82b334f4a6099778d21220962a0",
       "version_major": 2,
       "version_minor": 0
      },
      "text/plain": [
       "GrapheneControllerWidget(children=(HTML(value='<h1>Graphene Simulator</strong>'), Accordion(children=(HBox(chi…"
      ]
     },
     "metadata": {},
     "output_type": "display_data"
    }
   ],
   "source": [
    "c = GrapheneControllerWidget(a)\n",
    "c"
   ]
  },
  {
   "cell_type": "code",
   "execution_count": 6,
   "metadata": {},
   "outputs": [
    {
     "data": {
      "application/vnd.jupyter.widget-view+json": {
       "model_id": "6df4fcc0224f412a94a77e631f16949f",
       "version_major": 2,
       "version_minor": 0
      },
      "text/plain": [
       "Output()"
      ]
     },
     "metadata": {},
     "output_type": "display_data"
    }
   ],
   "source": [
    "c._log_area.clear_output()\n",
    "c._log_area"
   ]
  },
  {
   "cell_type": "markdown",
   "metadata": {},
   "source": [
    "## Job Monitoring"
   ]
  },
  {
   "cell_type": "code",
   "execution_count": 7,
   "metadata": {
    "collapsed": true
   },
   "outputs": [],
   "source": [
    "def monitor():\n",
    "    \"Monitor file for new data\"\n",
    "    pass\n",
    "\n",
    "def extract_temp():\n",
    "    pass\n",
    "\n",
    "def live_2d_line():\n",
    "    pass\n",
    "\n",
    "def live_3d_scatter():\n",
    "    pass\n",
    "\n",
    "def plot_dist():\n",
    "    pass"
   ]
  },
  {
   "cell_type": "markdown",
   "metadata": {},
   "source": [
    "# LAMMPS Simulation"
   ]
  },
  {
   "cell_type": "code",
   "execution_count": 8,
   "metadata": {
    "collapsed": true
   },
   "outputs": [],
   "source": [
    "class LammpsSim(object):\n",
    "    def __init__(self, lammpstrj_path):\n",
    "        self.lammpstrj_path = lammpstrj_path\n",
    "        self.file_handle = open(lammpstrj_path, 'r')\n",
    "        self.num_atoms = self.get_num_atoms()\n",
    "        self.current_step_num = 0\n",
    "    \n",
    "    def __enter__(self):\n",
    "        \"\"\"\n",
    "        Allows for using `with LammpsSim(...) as sim`\n",
    "        Except this doesn't work if you want to continue reading the file\n",
    "        after the cell is finished executing\n",
    "        \"\"\"\n",
    "        return self\n",
    "    \n",
    "    def __exit__(self, exc_type, exc_value, traceback):\n",
    "        self.close()\n",
    "    \n",
    "    def close(self):\n",
    "        try:\n",
    "            self.file_handle.close()\n",
    "        except:\n",
    "            pass\n",
    "        \n",
    "    def index_timesteps(self, max_steps=100):\n",
    "        \"\"\"\n",
    "        Read whole file, and save position of each timestep in file\n",
    "        for easier seeking.\n",
    "        \n",
    "        Set max_steps to limit the number of timesteps read\n",
    "        \"\"\"\n",
    "        \n",
    "        # List of positions of timesteps\n",
    "        self.step_index = []\n",
    "        # Keep track of number of steps\n",
    "        self.num_steps = 0\n",
    "        \n",
    "        # Seek to beginning of file\n",
    "        self.file_handle.seek(0)\n",
    "        \n",
    "        # Loop through steps until EOF or max_steps\n",
    "        for step_num in range(max_steps):\n",
    "            \n",
    "            # Save position\n",
    "            file_pos = self.file_handle.tell()\n",
    "\n",
    "            # Read header\n",
    "            header = [self.file_handle.readline() for i in range(9)]\n",
    "            # Check for EOF, in which case '' will appear in list\n",
    "            # (as opposed to '\\n' for a legitimate blank line)\n",
    "            if '' in header:\n",
    "                break\n",
    "            \n",
    "            # Number of atoms in this timestep\n",
    "            num_atoms = int(header[3])\n",
    "            for atom_num in range(num_atoms):\n",
    "                # Check only for EOF\n",
    "                if self.file_handle.readline() == '':\n",
    "                    break\n",
    "            \n",
    "            # If reading atom info ended early, then the file is finished,\n",
    "            # so don't try to read the next timestep\n",
    "            if atom_num < num_atoms-1:\n",
    "                break\n",
    "                \n",
    "            # If whole timestep was read sucessfully, save timestep\n",
    "            self.step_index.append(file_pos)\n",
    "            self.num_steps += 1\n",
    "    \n",
    "    def get_num_atoms(self):\n",
    "        self.file_handle.seek(0)\n",
    "        \n",
    "        # Read first 4 lines\n",
    "        # (num_atoms is on line 4)\n",
    "        for line_num in range(4):\n",
    "            line = self.file_handle.readline()\n",
    "        \n",
    "        return int(line)\n",
    "    \n",
    "    def seek_to_step(self, step_num):\n",
    "        \"\"\"\n",
    "        Seek to step step_num\n",
    "        Must have already run index_timesteps.\n",
    "        \"\"\"\n",
    "        self.file_handle.seek(self.step_index[step_num])\n",
    "\n",
    "    # Parse lammpstrj\n",
    "    def read_step(self):\n",
    "        \"\"\"\n",
    "        Read one timestep from lammps trajectory file\n",
    "        Pass a Python file object pointing to the first line\n",
    "        of the timestep\n",
    "        (which reads 'ITEM: TIMESTEP')\n",
    "        \"\"\"\n",
    "\n",
    "        # Read header - first 9 lines\n",
    "        header_len = 9\n",
    "        try:\n",
    "            header = [\n",
    "                self.file_handle.readline() \n",
    "                for x in range(header_len)\n",
    "            ]\n",
    "        except StopIteration as err:\n",
    "            print(\"End of file reached.\")\n",
    "            return\n",
    "\n",
    "        # Number of atoms\n",
    "        num_atoms = int(header[3])\n",
    "        # Box bounds\n",
    "        bnds = np.array([list(map(float,header[i].split())) for i in range(5,8)]).T\n",
    "\n",
    "        # Read data\n",
    "        raw_data = [\n",
    "            self.file_handle.readline()[:-1] \n",
    "            for x in range(num_atoms)\n",
    "        ]\n",
    "\n",
    "        # Convert to DataFrame\n",
    "        column_headers = header[-1].split()[2:]\n",
    "\n",
    "        string_buffer = io.StringIO('\\n'.join(raw_data))\n",
    "        step_data = pd.read_csv(string_buffer,\n",
    "                                delimiter=' ',\n",
    "                                names=column_headers,\n",
    "                                index_col=False)\n",
    "\n",
    "        # Generate actual position given scaled position and image numbers\n",
    "        converted_data = self.calc_positions(step_data,num_atoms,bnds)\n",
    "        return converted_data\n",
    "\n",
    "    @staticmethod\n",
    "    def calc_positions(step_data,num_atoms,bnds):\n",
    "        scaled_pos = step_data.loc[:,['xs','ys','zs']].values\n",
    "        im = step_data.loc[:,['ix','iy','iz']].values\n",
    "\n",
    "        # Separate upper & lower bounds\n",
    "        lo_bnd, hi_bnd = np.array(bnds)\n",
    "\n",
    "        real_pos = (scaled_pos + im) * (hi_bnd - lo_bnd) + lo_bnd\n",
    "\n",
    "\n",
    "        # Combine atom id & type with position\n",
    "        combined_arr = np.hstack([\n",
    "            step_data.loc[:,['id','type']].values,\n",
    "            real_pos\n",
    "        ])\n",
    "\n",
    "        headers = ['id','type','x','y','z']\n",
    "        converted_data = pd.DataFrame(combined_arr,\n",
    "                                      columns=headers,\n",
    "        )\n",
    "\n",
    "        # Enforce appropriate dtypes\n",
    "        # https://stackoverflow.com/questions/25610592/how-to-set-dtypes-by-column-in-pandas-dataframe\n",
    "        dtypes = {\n",
    "            'id': int,\n",
    "            'type': int,\n",
    "            'x': float,\n",
    "            'y': float,\n",
    "            'z': float\n",
    "        }\n",
    "        for col_name, dtype in dtypes.items():\n",
    "            converted_data[col_name] = converted_data[col_name].astype(dtype)\n",
    "\n",
    "        return converted_data\n",
    "    \n",
    "    @staticmethod\n",
    "    def lammps_scatter(lammps_df, p3_fig):\n",
    "        \"\"\"\n",
    "        Create 3d scatter from lammps input data\n",
    "        \"\"\"\n",
    "\n",
    "        colors = ['red','green','blue','yellow',\n",
    "                  'orange','purple','black','brown']\n",
    "        markers = ['sphere','diamond','box','arrow']\n",
    "\n",
    "        # All combinations of colors and markers\n",
    "        # One per atom type\n",
    "        cm_pairs = it.product(markers,colors)\n",
    "\n",
    "        # Identify all atom types\n",
    "        atom_types = lammps_df.loc[:,'type'].unique()\n",
    "        num_types = len(atom_types)\n",
    "\n",
    "        # Count number of scatters already plotted in figure\n",
    "        num_scatters = len(p3_fig.scatters)\n",
    "\n",
    "        # Note that LAMMPS counts atom types from 1,\n",
    "        # whereas Python counts indices from 0.\n",
    "\n",
    "        # Plot each with a different color/marker pair\n",
    "        for atom_type, cm_pair in zip(atom_types, cm_pairs):\n",
    "            \n",
    "            print(\"Type {}/{}\".format(atom_type, num_scatters))\n",
    "\n",
    "            # Extract atom positions for this type\n",
    "            pos = lammps_df.query('type == {}'.format(atom_type))\n",
    "            # Sort atoms by id to retain identity\n",
    "            # Allows for sensible visual transition between frames\n",
    "            pos = pos.sort_values('id')\n",
    "\n",
    "            # Get marker and color\n",
    "            marker, color = cm_pair\n",
    "\n",
    "            # Types which have already been plotted\n",
    "            # - update plot\n",
    "            if atom_type <= num_scatters:\n",
    "                \n",
    "                print(\"Updating atom type {}\".format(atom_type))\n",
    "                \n",
    "                # Subtract one from LAMMPS atom type\n",
    "                # to get Python list index\n",
    "                indx = atom_type - 1\n",
    "\n",
    "                # Extract scatter for this atom type\n",
    "                sct = p3_fig.scatters[indx]\n",
    "\n",
    "                # Update positions\n",
    "                sct.x = pos['x']\n",
    "                sct.y = pos['y']\n",
    "                sct.z = pos['z']\n",
    "                \n",
    "                log_msg('test', 'Update positions for type {}'.format(atom_type))\n",
    "\n",
    "            # Types which have not yet been plotted\n",
    "            # - create new plot\n",
    "            else:\n",
    "                print(\"Creating atom type {}\".format(atom_type))\n",
    "                # Create a new scatter\n",
    "                p3.scatter(\n",
    "                    x=pos['x'], \n",
    "                    y=pos['y'], \n",
    "                    z=pos['z'],\n",
    "                    marker=marker,\n",
    "                    color=color\n",
    "                )\n",
    "    \n",
    "    def update_timestep(self, step_num):\n",
    "        print(\"Update to step {}\".format(step_num))\n",
    "        log_msg('test', 'Update to step {}'.format(step_num))\n",
    "        self.seek_to_step(step_num)\n",
    "        self.step_num = step_num\n",
    "        self.lammps_df = self.read_step()\n",
    "        self.lammps_scatter(self.lammps_df, self.fig)\n",
    "    \n",
    "    def plot_steps(self):\n",
    "        \"\"\"\n",
    "        Main function to call to create plot & timestep widget\n",
    "        Assuming static file (doesn't listen for new data)\n",
    "        \"\"\"\n",
    "        \n",
    "        self.fig = p3.figure(controls=None)\n",
    "        #self.fig.camera_control = 'orbit'\n",
    "        \n",
    "        self.seek_to_step(0)\n",
    "        lammps_df = self.read_step()\n",
    "        self.lammps_scatter(lammps_df, self.fig)\n",
    "        \n",
    "        self.step_slider = ipw.IntSlider(\n",
    "            min=0, \n",
    "            max=self.num_steps-1, \n",
    "            value=0,\n",
    "            description='Timestep'\n",
    "        )\n",
    "        \n",
    "        ipw.interactive(\n",
    "            self.update_timestep, \n",
    "            step_num=self.step_slider\n",
    "        )\n",
    "        \n",
    "        container = ipw.VBox([\n",
    "            self.fig,\n",
    "            self.step_slider\n",
    "        ])\n",
    "        \n",
    "        return container\n",
    "        "
   ]
  },
  {
   "cell_type": "code",
   "execution_count": 9,
   "metadata": {
    "collapsed": true
   },
   "outputs": [
    {
     "name": "stdout",
     "output_type": "stream",
     "text": [
      "Type 1/0\n",
      "Creating atom type 1\n",
      "Type 2/0\n",
      "Creating atom type 2\n"
     ]
    },
    {
     "data": {
      "application/vnd.jupyter.widget-view+json": {
       "model_id": "c88e2762bc5f4428aab4e4d06d8b29bd",
       "version_major": 2,
       "version_minor": 0
      },
      "text/plain": [
       "VBox(children=(Figure(camera_center=[0.0, 0.0, 0.0], height=500, matrix_projection=[0.0, 0.0, 0.0, 0.0, 0.0, 0…"
      ]
     },
     "metadata": {},
     "output_type": "display_data"
    }
   ],
   "source": [
    "try:\n",
    "    sim.close()\n",
    "except:\n",
    "    pass\n",
    "#sim = LammpsSim('/home/oliver/academic/research/graphene/two_sheets.lammpstrj')\n",
    "sim = LammpsSim('/global/homes/o/oevans/lammps-test/graphene/two_sheets.lammpstrj')\n",
    "sim.index_timesteps()\n",
    "sim.plot_steps()"
   ]
  },
  {
   "cell_type": "code",
   "execution_count": 10,
   "metadata": {
    "collapsed": true
   },
   "outputs": [
    {
     "data": {
      "application/vnd.jupyter.widget-view+json": {
       "model_id": "67f5e661ecde4fa8bf040301cca0c415",
       "version_major": 2,
       "version_minor": 0
      },
      "text/plain": [
       "interactive(children=(IntSlider(value=50, description='step_num'), Output()), _dom_classes=('widget-interact',…"
      ]
     },
     "metadata": {},
     "output_type": "display_data"
    }
   ],
   "source": [
    "# Test that seek_to_step is working properly\n",
    "@ipw.interact(step_num=(0,100))\n",
    "def test_seek(step_num):\n",
    "    sim.seek_to_step(step_num)\n",
    "    header = [sim.file_handle.readline() for i in range(9)]\n",
    "    \n",
    "    print('Step = {}'.format(step_num))\n",
    "    print()\n",
    "    \n",
    "    print(''.join(header))\n",
    "    "
   ]
  }
 ],
 "metadata": {
  "anaconda-cloud": {},
  "kernelspec": {
   "display_name": "Python 3",
   "language": "python",
   "name": "python3"
  },
  "language_info": {
   "codemirror_mode": {
    "name": "ipython",
    "version": 3
   },
   "file_extension": ".py",
   "mimetype": "text/x-python",
   "name": "python",
   "nbconvert_exporter": "python",
   "pygments_lexer": "ipython3",
   "version": "3.6.3"
  }
 },
 "nbformat": 4,
 "nbformat_minor": 2
}
