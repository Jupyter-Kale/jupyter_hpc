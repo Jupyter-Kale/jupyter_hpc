{
 "cells": [
  {
   "cell_type": "code",
   "execution_count": 1,
   "metadata": {},
   "outputs": [],
   "source": [
    "%load_ext autoreload\n",
    "%autoreload 2"
   ]
  },
  {
   "cell_type": "code",
   "execution_count": 2,
   "metadata": {},
   "outputs": [],
   "source": [
    "import parsl\n",
    "import kale\n",
    "import kale.workflow_objects\n",
    "import kale.workflow_widgets\n",
    "import kale.parsl_dflow"
   ]
  },
  {
   "cell_type": "code",
   "execution_count": 3,
   "metadata": {},
   "outputs": [],
   "source": [
    "import networkx"
   ]
  },
  {
   "cell_type": "code",
   "execution_count": 4,
   "metadata": {},
   "outputs": [],
   "source": [
    "workers = parsl.ThreadPoolExecutor()\n",
    "kale_dfk = kale.parsl_dflow.KaleDFK(executors=[workers])"
   ]
  },
  {
   "cell_type": "code",
   "execution_count": 5,
   "metadata": {},
   "outputs": [],
   "source": [
    "@parsl.App('python', kale_dfk)\n",
    "def rand_add(*prev_list):\n",
    "    \"\"\"Add a random number to the previous ones.\"\"\"\n",
    "    import random\n",
    "    import time\n",
    "    \n",
    "    # Random int between 0 & 10, inclusive.\n",
    "    myrand = random.randint(0, 10)\n",
    "    mysum = myrand + sum(prev_list)\n",
    "    \n",
    "    print(\"My number is {}. I was given {}. The sum is {}.\\n\".format(myrand, prev_list, mysum), end='')\n",
    "    time.sleep(2)\n",
    "    \n",
    "    return mysum"
   ]
  },
  {
   "cell_type": "code",
   "execution_count": 6,
   "metadata": {},
   "outputs": [],
   "source": [
    "kale_dfk.new_workflow(\"Random Tree\")"
   ]
  },
  {
   "cell_type": "code",
   "execution_count": 7,
   "metadata": {},
   "outputs": [
    {
     "name": "stdout",
     "output_type": "stream",
     "text": [
      "Adding deps: <kale.workflow_objects.PythonFunctionTask object at 0x7fda021200b8> <- [<kale.workflow_objects.PythonFunctionTask object at 0x7fda021204e0>, <kale.workflow_objects.PythonFunctionTask object at 0x7fda02120278>]\n",
      "Adding deps: <kale.workflow_objects.PythonFunctionTask object at 0x7fda02120e80> <- [<kale.workflow_objects.PythonFunctionTask object at 0x7fda02120b70>, <kale.workflow_objects.PythonFunctionTask object at 0x7fda02120cf8>]\n",
      "Adding deps: <kale.workflow_objects.PythonFunctionTask object at 0x7fda02130048> <- [<kale.workflow_objects.PythonFunctionTask object at 0x7fda021200b8>, <kale.workflow_objects.PythonFunctionTask object at 0x7fda02120e80>]\n",
      "Adding deps: <kale.workflow_objects.PythonFunctionTask object at 0x7fda021304e0> <- [<kale.workflow_objects.PythonFunctionTask object at 0x7fda021301d0>, <kale.workflow_objects.PythonFunctionTask object at 0x7fda02130358>]\n",
      "Adding deps: <kale.workflow_objects.PythonFunctionTask object at 0x7fda02130908> <- [<kale.workflow_objects.PythonFunctionTask object at 0x7fda021305f8>, <kale.workflow_objects.PythonFunctionTask object at 0x7fda02130780>]\n",
      "Adding deps: <kale.workflow_objects.PythonFunctionTask object at 0x7fda02130a90> <- [<kale.workflow_objects.PythonFunctionTask object at 0x7fda021304e0>, <kale.workflow_objects.PythonFunctionTask object at 0x7fda02130908>]\n"
     ]
    },
    {
     "data": {
      "text/plain": [
       "<AppFuture at 0x7fda02130a20 state=finished returned NoneType>"
      ]
     },
     "execution_count": 7,
     "metadata": {},
     "output_type": "execute_result"
    }
   ],
   "source": [
    "rand_add(\n",
    "    rand_add(\n",
    "        rand_add(),\n",
    "        rand_add()\n",
    "    ),\n",
    "    rand_add(\n",
    "        rand_add(),\n",
    "        rand_add()\n",
    "    )\n",
    ")\n",
    "\n",
    "rand_add(\n",
    "    rand_add(\n",
    "        rand_add(),\n",
    "        rand_add()\n",
    "    ),\n",
    "    rand_add(\n",
    "        rand_add(),\n",
    "        rand_add()\n",
    "    )\n",
    ")"
   ]
  },
  {
   "cell_type": "code",
   "execution_count": 8,
   "metadata": {},
   "outputs": [],
   "source": [
    "def parsl_app_after_futures(app, futures, dfk):\n",
    "    \"\"\"Execute fn after deps\n",
    "\n",
    "    app is a parsl app which returns a future\n",
    "    futures is a list of Parsl futures which must complete before execution\n",
    "    dfk is the Parsl DataFlowKernel\n",
    "\n",
    "    \"\"\"\n",
    "\n",
    "    @parsl.App('python', dfk)\n",
    "    def wrapper(*depends):\n",
    "        return app()\n",
    "    \n",
    "    wrapper.__name__ = app.__name__\n",
    "\n",
    "    return wrapper(*futures)\n",
    "\n",
    "\n",
    "def parsl_wrap(fn, dfk, *args, **kwargs):\n",
    "    \"\"\"Wrapper to generate Parsl dependencies.\n",
    "\n",
    "    Args:\n",
    "        fn: function to be wrapper\n",
    "        depends: list of Parsl apps (or wrapped functions) which must execute first\n",
    "        dfk: Parsl DataFlowKernel\n",
    "        *args: args for fn\n",
    "        **kwargs: kwargs for fn\n",
    "\n",
    "\n",
    "    \"\"\"\n",
    "\n",
    "    @parsl.App('python', dfk)\n",
    "    def wrapper(*depends):\n",
    "        return fn(*args, **kwargs)\n",
    "\n",
    "    wrapper.__name__ = fn.__name__\n",
    "    \n",
    "    return wrapper\n"
   ]
  },
  {
   "cell_type": "code",
   "execution_count": 9,
   "metadata": {},
   "outputs": [],
   "source": [
    "def parsl_run(self, workflow):\n",
    "    \"\"\"Execute workflow via Parsl.\n",
    "    So far, I'm assuming that we're only executing PythonFunctionTasks via Parsl.\n",
    "    \"\"\"\n",
    "\n",
    "    workflow.futures = dict()\n",
    "\n",
    "    # Topological sort guarantees that parent node\n",
    "    # appears in list before child.\n",
    "    # Therefore, parent futures will exist\n",
    "    # before children futures.\n",
    "    for task in networkx.dag.topological_sort(workflow.dag):\n",
    "        # Reset futures before submission\n",
    "        task.reset_future()\n",
    "\n",
    "        #task.get_parsl_app()\n",
    "        \n",
    "        # Prepare function to be run by parsl\n",
    "        wrapped_func = parsl_wrap(\n",
    "            task.func,\n",
    "            self.parsl_dfk,\n",
    "            *task.args,\n",
    "            **task.kwargs\n",
    "        )\n",
    "\n",
    "        # Determine dependencies\n",
    "        depends = [\n",
    "            workflow.futures[dep]\n",
    "            for dep in task.dependencies[workflow]\n",
    "        ]\n",
    "\n",
    "        # Submit functions to Parsl & save futures\n",
    "        workflow.futures[task] = parsl_app_after_futures(\n",
    "            wrapped_func,\n",
    "            depends,\n",
    "            self.parsl_dfk,\n",
    "        )\n"
   ]
  },
  {
   "cell_type": "code",
   "execution_count": 10,
   "metadata": {},
   "outputs": [],
   "source": [
    "wf = kale_dfk.kale_workflow\n",
    "\n",
    "wp = kale.workflow_objects.WorkerPool(\n",
    "    name='WorkerPool',\n",
    "    wf_executor='parsl',\n",
    "    num_workers=4\n",
    ")"
   ]
  },
  {
   "cell_type": "code",
   "execution_count": 11,
   "metadata": {},
   "outputs": [
    {
     "name": "stdout",
     "output_type": "stream",
     "text": [
      "My number is 7. I was given (). The sum is 7.\n",
      "My number is 8. I was given (). The sum is 8.\n",
      "My number is 6. I was given (). The sum is 6.\n"
     ]
    }
   ],
   "source": [
    "parsl_run(wp, wf)"
   ]
  },
  {
   "cell_type": "code",
   "execution_count": 12,
   "metadata": {},
   "outputs": [
    {
     "data": {
      "application/vnd.jupyter.widget-view+json": {
       "model_id": "0636a5051ebd4a01b5dedf65926a096c",
       "version_major": 2,
       "version_minor": 0
      },
      "text/html": [
       "<p>Failed to display Jupyter Widget of type <code>WorkerPoolWidget</code>.</p>\n",
       "<p>\n",
       "  If you're reading this message in the Jupyter Notebook or JupyterLab Notebook, it may mean\n",
       "  that the widgets JavaScript is still loading. If this message persists, it\n",
       "  likely means that the widgets JavaScript library is either not installed or\n",
       "  not enabled. See the <a href=\"https://ipywidgets.readthedocs.io/en/stable/user_install.html\">Jupyter\n",
       "  Widgets Documentation</a> for setup instructions.\n",
       "</p>\n",
       "<p>\n",
       "  If you're reading this message in another frontend (for example, a static\n",
       "  rendering on GitHub or <a href=\"https://nbviewer.jupyter.org/\">NBViewer</a>),\n",
       "  it may mean that your frontend doesn't currently support widgets.\n",
       "</p>\n"
      ],
      "text/plain": [
       "WorkerPoolWidget(children=(HTML(value='<h3>Worker Pools</h3>'), TableWidget(children=(RowWidget(children=(HBox(children=(HTML(value='<b>Name</b>'),), layout=Layout(justify_content='flex-start', width='150px')), HBox(children=(HTML(value='<b>Location</b>'),), layout=Layout(justify_content='flex-start', width='200px')), HBox(children=(HTML(value='<b>Executor</b>'),), layout=Layout(justify_content='flex-start', width='200px')), HBox(children=(HTML(value='<b>Workers</b>'),), layout=Layout(justify_content='flex-start', width='60px')), HBox(children=(HTML(value='<b>Action</b>'),), layout=Layout(justify_content='flex-start', width='100px'))), layout=Layout(justify_content='space-between', width='710px')), RowWidget(children=(HBox(children=(HTML(value='default'),), layout=Layout(justify_content='flex-start', width='150px')), HBox(children=(HTML(value='localhost'),), layout=Layout(justify_content='flex-start', width='200px')), HBox(children=(HTML(value='parsl'),), layout=Layout(justify_content='flex-start', width='200px')), HBox(children=(HTML(value='4'),), layout=Layout(justify_content='flex-start', width='60px')), HBox(children=(Button(button_style='danger', description='Remove', style=ButtonStyle()),), layout=Layout(justify_content='flex-start', width='100px'))), layout=Layout(justify_content='space-between', width='710px')), RowWidget(children=(HBox(children=(Text(value='', layout=Layout(width='148px')),), layout=Layout(justify_content='flex-start', width='150px')), HBox(children=(Dropdown(layout=Layout(width='198px'), options=('localhost',), value='localhost'),), layout=Layout(justify_content='flex-start', width='200px')), HBox(children=(Dropdown(layout=Layout(width='198px'), options=('parsl', 'fireworks'), value='parsl'),), layout=Layout(justify_content='flex-start', width='200px')), HBox(children=(IntText(value=1, layout=Layout(width='198px')),), layout=Layout(justify_content='flex-start', width='60px')), HBox(children=(Button(button_style='success', icon='plus', style=ButtonStyle()),), layout=Layout(justify_content='flex-start', width='100px'))), layout=Layout(justify_content='space-between', width='710px'))), layout=Layout(width='710px')), HTML(value='\\n        <div class=\"alert alert-success\" style=\"width: 710px\">\\n        WorkerPool \\'default\\' created.\\n        </div>\\n        ')))"
      ]
     },
     "metadata": {},
     "output_type": "display_data"
    }
   ],
   "source": [
    "wpw = kale.workflow_widgets.WorkerPoolWidget()\n",
    "wpw"
   ]
  },
  {
   "cell_type": "code",
   "execution_count": 13,
   "metadata": {},
   "outputs": [
    {
     "data": {
      "application/vnd.jupyter.widget-view+json": {
       "model_id": "d81988e342984ebe9587f53e65916474",
       "version_major": 2,
       "version_minor": 0
      },
      "text/html": [
       "<p>Failed to display Jupyter Widget of type <code>WorkflowWidget</code>.</p>\n",
       "<p>\n",
       "  If you're reading this message in the Jupyter Notebook or JupyterLab Notebook, it may mean\n",
       "  that the widgets JavaScript is still loading. If this message persists, it\n",
       "  likely means that the widgets JavaScript library is either not installed or\n",
       "  not enabled. See the <a href=\"https://ipywidgets.readthedocs.io/en/stable/user_install.html\">Jupyter\n",
       "  Widgets Documentation</a> for setup instructions.\n",
       "</p>\n",
       "<p>\n",
       "  If you're reading this message in another frontend (for example, a static\n",
       "  rendering on GitHub or <a href=\"https://nbviewer.jupyter.org/\">NBViewer</a>),\n",
       "  it may mean that your frontend doesn't currently support widgets.\n",
       "</p>\n"
      ],
      "text/plain": [
       "WorkflowWidget(children=(VBox(children=(Figure(fig_margin={'left': 10, 'right': 10, 'bottom': 10, 'top': 10}, layout=Layout(height='600px', width='400px'), marks=[Graph(colors=['#1f77b4', '#ff7f0e', '#2ca02c', '#d62728', '#9467bd', '#8c564b', '#e377c2', '#7f7f7f', '#bcbd22', '#17becf'], highlight_links=False, interactions={'hover': 'tooltip', 'click': 'select'}, link_data=[{'source': 0, 'target': 2}, {'source': 1, 'target': 2}, {'source': 2, 'target': 6}, {'source': 3, 'target': 5}, {'source': 4, 'target': 5}, {'source': 5, 'target': 6}, {'source': 7, 'target': 9}, {'source': 8, 'target': 9}, {'source': 9, 'target': 13}, {'source': 10, 'target': 12}, {'source': 11, 'target': 12}, {'source': 12, 'target': 13}], link_type='line', node_data=[{'label': '0', 'shape': 'rect', 'name': 'rand_add', 'task_type': 'PythonFunctionTask', 'tags': '[]', 'input_files': '[]', 'output_files': '[]', 'num_cores': '1', 'args': '[]', 'kwargs': '{}'}, {'label': '1', 'shape': 'rect', 'name': 'rand_add', 'task_type': 'PythonFunctionTask', 'tags': '[]', 'input_files': '[]', 'output_files': '[]', 'num_cores': '1', 'args': '[]', 'kwargs': '{}'}, {'label': '2', 'shape': 'rect', 'name': 'rand_add', 'task_type': 'PythonFunctionTask', 'tags': '[]', 'input_files': '[]', 'output_files': '[]', 'num_cores': '1', 'args': '[<kale.workflow_objects.PythonFunctionTask object at 0x7fda021204e0>, <kale.workflow_objects.PythonFunctionTask object at 0x7fda02120278>]', 'kwargs': '{}'}, {'label': '3', 'shape': 'rect', 'name': 'rand_add', 'task_type': 'PythonFunctionTask', 'tags': '[]', 'input_files': '[]', 'output_files': '[]', 'num_cores': '1', 'args': '[]', 'kwargs': '{}'}, {'label': '4', 'shape': 'rect', 'name': 'rand_add', 'task_type': 'PythonFunctionTask', 'tags': '[]', 'input_files': '[]', 'output_files': '[]', 'num_cores': '1', 'args': '[]', 'kwargs': '{}'}, {'label': '5', 'shape': 'rect', 'name': 'rand_add', 'task_type': 'PythonFunctionTask', 'tags': '[]', 'input_files': '[]', 'output_files': '[]', 'num_cores': '1', 'args': '[<kale.workflow_objects.PythonFunctionTask object at 0x7fda02120b70>, <kale.workflow_objects.PythonFunctionTask object at 0x7fda02120cf8>]', 'kwargs': '{}'}, {'label': '6', 'shape': 'rect', 'name': 'rand_add', 'task_type': 'PythonFunctionTask', 'tags': '[]', 'input_files': '[]', 'output_files': '[]', 'num_cores': '1', 'args': '[<kale.workflow_objects.PythonFunctionTask object at 0x7fda021200b8>, <kale.workflow_objects.PythonFunctionTask object at 0x7fda02120e80>]', 'kwargs': '{}'}, {'label': '7', 'shape': 'rect', 'name': 'rand_add', 'task_type': 'PythonFunctionTask', 'tags': '[]', 'input_files': '[]', 'output_files': '[]', 'num_cores': '1', 'args': '[]', 'kwargs': '{}'}, {'label': '8', 'shape': 'rect', 'name': 'rand_add', 'task_type': 'PythonFunctionTask', 'tags': '[]', 'input_files': '[]', 'output_files': '[]', 'num_cores': '1', 'args': '[]', 'kwargs': '{}'}, {'label': '9', 'shape': 'rect', 'name': 'rand_add', 'task_type': 'PythonFunctionTask', 'tags': '[]', 'input_files': '[]', 'output_files': '[]', 'num_cores': '1', 'args': '[<kale.workflow_objects.PythonFunctionTask object at 0x7fda021301d0>, <kale.workflow_objects.PythonFunctionTask object at 0x7fda02130358>]', 'kwargs': '{}'}, {'label': '10', 'shape': 'rect', 'name': 'rand_add', 'task_type': 'PythonFunctionTask', 'tags': '[]', 'input_files': '[]', 'output_files': '[]', 'num_cores': '1', 'args': '[]', 'kwargs': '{}'}, {'label': '11', 'shape': 'rect', 'name': 'rand_add', 'task_type': 'PythonFunctionTask', 'tags': '[]', 'input_files': '[]', 'output_files': '[]', 'num_cores': '1', 'args': '[]', 'kwargs': '{}'}, {'label': '12', 'shape': 'rect', 'name': 'rand_add', 'task_type': 'PythonFunctionTask', 'tags': '[]', 'input_files': '[]', 'output_files': '[]', 'num_cores': '1', 'args': '[<kale.workflow_objects.PythonFunctionTask object at 0x7fda021305f8>, <kale.workflow_objects.PythonFunctionTask object at 0x7fda02130780>]', 'kwargs': '{}'}, {'label': '13', 'shape': 'rect', 'name': 'rand_add', 'task_type': 'PythonFunctionTask', 'tags': '[]', 'input_files': '[]', 'output_files': '[]', 'num_cores': '1', 'args': '[<kale.workflow_objects.PythonFunctionTask object at 0x7fda021304e0>, <kale.workflow_objects.PythonFunctionTask object at 0x7fda02130908>]', 'kwargs': '{}'}], scales={'x': LinearScale(), 'y': LinearScale()}, scales_metadata={'x': {'orientation': 'horizontal', 'dimension': 'x'}, 'y': {'orientation': 'vertical', 'dimension': 'y'}, 'color': {'dimension': 'color'}, 'link_color': {'dimension': 'link_color'}}, selected_style={'stroke': 'red'}, tooltip_style={'opacity': 0.9}, x=array([  337.32,  1030.3 ,  1030.3 ,  1724.3 ,  2415.3 ,  1724.3 ,\n",
       "        1377.3 ,  3106.3 ,  3800.3 ,  3799.3 ,  4491.3 ,  5182.3 ,\n",
       "        4492.3 ,  4145.3 ]), y=array([ 162.,  162.,   90.,  162.,  162.,   90.,   18.,  162.,  162.,\n",
       "         90.,  162.,  162.,   90.,   18.]))], min_aspect_ratio=0.0, scale_x=LinearScale(allow_padding=False, max=1.0, min=0.0), scale_y=LinearScale(allow_padding=False, max=1.0, min=0.0)), Toolbar(figure=Figure(fig_margin={'left': 10, 'right': 10, 'bottom': 10, 'top': 10}, layout=Layout(height='600px', width='400px'), marks=[Graph(colors=['#1f77b4', '#ff7f0e', '#2ca02c', '#d62728', '#9467bd', '#8c564b', '#e377c2', '#7f7f7f', '#bcbd22', '#17becf'], highlight_links=False, interactions={'hover': 'tooltip', 'click': 'select'}, link_data=[{'source': 0, 'target': 2}, {'source': 1, 'target': 2}, {'source': 2, 'target': 6}, {'source': 3, 'target': 5}, {'source': 4, 'target': 5}, {'source': 5, 'target': 6}, {'source': 7, 'target': 9}, {'source': 8, 'target': 9}, {'source': 9, 'target': 13}, {'source': 10, 'target': 12}, {'source': 11, 'target': 12}, {'source': 12, 'target': 13}], link_type='line', node_data=[{'label': '0', 'shape': 'rect', 'name': 'rand_add', 'task_type': 'PythonFunctionTask', 'tags': '[]', 'input_files': '[]', 'output_files': '[]', 'num_cores': '1', 'args': '[]', 'kwargs': '{}'}, {'label': '1', 'shape': 'rect', 'name': 'rand_add', 'task_type': 'PythonFunctionTask', 'tags': '[]', 'input_files': '[]', 'output_files': '[]', 'num_cores': '1', 'args': '[]', 'kwargs': '{}'}, {'label': '2', 'shape': 'rect', 'name': 'rand_add', 'task_type': 'PythonFunctionTask', 'tags': '[]', 'input_files': '[]', 'output_files': '[]', 'num_cores': '1', 'args': '[<kale.workflow_objects.PythonFunctionTask object at 0x7fda021204e0>, <kale.workflow_objects.PythonFunctionTask object at 0x7fda02120278>]', 'kwargs': '{}'}, {'label': '3', 'shape': 'rect', 'name': 'rand_add', 'task_type': 'PythonFunctionTask', 'tags': '[]', 'input_files': '[]', 'output_files': '[]', 'num_cores': '1', 'args': '[]', 'kwargs': '{}'}, {'label': '4', 'shape': 'rect', 'name': 'rand_add', 'task_type': 'PythonFunctionTask', 'tags': '[]', 'input_files': '[]', 'output_files': '[]', 'num_cores': '1', 'args': '[]', 'kwargs': '{}'}, {'label': '5', 'shape': 'rect', 'name': 'rand_add', 'task_type': 'PythonFunctionTask', 'tags': '[]', 'input_files': '[]', 'output_files': '[]', 'num_cores': '1', 'args': '[<kale.workflow_objects.PythonFunctionTask object at 0x7fda02120b70>, <kale.workflow_objects.PythonFunctionTask object at 0x7fda02120cf8>]', 'kwargs': '{}'}, {'label': '6', 'shape': 'rect', 'name': 'rand_add', 'task_type': 'PythonFunctionTask', 'tags': '[]', 'input_files': '[]', 'output_files': '[]', 'num_cores': '1', 'args': '[<kale.workflow_objects.PythonFunctionTask object at 0x7fda021200b8>, <kale.workflow_objects.PythonFunctionTask object at 0x7fda02120e80>]', 'kwargs': '{}'}, {'label': '7', 'shape': 'rect', 'name': 'rand_add', 'task_type': 'PythonFunctionTask', 'tags': '[]', 'input_files': '[]', 'output_files': '[]', 'num_cores': '1', 'args': '[]', 'kwargs': '{}'}, {'label': '8', 'shape': 'rect', 'name': 'rand_add', 'task_type': 'PythonFunctionTask', 'tags': '[]', 'input_files': '[]', 'output_files': '[]', 'num_cores': '1', 'args': '[]', 'kwargs': '{}'}, {'label': '9', 'shape': 'rect', 'name': 'rand_add', 'task_type': 'PythonFunctionTask', 'tags': '[]', 'input_files': '[]', 'output_files': '[]', 'num_cores': '1', 'args': '[<kale.workflow_objects.PythonFunctionTask object at 0x7fda021301d0>, <kale.workflow_objects.PythonFunctionTask object at 0x7fda02130358>]', 'kwargs': '{}'}, {'label': '10', 'shape': 'rect', 'name': 'rand_add', 'task_type': 'PythonFunctionTask', 'tags': '[]', 'input_files': '[]', 'output_files': '[]', 'num_cores': '1', 'args': '[]', 'kwargs': '{}'}, {'label': '11', 'shape': 'rect', 'name': 'rand_add', 'task_type': 'PythonFunctionTask', 'tags': '[]', 'input_files': '[]', 'output_files': '[]', 'num_cores': '1', 'args': '[]', 'kwargs': '{}'}, {'label': '12', 'shape': 'rect', 'name': 'rand_add', 'task_type': 'PythonFunctionTask', 'tags': '[]', 'input_files': '[]', 'output_files': '[]', 'num_cores': '1', 'args': '[<kale.workflow_objects.PythonFunctionTask object at 0x7fda021305f8>, <kale.workflow_objects.PythonFunctionTask object at 0x7fda02130780>]', 'kwargs': '{}'}, {'label': '13', 'shape': 'rect', 'name': 'rand_add', 'task_type': 'PythonFunctionTask', 'tags': '[]', 'input_files': '[]', 'output_files': '[]', 'num_cores': '1', 'args': '[<kale.workflow_objects.PythonFunctionTask object at 0x7fda021304e0>, <kale.workflow_objects.PythonFunctionTask object at 0x7fda02130908>]', 'kwargs': '{}'}], scales={'x': LinearScale(), 'y': LinearScale()}, scales_metadata={'x': {'orientation': 'horizontal', 'dimension': 'x'}, 'y': {'orientation': 'vertical', 'dimension': 'y'}, 'color': {'dimension': 'color'}, 'link_color': {'dimension': 'link_color'}}, selected_style={'stroke': 'red'}, tooltip_style={'opacity': 0.9}, x=array([  337.32,  1030.3 ,  1030.3 ,  1724.3 ,  2415.3 ,  1724.3 ,\n",
       "        1377.3 ,  3106.3 ,  3800.3 ,  3799.3 ,  4491.3 ,  5182.3 ,\n",
       "        4492.3 ,  4145.3 ]), y=array([ 162.,  162.,   90.,  162.,  162.,   90.,   18.,  162.,  162.,\n",
       "         90.,  162.,  162.,   90.,   18.]))], min_aspect_ratio=0.0, scale_x=LinearScale(allow_padding=False, max=1.0, min=0.0), scale_y=LinearScale(allow_padding=False, max=1.0, min=0.0))))), Tab(children=(VBox(children=(HTML(value='<b>Workflow Description</b>'), EditHTML(children=(HTMLMath(value='', layout=Layout(border='1px lightgray solid', padding='10px')), Button(description='Edit Description', style=ButtonStyle()))), Box(layout=Layout(height='20px', width='0px')), HTML(value='<b>Worker Pools</b>'), VBox(children=(Dropdown(options=(('default', <kale.workflow_objects.WorkerPool object at 0x7fda00050278>),), value=<kale.workflow_objects.WorkerPool object at 0x7fda00050278>), Button(button_style='success', description='Run Workflow', style=ButtonStyle()))))), VBox(children=(HTML(value='<b>Task Description</b>'), EditHTML(children=(HTMLMath(value='None selected.', layout=Layout(border='1px lightgray solid', padding='10px')), Button(description='Edit Description', disabled=True, style=ButtonStyle()))), Box(layout=Layout(height='20px', width='0px')), HTML(value=''), Button(button_style='info', description='Continue Workflow', layout=Layout(visibility='hidden'), style=ButtonStyle()), Box(layout=Layout(height='20px', width='0px')), HTML(value='<b>Task Metadata</b>'), HTML(value=''))), VBox(children=(HTML(value='<b>Tags</b>'), Select(options=(), value=None), HTML(value='<b>Actions</b>'), Text(value='', description='Tag name'), HBox(children=(VBox(children=(Button(description='Select All', style=ButtonStyle()), Button(description='Select None', style=ButtonStyle()), Button(description='Select Children', style=ButtonStyle()), Button(description='Select Parents', style=ButtonStyle()), Button(description='Tag to Selection', style=ButtonStyle()), Button(description='Selection to Tag', style=ButtonStyle()))), VBox(children=(Button(description='New Tag', style=ButtonStyle()), Button(description='Del Tag', style=ButtonStyle()))))))), VBox(children=(HTML(value='<b>Messages from WorkflowWidget:</b>'), Box(children=(Output(),), layout=Layout(border='1px lightgray solid', padding='10px')), Box(layout=Layout(height='10px', width='0px')), Button(description='Clear', style=ButtonStyle())))), layout=Layout(height='600px', width='400px'), _titles={'0': 'Workflow', '1': 'Task', '2': 'Tags', '3': 'Widget Log'})))"
      ]
     },
     "metadata": {},
     "output_type": "display_data"
    }
   ],
   "source": [
    "ww = kale.workflow_widgets.WorkflowWidget(wf, wpw)\n",
    "ww"
   ]
  },
  {
   "cell_type": "code",
   "execution_count": 14,
   "metadata": {},
   "outputs": [
    {
     "name": "stdout",
     "output_type": "stream",
     "text": [
      "My number is 9. I was given (). The sum is 9.\n",
      "My number is 0. I was given (). The sum is 0.\n",
      "My number is 5. I was given (7, 8). The sum is 20.\n",
      "My number is 8. I was given (). The sum is 8.\n"
     ]
    },
    {
     "ename": "NameError",
     "evalue": "name 'dag' is not defined",
     "output_type": "error",
     "traceback": [
      "\u001b[0;31m---------------------------------------------------------------------------\u001b[0m",
      "\u001b[0;31mNameError\u001b[0m                                 Traceback (most recent call last)",
      "\u001b[0;32m<ipython-input-14-df03d441457d>\u001b[0m in \u001b[0;36m<module>\u001b[0;34m()\u001b[0m\n\u001b[0;32m----> 1\u001b[0;31m \u001b[0mdag\u001b[0m\u001b[0;34m\u001b[0m\u001b[0m\n\u001b[0m",
      "\u001b[0;31mNameError\u001b[0m: name 'dag' is not defined"
     ]
    },
    {
     "name": "stdout",
     "output_type": "stream",
     "text": [
      "My number is 9. I was given (9, 6). The sum is 24.\n",
      "My number is 4. I was given (). The sum is 4.\n",
      "My number is 3. I was given (). The sum is 3.\n",
      "My number is 10. I was given (8, 0). The sum is 18.\n",
      "My number is 3. I was given (24, 20). The sum is 47.\n",
      "My number is 8. I was given (3, 4). The sum is 15.\n",
      "My number is 2. I was given (15, 18). The sum is 35.\n"
     ]
    }
   ],
   "source": [
    "dag"
   ]
  }
 ],
 "metadata": {
  "kernelspec": {
   "display_name": "Python 3",
   "language": "python",
   "name": "python3"
  },
  "language_info": {
   "codemirror_mode": {
    "name": "ipython",
    "version": 3
   },
   "file_extension": ".py",
   "mimetype": "text/x-python",
   "name": "python",
   "nbconvert_exporter": "python",
   "pygments_lexer": "ipython3",
   "version": "3.6.3"
  }
 },
 "nbformat": 4,
 "nbformat_minor": 2
}
