{
 "cells": [
  {
   "cell_type": "code",
   "execution_count": 1,
   "metadata": {},
   "outputs": [],
   "source": [
    "from parsl import *\n",
    "\n",
    "import logging\n",
    "import sys\n",
    "import concurrent.futures as cf\n",
    "import kale.workflow_objects as wo\n",
    "from kale.workflow_widgets import WorkflowWidget, WorkerPoolWidget\n",
    "from kale.parsl_dflow import KaleDFK"
   ]
  },
  {
   "cell_type": "code",
   "execution_count": 2,
   "metadata": {
    "scrolled": true
   },
   "outputs": [
    {
     "data": {
      "application/vnd.jupyter.widget-view+json": {
       "model_id": "6e94f18245614c95a4cb22b1942d84c4",
       "version_major": 2,
       "version_minor": 0
      },
      "text/html": [
       "<p>Failed to display Jupyter Widget of type <code>WorkerPoolWidget</code>.</p>\n",
       "<p>\n",
       "  If you're reading this message in the Jupyter Notebook or JupyterLab Notebook, it may mean\n",
       "  that the widgets JavaScript is still loading. If this message persists, it\n",
       "  likely means that the widgets JavaScript library is either not installed or\n",
       "  not enabled. See the <a href=\"https://ipywidgets.readthedocs.io/en/stable/user_install.html\">Jupyter\n",
       "  Widgets Documentation</a> for setup instructions.\n",
       "</p>\n",
       "<p>\n",
       "  If you're reading this message in another frontend (for example, a static\n",
       "  rendering on GitHub or <a href=\"https://nbviewer.jupyter.org/\">NBViewer</a>),\n",
       "  it may mean that your frontend doesn't currently support widgets.\n",
       "</p>\n"
      ],
      "text/plain": [
       "WorkerPoolWidget(children=(HTML(value='<h3>Worker Pools</h3>'), TableWidget(children=(RowWidget(children=(HBox(children=(HTML(value='<b>Name</b>'),), layout=Layout(justify_content='flex-start', width='150px')), HBox(children=(HTML(value='<b>Location</b>'),), layout=Layout(justify_content='flex-start', width='200px')), HBox(children=(HTML(value='<b>Executor</b><b>Workers</b>'),), layout=Layout(justify_content='flex-start', width='200px')), HBox(children=(HTML(value='<b>Action</b>'),), layout=Layout(justify_content='flex-start', width='60px'))), layout=Layout(justify_content='space-between', width='710px')), RowWidget(children=(HBox(children=(HTML(value='default'),), layout=Layout(justify_content='flex-start', width='150px')), HBox(children=(HTML(value='localhost'),), layout=Layout(justify_content='flex-start', width='200px')), HBox(children=(HTML(value='parsl'),), layout=Layout(justify_content='flex-start', width='200px')), HBox(children=(HTML(value='4'),), layout=Layout(justify_content='flex-start', width='60px')), HBox(children=(Button(button_style='danger', description='Remove', style=ButtonStyle()),), layout=Layout(justify_content='flex-start', width='100px'))), layout=Layout(justify_content='space-between', width='710px')), RowWidget(children=(HBox(children=(Text(value='', layout=Layout(width='148px')),), layout=Layout(justify_content='flex-start', width='150px')), HBox(children=(Dropdown(layout=Layout(width='198px'), options=('localhost',), value='localhost'),), layout=Layout(justify_content='flex-start', width='200px')), HBox(children=(Dropdown(layout=Layout(width='198px'), options=('parsl', 'fireworks'), value='parsl'),), layout=Layout(justify_content='flex-start', width='200px')), HBox(children=(IntText(value=1, layout=Layout(width='198px')),), layout=Layout(justify_content='flex-start', width='60px')), HBox(children=(Button(button_style='success', icon='plus', style=ButtonStyle()),), layout=Layout(justify_content='flex-start', width='100px'))), layout=Layout(justify_content='space-between', width='710px'))), layout=Layout(width='710px')), HTML(value='\\n        <div class=\"alert alert-success\" style=\"width: 710px\">\\n        WorkerPool \\'default\\' created.\\n        </div>\\n        ')))"
      ]
     },
     "metadata": {},
     "output_type": "display_data"
    }
   ],
   "source": [
    "wpw = WorkerPoolWidget()\n",
    "wpw"
   ]
  },
  {
   "cell_type": "markdown",
   "metadata": {},
   "source": [
    "# Parsl example\n",
    "http://parsl.readthedocs.io/en/latest/userguide/workflow.html\n"
   ]
  },
  {
   "cell_type": "code",
   "execution_count": 3,
   "metadata": {},
   "outputs": [],
   "source": [
    "workers = cf.ThreadPoolExecutor()\n",
    "kale_dfk = KaleDFK(executors=[workers])\n",
    "kale_dfk.new_workflow('MyWorkflow')"
   ]
  },
  {
   "cell_type": "code",
   "execution_count": 4,
   "metadata": {},
   "outputs": [
    {
     "name": "stdout",
     "output_type": "stream",
     "text": [
      "None\n"
     ]
    }
   ],
   "source": [
    "@App('python', kale_dfk)\n",
    "def wait_sleep_double(x, fu_1, fu_2):\n",
    "    import time\n",
    "    time.sleep(2)   # Sleep for 2 seconds\n",
    "    print(\"Given {}, I give you {}.\".format(x, x*2))\n",
    "    return x*2\n",
    "\n",
    "kale_dfk.new_workflow('Parsl Example')\n",
    "# Launch two apps, which will execute in parallel, since they don't have to\n",
    "# wait on any futures\n",
    "doubled_x = wait_sleep_double(10, None, None)\n",
    "doubled_y = wait_sleep_double(10, None, None)\n",
    "\n",
    "# The third depends on the first two :\n",
    "#    doubled_x   doubled_y     (2 s)\n",
    "#           \\     /\n",
    "#           doublex_z          (2 s)\n",
    "doubled_z = wait_sleep_double(doubled_x, doubled_x, doubled_y)\n",
    "\n",
    "# doubled_z will be done in ~4s\n",
    "print(doubled_z.result())"
   ]
  },
  {
   "cell_type": "code",
   "execution_count": 5,
   "metadata": {},
   "outputs": [
    {
     "data": {
      "application/vnd.jupyter.widget-view+json": {
       "model_id": "d32f1ca18c0c469ab19e7ad393647427",
       "version_major": 2,
       "version_minor": 0
      },
      "text/html": [
       "<p>Failed to display Jupyter Widget of type <code>WorkflowWidget</code>.</p>\n",
       "<p>\n",
       "  If you're reading this message in the Jupyter Notebook or JupyterLab Notebook, it may mean\n",
       "  that the widgets JavaScript is still loading. If this message persists, it\n",
       "  likely means that the widgets JavaScript library is either not installed or\n",
       "  not enabled. See the <a href=\"https://ipywidgets.readthedocs.io/en/stable/user_install.html\">Jupyter\n",
       "  Widgets Documentation</a> for setup instructions.\n",
       "</p>\n",
       "<p>\n",
       "  If you're reading this message in another frontend (for example, a static\n",
       "  rendering on GitHub or <a href=\"https://nbviewer.jupyter.org/\">NBViewer</a>),\n",
       "  it may mean that your frontend doesn't currently support widgets.\n",
       "</p>\n"
      ],
      "text/plain": [
       "WorkflowWidget(children=(VBox(children=(Figure(fig_margin={'left': 10, 'right': 10, 'bottom': 10, 'top': 10}, layout=Layout(height='600px', width='400px'), marks=[Graph(colors=['#1f77b4', '#ff7f0e', '#2ca02c', '#d62728', '#9467bd', '#8c564b', '#e377c2', '#7f7f7f', '#bcbd22', '#17becf'], highlight_links=False, interactions={'hover': 'tooltip', 'click': 'select'}, link_data=[{'source': 0, 'target': 2}, {'source': 1, 'target': 2}], link_type='line', node_data=[{'label': '0', 'shape': 'rect', 'name': 'wait_sleep_double', 'task_type': 'PythonFunctionTask', 'tags': [], 'input_files': [], 'output_files': [], 'num_cores': 1}, {'label': '1', 'shape': 'rect', 'name': 'wait_sleep_double', 'task_type': 'PythonFunctionTask', 'tags': [], 'input_files': [], 'output_files': [], 'num_cores': 1}, {'label': '2', 'shape': 'rect', 'name': 'wait_sleep_double', 'task_type': 'PythonFunctionTask', 'tags': [], 'input_files': [], 'output_files': [], 'num_cores': 1}], scales={'x': LinearScale(), 'y': LinearScale()}, scales_metadata={'x': {'orientation': 'horizontal', 'dimension': 'x'}, 'y': {'orientation': 'vertical', 'dimension': 'y'}, 'color': {'dimension': 'color'}, 'link_color': {'dimension': 'link_color'}}, selected_style={'stroke': 'red'}, tooltip_style={'opacity': 0.9}, x=array([  337.97,  1032.  ,   684.97]), y=array([ 90.,  90.,  18.]))], min_aspect_ratio=0.0, scale_x=LinearScale(allow_padding=False, max=1.0, min=0.0), scale_y=LinearScale(allow_padding=False, max=1.0, min=0.0)), Toolbar(figure=Figure(fig_margin={'left': 10, 'right': 10, 'bottom': 10, 'top': 10}, layout=Layout(height='600px', width='400px'), marks=[Graph(colors=['#1f77b4', '#ff7f0e', '#2ca02c', '#d62728', '#9467bd', '#8c564b', '#e377c2', '#7f7f7f', '#bcbd22', '#17becf'], highlight_links=False, interactions={'hover': 'tooltip', 'click': 'select'}, link_data=[{'source': 0, 'target': 2}, {'source': 1, 'target': 2}], link_type='line', node_data=[{'label': '0', 'shape': 'rect', 'name': 'wait_sleep_double', 'task_type': 'PythonFunctionTask', 'tags': [], 'input_files': [], 'output_files': [], 'num_cores': 1}, {'label': '1', 'shape': 'rect', 'name': 'wait_sleep_double', 'task_type': 'PythonFunctionTask', 'tags': [], 'input_files': [], 'output_files': [], 'num_cores': 1}, {'label': '2', 'shape': 'rect', 'name': 'wait_sleep_double', 'task_type': 'PythonFunctionTask', 'tags': [], 'input_files': [], 'output_files': [], 'num_cores': 1}], scales={'x': LinearScale(), 'y': LinearScale()}, scales_metadata={'x': {'orientation': 'horizontal', 'dimension': 'x'}, 'y': {'orientation': 'vertical', 'dimension': 'y'}, 'color': {'dimension': 'color'}, 'link_color': {'dimension': 'link_color'}}, selected_style={'stroke': 'red'}, tooltip_style={'opacity': 0.9}, x=array([  337.97,  1032.  ,   684.97]), y=array([ 90.,  90.,  18.]))], min_aspect_ratio=0.0, scale_x=LinearScale(allow_padding=False, max=1.0, min=0.0), scale_y=LinearScale(allow_padding=False, max=1.0, min=0.0))))), Tab(children=(VBox(children=(HTML(value='<b>Workflow Description</b>'), EditHTML(children=(HTMLMath(value='', layout=Layout(border='1px lightgray solid', padding='10px')), Button(description='Edit Description', style=ButtonStyle()))), Box(layout=Layout(height='20px', width='0px')), HTML(value='<b>Worker Pools</b>'), VBox(children=(Dropdown(options=(('default', <kale.workflow_objects.WorkerPool object at 0x7f0da408dcf8>),), value=<kale.workflow_objects.WorkerPool object at 0x7f0da408dcf8>), Button(button_style='success', description='Run Workflow', style=ButtonStyle()))))), VBox(children=(HTML(value='<b>Task Description</b>'), EditHTML(children=(HTMLMath(value='None selected.', layout=Layout(border='1px lightgray solid', padding='10px')), Button(description='Edit Description', disabled=True, style=ButtonStyle()))), Box(layout=Layout(height='20px', width='0px')), HTML(value=''), Button(button_style='info', description='Continue Workflow', layout=Layout(visibility='hidden'), style=ButtonStyle()), Box(layout=Layout(height='20px', width='0px')), HTML(value='<b>Task Metadata</b>'), HTML(value=''))), VBox(children=(HTML(value='<b>Tags</b>'), Select(options=(), value=None), HTML(value='<b>Actions</b>'), Text(value='', description='Tag name'), HBox(children=(VBox(children=(Button(description='Select All', style=ButtonStyle()), Button(description='Select None', style=ButtonStyle()), Button(description='Select Children', style=ButtonStyle()), Button(description='Select Parents', style=ButtonStyle()), Button(description='Tag to Selection', style=ButtonStyle()), Button(description='Selection to Tag', style=ButtonStyle()))), VBox(children=(Button(description='New Tag', style=ButtonStyle()), Button(description='Del Tag', style=ButtonStyle()))))))), VBox(children=(HTML(value='<b>Messages from WorkflowWidget:</b>'), Box(children=(Output(),), layout=Layout(border='1px lightgray solid', padding='10px')), Box(layout=Layout(height='10px', width='0px')), Button(description='Clear', style=ButtonStyle())))), layout=Layout(height='600px', width='400px'), _titles={'0': 'Workflow', '1': 'Task', '2': 'Tags', '3': 'Widget Log'})))"
      ]
     },
     "metadata": {},
     "output_type": "display_data"
    },
    {
     "name": "stdout",
     "output_type": "stream",
     "text": [
      "Workflow submitted.Attempting to start job.\n",
      "\n",
      "parsl_run\n",
      "\n",
      "\n",
      "Given 10, I give you 20.\n",
      "Given 10, I give you 20.\n",
      "\n",
      "Given 20, I give you 40.\n"
     ]
    }
   ],
   "source": [
    "WorkflowWidget(kale_dfk.kale_workflow, wpw)"
   ]
  },
  {
   "cell_type": "code",
   "execution_count": 6,
   "metadata": {},
   "outputs": [
    {
     "data": {
      "text/plain": [
       "40"
      ]
     },
     "execution_count": 6,
     "metadata": {},
     "output_type": "execute_result"
    }
   ],
   "source": [
    "# Get result\n",
    "kale_dfk.kale_workflow.get_future(2).result()"
   ]
  },
  {
   "cell_type": "markdown",
   "metadata": {},
   "source": [
    "# Random addition example"
   ]
  },
  {
   "cell_type": "code",
   "execution_count": null,
   "metadata": {},
   "outputs": [],
   "source": [
    "workers = cf.ThreadPoolExecutor()\n",
    "parsl_dfk = DataFlowKernel(executors=[workers])\n",
    "kale_dfk = KaleDFK(executors=[workers])\n",
    "kale_dfk.new_workflow('MyWorkflow')"
   ]
  },
  {
   "cell_type": "code",
   "execution_count": null,
   "metadata": {
    "scrolled": true
   },
   "outputs": [],
   "source": [
    "@App('python', kale_dfk)\n",
    "def rand_add(prev, lim=[0,10]):\n",
    "    \"\"\"Add a random number to the previous one.\n",
    "    \"\"\"\n",
    "    import random\n",
    "    myrand = random.randint(*lim)\n",
    "    mysum = myrand + prev\n",
    "    print(\"My number is {}. Theirs was {}. The sum is {}.\".format(myrand, prev, mysum))\n",
    "    return mysum"
   ]
  },
  {
   "cell_type": "code",
   "execution_count": null,
   "metadata": {},
   "outputs": [],
   "source": [
    "rand_add(rand_add(0))"
   ]
  },
  {
   "cell_type": "code",
   "execution_count": null,
   "metadata": {},
   "outputs": [],
   "source": [
    "WorkflowWidget(kale_dfk.kale_workflow, wpw)"
   ]
  },
  {
   "cell_type": "code",
   "execution_count": null,
   "metadata": {},
   "outputs": [],
   "source": [
    "kale_dfk.kale_workflow.index_dict[1].future.result()"
   ]
  },
  {
   "cell_type": "markdown",
   "metadata": {},
   "source": [
    "# Step 1, Step 2 example"
   ]
  },
  {
   "cell_type": "code",
   "execution_count": null,
   "metadata": {},
   "outputs": [],
   "source": [
    "@App('python', kale_dfk)\n",
    "def step1():\n",
    "    import timedef rand_add(prev, lim=[0,10]):\n",
    "    \"\"\"Add a random number to the previous one.\n",
    "    \"\"\"\n",
    "    import random\n",
    "    myrand = random.randint(*lim)\n",
    "    mysum = myrand + prev\n",
    "    print(\"My number is {}. Theirs was {}. The sum is {}.\".format(myrand, prev, mysum))\n",
    "    return mysum\n",
    "    print(\"Step 1\")\n",
    "    time.sleep(1)\n",
    "    return 1\n",
    "    \n",
    "@App('python', kale_dfk)\n",
    "def step2(prev, fav_num):\n",
    "    print(\"Step 2 after s@App('python', kale_dfk)\n",
    "def rand_add(prev, lim=[0,10]):\n",
    "    \"\"\"Add a random number to the previous one.\n",
    "    \"\"\"\n",
    "    import random\n",
    "    myrand = random.randint(*lim)\n",
    "    mysum = myrand + prev\n",
    "    print(\"My number is {}. Theirs was {}. The sum is {}.\".format(myrand, prev, mysum))\n",
    "    return mysumtep {}. My favorite number is {}.\".format(prev, fav_num))\n",
    "    return 2"
   ]
  },
  {
   "cell_type": "markdown",
   "metadata": {},
   "source": [
    "# Misc"
   ]
  },
  {
   "cell_type": "code",
   "execution_count": null,
   "metadata": {},
   "outputs": [],
   "source": [
    "class LogFuture(cf.Future):\n",
    "    def __init__(self, *args, **kwargs):\n",
    "        super().__init__(*args, **kwargs)\n",
    "        self._state = 'FINISHED'\n",
    "    \n",
    "    def add_done_callback(self, *args, **kwargs):\n",
    "        print(\"Done callback:\")\n",
    "        print(\"args = {}\".format(args))\n",
    "        print(\"kwargs = {}\".format(kwargs))\n",
    "        super().add_done_callback(*args, **kwargs)"
   ]
  }
 ],
 "metadata": {
  "kernelspec": {
   "display_name": "Python 3",
   "language": "python",
   "name": "python3"
  },
  "language_info": {
   "codemirror_mode": {
    "name": "ipython",
    "version": 3
   },
   "file_extension": ".py",
   "mimetype": "text/x-python",
   "name": "python",
   "nbconvert_exporter": "python",
   "pygments_lexer": "ipython3",
   "version": "3.6.3"
  }
 },
 "nbformat": 4,
 "nbformat_minor": 2
}
