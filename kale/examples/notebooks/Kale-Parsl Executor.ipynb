{
 "cells": [
  {
   "cell_type": "code",
   "execution_count": 168,
   "metadata": {},
   "outputs": [],
   "source": [
    "from parsl import *\n",
    "\n",
    "import logging\n",
    "import sys\n",
    "import concurrent.futures as cf\n",
    "import kale.workflow_objects as wo\n",
    "from kale.workflow_widgets import WorkflowWidget, WorkerPoolWidget"
   ]
  },
  {
   "cell_type": "code",
   "execution_count": 180,
   "metadata": {},
   "outputs": [
    {
     "data": {
      "application/vnd.jupyter.widget-view+json": {
       "model_id": "9b8472e66bfe49d1bbeb1d355e77f8e9",
       "version_major": 2,
       "version_minor": 0
      },
      "text/html": [
       "<p>Failed to display Jupyter Widget of type <code>WorkerPoolWidget</code>.</p>\n",
       "<p>\n",
       "  If you're reading this message in the Jupyter Notebook or JupyterLab Notebook, it may mean\n",
       "  that the widgets JavaScript is still loading. If this message persists, it\n",
       "  likely means that the widgets JavaScript library is either not installed or\n",
       "  not enabled. See the <a href=\"https://ipywidgets.readthedocs.io/en/stable/user_install.html\">Jupyter\n",
       "  Widgets Documentation</a> for setup instructions.\n",
       "</p>\n",
       "<p>\n",
       "  If you're reading this message in another frontend (for example, a static\n",
       "  rendering on GitHub or <a href=\"https://nbviewer.jupyter.org/\">NBViewer</a>),\n",
       "  it may mean that your frontend doesn't currently support widgets.\n",
       "</p>\n"
      ],
      "text/plain": [
       "WorkerPoolWidget(children=(HTML(value='<h3>Worker Pools</h3>'), TableWidget(children=(RowWidget(children=(HBox(children=(HTML(value='<b>Name</b>'),), layout=Layout(justify_content='flex-start', width='150px')), HBox(children=(HTML(value='<b>Location</b>'),), layout=Layout(justify_content='flex-start', width='200px')), HBox(children=(HTML(value='<b>Executor</b><b>Workers</b>'),), layout=Layout(justify_content='flex-start', width='200px')), HBox(children=(HTML(value='<b>Action</b>'),), layout=Layout(justify_content='flex-start', width='60px'))), layout=Layout(justify_content='space-between', width='710px')), RowWidget(children=(HBox(children=(HTML(value='default'),), layout=Layout(justify_content='flex-start', width='150px')), HBox(children=(HTML(value='localhost'),), layout=Layout(justify_content='flex-start', width='200px')), HBox(children=(HTML(value='parsl'),), layout=Layout(justify_content='flex-start', width='200px')), HBox(children=(HTML(value='4'),), layout=Layout(justify_content='flex-start', width='60px')), HBox(children=(Button(button_style='danger', description='Remove', style=ButtonStyle()),), layout=Layout(justify_content='flex-start', width='100px'))), layout=Layout(justify_content='space-between', width='710px')), RowWidget(children=(HBox(children=(Text(value='', layout=Layout(width='148px')),), layout=Layout(justify_content='flex-start', width='150px')), HBox(children=(Dropdown(layout=Layout(width='198px'), options=('localhost',), value='localhost'),), layout=Layout(justify_content='flex-start', width='200px')), HBox(children=(Dropdown(layout=Layout(width='198px'), options=('parsl', 'fireworks'), value='parsl'),), layout=Layout(justify_content='flex-start', width='200px')), HBox(children=(IntText(value=1, layout=Layout(width='198px')),), layout=Layout(justify_content='flex-start', width='60px')), HBox(children=(Button(button_style='success', icon='plus', style=ButtonStyle()),), layout=Layout(justify_content='flex-start', width='100px'))), layout=Layout(justify_content='space-between', width='710px'))), layout=Layout(width='710px')), HTML(value='\\n        <div class=\"alert alert-success\" style=\"width: 710px\">\\n        WorkerPool \\'default\\' created.\\n        </div>\\n        ')))"
      ]
     },
     "metadata": {},
     "output_type": "display_data"
    }
   ],
   "source": [
    "wpw = WorkerPoolWidget()\n",
    "wpw"
   ]
  },
  {
   "cell_type": "code",
   "execution_count": 176,
   "metadata": {},
   "outputs": [],
   "source": [
    "class KaleDFK(DataFlowKernel):\n",
    "    \n",
    "    def __init__(self, *args, **kwargs):\n",
    "        super().__init__(*args, **kwargs)\n",
    "        self.fu_to_func = dict()\n",
    "        self.fu_to_task = dict()\n",
    "        \n",
    "        # A workflow must be created manually\n",
    "        # by calling self.new_workflow(name)\n",
    "        self.workflow_created = False\n",
    "        \n",
    "        # Store names and funcs of deps,\n",
    "        # indexed by task_id.\n",
    "        self.dep_funcs = dict()\n",
    "        self.dep_names = dict()\n",
    "        \n",
    "    def parse_args(self, args, kwargs):\n",
    "        \"\"\"Replace any futures in args or kwargs with their corresponding Task at definition time\n",
    "        (which will be replaced by the future's result by Kale at execution time).\"\"\"\n",
    "        new_args = []\n",
    "        for arg in args:\n",
    "            if isinstance(arg, cf.Future):\n",
    "                new_args.append(self.fu_to_task[arg])\n",
    "            else:\n",
    "                new_args.append(arg)\n",
    "\n",
    "        new_kwargs = dict()\n",
    "        for key, val in kwargs.items():\n",
    "            if isinstance(val, cf.Future):\n",
    "                new_kwargs[key] = self.fu_to_task[val]\n",
    "            else:\n",
    "                new_kwargs[key] = val\n",
    "\n",
    "        return new_args, new_kwargs\n",
    "\n",
    "    \n",
    "    def new_workflow(self, name):\n",
    "        self.kale_workflow = wo.Workflow(name=name)\n",
    "        self.workflow_created = True\n",
    "    \n",
    "    def submit(self, func, *args, **kwargs):\n",
    "        if self.workflow_created:\n",
    "            return self.inner_submit(func, *args, **kwargs)\n",
    "        else:\n",
    "            raise Exception(\"Call KaleDFK.new_workflow(name) before adding tasks.\")\n",
    "        \n",
    "    def inner_submit (self, func, *args, **kwargs):\n",
    "        from parsl.dataflow.states import States\n",
    "        from parsl.dataflow.futures import AppFuture\n",
    "        ''' Add task to the dataflow system.\n",
    "\n",
    "        If all deps are met :\n",
    "              send to the runnable queue\n",
    "              and launch the task\n",
    "        Else:\n",
    "              post the task in the pending queue\n",
    "\n",
    "        Returns:\n",
    "               (AppFuture) [DataFutures,]\n",
    "        '''\n",
    "        \n",
    "        print(\"\"\"Inner submit\n",
    "        self: {}\n",
    "        func: {}\n",
    "        args: {}\n",
    "        kwargs: {}\n",
    "        \"\"\".format(self,func, args, kwargs))\n",
    "        \n",
    "\n",
    "        task_id = self.task_count\n",
    "        self.task_count += 1\n",
    "        \n",
    "        # Extract task & dependency info\n",
    "        task_name = func.__name__\n",
    "\n",
    "        dep_cnt, depends = super()._count_all_deps(task_id, args, kwargs)\n",
    "\n",
    "        print(\"task_id = {}\".format(task_id))\n",
    "        print(\"args = {}\".format(args))\n",
    "        print(\"kwargs = {}\".format(kwargs))\n",
    "        print(\"dep_cnt = {}\".format(dep_cnt))\n",
    "        print(\"depends = {}\".format(depends))\n",
    "\n",
    "        \n",
    "        self.dep_funcs[task_id] = [self.fu_to_func[fu] for fu in depends]\n",
    "        self.dep_names[task_id] = [dep.__name__ for dep in self.dep_funcs[task_id]]\n",
    "\n",
    "        print(\"dep funcs = {}\".format(self.dep_funcs[task_id]))\n",
    "        print(\"dep names = {}\".format(self.dep_names[task_id]))\n",
    "        \n",
    "        #dep_cnt  = self._count_deps(dep ends, task_id)\n",
    "        task_def = { 'depends'    : depends,\n",
    "                     'func'       : func,\n",
    "                     'args'       : args,\n",
    "                     'kwargs'     : kwargs,\n",
    "                     'callback'   : None,\n",
    "                     'dep_cnt'    : dep_cnt,\n",
    "                     'exec_fu'    : None,\n",
    "                     'status'     : States.unsched,\n",
    "                     'app_fu'     : None  }\n",
    "\n",
    "        if task_id in self.tasks:\n",
    "            raise DuplicateTaskError(\"Task {0} in pending list\".format(task_id))\n",
    "        else:\n",
    "            self.tasks[task_id] = task_def\n",
    "\n",
    "        # Extract s\n",
    "        # Create Task\n",
    "        #task = wo.PythonFunctionTask()tdout and stderr to pass to AppFuture:\n",
    "        task_stdout = kwargs.get('stdout', None)\n",
    "        task_stderr = kwargs.get('stderr', None)\n",
    "\n",
    "        if dep_cnt == 0 :\n",
    "            # Set to running\n",
    "            new_args, kwargs, exceptions = self.sanitize_and_wrap(task_id, args, kwargs)\n",
    "            if not exceptions:\n",
    "                self.tasks[task_id]['exec_fu'] = self.launch_task(task_id, func, *new_args, **kwargs)\n",
    "                self.tasks[task_id]['app_fu']  = AppFuture(self.tasks[task_id]['exec_fu'],\n",
    "                                                           tid=task_id,\n",
    "                                                           stdout=task_stdout,\n",
    "                                                           stderr=task_stderr)\n",
    "                self.tasks[task_id]['status']  = States.running\n",
    "            else:\n",
    "                self.tasks[task_id]['exec_fu'] = None\n",
    "                app_fu = AppFuture(self.tasks[task_id]['exec_fu'],\n",
    "                                   tid=task_id,\n",
    "                                   stdout=task_stdout,\n",
    "                                   stderr=task_stderr)\n",
    "                app_fu.set_exception(DependencyError(exceptions, \"Failures in input dependencies\", None))\n",
    "                self.tasks[task_id]['app_fu']  = app_fu\n",
    "                self.tasks[task_id]['status']  = States.dep_fail\n",
    "        else:\n",
    "            # Send to pending, create the AppFuture with no parent and have it set\n",
    "            # when an executor future is available.\n",
    "            self.tasks[task_id]['app_fu']  = AppFuture(None, tid=task_id,\n",
    "                                                       stdout=task_stdout,\n",
    "                                                       stderr=task_stderr)\n",
    "            self.tasks[task_id]['status']  = States.pending\n",
    "\n",
    "        #logger.debug(\"Task:%s Launched with AppFut:%s\", task_id, task_def['app_fu'])\n",
    "        \n",
    "        \n",
    "        fu = task_def['app_fu'] # This was the return value\n",
    "        \n",
    "        ## End of Parsl code\n",
    "        \n",
    "        self.fu_to_func[fu] = func\n",
    "        \n",
    "        # Replace futures with Tasks in args for Task definition\n",
    "        new_args, new_kwargs = self.parse_args(args, kwargs)\n",
    "        \n",
    "        # Create Task\n",
    "        task = wo.PythonFunctionTask(\n",
    "            name=task_name,\n",
    "            func=func,\n",
    "            args=new_args,\n",
    "            kwargs=new_kwargs\n",
    "        )\n",
    "        \n",
    "        self.fu_to_task[fu] = task\n",
    "        \n",
    "        dep_tasks = [\n",
    "            self.kale_workflow.get_task_by_name(dep_name)\n",
    "            for dep_name in self.dep_names[task_id]\n",
    "        ]\n",
    "        \n",
    "        # Add to workflow\n",
    "        self.kale_workflow.add_task(\n",
    "            task,\n",
    "            dependencies=dep_tasks\n",
    "        )\n",
    "        \n",
    "        return fu\n",
    "        \n"
   ]
  },
  {
   "cell_type": "code",
   "execution_count": 189,
   "metadata": {},
   "outputs": [],
   "source": [
    "workers = cf.ThreadPoolExecutor()\n",
    "parsl_dfk = DataFlowKernel(executors=[workers])\n",
    "kale_dfk = KaleDFK(executors=[workers])\n",
    "kale_dfk.new_workflow('MyWorkflow')"
   ]
  },
  {
   "cell_type": "code",
   "execution_count": 190,
   "metadata": {},
   "outputs": [],
   "source": [
    "@App('python', kale_dfk)\n",
    "def rand_add(prev, lim=[0,10]):\n",
    "    \"\"\"Add a random number to the previous one.\n",
    "    \"\"\"\n",
    "    import random\n",
    "    myrand = random.randint(*lim)\n",
    "    mysum = myrand + prev\n",
    "    print(\"My number is {}. Theirs was {}. The sum is {}.\".format(myrand, prev, mysum))\n",
    "    return mysum"
   ]
  },
  {
   "cell_type": "code",
   "execution_count": 191,
   "metadata": {},
   "outputs": [
    {
     "name": "stdout",
     "output_type": "stream",
     "text": [
      "Inner submit\n",
      "        self: <__main__.KaleDFK object at 0x7f815c10ec50>\n",
      "        func: <function rand_add at 0x7f815c0f9598>\n",
      "        args: (0,)\n",
      "        kwargs: {}\n",
      "        \n",
      "task_id = 0\n",
      "args = (0,)\n",
      "kwargs = {}\n",
      "dep_cnt = 0\n",
      "depends = []\n",
      "dep funcs = []\n",
      "dep names = []\n",
      "My number is 4. Theirs was 0. The sum is 4.Inner submit\n",
      "        self: <__main__.KaleDFK object at 0x7f815c10ec50>\n",
      "        func: <function rand_add at 0x7f815c0f9598>\n",
      "        args: (<AppFuture at 0x7f815c09fac8 state=running>,)\n",
      "        kwargs: {}\n",
      "        \n",
      "\n",
      "task_id = 1\n",
      "args = (<AppFuture at 0x7f815c09fac8 state=finished returned int>,)\n",
      "kwargs = {}My number is 5. Theirs was 4. The sum is 9.\n",
      "\n",
      "dep_cnt = 0\n",
      "depends = [<AppFuture at 0x7f815c09fac8 state=finished returned int>]\n",
      "dep funcs = [<function rand_add at 0x7f815c0f9598>]\n",
      "dep names = ['rand_add']\n"
     ]
    },
    {
     "data": {
      "text/plain": [
       "<AppFuture at 0x7f815c09feb8 state=finished returned int>"
      ]
     },
     "execution_count": 191,
     "metadata": {},
     "output_type": "execute_result"
    }
   ],
   "source": [
    "rand_add(rand_add(0))"
   ]
  },
  {
   "cell_type": "code",
   "execution_count": 192,
   "metadata": {},
   "outputs": [
    {
     "data": {
      "application/vnd.jupyter.widget-view+json": {
       "model_id": "39ec8c40184243bf822d83174542b814",
       "version_major": 2,
       "version_minor": 0
      },
      "text/html": [
       "<p>Failed to display Jupyter Widget of type <code>WorkflowWidget</code>.</p>\n",
       "<p>\n",
       "  If you're reading this message in the Jupyter Notebook or JupyterLab Notebook, it may mean\n",
       "  that the widgets JavaScript is still loading. If this message persists, it\n",
       "  likely means that the widgets JavaScript library is either not installed or\n",
       "  not enabled. See the <a href=\"https://ipywidgets.readthedocs.io/en/stable/user_install.html\">Jupyter\n",
       "  Widgets Documentation</a> for setup instructions.\n",
       "</p>\n",
       "<p>\n",
       "  If you're reading this message in another frontend (for example, a static\n",
       "  rendering on GitHub or <a href=\"https://nbviewer.jupyter.org/\">NBViewer</a>),\n",
       "  it may mean that your frontend doesn't currently support widgets.\n",
       "</p>\n"
      ],
      "text/plain": [
       "WorkflowWidget(children=(VBox(children=(Figure(fig_margin={'left': 10, 'right': 10, 'bottom': 10, 'top': 10}, layout=Layout(height='600px', width='400px'), marks=[Graph(colors=['#1f77b4', '#ff7f0e', '#2ca02c', '#d62728', '#9467bd', '#8c564b', '#e377c2', '#7f7f7f', '#bcbd22', '#17becf'], highlight_links=False, interactions={'hover': 'tooltip', 'click': 'select'}, link_data=[{'source': 0, 'target': 1}], link_type='line', node_data=[{'label': '0', 'shape': 'rect', 'name': 'rand_add', 'task_type': 'PythonFunctionTask', 'tags': [], 'input_files': [], 'output_files': [], 'num_cores': 1}, {'label': '1', 'shape': 'rect', 'name': 'rand_add', 'task_type': 'PythonFunctionTask', 'tags': [], 'input_files': [], 'output_files': [], 'num_cores': 1}], scales={'x': LinearScale(), 'y': LinearScale()}, scales_metadata={'x': {'orientation': 'horizontal', 'dimension': 'x'}, 'y': {'orientation': 'vertical', 'dimension': 'y'}, 'color': {'dimension': 'color'}, 'link_color': {'dimension': 'link_color'}}, selected_style={'stroke': 'red'}, tooltip_style={'opacity': 0.9}, x=array([ 335.37,  335.37]), y=array([ 90.,  18.]))], min_aspect_ratio=0.0, scale_x=LinearScale(allow_padding=False, max=1.0, min=0.0), scale_y=LinearScale(allow_padding=False, max=1.0, min=0.0)), Toolbar(figure=Figure(fig_margin={'left': 10, 'right': 10, 'bottom': 10, 'top': 10}, layout=Layout(height='600px', width='400px'), marks=[Graph(colors=['#1f77b4', '#ff7f0e', '#2ca02c', '#d62728', '#9467bd', '#8c564b', '#e377c2', '#7f7f7f', '#bcbd22', '#17becf'], highlight_links=False, interactions={'hover': 'tooltip', 'click': 'select'}, link_data=[{'source': 0, 'target': 1}], link_type='line', node_data=[{'label': '0', 'shape': 'rect', 'name': 'rand_add', 'task_type': 'PythonFunctionTask', 'tags': [], 'input_files': [], 'output_files': [], 'num_cores': 1}, {'label': '1', 'shape': 'rect', 'name': 'rand_add', 'task_type': 'PythonFunctionTask', 'tags': [], 'input_files': [], 'output_files': [], 'num_cores': 1}], scales={'x': LinearScale(), 'y': LinearScale()}, scales_metadata={'x': {'orientation': 'horizontal', 'dimension': 'x'}, 'y': {'orientation': 'vertical', 'dimension': 'y'}, 'color': {'dimension': 'color'}, 'link_color': {'dimension': 'link_color'}}, selected_style={'stroke': 'red'}, tooltip_style={'opacity': 0.9}, x=array([ 335.37,  335.37]), y=array([ 90.,  18.]))], min_aspect_ratio=0.0, scale_x=LinearScale(allow_padding=False, max=1.0, min=0.0), scale_y=LinearScale(allow_padding=False, max=1.0, min=0.0))))), Tab(children=(VBox(children=(HTML(value='<b>Workflow Description</b>'), EditHTML(children=(HTMLMath(value='', layout=Layout(border='1px lightgray solid', padding='10px')), Button(description='Edit Description', style=ButtonStyle()))), Box(layout=Layout(height='20px', width='0px')), HTML(value='<b>Worker Pools</b>'), VBox(children=(Dropdown(options=(('default', <kale.workflow_objects.WorkerPool object at 0x7f815c3f99e8>),), value=<kale.workflow_objects.WorkerPool object at 0x7f815c3f99e8>), Button(button_style='success', description='Run Workflow', style=ButtonStyle()))))), VBox(children=(HTML(value='<b>Task Description</b>'), EditHTML(children=(HTMLMath(value='None selected.', layout=Layout(border='1px lightgray solid', padding='10px')), Button(description='Edit Description', disabled=True, style=ButtonStyle()))), Box(layout=Layout(height='20px', width='0px')), HTML(value=''), Button(button_style='info', description='Continue Workflow', layout=Layout(visibility='hidden'), style=ButtonStyle()), Box(layout=Layout(height='20px', width='0px')), HTML(value='<b>Task Metadata</b>'), HTML(value=''))), VBox(children=(HTML(value='<b>Tags</b>'), Select(options=(), value=None), HTML(value='<b>Actions</b>'), Text(value='', description='Tag name'), HBox(children=(VBox(children=(Button(description='Select All', style=ButtonStyle()), Button(description='Select None', style=ButtonStyle()), Button(description='Select Children', style=ButtonStyle()), Button(description='Select Parents', style=ButtonStyle()), Button(description='Tag to Selection', style=ButtonStyle()), Button(description='Selection to Tag', style=ButtonStyle()))), VBox(children=(Button(description='New Tag', style=ButtonStyle()), Button(description='Del Tag', style=ButtonStyle()))))))), VBox(children=(HTML(value='<b>Messages from WorkflowWidget:</b>'), Box(children=(Output(),), layout=Layout(border='1px lightgray solid', padding='10px')), Box(layout=Layout(height='10px', width='0px')), Button(description='Clear', style=ButtonStyle())))), layout=Layout(height='600px', width='400px'), _titles={'0': 'Workflow', '1': 'Task', '2': 'Tags', '3': 'Widget Log'})))"
      ]
     },
     "metadata": {},
     "output_type": "display_data"
    },
    {
     "name": "stdout",
     "output_type": "stream",
     "text": [
      "Workflow submitted.Attempting to start job.\n",
      "\n",
      "parsl_run\n",
      "\n",
      "My number is 6. Theirs was 0. The sum is 6.\n",
      "\n",
      "My number is 3. Theirs was 6. The sum is 9.\n",
      "Workflow submitted.Attempting to start job.\n",
      "\n",
      "parsl_run\n",
      "\n",
      "My number is 2. Theirs was 0. The sum is 2.\n",
      "\n",
      "My number is 8. Theirs was 2. The sum is 10.\n"
     ]
    }
   ],
   "source": [
    "WorkflowWidget(kale_dfk.kale_workflow, wpw)"
   ]
  },
  {
   "cell_type": "code",
   "execution_count": 178,
   "metadata": {},
   "outputs": [],
   "source": [
    "@App('python', kale_dfk)\n",
    "def step1():\n",
    "    import timedef rand_add(prev, lim=[0,10]):\n",
    "    \"\"\"Add a random number to the previous one.\n",
    "    \"\"\"\n",
    "    import random\n",
    "    myrand = random.randint(*lim)\n",
    "    mysum = myrand + prev\n",
    "    print(\"My number is {}. Theirs was {}. The sum is {}.\".format(myrand, prev, mysum))\n",
    "    return mysum\n",
    "    print(\"Step 1\")\n",
    "    time.sleep(1)\n",
    "    return 1\n",
    "    \n",
    "@App('python', kale_dfk)\n",
    "def step2(prev, fav_num):\n",
    "    print(\"Step 2 after s@App('python', kale_dfk)\n",
    "def rand_add(prev, lim=[0,10]):\n",
    "    \"\"\"Add a random number to the previous one.\n",
    "    \"\"\"\n",
    "    import random\n",
    "    myrand = random.randint(*lim)\n",
    "    mysum = myrand + prev\n",
    "    print(\"My number is {}. Theirs was {}. The sum is {}.\".format(myrand, prev, mysum))\n",
    "    return mysumtep {}. My favorite number is {}.\".format(prev, fav_num))\n",
    "    return 2"
   ]
  },
  {
   "cell_type": "markdown",
   "metadata": {},
   "source": [
    "# Outstanding Questions\n",
    "- How to prevent execution at definition time?\n",
    "- When to create workflow, how to pass it around to call add_task?"
   ]
  },
  {
   "cell_type": "code",
   "execution_count": 179,
   "metadata": {},
   "outputs": [
    {
     "name": "stdout",
     "output_type": "stream",
     "text": [
      "Inner submit\n",
      "        self: <__main__.KaleDFK object at 0x7f815c4b7550>\n",
      "        func: <function step1 at 0x7f815e8c2c80>\n",
      "        args: ()\n",
      "        kwargs: {}\n",
      "        \n",
      "task_id = 0\n",
      "args = ()\n",
      "kwargs = {}\n",
      "dep_cnt = 0\n",
      "depends = []\n",
      "dep funcs = []\n",
      "dep names = []\n",
      "Inner submit\n",
      "        self: <__main__.KaleDFK object at 0x7f815c4b7550>\n",
      "        func: <function step2 at 0x7f815e8c2a60>\n",
      "        args: (<AppFuture at 0x7f815c423ac8 state=running>, 2)\n",
      "        kwargs: {}\n",
      "        \n",
      "Step 1task_id = 1\n",
      "\n",
      "args = (<AppFuture at 0x7f815c423ac8 state=running>, 2)\n",
      "kwargs = {}\n",
      "dep_cnt = 1\n",
      "depends = [<AppFuture at 0x7f815c423ac8 state=running>]\n",
      "dep funcs = [<function step1 at 0x7f815e8c2c80>]\n",
      "dep names = ['step1']\n",
      "Step 2 after step 1. My favorite number is 2.\n"
     ]
    },
    {
     "data": {
      "text/plain": [
       "2"
      ]
     },
     "execution_count": 179,
     "metadata": {},
     "output_type": "execute_result"
    }
   ],
   "source": [
    "step2(step1(), 2).result()"
   ]
  },
  {
   "cell_type": "code",
   "execution_count": 181,
   "metadata": {
    "scrolled": false
   },
   "outputs": [
    {
     "data": {
      "application/vnd.jupyter.widget-view+json": {
       "model_id": "1c3325504f9747d9953ea67967be91fc",
       "version_major": 2,
       "version_minor": 0
      },
      "text/html": [
       "<p>Failed to display Jupyter Widget of type <code>WorkflowWidget</code>.</p>\n",
       "<p>\n",
       "  If you're reading this message in the Jupyter Notebook or JupyterLab Notebook, it may mean\n",
       "  that the widgets JavaScript is still loading. If this message persists, it\n",
       "  likely means that the widgets JavaScript library is either not installed or\n",
       "  not enabled. See the <a href=\"https://ipywidgets.readthedocs.io/en/stable/user_install.html\">Jupyter\n",
       "  Widgets Documentation</a> for setup instructions.\n",
       "</p>\n",
       "<p>\n",
       "  If you're reading this message in another frontend (for example, a static\n",
       "  rendering on GitHub or <a href=\"https://nbviewer.jupyter.org/\">NBViewer</a>),\n",
       "  it may mean that your frontend doesn't currently support widgets.\n",
       "</p>\n"
      ],
      "text/plain": [
       "WorkflowWidget(children=(VBox(children=(Figure(fig_margin={'left': 10, 'right': 10, 'bottom': 10, 'top': 10}, layout=Layout(height='600px', width='400px'), marks=[Graph(colors=['#1f77b4', '#ff7f0e', '#2ca02c', '#d62728', '#9467bd', '#8c564b', '#e377c2', '#7f7f7f', '#bcbd22', '#17becf'], highlight_links=False, interactions={'hover': 'tooltip', 'click': 'select'}, link_data=[{'source': 0, 'target': 1}], link_type='line', node_data=[{'label': '0', 'shape': 'rect', 'name': 'step1', 'task_type': 'PythonFunctionTask', 'tags': [], 'input_files': [], 'output_files': [], 'num_cores': 1}, {'label': '1', 'shape': 'rect', 'name': 'step2', 'task_type': 'PythonFunctionTask', 'tags': [], 'input_files': [], 'output_files': [], 'num_cores': 1}], scales={'x': LinearScale(), 'y': LinearScale()}, scales_metadata={'x': {'orientation': 'horizontal', 'dimension': 'x'}, 'y': {'orientation': 'vertical', 'dimension': 'y'}, 'color': {'dimension': 'color'}, 'link_color': {'dimension': 'link_color'}}, selected_style={'stroke': 'red'}, tooltip_style={'opacity': 0.9}, x=array([ 337.97,  337.97]), y=array([ 90.,  18.]))], min_aspect_ratio=0.0, scale_x=LinearScale(allow_padding=False, max=1.0, min=0.0), scale_y=LinearScale(allow_padding=False, max=1.0, min=0.0)), Toolbar(figure=Figure(fig_margin={'left': 10, 'right': 10, 'bottom': 10, 'top': 10}, layout=Layout(height='600px', width='400px'), marks=[Graph(colors=['#1f77b4', '#ff7f0e', '#2ca02c', '#d62728', '#9467bd', '#8c564b', '#e377c2', '#7f7f7f', '#bcbd22', '#17becf'], highlight_links=False, interactions={'hover': 'tooltip', 'click': 'select'}, link_data=[{'source': 0, 'target': 1}], link_type='line', node_data=[{'label': '0', 'shape': 'rect', 'name': 'step1', 'task_type': 'PythonFunctionTask', 'tags': [], 'input_files': [], 'output_files': [], 'num_cores': 1}, {'label': '1', 'shape': 'rect', 'name': 'step2', 'task_type': 'PythonFunctionTask', 'tags': [], 'input_files': [], 'output_files': [], 'num_cores': 1}], scales={'x': LinearScale(), 'y': LinearScale()}, scales_metadata={'x': {'orientation': 'horizontal', 'dimension': 'x'}, 'y': {'orientation': 'vertical', 'dimension': 'y'}, 'color': {'dimension': 'color'}, 'link_color': {'dimension': 'link_color'}}, selected_style={'stroke': 'red'}, tooltip_style={'opacity': 0.9}, x=array([ 337.97,  337.97]), y=array([ 90.,  18.]))], min_aspect_ratio=0.0, scale_x=LinearScale(allow_padding=False, max=1.0, min=0.0), scale_y=LinearScale(allow_padding=False, max=1.0, min=0.0))))), Tab(children=(VBox(children=(HTML(value='<b>Workflow Description</b>'), EditHTML(children=(HTMLMath(value='', layout=Layout(border='1px lightgray solid', padding='10px')), Button(description='Edit Description', style=ButtonStyle()))), Box(layout=Layout(height='20px', width='0px')), HTML(value='<b>Worker Pools</b>'), VBox(children=(Dropdown(options=(('default', <kale.workflow_objects.WorkerPool object at 0x7f815c3f99e8>),), value=<kale.workflow_objects.WorkerPool object at 0x7f815c3f99e8>), Button(button_style='success', description='Run Workflow', style=ButtonStyle()))))), VBox(children=(HTML(value='<b>Task Description</b>'), EditHTML(children=(HTMLMath(value='None selected.', layout=Layout(border='1px lightgray solid', padding='10px')), Button(description='Edit Description', disabled=True, style=ButtonStyle()))), Box(layout=Layout(height='20px', width='0px')), HTML(value=''), Button(button_style='info', description='Continue Workflow', layout=Layout(visibility='hidden'), style=ButtonStyle()), Box(layout=Layout(height='20px', width='0px')), HTML(value='<b>Task Metadata</b>'), HTML(value=''))), VBox(children=(HTML(value='<b>Tags</b>'), Select(options=(), value=None), HTML(value='<b>Actions</b>'), Text(value='', description='Tag name'), HBox(children=(VBox(children=(Button(description='Select All', style=ButtonStyle()), Button(description='Select None', style=ButtonStyle()), Button(description='Select Children', style=ButtonStyle()), Button(description='Select Parents', style=ButtonStyle()), Button(description='Tag to Selection', style=ButtonStyle()), Button(description='Selection to Tag', style=ButtonStyle()))), VBox(children=(Button(description='New Tag', style=ButtonStyle()), Button(description='Del Tag', style=ButtonStyle()))))))), VBox(children=(HTML(value='<b>Messages from WorkflowWidget:</b>'), Box(children=(Output(),), layout=Layout(border='1px lightgray solid', padding='10px')), Box(layout=Layout(height='10px', width='0px')), Button(description='Clear', style=ButtonStyle())))), layout=Layout(height='600px', width='400px'), _titles={'0': 'Workflow', '1': 'Task', '2': 'Tags', '3': 'Widget Log'})))"
      ]
     },
     "metadata": {},
     "output_type": "display_data"
    },
    {
     "name": "stdout",
     "output_type": "stream",
     "text": [
      "Attempting to start job.Workflow submitted.\n",
      "parsl_run\n",
      "\n",
      "\n",
      "Step 1\n",
      "\n",
      "Step 2 after step 1. My favorite number is 2.\n",
      "Workflow submitted.Attempting to start job.\n",
      "\n",
      "parsl_run\n",
      "\n",
      "Step 1\n",
      "\n",
      "Step 2 after step 1. My favorite number is 2.\n"
     ]
    }
   ],
   "source": [
    "WorkflowWidget(kale_dfk.kale_workflow, wpw)"
   ]
  },
  {
   "cell_type": "code",
   "execution_count": 3,
   "metadata": {},
   "outputs": [],
   "source": [
    "def gen_empty_future():\n",
    "    f = cf.Future()\n",
    "    f._state = 'FINISHED'\n",
    "    return f"
   ]
  },
  {
   "cell_type": "code",
   "execution_count": 4,
   "metadata": {},
   "outputs": [],
   "source": [
    "class LogFuture(cf.Future):\n",
    "    def __init__(self, *args, **kwargs):\n",
    "        super().__init__(*args, **kwargs)\n",
    "        self._state = 'FINISHED'\n",
    "    \n",
    "    def add_done_callback(self, *args, **kwargs):\n",
    "        print(\"Done callback:\")\n",
    "        print(\"args = {}\".format(args))\n",
    "        print(\"kwargs = {}\".format(kwargs))\n",
    "        super().add_done_callback(*args, **kwargs)"
   ]
  }
 ],
 "metadata": {
  "kernelspec": {
   "display_name": "Python 3",
   "language": "python",
   "name": "python3"
  },
  "language_info": {
   "codemirror_mode": {
    "name": "ipython",
    "version": 3
   },
   "file_extension": ".py",
   "mimetype": "text/x-python",
   "name": "python",
   "nbconvert_exporter": "python",
   "pygments_lexer": "ipython3",
   "version": "3.6.3"
  }
 },
 "nbformat": 4,
 "nbformat_minor": 2
}
