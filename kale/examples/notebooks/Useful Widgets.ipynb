{
 "cells": [
  {
   "cell_type": "code",
   "execution_count": null,
   "metadata": {
    "collapsed": true
   },
   "outputs": [],
   "source": [
    "from datetime import datetime\n",
    "import numpy as np\n",
    "import pandas as pd\n",
    "import IPython\n",
    "import ipyvolume as ipv\n",
    "import ipywidgets as ipw\n",
    "import ipyparallel as ipp\n",
    "import IPython.core.display as disp\n",
    "from concurrent.futures import ThreadPoolExecutor"
   ]
  },
  {
   "cell_type": "code",
   "execution_count": null,
   "metadata": {
    "collapsed": true
   },
   "outputs": [],
   "source": [
    "import kale.aux_widgets"
   ]
  },
  {
   "cell_type": "markdown",
   "metadata": {},
   "source": [
    "# NEWT Queue Widget \n",
    "- actually useful"
   ]
  },
  {
   "cell_type": "code",
   "execution_count": null,
   "metadata": {},
   "outputs": [],
   "source": [
    "a = kale.aux_widgets.NEWTAuthWidget()\n",
    "a"
   ]
  },
  {
   "cell_type": "code",
   "execution_count": null,
   "metadata": {},
   "outputs": [],
   "source": [
    "q = kale.aux_widgets.QueueWidget(a)\n",
    "q"
   ]
  },
  {
   "cell_type": "markdown",
   "metadata": {},
   "source": [
    "# File Browser Widget\n",
    "- a little bit useful"
   ]
  },
  {
   "cell_type": "code",
   "execution_count": null,
   "metadata": {},
   "outputs": [],
   "source": [
    "kale.aux_widgets.FileBrowserWidget()"
   ]
  },
  {
   "cell_type": "markdown",
   "metadata": {},
   "source": [
    "# SSH Widget\n",
    "- Not really useful. Pretty lame, in fact."
   ]
  },
  {
   "cell_type": "code",
   "execution_count": null,
   "metadata": {},
   "outputs": [],
   "source": [
    "ssh_auth = kale.aux_widgets.SSHAuthWidget()\n",
    "ssh_auth"
   ]
  },
  {
   "cell_type": "code",
   "execution_count": null,
   "metadata": {},
   "outputs": [],
   "source": [
    "kale.aux_widgets.SSHTerminal(ssh_auth)"
   ]
  },
  {
   "cell_type": "markdown",
   "metadata": {},
   "source": [
    "# Updating plot\n",
    "\n",
    "Takes two arguments:\n",
    "- `ar`: IPyParallel `AsyncResult`\n",
    "- `y`: list of strings\n",
    "\n",
    "The plot will poll `ar.data`, which is assumed to be a dict. The strings in `y` are assumed to be keys in `ar.data` whose corresponding values are 1D numpy arrays (or lists are probably okay). Those values will be plotted and labelled appropriately in the legend.\n",
    "\n",
    "_More info_: When an IPyParallel task is launched, it immediately returns an `AsyncResult` with a `data` member dict. Calling `ipyparallel.datapub.publish_data` from the engine sends data back to the client (notebook) to populate this dict."
   ]
  },
  {
   "cell_type": "code",
   "execution_count": null,
   "metadata": {},
   "outputs": [],
   "source": [
    "c = ipp.Client()\n",
    "lv = c.load_balanced_view()\n",
    "\n",
    "def datapub_ex(N):\n",
    "    import time\n",
    "    import numpy as np\n",
    "    from ipyparallel.datapub import publish_data\n",
    "    \n",
    "    y1 = []\n",
    "    y2 = []\n",
    "    \n",
    "    for i in range(N):\n",
    "        y1.append(np.random.rand())\n",
    "        y2.append(np.random.rand())\n",
    "        publish_data({\n",
    "            'loss': y1,\n",
    "            'acc': y2\n",
    "        })\n",
    "        time.sleep(1)\n",
    "\n",
    "N = 10\n",
    "ar = lv.apply(datapub_ex, N)\n",
    "y = ['loss', 'acc']\n",
    "up = kale.aux_widgets.UpdatingPlot(ar, y, xlim=[0, N-1], ylim=[0,1])\n",
    "up"
   ]
  },
  {
   "cell_type": "markdown",
   "metadata": {},
   "source": [
    "# Parameter Spans\n",
    "\n",
    "Takes two required arguments:\n",
    "- `compute_func`\n",
    "- `vis_func`\n",
    "\n",
    "and two important optional parameters:\n",
    "- `product`\n",
    "- `live`\n",
    "\n",
    "The widget object, consisting of an empty `qgrid.QGridWidget` (widget wrapper for `pandas.DataFrame`) which will list parameter values and a blank `ipywidgets.Output` for visualization of results, is returned immediately by its constructor.\n",
    "\n",
    "Once the widget is instantiated, `ParamSpanWidget.set_params(**params)` selects the parameter sets which will be run. Here, `params` is a dict of 1D lists whose keys are the names of the parameters required by `compute_func` and whose values specify the parameter values in one of are two modes:\n",
    "\n",
    "- If `product=False`, then the lists must be all the same size, and no Cartesian product is taken. One parameter set will be run for each list index. This is like a random search.\n",
    "- If `product=True`, then the lists can be of any length, and the Cartesian product will be taken, meaning that a grid search will be performed over all possible combinations.\n",
    "\n",
    "Then, `ParamSpanWidget.submit_computations()` is called to actually submit the above-defined function calls via IPyParallel.\n",
    "\n",
    "Then, for each parameter sets, the results of `compute_func` are passed to `vis_func` in one of two ways:\n",
    "\n",
    "- If `live=False`, then the return value of `compute_func` is expected to be a dict whose keys are the same as the kwargs of `vis_func`. In this case, `vis_func` will only be called after task completion, and will be given the expanded dict returned by `compute_func` (i.e. `vis_func(**compute_func(**param_set))`).\n",
    "- If `live=True`, then the only argument passed to `vis_func` will be the `ipyparallel.AsyncResult` returned by the `ipyparallel.Client.apply` call. (i.e. `vis_func(ipyparallel.Client().apply(compute_func, **param_set))`). In this case, `vis_func` will be called immediately upon task execution. This is suitable for use with `UpdatingPlot`. In this case, any return values from `compute_func` will be ignored.\n",
    "\n",
    "*Note:* Presently, no data is implicitly saved to disk or DB on my end. I think IPyParallel captures everything by default (assuming you haven't started the controller with `--nodb`).\n",
    "Of course, you can do so explicitly in `compute_func` or `vis_func` if you'd like."
   ]
  },
  {
   "cell_type": "markdown",
   "metadata": {},
   "source": [
    "## ParameterSpanWidget Example \n",
    "- `product=True, live=False`"
   ]
  },
  {
   "cell_type": "code",
   "execution_count": null,
   "metadata": {},
   "outputs": [],
   "source": [
    "c = ipp.Client()\n",
    "\n",
    "def exp_compute(N, mean, std, color):\n",
    "    import numpy as np\n",
    "    from datetime import datetime\n",
    "    x = np.random.normal(loc=mean, scale=std, size=N)\n",
    "    realmean = np.mean(x)\n",
    "    realstd = np.std(x)\n",
    "    return {\n",
    "        'date': datetime.now().ctime(),\n",
    "        'x': x,\n",
    "        'N': N,\n",
    "        'realmean': realmean,\n",
    "        'realstd': realstd,\n",
    "        'color': color\n",
    "    }\n",
    "    \n",
    "def exp_viz(date, x, N, realmean, realstd, color):\n",
    "    import matplotlib.pyplot as plt\n",
    "    import seaborn as sns\n",
    "    import warnings\n",
    "    \n",
    "    print(\"Computed at {}\".format(date))\n",
    "    plt.figure(figsize=[8,5])\n",
    "    with warnings.catch_warnings():\n",
    "        warnings.simplefilter(\"ignore\")\n",
    "        sns.distplot(x, color=color)\n",
    "    plt.title(r'$N={}$, $\\mu={:.2f}$, $\\sigma={:.2f}$'.format(N, realmean, realstd))\n",
    "    plt.show()\n",
    "    print(\"Data: {}\".format(x))\n",
    "\n",
    "psw = kale.aux_widgets.ParamSpanWidget(\n",
    "    compute_func=exp_compute,\n",
    "    vis_func=exp_viz,\n",
    "    product=True,\n",
    "    live=False\n",
    ")\n",
    "\n",
    "psw.set_params(\n",
    "    N = [100, 1000],\n",
    "    mean = [5, 10],\n",
    "    std = [1, 2],\n",
    "    color = ['red', 'blue']\n",
    ")\n",
    "\n",
    "psw.submit_computations()\n",
    "psw"
   ]
  },
  {
   "cell_type": "markdown",
   "metadata": {},
   "source": [
    "For a useful example of these last two, see [cori-intml-examples/MNIST_Widgets.ipynb](https://github.com/OliverEvans96/cori-intml-examples/blob/master/MNIST_Widgets.ipynb)"
   ]
  }
 ],
 "metadata": {
  "kernelspec": {
   "display_name": "Python 3",
   "language": "python",
   "name": "python3"
  },
  "language_info": {
   "codemirror_mode": {
    "name": "ipython",
    "version": 3
   },
   "file_extension": ".py",
   "mimetype": "text/x-python",
   "name": "python",
   "nbconvert_exporter": "python",
   "pygments_lexer": "ipython3",
   "version": "3.6.3"
  }
 },
 "nbformat": 4,
 "nbformat_minor": 2
}
